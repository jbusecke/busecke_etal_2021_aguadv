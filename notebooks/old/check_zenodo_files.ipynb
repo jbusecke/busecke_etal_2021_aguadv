{
 "cells": [
  {
   "cell_type": "markdown",
   "metadata": {},
   "source": [
    "# Check the zenodo files"
   ]
  },
  {
   "cell_type": "code",
   "execution_count": 4,
   "metadata": {},
   "outputs": [],
   "source": [
    "import requests\n",
    "\n",
    "# you need to modify this to your zenodo ID\n",
    "zenodo_id = 2648592 # old grl data\n",
    "# zenodo_id = 4739876 # new files...which dont work (yet?)...\n",
    "zenodo_id = 4739912 # a tiny test dataset Check again tomorrow.\n",
    "zenodo_id = 812722\n",
    "\n",
    "# r = requests.get(\"https://zenodo.org/api/records/%i\" % zenodo_id)\n",
    "r = requests.get(\"https://sandbox.zenodo.org/api/records/%i\" % zenodo_id)\n",
    "\n",
    "file = open(\"zenodo_filelist.txt\", \"w\")\n",
    "\n",
    "for f in r.json()[\"files\"]:\n",
    "    file.write(f[\"links\"][\"self\"] + \"\\n\")\n",
    "\n",
    "file.close()"
   ]
  },
  {
   "cell_type": "code",
   "execution_count": 5,
   "metadata": {},
   "outputs": [
    {
     "data": {
      "text/plain": [
       "[{'bucket': '966668a6-c4f9-4903-9cd2-2a575898f69e',\n",
       "  'checksum': 'md5:9d67f9e8097f5f4ce657445e2134f556',\n",
       "  'key': 'busecke_etal_2021_aguadv.tar',\n",
       "  'links': {'self': 'https://sandbox.zenodo.org/api/files/966668a6-c4f9-4903-9cd2-2a575898f69e/busecke_etal_2021_aguadv.tar'},\n",
       "  'size': 15658885120,\n",
       "  'type': 'tar'}]"
      ]
     },
     "execution_count": 5,
     "metadata": {},
     "output_type": "execute_result"
    }
   ],
   "source": [
    "r.json()['files']"
   ]
  },
  {
   "cell_type": "code",
   "execution_count": null,
   "metadata": {},
   "outputs": [],
   "source": [
    "https://zenodo.org/api/files/9adbe6da-8597-4ef4-89f7-a91cff2937e9/busecke_etal_2021_aguadv.tar"
   ]
  }
 ],
 "metadata": {
  "kernelspec": {
   "display_name": "Python [conda env:conda_tigressdata-aguadv_omz_busecke_2021]",
   "language": "python",
   "name": "conda-env-conda_tigressdata-aguadv_omz_busecke_2021-py"
  },
  "language_info": {
   "codemirror_mode": {
    "name": "ipython",
    "version": 3
   },
   "file_extension": ".py",
   "mimetype": "text/x-python",
   "name": "python",
   "nbconvert_exporter": "python",
   "pygments_lexer": "ipython3",
   "version": "3.9.2"
  }
 },
 "nbformat": 4,
 "nbformat_minor": 4
}
