{
 "cells": [
  {
   "cell_type": "markdown",
   "metadata": {},
   "source": [
    "# Evaluate the change of watermass and OMZ volume per model"
   ]
  },
  {
   "cell_type": "code",
   "execution_count": 1,
   "metadata": {},
   "outputs": [
    {
     "name": "stderr",
     "output_type": "stream",
     "text": [
      "distributed.diskutils - INFO - Found stale lock file and directory '/projects/GEOCLIM/LRGROUP/jbusecke/projects/busecke_etal_2021_aguadv/notebooks/dask-worker-space/worker-__s2t3z2', purging\n"
     ]
    },
    {
     "data": {
      "text/html": [
       "\n",
       "            <div>\n",
       "                <div style=\"\n",
       "                    width: 24px;\n",
       "                    height: 24px;\n",
       "                    background-color: #e1e1e1;\n",
       "                    border: 3px solid #9D9D9D;\n",
       "                    border-radius: 5px;\n",
       "                    position: absolute;\"> </div>\n",
       "                <div style=\"margin-left: 48px;\">\n",
       "                    <h3 style=\"margin-bottom: 0px;\">Client</h3>\n",
       "                    <p style=\"color: #9D9D9D; margin-bottom: 0px;\">Client-8e8fd4a5-f004-11eb-a5dd-246e96ad1c18</p>\n",
       "                    <table style=\"width: 100%; text-align: left;\">\n",
       "                    \n",
       "                <tr>\n",
       "                    <td style=\"text-align: left;\"><strong>Connection method:</strong> Cluster object</td>\n",
       "                    <td style=\"text-align: left;\"><strong>Cluster type:</strong> LocalCluster</td>\n",
       "                </tr>\n",
       "                \n",
       "                <tr>\n",
       "                    <td style=\"text-align: left;\">\n",
       "                        <strong>Dashboard: </strong>\n",
       "                        <a href=\"http://127.0.0.1:9999/status\">http://127.0.0.1:9999/status</a>\n",
       "                    </td>\n",
       "                    <td style=\"text-align: left;\"></td>\n",
       "                </tr>\n",
       "                \n",
       "                    </table>\n",
       "                    \n",
       "                <details>\n",
       "                <summary style=\"margin-bottom: 20px;\"><h3 style=\"display: inline;\">Cluster Info</h3></summary>\n",
       "                \n",
       "            <div class=\"jp-RenderedHTMLCommon jp-RenderedHTML jp-mod-trusted jp-OutputArea-output\">\n",
       "                <div style=\"\n",
       "                    width: 24px;\n",
       "                    height: 24px;\n",
       "                    background-color: #e1e1e1;\n",
       "                    border: 3px solid #9D9D9D;\n",
       "                    border-radius: 5px;\n",
       "                    position: absolute;\"> </div>\n",
       "                <div style=\"margin-left: 48px;\">\n",
       "                    <h3 style=\"margin-bottom: 0px; margin-top: 0px;\">LocalCluster</h3>\n",
       "                    <p style=\"color: #9D9D9D; margin-bottom: 0px;\">385158a4</p>\n",
       "                    <table style=\"width: 100%; text-align: left;\">\n",
       "                    \n",
       "            <tr>\n",
       "                <td style=\"text-align: left;\"><strong>Status:</strong> running</td>\n",
       "                <td style=\"text-align: left;\"><strong>Using processes:</strong> True</td>\n",
       "            </tr>\n",
       "        \n",
       "            <tr>\n",
       "                <td style=\"text-align: left;\">\n",
       "                    <strong>Dashboard:</strong> <a href=\"http://127.0.0.1:9999/status\">http://127.0.0.1:9999/status</a>\n",
       "                </td>\n",
       "                <td style=\"text-align: left;\"><strong>Workers:</strong> 4</td>\n",
       "            </tr>\n",
       "            <tr>\n",
       "                <td style=\"text-align: left;\">\n",
       "                    <strong>Total threads:</strong>\n",
       "                    24\n",
       "                </td>\n",
       "                <td style=\"text-align: left;\">\n",
       "                    <strong>Total memory:</strong>\n",
       "                    300.00 GiB\n",
       "                </td>\n",
       "            </tr>\n",
       "        \n",
       "                    </table>\n",
       "                    <details>\n",
       "                    <summary style=\"margin-bottom: 20px;\"><h3 style=\"display: inline;\">Scheduler Info</h3></summary>\n",
       "                    \n",
       "        <div style=\"\">\n",
       "            \n",
       "            <div>\n",
       "                <div style=\"\n",
       "                    width: 24px;\n",
       "                    height: 24px;\n",
       "                    background-color: #FFF7E5;\n",
       "                    border: 3px solid #FF6132;\n",
       "                    border-radius: 5px;\n",
       "                    position: absolute;\"> </div>\n",
       "                <div style=\"margin-left: 48px;\">\n",
       "                    <h3 style=\"margin-bottom: 0px;\">Scheduler</h3>\n",
       "                    <p style=\"color: #9D9D9D; margin-bottom: 0px;\">Scheduler-d9c5f91c-fd5b-4bc8-a03a-b89e96b7effb</p>\n",
       "                    <table style=\"width: 100%; text-align: left;\">\n",
       "                        <tr>\n",
       "                            <td style=\"text-align: left;\"><strong>Comm:</strong> tcp://127.0.0.1:45459</td>\n",
       "                            <td style=\"text-align: left;\"><strong>Workers:</strong> 4</td>\n",
       "                        </tr>\n",
       "                        <tr>\n",
       "                            <td style=\"text-align: left;\">\n",
       "                                <strong>Dashboard:</strong> <a href=\"http://127.0.0.1:9999/status\">http://127.0.0.1:9999/status</a>\n",
       "                            </td>\n",
       "                            <td style=\"text-align: left;\">\n",
       "                                <strong>Total threads:</strong>\n",
       "                                24\n",
       "                            </td>\n",
       "                        </tr>\n",
       "                        <tr>\n",
       "                            <td style=\"text-align: left;\">\n",
       "                                <strong>Started:</strong>\n",
       "                                Just now\n",
       "                            </td>\n",
       "                            <td style=\"text-align: left;\">\n",
       "                                <strong>Total memory:</strong>\n",
       "                                300.00 GiB\n",
       "                            </td>\n",
       "                        </tr>\n",
       "                    </table>\n",
       "                </div>\n",
       "            </div>\n",
       "        \n",
       "            <details style=\"margin-left: 48px;\">\n",
       "            <summary style=\"margin-bottom: 20px;\"><h3 style=\"display: inline;\">Workers</h3></summary>\n",
       "            \n",
       "            <div style=\"margin-bottom: 20px;\">\n",
       "                <div style=\"width: 24px;\n",
       "                            height: 24px;\n",
       "                            background-color: #DBF5FF;\n",
       "                            border: 3px solid #4CC9FF;\n",
       "                            border-radius: 5px;\n",
       "                            position: absolute;\"> </div>\n",
       "                <div style=\"margin-left: 48px;\">\n",
       "                <details>\n",
       "                    <summary>\n",
       "                        <h4 style=\"margin-bottom: 0px; display: inline;\">Worker: 0</h4>\n",
       "                    </summary>\n",
       "                    <table style=\"width: 100%; text-align: left;\">\n",
       "                        <tr>\n",
       "                            <td style=\"text-align: left;\"><strong>Comm: </strong> tcp://127.0.0.1:41776</td>\n",
       "                            <td style=\"text-align: left;\"><strong>Total threads: </strong> 6</td>\n",
       "                        </tr>\n",
       "                        <tr>\n",
       "                            <td style=\"text-align: left;\">\n",
       "                                <strong>Dashboard: </strong>\n",
       "                                <a href=\"http://127.0.0.1:39413/status\">http://127.0.0.1:39413/status</a>\n",
       "                            </td>\n",
       "                            <td style=\"text-align: left;\">\n",
       "                                <strong>Memory: </strong>\n",
       "                                75.00 GiB\n",
       "                            </td>\n",
       "                        </tr>\n",
       "                        <tr>\n",
       "                            <td style=\"text-align: left;\"><strong>Nanny: </strong> tcp://127.0.0.1:42924</td>\n",
       "                            <td style=\"text-align: left;\"></td>\n",
       "                        </tr>\n",
       "                        <tr>\n",
       "                            <td colspan=\"2\" style=\"text-align: left;\">\n",
       "                                <strong>Local directory: </strong>\n",
       "                                /projects/GEOCLIM/LRGROUP/jbusecke/projects/busecke_etal_2021_aguadv/notebooks/dask-worker-space/worker-x5fyxe04\n",
       "                            </td>\n",
       "                        </tr>\n",
       "                        \n",
       "                        \n",
       "                    </table>\n",
       "                </details>\n",
       "                </div>\n",
       "            </div>\n",
       "            \n",
       "            <div style=\"margin-bottom: 20px;\">\n",
       "                <div style=\"width: 24px;\n",
       "                            height: 24px;\n",
       "                            background-color: #DBF5FF;\n",
       "                            border: 3px solid #4CC9FF;\n",
       "                            border-radius: 5px;\n",
       "                            position: absolute;\"> </div>\n",
       "                <div style=\"margin-left: 48px;\">\n",
       "                <details>\n",
       "                    <summary>\n",
       "                        <h4 style=\"margin-bottom: 0px; display: inline;\">Worker: 1</h4>\n",
       "                    </summary>\n",
       "                    <table style=\"width: 100%; text-align: left;\">\n",
       "                        <tr>\n",
       "                            <td style=\"text-align: left;\"><strong>Comm: </strong> tcp://127.0.0.1:38981</td>\n",
       "                            <td style=\"text-align: left;\"><strong>Total threads: </strong> 6</td>\n",
       "                        </tr>\n",
       "                        <tr>\n",
       "                            <td style=\"text-align: left;\">\n",
       "                                <strong>Dashboard: </strong>\n",
       "                                <a href=\"http://127.0.0.1:43255/status\">http://127.0.0.1:43255/status</a>\n",
       "                            </td>\n",
       "                            <td style=\"text-align: left;\">\n",
       "                                <strong>Memory: </strong>\n",
       "                                75.00 GiB\n",
       "                            </td>\n",
       "                        </tr>\n",
       "                        <tr>\n",
       "                            <td style=\"text-align: left;\"><strong>Nanny: </strong> tcp://127.0.0.1:43372</td>\n",
       "                            <td style=\"text-align: left;\"></td>\n",
       "                        </tr>\n",
       "                        <tr>\n",
       "                            <td colspan=\"2\" style=\"text-align: left;\">\n",
       "                                <strong>Local directory: </strong>\n",
       "                                /projects/GEOCLIM/LRGROUP/jbusecke/projects/busecke_etal_2021_aguadv/notebooks/dask-worker-space/worker-1_hxvvk0\n",
       "                            </td>\n",
       "                        </tr>\n",
       "                        \n",
       "                        \n",
       "                    </table>\n",
       "                </details>\n",
       "                </div>\n",
       "            </div>\n",
       "            \n",
       "            <div style=\"margin-bottom: 20px;\">\n",
       "                <div style=\"width: 24px;\n",
       "                            height: 24px;\n",
       "                            background-color: #DBF5FF;\n",
       "                            border: 3px solid #4CC9FF;\n",
       "                            border-radius: 5px;\n",
       "                            position: absolute;\"> </div>\n",
       "                <div style=\"margin-left: 48px;\">\n",
       "                <details>\n",
       "                    <summary>\n",
       "                        <h4 style=\"margin-bottom: 0px; display: inline;\">Worker: 2</h4>\n",
       "                    </summary>\n",
       "                    <table style=\"width: 100%; text-align: left;\">\n",
       "                        <tr>\n",
       "                            <td style=\"text-align: left;\"><strong>Comm: </strong> tcp://127.0.0.1:44036</td>\n",
       "                            <td style=\"text-align: left;\"><strong>Total threads: </strong> 6</td>\n",
       "                        </tr>\n",
       "                        <tr>\n",
       "                            <td style=\"text-align: left;\">\n",
       "                                <strong>Dashboard: </strong>\n",
       "                                <a href=\"http://127.0.0.1:44331/status\">http://127.0.0.1:44331/status</a>\n",
       "                            </td>\n",
       "                            <td style=\"text-align: left;\">\n",
       "                                <strong>Memory: </strong>\n",
       "                                75.00 GiB\n",
       "                            </td>\n",
       "                        </tr>\n",
       "                        <tr>\n",
       "                            <td style=\"text-align: left;\"><strong>Nanny: </strong> tcp://127.0.0.1:37478</td>\n",
       "                            <td style=\"text-align: left;\"></td>\n",
       "                        </tr>\n",
       "                        <tr>\n",
       "                            <td colspan=\"2\" style=\"text-align: left;\">\n",
       "                                <strong>Local directory: </strong>\n",
       "                                /projects/GEOCLIM/LRGROUP/jbusecke/projects/busecke_etal_2021_aguadv/notebooks/dask-worker-space/worker-r5zjefh2\n",
       "                            </td>\n",
       "                        </tr>\n",
       "                        \n",
       "                        \n",
       "                    </table>\n",
       "                </details>\n",
       "                </div>\n",
       "            </div>\n",
       "            \n",
       "            <div style=\"margin-bottom: 20px;\">\n",
       "                <div style=\"width: 24px;\n",
       "                            height: 24px;\n",
       "                            background-color: #DBF5FF;\n",
       "                            border: 3px solid #4CC9FF;\n",
       "                            border-radius: 5px;\n",
       "                            position: absolute;\"> </div>\n",
       "                <div style=\"margin-left: 48px;\">\n",
       "                <details>\n",
       "                    <summary>\n",
       "                        <h4 style=\"margin-bottom: 0px; display: inline;\">Worker: 3</h4>\n",
       "                    </summary>\n",
       "                    <table style=\"width: 100%; text-align: left;\">\n",
       "                        <tr>\n",
       "                            <td style=\"text-align: left;\"><strong>Comm: </strong> tcp://127.0.0.1:41864</td>\n",
       "                            <td style=\"text-align: left;\"><strong>Total threads: </strong> 6</td>\n",
       "                        </tr>\n",
       "                        <tr>\n",
       "                            <td style=\"text-align: left;\">\n",
       "                                <strong>Dashboard: </strong>\n",
       "                                <a href=\"http://127.0.0.1:39690/status\">http://127.0.0.1:39690/status</a>\n",
       "                            </td>\n",
       "                            <td style=\"text-align: left;\">\n",
       "                                <strong>Memory: </strong>\n",
       "                                75.00 GiB\n",
       "                            </td>\n",
       "                        </tr>\n",
       "                        <tr>\n",
       "                            <td style=\"text-align: left;\"><strong>Nanny: </strong> tcp://127.0.0.1:45199</td>\n",
       "                            <td style=\"text-align: left;\"></td>\n",
       "                        </tr>\n",
       "                        <tr>\n",
       "                            <td colspan=\"2\" style=\"text-align: left;\">\n",
       "                                <strong>Local directory: </strong>\n",
       "                                /projects/GEOCLIM/LRGROUP/jbusecke/projects/busecke_etal_2021_aguadv/notebooks/dask-worker-space/worker-n3cmr00g\n",
       "                            </td>\n",
       "                        </tr>\n",
       "                        \n",
       "                        \n",
       "                    </table>\n",
       "                </details>\n",
       "                </div>\n",
       "            </div>\n",
       "            \n",
       "            </details>\n",
       "        </div>\n",
       "        \n",
       "                    </details>\n",
       "                </div>\n",
       "            </div>\n",
       "        \n",
       "                </details>\n",
       "                \n",
       "                </div>\n",
       "            </div>\n",
       "        "
      ],
      "text/plain": [
       "<Client: 'tcp://127.0.0.1:45459' processes=4 threads=24, memory=300.00 GiB>"
      ]
     },
     "execution_count": 1,
     "metadata": {},
     "output_type": "execute_result"
    }
   ],
   "source": [
    "from distributed import LocalCluster, Client\n",
    "mem_total = 300\n",
    "workers = 6\n",
    "threads = 6# more threads work a looooot better for the trend calculation (less comms)\n",
    "\n",
    "cluster = LocalCluster(\n",
    "    memory_limit=f\"{int(mem_total/workers)}GiB\",\n",
    "    dashboard_address=9999,\n",
    "    threads_per_worker=threads,\n",
    "    n_workers = workers,\n",
    "                      )\n",
    "client = Client(cluster)\n",
    "client"
   ]
  },
  {
   "cell_type": "code",
   "execution_count": 2,
   "metadata": {},
   "outputs": [],
   "source": [
    "# %load_ext autoreload\n",
    "# %autoreload 2"
   ]
  },
  {
   "cell_type": "code",
   "execution_count": 3,
   "metadata": {},
   "outputs": [],
   "source": [
    "from fastjmd95 import rho"
   ]
  },
  {
   "cell_type": "code",
   "execution_count": 4,
   "metadata": {},
   "outputs": [
    {
     "data": {
      "text/plain": [
       "['/home/jbusecke/code/cmip6_preprocessing/cmip6_preprocessing']"
      ]
     },
     "execution_count": 4,
     "metadata": {},
     "output_type": "execute_result"
    }
   ],
   "source": [
    "import cmip6_preprocessing\n",
    "cmip6_preprocessing.__path__"
   ]
  },
  {
   "cell_type": "code",
   "execution_count": 5,
   "metadata": {},
   "outputs": [
    {
     "data": {
      "text/plain": [
       "'0.5.1.dev2+g94d0171.d20210728'"
      ]
     },
     "execution_count": 5,
     "metadata": {},
     "output_type": "execute_result"
    }
   ],
   "source": [
    "import cmip6_preprocessing\n",
    "cmip6_preprocessing.__version__"
   ]
  },
  {
   "cell_type": "code",
   "execution_count": 6,
   "metadata": {},
   "outputs": [],
   "source": [
    "from dask.diagnostics import ProgressBar\n",
    "import numpy as np"
   ]
  },
  {
   "cell_type": "code",
   "execution_count": null,
   "metadata": {},
   "outputs": [],
   "source": [
    "import xarray as xr\n",
    "import numpy as np\n",
    "import pathlib\n",
    "# from cmip6_preprocessing.postprocessing import concat_members\n",
    "from cmip6_omz.omz_tools import mask_basin\n",
    "from cmip6_omz.upstream_stash import flatten_dict, load_data_to_nested_dict, concat_experiments, concat_members\n",
    "from busecke_etal_2021_aguadv.utils import mask_basin\n",
    "import matplotlib.pyplot as plt\n",
    "from fastprogress.fastprogress import progress_bar\n",
    "\n",
    "def mask_pac_tropics(ds_in):\n",
    "    ds_pac = mask_basin(ds_in)\n",
    "    # mask out the tropics\n",
    "    ds_pac = ds_pac.where(abs(ds_pac.lat)<=30)\n",
    "    return ds_pac"
   ]
  },
  {
   "cell_type": "code",
   "execution_count": 8,
   "metadata": {},
   "outputs": [],
   "source": [
    "import intake\n",
    "import pathlib\n",
    "import xarray as xr\n",
    "\n",
    "from fastprogress import progress_bar\n",
    "from cmip6_omz.boundaries import omz_boundaries\n",
    "from cmip6_omz.utils import cmip6_collection, o2_models\n",
    "from cmip6_preprocessing.utils import cmip6_dataset_id\n",
    "from cmip6_preprocessing.drift_removal import match_and_remove_trend\n",
    "from cmip6_preprocessing.preprocessing import combined_preprocessing\n",
    "from cmip6_preprocessing.postprocessing import interpolate_grid_label, merge_variables, match_metrics\n",
    "from xarrayutils.file_handling import write\n",
    "from distributed import LocalCluster, Client\n",
    "from cmip6_omz.upstream_stash import concat_experiments, pick_first_member, transform_wrapper"
   ]
  },
  {
   "cell_type": "code",
   "execution_count": 9,
   "metadata": {},
   "outputs": [],
   "source": [
    "from xarrayutils.utils import (\n",
    "    remove_bottom_values,\n",
    "    #mask_mixedlayer\n",
    ")\n",
    "from cmip6_omz.omz_tools import (\n",
    "    omz_thickness,\n",
    "    sigma_bins,\n",
    "    align_missing,\n",
    "    preprocessing_wrapper,\n",
    ")"
   ]
  },
  {
   "cell_type": "code",
   "execution_count": 10,
   "metadata": {},
   "outputs": [
    {
     "data": {
      "text/html": [
       "\n",
       "    <div>\n",
       "        <style>\n",
       "            /* Turns off some styling */\n",
       "            progress {\n",
       "                /* gets rid of default border in Firefox and Opera. */\n",
       "                border: none;\n",
       "                /* Needs to be in here for Safari polyfill so background images work as expected. */\n",
       "                background-size: auto;\n",
       "            }\n",
       "            .progress-bar-interrupted, .progress-bar-interrupted::-webkit-progress-bar {\n",
       "                background: #F44336;\n",
       "            }\n",
       "        </style>\n",
       "      <progress value='11' class='' max='11' style='width:300px; height:20px; vertical-align: middle;'></progress>\n",
       "      100.00% [11/11 00:01<00:00]\n",
       "    </div>\n",
       "    "
      ],
      "text/plain": [
       "<IPython.core.display.HTML object>"
      ]
     },
     "metadata": {},
     "output_type": "display_data"
    }
   ],
   "source": [
    "# Load all trend files\n",
    "flist = list(pathlib.Path('../../cmip6_omz/data/temp/julius_temp/fine_density_tests_combined/').absolute().glob('*.zarr'))\n",
    "ddict = {}\n",
    "for f in progress_bar(flist):\n",
    "    ddict[f.stem] = xr.open_zarr(f)"
   ]
  },
  {
   "cell_type": "code",
   "execution_count": 11,
   "metadata": {},
   "outputs": [],
   "source": [
    "ddict_combined = {k:ds for k, ds in ddict.items()}\n",
    "# ddict_combined = concat_experiments(ddict)\n",
    "# ddict_combined = {k:ds for k,ds in ddict_combined.items() if len(ds.time)>=250}\n",
    "# # ddict_combined = concat_members(ddict_combined, match_attr_ignore=['variant_label', 'experiment_id'])mask_basin"
   ]
  },
  {
   "cell_type": "markdown",
   "metadata": {},
   "source": [
    "## Inconclusive First Plot"
   ]
  },
  {
   "cell_type": "code",
   "execution_count": 13,
   "metadata": {
    "tags": []
   },
   "outputs": [],
   "source": [
    "# for name, ds in ddict_combined.items():\n",
    "#     print(name)\n",
    "#     # mask out the pacific\n",
    "#     ds_pac = mask_pac_tropics(ds)\n",
    "    \n",
    "    \n",
    "#     vol = (ds_pac.dz_t * ds_pac.areacello).sum(['x', 'y'])\n",
    "#     omz_vol = (ds_pac.omz_thickness * ds_pac.areacello).sel(o2_bin=80).sum(['x', 'y'])\n",
    "#     with ProgressBar():\n",
    "#         plt.figure(figsize=[10,5])\n",
    "\n",
    "#         # timeseries of Full OMZ and Volume\n",
    "#         plt.subplot(2,2,3)\n",
    "#         ref_omz_vol = omz_vol.isel(time=0).sum('sigma_0')\n",
    "#         (((omz_vol.sum('sigma_0')-ref_omz_vol)/ref_omz_vol)*100).plot(label='Full OMZ volume change')\n",
    "\n",
    "#         ref_vol = vol.isel(time=0).sum('sigma_0')\n",
    "#         ((vol.sum('sigma_0')-ref_vol)/ref_vol*100).plot(label='Full volume change')\n",
    "#         plt.ylabel('[%]')\n",
    "\n",
    "#         # Hovmoellers\n",
    "\n",
    "#         plt.subplot(2,2,1)\n",
    "#         (omz_vol - (omz_vol.sel(time=slice('1850','1900')).mean('time'))).plot(x='time')\n",
    "#         plt.ylim(28,24)\n",
    "#         plt.title(f'OMZ Vol {name}')\n",
    "\n",
    "#         plt.subplot(2,2,2)\n",
    "#         (vol - (vol.sel(time=slice('1850','1900')).mean('time'))).plot(x='time')\n",
    "#         plt.ylim(28,24)\n",
    "#         plt.title(f'Full Vol {name}')\n",
    "\n",
    "#         plt.show()"
   ]
  },
  {
   "cell_type": "markdown",
   "metadata": {},
   "source": [
    "## Notes\n",
    "\n",
    "OHHHHH when I take the full pacific the volume expands everywhere! This is not the case for the tropics!"
   ]
  },
  {
   "cell_type": "markdown",
   "metadata": {
    "tags": []
   },
   "source": [
    "## Prototype the 'control' shift of the historical OMZ in density space"
   ]
  },
  {
   "cell_type": "code",
   "execution_count": 14,
   "metadata": {},
   "outputs": [
    {
     "name": "stdout",
     "output_type": "stream",
     "text": [
      "\n",
      "--> The keys in the returned dictionary of datasets are constructed as follows:\n",
      "\t'activity_id.institution_id.source_id.experiment_id.member_id.table_id.variable_id.grid_label.version.zstore'\n"
     ]
    },
    {
     "data": {
      "text/html": [
       "\n",
       "    <div>\n",
       "        <style>\n",
       "            /* Turns off some styling */\n",
       "            progress {\n",
       "                /* gets rid of default border in Firefox and Opera. */\n",
       "                border: none;\n",
       "                /* Needs to be in here for Safari polyfill so background images work as expected. */\n",
       "                background-size: auto;\n",
       "            }\n",
       "            .progress-bar-interrupted, .progress-bar-interrupted::-webkit-progress-bar {\n",
       "                background: #F44336;\n",
       "            }\n",
       "        </style>\n",
       "      <progress value='259' class='' max='259' style='width:300px; height:20px; vertical-align: middle;'></progress>\n",
       "      100.00% [259/259 00:46<00:00]\n",
       "    </div>\n",
       "    "
      ],
      "text/plain": [
       "<IPython.core.display.HTML object>"
      ]
     },
     "metadata": {},
     "output_type": "display_data"
    },
    {
     "name": "stdout",
     "output_type": "stream",
     "text": [
      "\n",
      "--> The keys in the returned dictionary of datasets are constructed as follows:\n",
      "\t'activity_id.institution_id.source_id.experiment_id.member_id.table_id.variable_id.grid_label.version.zstore'\n"
     ]
    },
    {
     "data": {
      "text/html": [
       "\n",
       "    <div>\n",
       "        <style>\n",
       "            /* Turns off some styling */\n",
       "            progress {\n",
       "                /* gets rid of default border in Firefox and Opera. */\n",
       "                border: none;\n",
       "                /* Needs to be in here for Safari polyfill so background images work as expected. */\n",
       "                background-size: auto;\n",
       "            }\n",
       "            .progress-bar-interrupted, .progress-bar-interrupted::-webkit-progress-bar {\n",
       "                background: #F44336;\n",
       "            }\n",
       "        </style>\n",
       "      <progress value='397' class='' max='397' style='width:300px; height:20px; vertical-align: middle;'></progress>\n",
       "      100.00% [397/397 00:40<00:00]\n",
       "    </div>\n",
       "    "
      ],
      "text/plain": [
       "<IPython.core.display.HTML object>"
      ]
     },
     "metadata": {},
     "output_type": "display_data"
    }
   ],
   "source": [
    "col = intake.open_esm_datastore(cmip6_collection(zarr=True)) # Takes wayyy to long for now\n",
    "\n",
    "kwargs = {\n",
    "    \"preprocess\": combined_preprocessing,\n",
    "    \"cdf_kwargs\": {\"use_cftime\": True, \"chunks\":{'time':3}, 'engine':'h5netcdf'},\n",
    "    \"zarr_kwargs\": {'use_cftime': True, 'consolidated':True},\n",
    "    \"aggregate\": False,\n",
    "}\n",
    "regress_vars = ['o2', 'thetao', 'so']\n",
    "\n",
    "# models = [m for m in o2_models() if not ('NorESM' in m)] #Nor ESM has the problem with metric time not matching.\n",
    "models = ['CanESM5', 'CanESM5-CanOE', 'CNRM-ESM2-1']\n",
    "    \n",
    "cat = col.search(\n",
    "    source_id=models, \n",
    "    variable_id=regress_vars,\n",
    "    experiment_id=['historical', 'ssp585']\n",
    ")\n",
    "ddict_raw_idealized = cat.to_dataset_dict(**kwargs)\n",
    "\n",
    "# load metrics\n",
    "cat_metrics = col.search(\n",
    "    source_id=models, \n",
    "    variable_id=['thkcello', 'areacello'],\n",
    ")\n",
    "ddict_metrics_idealized = cat_metrics.to_dataset_dict(**kwargs)"
   ]
  },
  {
   "cell_type": "markdown",
   "metadata": {},
   "source": [
    "> Why are there messages about MIROC if I didnt request that?"
   ]
  },
  {
   "cell_type": "code",
   "execution_count": 15,
   "metadata": {},
   "outputs": [],
   "source": [
    "# again filter the 'short' CNRM member\n",
    "ddict_raw_idealized = {k:ds for k, ds in ddict_raw_idealized.items() if not all([a in k for a in ['CNRM-ESM2-1', 'r6i1p1f2']])}"
   ]
  },
  {
   "cell_type": "code",
   "execution_count": 16,
   "metadata": {},
   "outputs": [],
   "source": [
    "ddict_idealized = match_metrics(ddict_raw_idealized, ddict_metrics_idealized, ['areacello', 'thkcello'])"
   ]
  },
  {
   "cell_type": "code",
   "execution_count": 17,
   "metadata": {},
   "outputs": [
    {
     "data": {
      "text/html": [
       "\n",
       "    <div>\n",
       "        <style>\n",
       "            /* Turns off some styling */\n",
       "            progress {\n",
       "                /* gets rid of default border in Firefox and Opera. */\n",
       "                border: none;\n",
       "                /* Needs to be in here for Safari polyfill so background images work as expected. */\n",
       "                background-size: auto;\n",
       "            }\n",
       "            .progress-bar-interrupted, .progress-bar-interrupted::-webkit-progress-bar {\n",
       "                background: #F44336;\n",
       "            }\n",
       "        </style>\n",
       "      <progress value='661' class='' max='661' style='width:300px; height:20px; vertical-align: middle;'></progress>\n",
       "      100.00% [661/661 00:20<00:00]\n",
       "    </div>\n",
       "    "
      ],
      "text/plain": [
       "<IPython.core.display.HTML object>"
      ]
     },
     "metadata": {},
     "output_type": "display_data"
    },
    {
     "name": "stderr",
     "output_type": "stream",
     "text": [
      "/home/jbusecke/code/cmip6_preprocessing/cmip6_preprocessing/postprocessing.py:60: UserWarning: Could not find a matching dataset for CMIP.CCCma.CanESM5.historical.r27i1p2f1.Omon.gn.v20190429\n",
      "  warnings.warn(nomatch_msg)\n",
      "/home/jbusecke/code/cmip6_preprocessing/cmip6_preprocessing/postprocessing.py:60: UserWarning: Could not find a matching dataset for CMIP.CCCma.CanESM5.historical.r34i1p2f1.Omon.gn.v20190429\n",
      "  warnings.warn(nomatch_msg)\n",
      "/home/jbusecke/code/cmip6_preprocessing/cmip6_preprocessing/postprocessing.py:60: UserWarning: Could not find a matching dataset for CMIP.CCCma.CanESM5.historical.r17i1p1f1.Omon.gn.v20190429\n",
      "  warnings.warn(nomatch_msg)\n",
      "/home/jbusecke/code/cmip6_preprocessing/cmip6_preprocessing/postprocessing.py:60: UserWarning: Could not find a matching dataset for CMIP.CCCma.CanESM5.historical.r35i1p2f1.Omon.gn.v20190429\n",
      "  warnings.warn(nomatch_msg)\n",
      "/home/jbusecke/code/cmip6_preprocessing/cmip6_preprocessing/postprocessing.py:60: UserWarning: Could not find a matching dataset for CMIP.CCCma.CanESM5.historical.r23i1p1f1.Omon.gn.v20190429\n",
      "  warnings.warn(nomatch_msg)\n",
      "/home/jbusecke/code/cmip6_preprocessing/cmip6_preprocessing/postprocessing.py:60: UserWarning: Could not find a matching dataset for CMIP.CCCma.CanESM5.historical.r38i1p2f1.Omon.gn.v20190429\n",
      "  warnings.warn(nomatch_msg)\n",
      "/home/jbusecke/code/cmip6_preprocessing/cmip6_preprocessing/postprocessing.py:60: UserWarning: Could not find a matching dataset for CMIP.CCCma.CanESM5.historical.r34i1p2f1.Omon.gn.v20190429\n",
      "  warnings.warn(nomatch_msg)\n",
      "/home/jbusecke/code/cmip6_preprocessing/cmip6_preprocessing/postprocessing.py:60: UserWarning: Could not find a matching dataset for CMIP.CCCma.CanESM5.historical.r39i1p2f1.Omon.gn.v20190429\n",
      "  warnings.warn(nomatch_msg)\n",
      "/home/jbusecke/code/cmip6_preprocessing/cmip6_preprocessing/postprocessing.py:60: UserWarning: Could not find a matching dataset for CMIP.CCCma.CanESM5.historical.r23i1p1f1.Omon.gn.v20190429\n",
      "  warnings.warn(nomatch_msg)\n",
      "/home/jbusecke/code/cmip6_preprocessing/cmip6_preprocessing/postprocessing.py:60: UserWarning: Could not find a matching dataset for CMIP.CCCma.CanESM5.historical.r24i1p1f1.Omon.gn.v20190429\n",
      "  warnings.warn(nomatch_msg)\n",
      "/home/jbusecke/code/cmip6_preprocessing/cmip6_preprocessing/postprocessing.py:60: UserWarning: Could not find a matching dataset for CMIP.CCCma.CanESM5.historical.r28i1p2f1.Omon.gn.v20190429\n",
      "  warnings.warn(nomatch_msg)\n",
      "/home/jbusecke/code/cmip6_preprocessing/cmip6_preprocessing/postprocessing.py:60: UserWarning: Could not find a matching dataset for CMIP.CCCma.CanESM5.historical.r20i1p1f1.Omon.gn.v20190429\n",
      "  warnings.warn(nomatch_msg)\n",
      "/home/jbusecke/code/cmip6_preprocessing/cmip6_preprocessing/postprocessing.py:60: UserWarning: Could not find a matching dataset for CMIP.CCCma.CanESM5.historical.r40i1p2f1.Omon.gn.v20190429\n",
      "  warnings.warn(nomatch_msg)\n",
      "/home/jbusecke/code/cmip6_preprocessing/cmip6_preprocessing/postprocessing.py:60: UserWarning: Could not find a matching dataset for CMIP.CCCma.CanESM5.historical.r32i1p2f1.Omon.gn.v20190429\n",
      "  warnings.warn(nomatch_msg)\n",
      "/home/jbusecke/code/cmip6_preprocessing/cmip6_preprocessing/postprocessing.py:60: UserWarning: Could not find a matching dataset for CMIP.CCCma.CanESM5.historical.r39i1p2f1.Omon.gn.v20190429\n",
      "  warnings.warn(nomatch_msg)\n",
      "/home/jbusecke/code/cmip6_preprocessing/cmip6_preprocessing/postprocessing.py:60: UserWarning: Could not find a matching dataset for CMIP.CCCma.CanESM5.historical.r29i1p2f1.Omon.gn.v20190429\n",
      "  warnings.warn(nomatch_msg)\n",
      "/home/jbusecke/code/cmip6_preprocessing/cmip6_preprocessing/postprocessing.py:60: UserWarning: Could not find a matching dataset for CMIP.CCCma.CanESM5.historical.r36i1p2f1.Omon.gn.v20190429\n",
      "  warnings.warn(nomatch_msg)\n",
      "/home/jbusecke/code/cmip6_preprocessing/cmip6_preprocessing/postprocessing.py:60: UserWarning: Could not find a matching dataset for CMIP.CCCma.CanESM5.historical.r19i1p1f1.Omon.gn.v20190429\n",
      "  warnings.warn(nomatch_msg)\n",
      "/home/jbusecke/code/cmip6_preprocessing/cmip6_preprocessing/postprocessing.py:60: UserWarning: Could not find a matching dataset for CMIP.CCCma.CanESM5.historical.r21i1p1f1.Omon.gn.v20190429\n",
      "  warnings.warn(nomatch_msg)\n",
      "/home/jbusecke/code/cmip6_preprocessing/cmip6_preprocessing/postprocessing.py:60: UserWarning: Could not find a matching dataset for CMIP.CCCma.CanESM5.historical.r21i1p1f1.Omon.gn.v20190429\n",
      "  warnings.warn(nomatch_msg)\n",
      "/home/jbusecke/code/cmip6_preprocessing/cmip6_preprocessing/postprocessing.py:60: UserWarning: Could not find a matching dataset for CMIP.CCCma.CanESM5.historical.r19i1p1f1.Omon.gn.v20190429\n",
      "  warnings.warn(nomatch_msg)\n",
      "/home/jbusecke/code/cmip6_preprocessing/cmip6_preprocessing/postprocessing.py:60: UserWarning: Could not find a matching dataset for CMIP.CCCma.CanESM5.historical.r37i1p2f1.Omon.gn.v20190429\n",
      "  warnings.warn(nomatch_msg)\n",
      "/home/jbusecke/code/cmip6_preprocessing/cmip6_preprocessing/postprocessing.py:60: UserWarning: Could not find a matching dataset for CMIP.CCCma.CanESM5.historical.r28i1p2f1.Omon.gn.v20190429\n",
      "  warnings.warn(nomatch_msg)\n",
      "/home/jbusecke/code/cmip6_preprocessing/cmip6_preprocessing/postprocessing.py:60: UserWarning: Could not find a matching dataset for CMIP.CCCma.CanESM5.historical.r26i1p2f1.Omon.gn.v20190429\n",
      "  warnings.warn(nomatch_msg)\n",
      "/home/jbusecke/code/cmip6_preprocessing/cmip6_preprocessing/postprocessing.py:60: UserWarning: Could not find a matching dataset for CMIP.CCCma.CanESM5.historical.r22i1p1f1.Omon.gn.v20190429\n",
      "  warnings.warn(nomatch_msg)\n",
      "/home/jbusecke/code/cmip6_preprocessing/cmip6_preprocessing/postprocessing.py:60: UserWarning: Could not find a matching dataset for CMIP.CCCma.CanESM5.historical.r23i1p1f1.Omon.gn.v20190429\n",
      "  warnings.warn(nomatch_msg)\n",
      "/home/jbusecke/code/cmip6_preprocessing/cmip6_preprocessing/postprocessing.py:60: UserWarning: Could not find a matching dataset for CMIP.CCCma.CanESM5.historical.r22i1p1f1.Omon.gn.v20190429\n",
      "  warnings.warn(nomatch_msg)\n",
      "/home/jbusecke/code/cmip6_preprocessing/cmip6_preprocessing/postprocessing.py:60: UserWarning: Could not find a matching dataset for CMIP.CCCma.CanESM5.historical.r36i1p2f1.Omon.gn.v20190429\n",
      "  warnings.warn(nomatch_msg)\n",
      "/home/jbusecke/code/cmip6_preprocessing/cmip6_preprocessing/postprocessing.py:60: UserWarning: Could not find a matching dataset for CMIP.CCCma.CanESM5.historical.r29i1p2f1.Omon.gn.v20190429\n",
      "  warnings.warn(nomatch_msg)\n",
      "/home/jbusecke/code/cmip6_preprocessing/cmip6_preprocessing/postprocessing.py:60: UserWarning: Could not find a matching dataset for CMIP.CCCma.CanESM5.historical.r31i1p2f1.Omon.gn.v20190429\n",
      "  warnings.warn(nomatch_msg)\n",
      "/home/jbusecke/code/cmip6_preprocessing/cmip6_preprocessing/postprocessing.py:60: UserWarning: Could not find a matching dataset for CMIP.CCCma.CanESM5.historical.r31i1p2f1.Omon.gn.v20190429\n",
      "  warnings.warn(nomatch_msg)\n",
      "/home/jbusecke/code/cmip6_preprocessing/cmip6_preprocessing/postprocessing.py:60: UserWarning: Could not find a matching dataset for CMIP.CCCma.CanESM5.historical.r25i1p1f1.Omon.gn.v20190429\n",
      "  warnings.warn(nomatch_msg)\n",
      "/home/jbusecke/code/cmip6_preprocessing/cmip6_preprocessing/postprocessing.py:60: UserWarning: Could not find a matching dataset for CMIP.CCCma.CanESM5.historical.r37i1p2f1.Omon.gn.v20190429\n",
      "  warnings.warn(nomatch_msg)\n",
      "/home/jbusecke/code/cmip6_preprocessing/cmip6_preprocessing/postprocessing.py:60: UserWarning: Could not find a matching dataset for CMIP.CCCma.CanESM5.historical.r24i1p1f1.Omon.gn.v20190429\n",
      "  warnings.warn(nomatch_msg)\n",
      "/home/jbusecke/code/cmip6_preprocessing/cmip6_preprocessing/postprocessing.py:60: UserWarning: Could not find a matching dataset for CMIP.CCCma.CanESM5.historical.r20i1p1f1.Omon.gn.v20190429\n",
      "  warnings.warn(nomatch_msg)\n",
      "/home/jbusecke/code/cmip6_preprocessing/cmip6_preprocessing/postprocessing.py:60: UserWarning: Could not find a matching dataset for CMIP.CCCma.CanESM5.historical.r19i1p1f1.Omon.gn.v20190429\n",
      "  warnings.warn(nomatch_msg)\n",
      "/home/jbusecke/code/cmip6_preprocessing/cmip6_preprocessing/postprocessing.py:60: UserWarning: Could not find a matching dataset for CMIP.CCCma.CanESM5.historical.r18i1p1f1.Omon.gn.v20190429\n",
      "  warnings.warn(nomatch_msg)\n",
      "/home/jbusecke/code/cmip6_preprocessing/cmip6_preprocessing/postprocessing.py:60: UserWarning: Could not find a matching dataset for CMIP.CCCma.CanESM5.historical.r18i1p1f1.Omon.gn.v20190429\n",
      "  warnings.warn(nomatch_msg)\n",
      "/home/jbusecke/code/cmip6_preprocessing/cmip6_preprocessing/postprocessing.py:60: UserWarning: Could not find a matching dataset for CMIP.CCCma.CanESM5.historical.r26i1p2f1.Omon.gn.v20190429\n",
      "  warnings.warn(nomatch_msg)\n",
      "/home/jbusecke/code/cmip6_preprocessing/cmip6_preprocessing/postprocessing.py:60: UserWarning: Could not find a matching dataset for CMIP.CCCma.CanESM5.historical.r30i1p2f1.Omon.gn.v20190429\n",
      "  warnings.warn(nomatch_msg)\n",
      "/home/jbusecke/code/cmip6_preprocessing/cmip6_preprocessing/postprocessing.py:60: UserWarning: Could not find a matching dataset for CMIP.CCCma.CanESM5.historical.r40i1p2f1.Omon.gn.v20190429\n",
      "  warnings.warn(nomatch_msg)\n",
      "/home/jbusecke/code/cmip6_preprocessing/cmip6_preprocessing/postprocessing.py:60: UserWarning: Could not find a matching dataset for CMIP.CCCma.CanESM5.historical.r17i1p1f1.Omon.gn.v20190429\n",
      "  warnings.warn(nomatch_msg)\n",
      "/home/jbusecke/code/cmip6_preprocessing/cmip6_preprocessing/postprocessing.py:60: UserWarning: Could not find a matching dataset for CMIP.CCCma.CanESM5.historical.r38i1p2f1.Omon.gn.v20190429\n",
      "  warnings.warn(nomatch_msg)\n",
      "/home/jbusecke/code/cmip6_preprocessing/cmip6_preprocessing/postprocessing.py:60: UserWarning: Could not find a matching dataset for CMIP.CCCma.CanESM5.historical.r32i1p2f1.Omon.gn.v20190429\n",
      "  warnings.warn(nomatch_msg)\n",
      "/home/jbusecke/code/cmip6_preprocessing/cmip6_preprocessing/postprocessing.py:60: UserWarning: Could not find a matching dataset for CMIP.CCCma.CanESM5.historical.r24i1p1f1.Omon.gn.v20190429\n",
      "  warnings.warn(nomatch_msg)\n",
      "/home/jbusecke/code/cmip6_preprocessing/cmip6_preprocessing/postprocessing.py:60: UserWarning: Could not find a matching dataset for CMIP.CCCma.CanESM5.historical.r33i1p2f1.Omon.gn.v20190429\n",
      "  warnings.warn(nomatch_msg)\n",
      "/home/jbusecke/code/cmip6_preprocessing/cmip6_preprocessing/postprocessing.py:60: UserWarning: Could not find a matching dataset for CMIP.CCCma.CanESM5.historical.r35i1p2f1.Omon.gn.v20190429\n",
      "  warnings.warn(nomatch_msg)\n",
      "/home/jbusecke/code/cmip6_preprocessing/cmip6_preprocessing/postprocessing.py:60: UserWarning: Could not find a matching dataset for CMIP.CCCma.CanESM5.historical.r33i1p2f1.Omon.gn.v20190429\n",
      "  warnings.warn(nomatch_msg)\n",
      "/home/jbusecke/code/cmip6_preprocessing/cmip6_preprocessing/postprocessing.py:60: UserWarning: Could not find a matching dataset for CMIP.CCCma.CanESM5.historical.r20i1p1f1.Omon.gn.v20190429\n",
      "  warnings.warn(nomatch_msg)\n",
      "/home/jbusecke/code/cmip6_preprocessing/cmip6_preprocessing/postprocessing.py:60: UserWarning: Could not find a matching dataset for CMIP.CCCma.CanESM5.historical.r22i1p1f1.Omon.gn.v20190429\n",
      "  warnings.warn(nomatch_msg)\n",
      "/home/jbusecke/code/cmip6_preprocessing/cmip6_preprocessing/postprocessing.py:60: UserWarning: Could not find a matching dataset for CMIP.CCCma.CanESM5.historical.r25i1p1f1.Omon.gn.v20190429\n",
      "  warnings.warn(nomatch_msg)\n",
      "/home/jbusecke/code/cmip6_preprocessing/cmip6_preprocessing/postprocessing.py:60: UserWarning: Could not find a matching dataset for CMIP.CCCma.CanESM5.historical.r17i1p1f1.Omon.gn.v20190429\n",
      "  warnings.warn(nomatch_msg)\n",
      "/home/jbusecke/code/cmip6_preprocessing/cmip6_preprocessing/postprocessing.py:60: UserWarning: Could not find a matching dataset for CMIP.CCCma.CanESM5.historical.r21i1p1f1.Omon.gn.v20190429\n",
      "  warnings.warn(nomatch_msg)\n",
      "/home/jbusecke/code/cmip6_preprocessing/cmip6_preprocessing/postprocessing.py:60: UserWarning: Could not find a matching dataset for CMIP.CCCma.CanESM5.historical.r30i1p2f1.Omon.gn.v20190429\n",
      "  warnings.warn(nomatch_msg)\n",
      "/home/jbusecke/code/cmip6_preprocessing/cmip6_preprocessing/postprocessing.py:60: UserWarning: Could not find a matching dataset for CMIP.CCCma.CanESM5.historical.r18i1p1f1.Omon.gn.v20190429\n",
      "  warnings.warn(nomatch_msg)\n",
      "/home/jbusecke/code/cmip6_preprocessing/cmip6_preprocessing/postprocessing.py:60: UserWarning: Could not find a matching dataset for CMIP.CCCma.CanESM5.historical.r27i1p2f1.Omon.gn.v20190429\n",
      "  warnings.warn(nomatch_msg)\n",
      "/home/jbusecke/code/cmip6_preprocessing/cmip6_preprocessing/postprocessing.py:60: UserWarning: Could not find a matching dataset for CMIP.CCCma.CanESM5.historical.r25i1p1f1.Omon.gn.v20190429\n",
      "  warnings.warn(nomatch_msg)\n"
     ]
    }
   ],
   "source": [
    "# Load all trend files\n",
    "flist = list(pathlib.Path('../../cmip6_omz/data/external/cmip6_control_drifts/').absolute().glob('*.nc'))\n",
    "trend_dict = {}\n",
    "for f in progress_bar(flist):\n",
    "    trend_dict[f.stem] = xr.open_mfdataset([f])\n",
    "\n",
    "# detrend\n",
    "ddict_detrended_idealized = match_and_remove_trend(\n",
    "    ddict_idealized,\n",
    "    trend_dict,\n",
    "    check_mask=False # should be deactivated once the trends are completed (i have a few in there now that dont have a nanmask applied)\n",
    ")"
   ]
  },
  {
   "cell_type": "code",
   "execution_count": 18,
   "metadata": {},
   "outputs": [
    {
     "name": "stderr",
     "output_type": "stream",
     "text": [
      "/home/jbusecke/code/cmip6_preprocessing/cmip6_preprocessing/postprocessing.py:122: UserWarning: CMIP.CNRM-CERFACS.CNRM-ESM2-1.historical.r3i1p1f2.Omon.gn.none failed to combine with :'thetao' is not present in all datasets.\n",
      "  warnings.warn(f\"{cmip6_dataset_id(ds)} failed to combine with :{e}\")\n",
      "/home/jbusecke/code/cmip6_preprocessing/cmip6_preprocessing/postprocessing.py:122: UserWarning: ScenarioMIP.CNRM-CERFACS.CNRM-ESM2-1.ssp585.r2i1p1f2.Omon.gn.none failed to combine with :'thetao' is not present in all datasets.\n",
      "  warnings.warn(f\"{cmip6_dataset_id(ds)} failed to combine with :{e}\")\n"
     ]
    }
   ],
   "source": [
    "# ddict_combined_idealized = pick_first_member(concat_experiments(merge_variables(ddict_detrended_idealized), exclude_attrs=['variable_id']))\n",
    "ddict_combined_idealized = concat_experiments(merge_variables(ddict_detrended_idealized), exclude_attrs=['variable_id'])\n",
    "\n",
    "# filter incomplete datasets\n",
    "ddict_combined_idealized = {k:ds for k,ds in ddict_combined_idealized.items() if all([va in ds.variables for va in ['thetao', 'so', 'o2', 'areacello', 'thkcello']])}"
   ]
  },
  {
   "cell_type": "code",
   "execution_count": 20,
   "metadata": {},
   "outputs": [
    {
     "data": {
      "text/plain": [
       "['CNRM-ESM2-1.gn.Omon.r10i1p1f2',\n",
       " 'CNRM-ESM2-1.gn.Omon.r11i1p1f2',\n",
       " 'CNRM-ESM2-1.gn.Omon.r1i1p1f2',\n",
       " 'CNRM-ESM2-1.gn.Omon.r4i1p1f2',\n",
       " 'CNRM-ESM2-1.gn.Omon.r5i1p1f2',\n",
       " 'CNRM-ESM2-1.gn.Omon.r7i1p1f2',\n",
       " 'CNRM-ESM2-1.gn.Omon.r8i1p1f2',\n",
       " 'CNRM-ESM2-1.gn.Omon.r9i1p1f2',\n",
       " 'CanESM5-CanOE.gn.Omon.r1i1p2f1',\n",
       " 'CanESM5-CanOE.gn.Omon.r2i1p2f1',\n",
       " 'CanESM5-CanOE.gn.Omon.r3i1p2f1',\n",
       " 'CanESM5.gn.Omon.r10i1p1f1',\n",
       " 'CanESM5.gn.Omon.r10i1p2f1',\n",
       " 'CanESM5.gn.Omon.r11i1p1f1',\n",
       " 'CanESM5.gn.Omon.r12i1p1f1',\n",
       " 'CanESM5.gn.Omon.r13i1p1f1',\n",
       " 'CanESM5.gn.Omon.r14i1p1f1',\n",
       " 'CanESM5.gn.Omon.r15i1p1f1',\n",
       " 'CanESM5.gn.Omon.r16i1p1f1',\n",
       " 'CanESM5.gn.Omon.r1i1p1f1',\n",
       " 'CanESM5.gn.Omon.r1i1p2f1',\n",
       " 'CanESM5.gn.Omon.r2i1p1f1',\n",
       " 'CanESM5.gn.Omon.r2i1p2f1',\n",
       " 'CanESM5.gn.Omon.r3i1p1f1',\n",
       " 'CanESM5.gn.Omon.r3i1p2f1',\n",
       " 'CanESM5.gn.Omon.r4i1p1f1',\n",
       " 'CanESM5.gn.Omon.r4i1p2f1',\n",
       " 'CanESM5.gn.Omon.r5i1p1f1',\n",
       " 'CanESM5.gn.Omon.r5i1p2f1',\n",
       " 'CanESM5.gn.Omon.r6i1p1f1',\n",
       " 'CanESM5.gn.Omon.r6i1p2f1',\n",
       " 'CanESM5.gn.Omon.r7i1p1f1',\n",
       " 'CanESM5.gn.Omon.r7i1p2f1',\n",
       " 'CanESM5.gn.Omon.r8i1p1f1',\n",
       " 'CanESM5.gn.Omon.r8i1p2f1',\n",
       " 'CanESM5.gn.Omon.r9i1p1f1',\n",
       " 'CanESM5.gn.Omon.r9i1p2f1']"
      ]
     },
     "execution_count": 20,
     "metadata": {},
     "output_type": "execute_result"
    }
   ],
   "source": [
    "list(np.sort(list(ddict_combined_idealized.keys())))"
   ]
  },
  {
   "cell_type": "code",
   "execution_count": 21,
   "metadata": {},
   "outputs": [
    {
     "data": {
      "text/plain": [
       "array([  0.  ,  22.5 ,  22.75,  23.  ,  23.25,  23.5 ,  23.75,  24.  ,\n",
       "        24.25,  24.5 ,  24.75,  25.  ,  25.25,  25.5 ,  25.75,  26.  ,\n",
       "        26.25,  26.5 ,  26.55,  26.6 ,  26.65,  26.7 ,  26.75,  26.8 ,\n",
       "        26.85,  26.9 ,  26.95,  27.  ,  27.05,  27.1 ,  27.15,  27.2 ,\n",
       "        27.25,  27.3 ,  27.35,  27.4 ,  27.45,  27.5 ,  27.55,  27.6 ,\n",
       "        27.65,  27.7 ,  27.75,  27.8 ,  27.85, 100.  ])"
      ]
     },
     "execution_count": 21,
     "metadata": {},
     "output_type": "execute_result"
    }
   ],
   "source": [
    "# global parameters\n",
    "o2_bins = np.array([10, 40, 60, 80, 100, 120])\n",
    "fine_sigma_bins = sigma_bins()\n",
    "fine_sigma_bins"
   ]
  },
  {
   "cell_type": "code",
   "execution_count": 22,
   "metadata": {},
   "outputs": [],
   "source": [
    "# # slow this down while the rest is processing\n",
    "\n",
    "# import dask\n",
    "# from multiprocessing.pool import ThreadPool\n",
    "# dask.config.set(pool=ThreadPool(10))"
   ]
  },
  {
   "cell_type": "code",
   "execution_count": 23,
   "metadata": {},
   "outputs": [
    {
     "data": {
      "text/plain": [
       "['none.NOAA-GFDL.GFDL-ESM4.none.r1i1p1f1.Omon.gn.none_r1i1p1f1',\n",
       " 'none.MRI.MRI-ESM2-0.none.r1i2p1f1.Omon.gn.none_r1i2p1f1',\n",
       " 'none.IPSL.IPSL-CM6A-LR.none.r6i1p1f1.Omon.gn.none_r6i1p1f1',\n",
       " 'none.none.MPI-ESM1-2-HR.none.r1i1p1f1.Omon.gn.none_r1i1p1f1',\n",
       " 'none.MPI-M.MPI-ESM1-2-LR.none.r4i1p1f1.Omon.gn.none_r4i1p1f1',\n",
       " 'none.CCCma.CanESM5.none.r6i1p2f1.Omon.gn.v20190429_r6i1p2f1',\n",
       " 'none.CNRM-CERFACS.CNRM-ESM2-1.none.r4i1p1f2.Omon.gn.none_r4i1p1f2',\n",
       " 'none.MOHC.UKESM1-0-LL.none.r4i1p1f2.Omon.gn.none_r4i1p1f2',\n",
       " 'none.MIROC.MIROC-ES2L.none.r1i1p1f2.Omon.gn.none_r1i1p1f2',\n",
       " 'none.CCCma.CanESM5-CanOE.none.r3i1p2f1.Omon.gn.v20190429_r3i1p2f1',\n",
       " 'none.CCCma.CanESM5-CanOE.none.r1i1p2f1.Omon.gn.v20190429_r1i1p2f1']"
      ]
     },
     "execution_count": 23,
     "metadata": {},
     "output_type": "execute_result"
    }
   ],
   "source": [
    "list(ddict_combined.keys())"
   ]
  },
  {
   "cell_type": "code",
   "execution_count": 44,
   "metadata": {},
   "outputs": [],
   "source": [
    "# from busecke_etal_2021_aguadv.temp_debug import idealized_output, full_sigma_treatment\n",
    "\n",
    "def idealized_output(ds_source):\n",
    "    \n",
    "    ds_source = ds_source.copy()\n",
    "    # average the thickness in time\n",
    "\n",
    "    dz_t = ds_source.thkcello\n",
    "    if \"time\" in dz_t:\n",
    "        dz_t = dz_t.mean(\"time\").load()\n",
    "\n",
    "    ds_source = ds_source.drop(\"thkcello\")\n",
    "    ds_source = ds_source.assign(dz_t=dz_t)\n",
    "\n",
    "    so = ds_source.so\n",
    "    thetao = ds_source.thetao\n",
    "    sigma = rho(so, thetao, 0) - 1000\n",
    "    ds_source = ds_source.assign(sigma_0=sigma)\n",
    "    \n",
    "    # Create averages\n",
    "\n",
    "    with ProgressBar():\n",
    "        ds_hist = historic_mean(ds_source).load()\n",
    "        ds_forced = forced_mean(ds_source).load()\n",
    "        \n",
    "    \n",
    "    \n",
    "    # replace the density in the hypthetic case with the forced density\n",
    "    forced_sigma = ds_forced.sigma_0\n",
    "    \n",
    "    ds_idealized = ds_hist.copy(deep=True)\n",
    "    ds_idealized = ds_idealized.assign(sigma_0=forced_sigma)\n",
    "\n",
    "\n",
    "    return ds_hist, ds_idealized\n",
    "\n",
    "\n",
    "def historic_mean(ds):\n",
    "    return ds.sel(time=slice(\"1900\", \"1950\")).mean(\"time\")\n",
    "\n",
    "\n",
    "def forced_mean(ds):\n",
    "    return ds.sel(time=slice(\"2050\", \"2100\")).mean(\"time\")\n",
    "\n",
    "\n",
    "def plot_prep(ds_plot):\n",
    "    # mask pacific\n",
    "    ds_masked = mask_pac_tropics(ds_plot).sel(o2_bin=80)\n",
    "    omz_vol = ds_masked.omz_thickness * ds_masked.areacello\n",
    "    return omz_vol.sum(['x','y'])"
   ]
  },
  {
   "cell_type": "code",
   "execution_count": 56,
   "metadata": {},
   "outputs": [],
   "source": [
    "def full_sigma_treatment(ds_in):\n",
    "    \"\"\"DO NOT USE THIS AS A GENERAL WRAPPER!! THE SIGMA STUFF IS DIFFERENT\"\"\"\n",
    "    ds_in = ds_in.set_coords('dz_t')\n",
    "    ds_in = preprocessing_wrapper(ds_in)\n",
    "    #perform nan-masking functions\n",
    "    ds_in = align_missing(ds_in)\n",
    "\n",
    "    ds_in = remove_bottom_values(ds_in)\n",
    "    \n",
    "    ds_in[\"omz_thickness\"] = omz_thickness(\n",
    "        ds_in, o2_bins=o2_bins\n",
    "    )\n",
    "    \n",
    "    ds_sigma = transform_wrapper(ds_in, sigma_bins=fine_sigma_bins)\n",
    "    return ds_sigma"
   ]
  },
  {
   "cell_type": "code",
   "execution_count": null,
   "metadata": {},
   "outputs": [
    {
     "name": "stdout",
     "output_type": "stream",
     "text": [
      "---------------------------\n",
      "CanESM5.gn.Omon.r4i1p2f1\n",
      "DIDNT FIND A MATCH FOR THIS ONE\n",
      "---------------------------\n",
      "CNRM-ESM2-1.gn.Omon.r5i1p1f2\n",
      "DIDNT FIND A MATCH FOR THIS ONE\n",
      "---------------------------\n",
      "CanESM5.gn.Omon.r1i1p2f1\n",
      "DIDNT FIND A MATCH FOR THIS ONE\n",
      "---------------------------\n",
      "CanESM5.gn.Omon.r10i1p2f1\n",
      "DIDNT FIND A MATCH FOR THIS ONE\n",
      "---------------------------\n",
      "CanESM5.gn.Omon.r10i1p1f1\n",
      "DIDNT FIND A MATCH FOR THIS ONE\n",
      "---------------------------\n",
      "CanESM5-CanOE.gn.Omon.r1i1p2f1\n",
      "DIDNT FIND A MATCH FOR THIS ONE\n",
      "---------------------------\n",
      "CanESM5.gn.Omon.r9i1p1f1\n",
      "DIDNT FIND A MATCH FOR THIS ONE\n",
      "---------------------------\n",
      "CanESM5-CanOE.gn.Omon.r2i1p2f1\n",
      "DIDNT FIND A MATCH FOR THIS ONE\n",
      "---------------------------\n",
      "CanESM5.gn.Omon.r2i1p2f1\n",
      "DIDNT FIND A MATCH FOR THIS ONE\n",
      "---------------------------\n",
      "CNRM-ESM2-1.gn.Omon.r10i1p1f2\n",
      "DIDNT FIND A MATCH FOR THIS ONE\n",
      "---------------------------\n",
      "CNRM-ESM2-1.gn.Omon.r4i1p1f2\n",
      "CNRM-ESM2-1\n",
      "CNRM-ESM2-1\n",
      "gn\n",
      "gn\n",
      "Omon\n",
      "Omon\n",
      "r4i1p1f2\n",
      "r4i1p1f2\n"
     ]
    },
    {
     "name": "stderr",
     "output_type": "stream",
     "text": [
      "/scratch/gpfs2/jbusecke/conda_tigressdata/envs/busecke_etal_2021_aguadv_new/lib/python3.9/site-packages/dask/array/core.py:383: FutureWarning: elementwise comparison failed; returning scalar instead, but in the future will perform elementwise comparison\n",
      "  o = func(*args, **kwargs)\n",
      "/scratch/gpfs2/jbusecke/conda_tigressdata/envs/busecke_etal_2021_aguadv_new/lib/python3.9/site-packages/dask/array/numpy_compat.py:41: RuntimeWarning: invalid value encountered in true_divide\n",
      "  x = np.divide(x1, x2, out)\n",
      "/scratch/gpfs2/jbusecke/conda_tigressdata/envs/busecke_etal_2021_aguadv_new/lib/python3.9/site-packages/dask/array/numpy_compat.py:41: RuntimeWarning: invalid value encountered in true_divide\n",
      "  x = np.divide(x1, x2, out)\n"
     ]
    }
   ],
   "source": [
    "for name, ds_idealized in ddict_combined_idealized.items():\n",
    "    print(\"---------------------------\")\n",
    "    print(name)\n",
    "\n",
    "    # find the appropriate matching dataset\n",
    "    ds_sigma_full_list = [\n",
    "        model\n",
    "        for k, model in ddict_combined.items()\n",
    "        if all(\n",
    "            [\n",
    "                ds_idealized.attrs[ma] == model.attrs[ma]\n",
    "                for ma in [\"source_id\", \"variant_label\"]\n",
    "            ]\n",
    "        )\n",
    "    ]\n",
    "\n",
    "    if not \"IPSL\" not in name:\n",
    "        continue\n",
    "    else:\n",
    "\n",
    "        if len(ds_sigma_full_list) == 0:\n",
    "            print(\"DIDNT FIND A MATCH FOR THIS ONE\")\n",
    "            continue\n",
    "        else:\n",
    "            if len(ds_sigma_full_list) > 1:\n",
    "                print(\"HUHHHHH?\")\n",
    "            ds_reference = ds_sigma_full_list[0]\n",
    "\n",
    "            for ma in [\"source_id\", \"grid_label\", \"table_id\", \"variant_label\"]:\n",
    "                print(ds_idealized.attrs[ma])\n",
    "                print(ds_reference.attrs[ma])\n",
    "                assert ds_idealized.attrs[ma] == ds_reference.attrs[ma]\n",
    "\n",
    "            ds_test_hist, ds_test_forced = idealized_output(ds_idealized)\n",
    "            \n",
    "            assert \"omz_thickness\" not in ds_test_hist.data_vars\n",
    "            assert \"omz_thickness\" not in ds_test_forced.data_vars\n",
    "\n",
    "            print(ds_test_hist)\n",
    "            ds_test_hist_sigma = full_sigma_treatment(ds_test_hist)\n",
    "            ds_test_forced_sigma = full_sigma_treatment(ds_test_forced)\n",
    "\n",
    "            print(\"load already converted means\")\n",
    "            with ProgressBar():\n",
    "                ds_hist = historic_mean(ds_reference).load()\n",
    "                ds_forced = forced_mean(ds_reference).load()\n",
    "\n",
    "            domz_simulated = plot_prep(ds_test_forced_sigma) - plot_prep(ds_test_hist_sigma)\n",
    "            domz_actual = plot_prep(ds_forced) - plot_prep(ds_hist)\n",
    "            \n",
    "            plt.figure()\n",
    "            domz_simulated.plot(\n",
    "                y=\"sigma_0\", label=\"$\\Delta OMZ$ due to isopycnal change\"\n",
    "            )\n",
    "            domz_actual.plot(y=\"sigma_0\", label=\"$\\Delta OMZ$ actual\")\n",
    "            (domz_actual - domz_simulated).plot(y=\"sigma_0\", label=\"difference\")\n",
    "\n",
    "            plt.axvline(0, color=\"0.2\", ls='--')\n",
    "            plt.ylim(28, 24)\n",
    "            plt.legend()\n",
    "\n",
    "            plt.title(name)\n",
    "            plt.show()\n",
    "\n",
    "#             except Exception as e:\n",
    "#                 print(f\"{name} failed due to {e}\")"
   ]
  },
  {
   "cell_type": "code",
   "execution_count": 59,
   "metadata": {},
   "outputs": [
    {
     "data": {
      "image/png": "[encoded data removed]",
      "text/plain": [
       "<Figure size 432x288 with 1 Axes>"
      ]
     },
     "metadata": {
      "needs_background": "light"
     },
     "output_type": "display_data"
    }
   ],
   "source": [
    "domz_simulated = plot_prep(ds_test_forced_sigma) - plot_prep(ds_test_hist_sigma)\n",
    "domz_actual = plot_prep(ds_forced) - plot_prep(ds_hist)\n",
    "\n",
    "plt.figure()\n",
    "domz_simulated.plot(\n",
    "    y=\"sigma_0\", label=\"$\\Delta OMZ$ due to isopycnal change\"\n",
    ")\n",
    "domz_actual.plot(y=\"sigma_0\", label=\"$\\Delta OMZ$ actual\")\n",
    "(domz_actual - domz_simulated).plot(y=\"sigma_0\", label=\"difference\")\n",
    "\n",
    "plt.axvline(0, color=\"0.2\", ls='--')\n",
    "plt.ylim(28, 24)\n",
    "plt.legend()\n",
    "\n",
    "plt.title(name)\n",
    "plt.show()\n"
   ]
  },
  {
   "cell_type": "code",
   "execution_count": null,
   "metadata": {},
   "outputs": [],
   "source": [
    "ds"
   ]
  }
 ],
 "metadata": {
  "kernelspec": {
   "display_name": "Python [conda env:conda_tigressdata-busecke_etal_2021_aguadv_new]",
   "language": "python",
   "name": "conda-env-conda_tigressdata-busecke_etal_2021_aguadv_new-py"
  },
  "language_info": {
   "codemirror_mode": {
    "name": "ipython",
    "version": 3
   },
   "file_extension": ".py",
   "mimetype": "text/x-python",
   "name": "python",
   "nbconvert_exporter": "python",
   "pygments_lexer": "ipython3",
   "version": "3.9.6"
  }
 },
 "nbformat": 4,
 "nbformat_minor": 4
}
