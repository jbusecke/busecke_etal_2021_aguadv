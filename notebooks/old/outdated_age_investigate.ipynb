{
 "cells": [
  {
   "cell_type": "markdown",
   "metadata": {},
   "source": [
    "# Is the age actually decreasing? (This is outdated)"
   ]
  },
  {
   "cell_type": "code",
   "execution_count": 1,
   "metadata": {},
   "outputs": [],
   "source": [
    "import intake\n",
    "import xarray as xr\n",
    "import numpy as np\n",
    "from cmip6_preprocessing.utils import cmip6_dataset_id\n",
    "from cmip6_preprocessing.preprocessing import combined_preprocessing\n",
    "from cmip6_preprocessing.postprocessing import (\n",
    "    match_metrics,\n",
    "    interpolate_grid_label,\n",
    "    merge_variables,\n",
    "    concat_experiments,\n",
    ")\n",
    "from cmip6_preprocessing.drift_removal import match_and_remove_trend\n",
    "from fastprogress.fastprogress import progress_bar\n",
    "\n",
    "from cmip6_omz.utils import cmip6_collection, o2_models\n",
    "from cmip6_omz.upstream_stash import (\n",
    "    pick_first_member,\n",
    "    construct_static_dz\n",
    ")\n",
    "from cmip6_omz.units import convert_mol_m3_mymol_kg\n",
    "\n",
    "from xarrayutils.file_handling import maybe_create_folder\n",
    "\n",
    "### needs cleaning\n",
    "from cmip6_omz.omz_tools import omz_thickness_efficient"
   ]
  },
  {
   "cell_type": "code",
   "execution_count": 2,
   "metadata": {},
   "outputs": [
    {
     "data": {
      "text/html": [
       "<div>\n",
       "    <div style=\"width: 24px; height: 24px; background-color: #e1e1e1; border: 3px solid #9D9D9D; border-radius: 5px; position: absolute;\"> </div>\n",
       "    <div style=\"margin-left: 48px;\">\n",
       "        <h3 style=\"margin-bottom: 0px;\">Client</h3>\n",
       "        <p style=\"color: #9D9D9D; margin-bottom: 0px;\">Client-88e4eb47-15a1-11ec-bbda-246e96ad1c18</p>\n",
       "        <table style=\"width: 100%; text-align: left;\">\n",
       "\n",
       "        <tr>\n",
       "        \n",
       "            <td style=\"text-align: left;\"><strong>Connection method:</strong> Cluster object</td>\n",
       "            <td style=\"text-align: left;\"><strong>Cluster type:</strong> distributed.LocalCluster</td>\n",
       "        \n",
       "        </tr>\n",
       "\n",
       "        \n",
       "            <tr>\n",
       "                <td style=\"text-align: left;\">\n",
       "                    <strong>Dashboard: </strong> <a href=\"http://127.0.0.1:9999/status\" target=\"_blank\">http://127.0.0.1:9999/status</a>\n",
       "                </td>\n",
       "                <td style=\"text-align: left;\"></td>\n",
       "            </tr>\n",
       "        \n",
       "\n",
       "        </table>\n",
       "\n",
       "        \n",
       "            <details>\n",
       "            <summary style=\"margin-bottom: 20px;\"><h3 style=\"display: inline;\">Cluster Info</h3></summary>\n",
       "            <div class=\"jp-RenderedHTMLCommon jp-RenderedHTML jp-mod-trusted jp-OutputArea-output\">\n",
       "    <div style=\"width: 24px; height: 24px; background-color: #e1e1e1; border: 3px solid #9D9D9D; border-radius: 5px; position: absolute;\">\n",
       "    </div>\n",
       "    <div style=\"margin-left: 48px;\">\n",
       "        <h3 style=\"margin-bottom: 0px; margin-top: 0px;\">LocalCluster</h3>\n",
       "        <p style=\"color: #9D9D9D; margin-bottom: 0px;\">fd5baa75</p>\n",
       "        <table style=\"width: 100%; text-align: left;\">\n",
       "            <tr>\n",
       "                <td style=\"text-align: left;\">\n",
       "                    <strong>Dashboard:</strong> <a href=\"http://127.0.0.1:9999/status\" target=\"_blank\">http://127.0.0.1:9999/status</a>\n",
       "                </td>\n",
       "                <td style=\"text-align: left;\">\n",
       "                    <strong>Workers:</strong> 2\n",
       "                </td>\n",
       "            </tr>\n",
       "            <tr>\n",
       "                <td style=\"text-align: left;\">\n",
       "                    <strong>Total threads:</strong> 8\n",
       "                </td>\n",
       "                <td style=\"text-align: left;\">\n",
       "                    <strong>Total memory:</strong> 128.00 GiB\n",
       "                </td>\n",
       "            </tr>\n",
       "            \n",
       "            <tr>\n",
       "    <td style=\"text-align: left;\"><strong>Status:</strong> running</td>\n",
       "    <td style=\"text-align: left;\"><strong>Using processes:</strong> True</td>\n",
       "</tr>\n",
       "\n",
       "            \n",
       "        </table>\n",
       "\n",
       "        <details>\n",
       "            <summary style=\"margin-bottom: 20px;\">\n",
       "                <h3 style=\"display: inline;\">Scheduler Info</h3>\n",
       "            </summary>\n",
       "\n",
       "            <div style=\"\">\n",
       "    <div>\n",
       "        <div style=\"width: 24px; height: 24px; background-color: #FFF7E5; border: 3px solid #FF6132; border-radius: 5px; position: absolute;\"> </div>\n",
       "        <div style=\"margin-left: 48px;\">\n",
       "            <h3 style=\"margin-bottom: 0px;\">Scheduler</h3>\n",
       "            <p style=\"color: #9D9D9D; margin-bottom: 0px;\">Scheduler-93561fe1-16fe-47c2-bf15-a64bac4918ca</p>\n",
       "            <table style=\"width: 100%; text-align: left;\">\n",
       "                <tr>\n",
       "                    <td style=\"text-align: left;\">\n",
       "                        <strong>Comm:</strong> tcp://127.0.0.1:45609\n",
       "                    </td>\n",
       "                    <td style=\"text-align: left;\">\n",
       "                        <strong>Workers:</strong> 2\n",
       "                    </td>\n",
       "                </tr>\n",
       "                <tr>\n",
       "                    <td style=\"text-align: left;\">\n",
       "                        <strong>Dashboard:</strong> <a href=\"http://127.0.0.1:9999/status\" target=\"_blank\">http://127.0.0.1:9999/status</a>\n",
       "                    </td>\n",
       "                    <td style=\"text-align: left;\">\n",
       "                        <strong>Total threads:</strong> 8\n",
       "                    </td>\n",
       "                </tr>\n",
       "                <tr>\n",
       "                    <td style=\"text-align: left;\">\n",
       "                        <strong>Started:</strong> Just now\n",
       "                    </td>\n",
       "                    <td style=\"text-align: left;\">\n",
       "                        <strong>Total memory:</strong> 128.00 GiB\n",
       "                    </td>\n",
       "                </tr>\n",
       "            </table>\n",
       "        </div>\n",
       "    </div>\n",
       "\n",
       "    <details style=\"margin-left: 48px;\">\n",
       "        <summary style=\"margin-bottom: 20px;\">\n",
       "            <h3 style=\"display: inline;\">Workers</h3>\n",
       "        </summary>\n",
       "\n",
       "        \n",
       "        <div style=\"margin-bottom: 20px;\">\n",
       "            <div style=\"width: 24px; height: 24px; background-color: #DBF5FF; border: 3px solid #4CC9FF; border-radius: 5px; position: absolute;\"> </div>\n",
       "            <div style=\"margin-left: 48px;\">\n",
       "            <details>\n",
       "                <summary>\n",
       "                    <h4 style=\"margin-bottom: 0px; display: inline;\">Worker: 0</h4>\n",
       "                </summary>\n",
       "                <table style=\"width: 100%; text-align: left;\">\n",
       "                    <tr>\n",
       "                        <td style=\"text-align: left;\">\n",
       "                            <strong>Comm: </strong> tcp://127.0.0.1:38153\n",
       "                        </td>\n",
       "                        <td style=\"text-align: left;\">\n",
       "                            <strong>Total threads: </strong> 4\n",
       "                        </td>\n",
       "                    </tr>\n",
       "                    <tr>\n",
       "                        <td style=\"text-align: left;\">\n",
       "                            <strong>Dashboard: </strong> <a href=\"http://127.0.0.1:45343/status\" target=\"_blank\">http://127.0.0.1:45343/status</a>\n",
       "                        </td>\n",
       "                        <td style=\"text-align: left;\">\n",
       "                            <strong>Memory: </strong> 64.00 GiB\n",
       "                        </td>\n",
       "                    </tr>\n",
       "                    <tr>\n",
       "                        <td style=\"text-align: left;\">\n",
       "                            <strong>Nanny: </strong> tcp://127.0.0.1:34262\n",
       "                        </td>\n",
       "                        <td style=\"text-align: left;\"></td>\n",
       "                    </tr>\n",
       "                    <tr>\n",
       "                        <td colspan=\"2\" style=\"text-align: left;\">\n",
       "                            <strong>Local directory: </strong> /projects/GEOCLIM/LRGROUP/jbusecke/projects/busecke_etal_2021_aguadv/notebooks/dask-worker-space/worker-qxg9hx_p\n",
       "                        </td>\n",
       "                    </tr>\n",
       "\n",
       "                    \n",
       "\n",
       "                    \n",
       "\n",
       "                </table>\n",
       "            </details>\n",
       "            </div>\n",
       "        </div>\n",
       "        \n",
       "        <div style=\"margin-bottom: 20px;\">\n",
       "            <div style=\"width: 24px; height: 24px; background-color: #DBF5FF; border: 3px solid #4CC9FF; border-radius: 5px; position: absolute;\"> </div>\n",
       "            <div style=\"margin-left: 48px;\">\n",
       "            <details>\n",
       "                <summary>\n",
       "                    <h4 style=\"margin-bottom: 0px; display: inline;\">Worker: 1</h4>\n",
       "                </summary>\n",
       "                <table style=\"width: 100%; text-align: left;\">\n",
       "                    <tr>\n",
       "                        <td style=\"text-align: left;\">\n",
       "                            <strong>Comm: </strong> tcp://127.0.0.1:42750\n",
       "                        </td>\n",
       "                        <td style=\"text-align: left;\">\n",
       "                            <strong>Total threads: </strong> 4\n",
       "                        </td>\n",
       "                    </tr>\n",
       "                    <tr>\n",
       "                        <td style=\"text-align: left;\">\n",
       "                            <strong>Dashboard: </strong> <a href=\"http://127.0.0.1:41020/status\" target=\"_blank\">http://127.0.0.1:41020/status</a>\n",
       "                        </td>\n",
       "                        <td style=\"text-align: left;\">\n",
       "                            <strong>Memory: </strong> 64.00 GiB\n",
       "                        </td>\n",
       "                    </tr>\n",
       "                    <tr>\n",
       "                        <td style=\"text-align: left;\">\n",
       "                            <strong>Nanny: </strong> tcp://127.0.0.1:42176\n",
       "                        </td>\n",
       "                        <td style=\"text-align: left;\"></td>\n",
       "                    </tr>\n",
       "                    <tr>\n",
       "                        <td colspan=\"2\" style=\"text-align: left;\">\n",
       "                            <strong>Local directory: </strong> /projects/GEOCLIM/LRGROUP/jbusecke/projects/busecke_etal_2021_aguadv/notebooks/dask-worker-space/worker-ra6m7s9f\n",
       "                        </td>\n",
       "                    </tr>\n",
       "\n",
       "                    \n",
       "\n",
       "                    \n",
       "\n",
       "                </table>\n",
       "            </details>\n",
       "            </div>\n",
       "        </div>\n",
       "        \n",
       "\n",
       "    </details>\n",
       "</div>\n",
       "\n",
       "        </details>\n",
       "    </div>\n",
       "</div>\n",
       "            </details>\n",
       "        \n",
       "\n",
       "    </div>\n",
       "</div>"
      ],
      "text/plain": [
       "<Client: 'tcp://127.0.0.1:45609' processes=2 threads=8, memory=128.00 GiB>"
      ]
     },
     "execution_count": 2,
     "metadata": {},
     "output_type": "execute_result"
    }
   ],
   "source": [
    "# set up dask\n",
    "from dask.distributed import LocalCluster, Client\n",
    "mem_total = 128\n",
    "workers = 2\n",
    "threads = 4 # 4*6 seemed to work quite well, but I would like this to perform a bit better\n",
    "cluster = LocalCluster(\n",
    "    memory_limit=f\"{int(mem_total/workers)}GiB\",\n",
    "    dashboard_address=9999,\n",
    "    threads_per_worker=threads,\n",
    "    n_workers = workers,\n",
    "                      )\n",
    "client = Client(cluster)\n",
    "client"
   ]
  },
  {
   "cell_type": "code",
   "execution_count": 29,
   "metadata": {},
   "outputs": [],
   "source": [
    "cluster.scale(8)"
   ]
  },
  {
   "cell_type": "code",
   "execution_count": 5,
   "metadata": {},
   "outputs": [
    {
     "name": "stdout",
     "output_type": "stream",
     "text": [
      "Dataframe size before picking latest version: 2363\n",
      "Getting latest version...\n",
      "\n",
      "Dataframe size after picking latest version: 2258\n",
      "\n",
      "Done....\n",
      "\n",
      "\n",
      "--> The keys in the returned dictionary of datasets are constructed as follows:\n",
      "\t'activity_id.institution_id.source_id.experiment_id.member_id.table_id.variable_id.grid_label.dcpp_init_year.version.time_range.path'\n"
     ]
    },
    {
     "data": {
      "text/html": [
       "\n",
       "    <div>\n",
       "        <style>\n",
       "            /* Turns off some styling */\n",
       "            progress {\n",
       "                /* gets rid of default border in Firefox and Opera. */\n",
       "                border: none;\n",
       "                /* Needs to be in here for Safari polyfill so background images work as expected. */\n",
       "                background-size: auto;\n",
       "            }\n",
       "            .progress-bar-interrupted, .progress-bar-interrupted::-webkit-progress-bar {\n",
       "                background: #F44336;\n",
       "            }\n",
       "        </style>\n",
       "      <progress value='78' class='' max='78' style='width:300px; height:20px; vertical-align: middle;'></progress>\n",
       "      100.00% [78/78 00:03<00:00]\n",
       "    </div>\n",
       "    "
      ],
      "text/plain": [
       "<IPython.core.display.HTML object>"
      ]
     },
     "metadata": {},
     "output_type": "display_data"
    },
    {
     "name": "stderr",
     "output_type": "stream",
     "text": [
      "/scratch/gpfs2/jbusecke/conda_tigressdata/envs/cmip6_omz/lib/python3.9/site-packages/intake_esm/search.py:106: UserWarning: Query returned zero results.\n",
      "  warn(message)\n",
      "/scratch/gpfs2/jbusecke/conda_tigressdata/envs/cmip6_omz/lib/python3.9/site-packages/intake_esm/core.py:882: UserWarning: There are no datasets to load! Returning an empty dictionary.\n",
      "  warn('There are no datasets to load! Returning an empty dictionary.')\n"
     ]
    }
   ],
   "source": [
    "# if this does not work on jupyter.rc, we can add some logic to\n",
    "col = cmip6_collection(zarr=False)# TODO: Check with nc files\n",
    "\n",
    "z_kwargs = {\"decode_times\": True, \"use_cftime\": True, \"consolidated\": True}\n",
    "n_kwargs = {\"decode_times\": True, \"use_cftime\": True, \"chunks\": {\"time\": 1}}\n",
    "\n",
    "variable_ids = [\"agessc\"]  # \"mlotst\"\n",
    "metric_variable_ids = []  # \"mlotst\"\n",
    "\n",
    "# models = o2_models()\n",
    "models = [\n",
    "     'CanESM5-CanOE',\n",
    "#      'CanESM5',\n",
    "#      'CNRM-ESM2-1',\n",
    "#      'ACCESS-ESM1-5',\n",
    "#      'MPI-ESM-1-2-HAM',\n",
    "#      'IPSL-CM6A-LR',\n",
    "#      'MIROC-ES2L',\n",
    "#      'UKESM1-0-LL',\n",
    "#      'MPI-ESM1-2-HR',\n",
    "#      'MPI-ESM1-2-LR',\n",
    "#      'MRI-ESM2-0',\n",
    "#      'NorCPM1',\n",
    "#      'NorESM1-F',\n",
    "#      'NorESM2-LM',\n",
    "#      'NorESM2-MM',\n",
    "#      'GFDL-CM4',\n",
    "     'GFDL-ESM4'\n",
    "]\n",
    "# models = [m for m in o2_models() if 'GFDL' not in m]\n",
    "# models = ['ACCESS-ESM1-5']\n",
    "\n",
    "cat = col.search(\n",
    "    source_id=models,\n",
    "    grid_label=[\"gr\", \"gn\"],\n",
    "    experiment_id=[\"historical\", \"ssp585\"],\n",
    "    table_id=[\"Omon\"],\n",
    "    variable_id=variable_ids,\n",
    ")\n",
    "ds_dict = cat.to_dataset_dict(\n",
    "    aggregate=False,\n",
    "    zarr_kwargs=z_kwargs,\n",
    "    cdf_kwargs=n_kwargs,\n",
    "    preprocess=combined_preprocessing,\n",
    ")\n",
    "\n",
    "# make a separate metric dict to catch all possible metrics!\n",
    "cat_metrics = col.search(source_id=models, variable_id=metric_variable_ids)\n",
    "ds_metric_dict = cat_metrics.to_dataset_dict(\n",
    "    aggregate=False,\n",
    "    zarr_kwargs=z_kwargs,\n",
    "    cdf_kwargs=n_kwargs,\n",
    "    preprocess=combined_preprocessing,\n",
    ")"
   ]
  },
  {
   "cell_type": "code",
   "execution_count": 6,
   "metadata": {},
   "outputs": [
    {
     "data": {
      "text/html": [
       "\n",
       "    <div>\n",
       "        <style>\n",
       "            /* Turns off some styling */\n",
       "            progress {\n",
       "                /* gets rid of default border in Firefox and Opera. */\n",
       "                border: none;\n",
       "                /* Needs to be in here for Safari polyfill so background images work as expected. */\n",
       "                background-size: auto;\n",
       "            }\n",
       "            .progress-bar-interrupted, .progress-bar-interrupted::-webkit-progress-bar {\n",
       "                background: #F44336;\n",
       "            }\n",
       "        </style>\n",
       "      <progress value='110' class='' max='110' style='width:300px; height:20px; vertical-align: middle;'></progress>\n",
       "      100.00% [110/110 00:06<00:00]\n",
       "    </div>\n",
       "    "
      ],
      "text/plain": [
       "<IPython.core.display.HTML object>"
      ]
     },
     "metadata": {},
     "output_type": "display_data"
    }
   ],
   "source": [
    "import pathlib\n",
    "# new files (change in later and get rid of `load_trend_dict` (or refactor?) and `fix_trend_metadata`)\n",
    "# Load all trend files\n",
    "flist = list(pathlib.Path('../../cmip6_omz/data/external/cmip6_control_drifts/').absolute().glob('*.nc'))\n",
    "flist = [f for f in flist if any([v in str(f) for v in variable_ids])]\n",
    "trend_dict = {}\n",
    "for f in progress_bar(flist):\n",
    "    trend_dict[f.stem] = xr.open_mfdataset([f])"
   ]
  },
  {
   "cell_type": "code",
   "execution_count": 7,
   "metadata": {},
   "outputs": [],
   "source": [
    "# these ones are messed up...need a better way to deal with that in the previous step\n",
    "# see https://github.com/jbusecke/cmip6_preprocessing/issues/175\n",
    "incomplete_keys = ['CMIP.IPSL.IPSL-CM6A-LR.historical.r3i1p1f1.Omon.gn.none.area_o2']\n",
    "trend_dict = {k:ds for k,ds in trend_dict.items() if k not in incomplete_keys}\n",
    "\n",
    "ddict_tracers_detrended = match_and_remove_trend(\n",
    "    ds_dict,\n",
    "    trend_dict,\n",
    ")"
   ]
  },
  {
   "cell_type": "code",
   "execution_count": 24,
   "metadata": {},
   "outputs": [],
   "source": [
    "ddict_work = concat_experiments(ddict_tracers_detrended)"
   ]
  },
  {
   "cell_type": "markdown",
   "metadata": {},
   "source": [
    "## Prototype: Fixed mask"
   ]
  },
  {
   "cell_type": "code",
   "execution_count": 12,
   "metadata": {},
   "outputs": [],
   "source": [
    "import matplotlib.pyplot as plt\n",
    "from xarrayutils.utils import linear_trend"
   ]
  },
  {
   "cell_type": "code",
   "execution_count": 16,
   "metadata": {},
   "outputs": [],
   "source": [
    "from cmip6_omz.upstream_stash import construct_static_dz"
   ]
  },
  {
   "cell_type": "code",
   "execution_count": 40,
   "metadata": {},
   "outputs": [
    {
     "name": "stderr",
     "output_type": "stream",
     "text": [
      "/scratch/gpfs2/jbusecke/conda_tigressdata/envs/cmip6_omz/lib/python3.9/site-packages/dask/array/numpy_compat.py:39: RuntimeWarning: invalid value encountered in true_divide\n",
      "  x = np.divide(x1, x2, out)\n",
      "/scratch/gpfs2/jbusecke/conda_tigressdata/envs/cmip6_omz/lib/python3.9/site-packages/dask/core.py:121: RuntimeWarning: invalid value encountered in true_divide\n",
      "  return func(*(_execute_task(a, cache) for a in args))\n"
     ]
    }
   ],
   "source": [
    "ds = ddict_work['CanESM5-CanOE.gn.Omon.r1i1p2f1.agessc']\n",
    "ds = construct_static_dz(ds)"
   ]
  },
  {
   "cell_type": "code",
   "execution_count": 48,
   "metadata": {},
   "outputs": [],
   "source": [
    "ds = ds.sel(time=slice('2000', '2100'))\n",
    "# da = ds.agessc.interp(lev=400)\n",
    "da = ds.agessc.interp(x=140)\n",
    "\n",
    "# da = ds.agessc.sel(lev=slice(300, 500))\n",
    "# da = da.weighted(da.thkcello.fillna(0)).mean(['lev'])\n",
    "\n",
    "da = linear_trend(da, 'time').slope * 100\n",
    "p = da.load()"
   ]
  },
  {
   "cell_type": "code",
   "execution_count": 49,
   "metadata": {},
   "outputs": [
    {
     "data": {
      "text/plain": [
       "<matplotlib.collections.QuadMesh at 0x2afc196233d0>"
      ]
     },
     "execution_count": 49,
     "metadata": {},
     "output_type": "execute_result"
    },
    {
     "data": {
      "image/png": "[encoded data removed]",
      "text/plain": [
       "<Figure size 432x288 with 2 Axes>"
      ]
     },
     "metadata": {
      "needs_background": "light"
     },
     "output_type": "display_data"
    }
   ],
   "source": [
    "p.plot(vmax=20, yincrease=False)"
   ]
  },
  {
   "cell_type": "markdown",
   "metadata": {},
   "source": [
    "## Intersect: Check Raw age change in the Pacific"
   ]
  },
  {
   "cell_type": "code",
   "execution_count": 6,
   "metadata": {},
   "outputs": [],
   "source": [
    "ds_test = ds_dict[\n",
    "    \"ScenarioMIP.CCCma.CanESM5.ssp585.r1i1p2f1.Omon.agessc.gn.v20190429./tigress/GEOCLIM/LRGROUP/jbusecke/projects/cmip_data_management_princeton/builder/../zarr_conversion/CMIP6/ScenarioMIP/CCCma/CanESM5/ssp585/r1i1p2f1/Omon/agessc/gn/v20190429/ScenarioMIP.CCCma.CanESM5.ssp585.r1i1p2f1.Omon.agessc.gn.v20190429.zarr\"\n",
    "]\n",
    "ds_test_detrended = ddict_tracers_detrended[\n",
    "    \"ScenarioMIP.CCCma.CanESM5.ssp585.r1i1p2f1.Omon.agessc.gn.v20190429./tigress/GEOCLIM/LRGROUP/jbusecke/projects/cmip_data_management_princeton/builder/../zarr_conversion/CMIP6/ScenarioMIP/CCCma/CanESM5/ssp585/r1i1p2f1/Omon/agessc/gn/v20190429/ScenarioMIP.CCCma.CanESM5.ssp585.r1i1p2f1.Omon.agessc.gn.v20190429.zarr\"\n",
    "]"
   ]
  },
  {
   "cell_type": "code",
   "execution_count": 10,
   "metadata": {},
   "outputs": [
    {
     "data": {
      "text/plain": [
       "<matplotlib.collections.QuadMesh at 0x2b8687ed8880>"
      ]
     },
     "execution_count": 10,
     "metadata": {},
     "output_type": "execute_result"
    },
    {
     "data": {
      "image/png": "[encoded data removed]",
      "text/plain": [
       "<Figure size 432x288 with 8 Axes>"
      ]
     },
     "metadata": {
      "needs_background": "light"
     },
     "output_type": "display_data"
    }
   ],
   "source": [
    "# ## map plots\n",
    "# roi = dict(lev=15, y=slice(75, 225), x=slice(50,210))\n",
    "# kwargs=dict(robust=True)\n",
    "\n",
    "## section plots\n",
    "# roi = dict(lev=slice(0, 35), y=150, x=slice(75,210))\n",
    "# find the EUC\n",
    "# roi = dict(lev=slice(14, 18), y=150, x=slice(75,210))\n",
    "roi = dict(lev=slice(0, 40), y=slice(50, 250), x=125)\n",
    "kwargs=dict(robust=True, yincrease=False)\n",
    "\n",
    "\n",
    "\n",
    "plt.subplot(2,2,1)\n",
    "ds_test.agessc.isel(time=0, **roi).plot(**kwargs)\n",
    "plt.subplot(2,2,2)\n",
    "ds_test_detrended.agessc.isel(time=0, **roi).plot(**kwargs)\n",
    "plt.subplot(2,2,3)\n",
    "(linear_trend(ds_test.agessc.isel(**roi).load(), 'time').slope * 100).plot(**kwargs)\n",
    "plt.subplot(2,2,4)\n",
    "(linear_trend(ds_test_detrended.agessc.isel(**roi).load(), 'time').slope * 100).plot(**kwargs)"
   ]
  },
  {
   "cell_type": "code",
   "execution_count": 31,
   "metadata": {},
   "outputs": [
    {
     "ename": "AttributeError",
     "evalue": "'Dataset' object has no attribute 'o2'",
     "output_type": "error",
     "traceback": [
      "\u001b[0;31m---------------------------------------------------------------------------\u001b[0m",
      "\u001b[0;31mAttributeError\u001b[0m                            Traceback (most recent call last)",
      "\u001b[0;32m/tmp/ipykernel_24219/3336860579.py\u001b[0m in \u001b[0;36m<module>\u001b[0;34m\u001b[0m\n\u001b[0;32m----> 1\u001b[0;31m \u001b[0mlinear_trend\u001b[0m\u001b[0;34m(\u001b[0m\u001b[0mds_test\u001b[0m\u001b[0;34m.\u001b[0m\u001b[0mo2\u001b[0m\u001b[0;34m)\u001b[0m\u001b[0;34m\u001b[0m\u001b[0;34m\u001b[0m\u001b[0m\n\u001b[0m",
      "\u001b[0;32m/scratch/gpfs2/jbusecke/conda_tigressdata/envs/cmip6_omz/lib/python3.9/site-packages/xarray/core/common.py\u001b[0m in \u001b[0;36m__getattr__\u001b[0;34m(self, name)\u001b[0m\n\u001b[1;32m    237\u001b[0m                 \u001b[0;32mwith\u001b[0m \u001b[0msuppress\u001b[0m\u001b[0;34m(\u001b[0m\u001b[0mKeyError\u001b[0m\u001b[0;34m)\u001b[0m\u001b[0;34m:\u001b[0m\u001b[0;34m\u001b[0m\u001b[0;34m\u001b[0m\u001b[0m\n\u001b[1;32m    238\u001b[0m                     \u001b[0;32mreturn\u001b[0m \u001b[0msource\u001b[0m\u001b[0;34m[\u001b[0m\u001b[0mname\u001b[0m\u001b[0;34m]\u001b[0m\u001b[0;34m\u001b[0m\u001b[0;34m\u001b[0m\u001b[0m\n\u001b[0;32m--> 239\u001b[0;31m         raise AttributeError(\n\u001b[0m\u001b[1;32m    240\u001b[0m             \u001b[0;34m\"{!r} object has no attribute {!r}\"\u001b[0m\u001b[0;34m.\u001b[0m\u001b[0mformat\u001b[0m\u001b[0;34m(\u001b[0m\u001b[0mtype\u001b[0m\u001b[0;34m(\u001b[0m\u001b[0mself\u001b[0m\u001b[0;34m)\u001b[0m\u001b[0;34m.\u001b[0m\u001b[0m__name__\u001b[0m\u001b[0;34m,\u001b[0m \u001b[0mname\u001b[0m\u001b[0;34m)\u001b[0m\u001b[0;34m\u001b[0m\u001b[0;34m\u001b[0m\u001b[0m\n\u001b[1;32m    241\u001b[0m         )\n",
      "\u001b[0;31mAttributeError\u001b[0m: 'Dataset' object has no attribute 'o2'"
     ]
    }
   ],
   "source": [
    "linear_trend(ds_test.o2)"
   ]
  },
  {
   "cell_type": "markdown",
   "metadata": {
    "tags": []
   },
   "source": [
    "## Concatenate experiments and pick the first full one"
   ]
  },
  {
   "cell_type": "code",
   "execution_count": null,
   "metadata": {},
   "outputs": [],
   "source": [
    "# somehow xarray cannot deal with comparing list/int attrs (Occurs in CM4)\n",
    "# I should raise that, but lets fix it quickly here\n",
    "def clean_attrs(ds):\n",
    "    for a, attr in ds.attrs.items():\n",
    "        if isinstance(attr, int):\n",
    "            ds.attrs[a] = [attr]\n",
    "    return ds\n",
    "\n",
    "ddict_matched_regrid = {k:clean_attrs(ds) for k, ds in ddict_matched_regrid.items()}\n",
    "\n",
    "ddict_ex_combined = concat_experiments(\n",
    "    ddict_matched_regrid,\n",
    "    concat_kwargs={\n",
    "        'combine_attrs': 'drop_conflicts',\n",
    "        'compat': 'override',\n",
    "        'coords': 'minimal'\n",
    "    }\n",
    ")"
   ]
  },
  {
   "cell_type": "code",
   "execution_count": null,
   "metadata": {},
   "outputs": [],
   "source": [
    "ddict_ex_combined.keys()"
   ]
  },
  {
   "cell_type": "markdown",
   "metadata": {},
   "source": [
    "Still need to deal with the access stuff here..."
   ]
  },
  {
   "cell_type": "code",
   "execution_count": null,
   "metadata": {},
   "outputs": [],
   "source": [
    "# only pick full runs (historical and ssp585)\n",
    "ddict_ex_combined_full = {k:ds for k,ds in ddict_ex_combined.items() if len(ds.time)>3000}"
   ]
  },
  {
   "cell_type": "markdown",
   "metadata": {},
   "source": [
    "## Check for problems and fix missing area/thickness manually\n",
    "\n",
    "This should be wrapped and brought upstream"
   ]
  },
  {
   "cell_type": "code",
   "execution_count": null,
   "metadata": {},
   "outputs": [],
   "source": [
    "from cmip6_preprocessing.grids import combine_staggered_grid\n",
    "problems = {'missing_variables':[], 'missing_area':[], 'missing_thickness':[], 'reconstructed_area':[], 'reconstructed_thickness':[]}\n",
    "ddict_filtered = {}\n",
    "for name, ds in ddict_ex_combined_full.items():\n",
    "    flag = False\n",
    "    # Check that all necessary variables are given\n",
    "    missing_variables = [va for va in [\"thetao\", \"so\", \"o2\"] if va not in ds.variables]\n",
    "    if len(missing_variables)>0:\n",
    "        flag = True\n",
    "        problems['missing_variables'].append((name, missing_variables))\n",
    "        \n",
    "    # Check for area\n",
    "    if not 'areacello' in ds.coords:\n",
    "        if ds.attrs['grid_label'] == 'gr': # only reconstruct for regular grids\n",
    "            grid, ds = combine_staggered_grid(ds, recalculate_metrics=True)\n",
    "            # I am dropping dz_t here so it can be uniformly reconstructed\n",
    "            ds = ds.drop('dz_t')\n",
    "            ds = ds.assign_coords(areacello = (ds.dx_t * ds.dy_t).reset_coords(drop=True))\n",
    "            problems['reconstructed_area'].append(name)\n",
    "            assert 'areacello' in ds.coords\n",
    "        else:\n",
    "            flag = True\n",
    "            problems['missing_area'].append(name)\n",
    "    \n",
    "    # Check for thickness (and rename) TODO: We should probably not rename and just refactor to use `thkcello`\n",
    "    if \"thkcello\" in ds.coords:\n",
    "        ds = ds.rename({'thkcello': 'dz_t'})\n",
    "    else:\n",
    "        # try to reconstruct the thickness from static info\n",
    "        try:\n",
    "#             lev_vertices = cf_xarray.bounds_to_vertices(ds.lev_bounds, 'bnds').load()\n",
    "#             dz_t = lev_vertices.diff('lev_vertices')\n",
    "#             ds = ds.assign_coords(dz_t=('lev', dz_t.data))\n",
    "            ds = construct_static_dz(ds).rename({'thkcello': 'dz_t'})\n",
    "            problems['reconstructed_thickness'].append(name)\n",
    "        except Exception as e:\n",
    "            print(f'{name} thickness reconstruction failed with {e}')\n",
    "            print(ds)\n",
    "            problems['missing_thickness'].append(name)\n",
    "            flag=True\n",
    "            \n",
    "    if not flag:\n",
    "        ddict_filtered[name] = ds"
   ]
  },
  {
   "cell_type": "code",
   "execution_count": null,
   "metadata": {},
   "outputs": [],
   "source": [
    "ddict_final = pick_first_member(ddict_filtered)#\n",
    "list(np.sort(list(ddict_final.keys())))"
   ]
  },
  {
   "cell_type": "markdown",
   "metadata": {},
   "source": [
    "## Prep Basin mask\n",
    "- Needs a separated Indian Ocean (Sam uses: 78E)\n",
    "- Refactor with the new masking using cf-xarray"
   ]
  },
  {
   "cell_type": "code",
   "execution_count": null,
   "metadata": {},
   "outputs": [],
   "source": [
    "# load ocean basin data\n",
    "import regionmask\n",
    "basins = regionmask.defined_regions.natural_earth.ocean_basins_50\n",
    "from cmip6_preprocessing.regionmask import merged_mask"
   ]
  },
  {
   "cell_type": "markdown",
   "metadata": {},
   "source": [
    "## Define bins"
   ]
  },
  {
   "cell_type": "code",
   "execution_count": null,
   "metadata": {},
   "outputs": [],
   "source": [
    "o2_bins = np.hstack([-100, np.arange(5, 160, 5)])  # in mymol/kg\n",
    "o2_bins_converted = bins_converted = (\n",
    "    o2_bins / convert_mol_m3_mymol_kg(xr.DataArray([1])).data\n",
    ")\n",
    "\n",
    "# define mask bins\n",
    "mask_bins = np.arange(-0.5, 13.0, 1)# for now manual, but maybe there is a clever way to do this?\n",
    "mask_bins\n",
    "\n",
    "lat_bins = np.arange(-60, 91, 20)\n",
    "lat_bins"
   ]
  },
  {
   "cell_type": "markdown",
   "metadata": {},
   "source": [
    "## This needs to go within the loop later\n",
    "\n",
    "\n",
    "- I need to also make sure nans are appropriately masked between variables"
   ]
  },
  {
   "cell_type": "code",
   "execution_count": null,
   "metadata": {},
   "outputs": [],
   "source": [
    "def check_exist(path):\n",
    "#     return path.exists()\n",
    "# hack for CM4\n",
    "    return False"
   ]
  },
  {
   "cell_type": "code",
   "execution_count": null,
   "metadata": {},
   "outputs": [],
   "source": []
  },
  {
   "cell_type": "code",
   "execution_count": null,
   "metadata": {},
   "outputs": [],
   "source": [
    "for name, ds in ddict_final.items():\n",
    "#     ds = ds.chunk({'time':1, 'x':720, 'y':576})\n",
    "    ds = ds.reset_coords('dz_t')\n",
    "    mask = merged_mask(basins, ds)\n",
    "    mask.name = \"basin_mask\"\n",
    "\n",
    "    # Create a dataset\n",
    "    vol = ds.dz_t * ds.areacello\n",
    "\n",
    "    count = histogram(\n",
    "        ds.o2,\n",
    "        ds.lat,\n",
    "        mask,\n",
    "        bins=[o2_bins_converted, lat_bins, mask_bins],\n",
    "        dim=[\"x\", \"y\"],\n",
    "    )\n",
    "    volume = histogram(\n",
    "        ds.o2,\n",
    "        ds.lat,\n",
    "        mask,\n",
    "        bins=[o2_bins_converted, lat_bins, mask_bins],\n",
    "        weights=vol,\n",
    "        dim=[\"x\", \"y\"],\n",
    "    )\n",
    "    tracers = {}\n",
    "    for tr in ds.data_vars:\n",
    "        tracers[tr] = histogram(\n",
    "            ds.o2,\n",
    "            ds.lat,\n",
    "            mask,\n",
    "            bins=[o2_bins_converted, lat_bins, mask_bins],\n",
    "            weights=ds[tr] * vol,\n",
    "            dim=[\"x\", \"y\"],\n",
    "        )\n",
    "    ds_hist = xr.Dataset(dict(count=count, volume=volume, **tracers))\n",
    "    ds_hist.attrs = {k:v for k,v in ds.attrs.items() if k not in ['intake_esm_varname']}\n",
    "    print(f\"{ds_hist.nbytes/1e9} GB\")\n",
    "    path = ofolder.joinpath(f\"{cmip6_dataset_id(ds_hist)}\")\n",
    "    if not check_exist(path):\n",
    "        print(path)\n",
    "#         append_write_zarr(ds_hist, path, 60)\n",
    "        append_write_zarr(ds_hist, path, 1) # just for CM4"
   ]
  },
  {
   "cell_type": "code",
   "execution_count": null,
   "metadata": {},
   "outputs": [],
   "source": [
    "stop here"
   ]
  },
  {
   "cell_type": "markdown",
   "metadata": {},
   "source": [
    "## Test the output against something I know\n",
    "\n",
    "This seems fine. The bin count is not exact, but that is probably due to some changes in the numerical precision in one of the methods.\n",
    "\n",
    "Nice the mean tracer values also line up."
   ]
  },
  {
   "cell_type": "code",
   "execution_count": null,
   "metadata": {},
   "outputs": [],
   "source": [
    "# might need to rename a few here so that it works and the dataset should probably be synth \n",
    "# Then I can move this to the tests.\n",
    "\n",
    "# define mask bins\n",
    "mask_bins = np.arange(-0.5, 13.0, 1)# for now manual, but maybe there is a clever way to do this?\n",
    "mask_bins\n",
    "\n",
    "lat_bins = np.arange(-90, 91, 20)\n",
    "lat_bins\n",
    "\n",
    "lev_bins = np.arange(0, 7000, 500)\n",
    "lev_bins\n",
    "vol = (ds.dz_t*ds.areacello) \n",
    "\n",
    "count = histogram(ds.o2, ds.lat, mask, bins=[o2_bins_converted, lat_bins, mask_bins], dim=['x','y'])\n",
    "volume = histogram(ds.o2, ds.lat, mask, bins=[o2_bins_converted, lat_bins, mask_bins], weights=vol, dim=['x','y'])\n",
    "tracers = {}\n",
    "for tr in ds.data_vars:\n",
    "    tracers[tr] = histogram(ds.o2, ds.lat, mask, bins=[o2_bins_converted, lat_bins, mask_bins], weights=ds[tr]*vol, dim=['x','y'])"
   ]
  },
  {
   "cell_type": "code",
   "execution_count": null,
   "metadata": {},
   "outputs": [],
   "source": [
    "from cmip6_omz.omz_tools import mask_basin"
   ]
  },
  {
   "cell_type": "code",
   "execution_count": null,
   "metadata": {},
   "outputs": [],
   "source": [
    "# expected_threshold = 0.082\n",
    "cutoff = o2_bins_converted[-1]\n",
    "test_full_pacific = test\n",
    "# expected_full_pacific = mask_basin(ds.o2.isel(time=0), drop=False)\n",
    "expected_full_pacific = ds.o2\n",
    "expected_full_pacific = xr.ones_like(expected_full_pacific).where(expected_full_pacific<=cutoff)"
   ]
  },
  {
   "cell_type": "code",
   "execution_count": null,
   "metadata": {},
   "outputs": [],
   "source": [
    "test"
   ]
  },
  {
   "cell_type": "code",
   "execution_count": null,
   "metadata": {},
   "outputs": [],
   "source": [
    "expected_full_pacific"
   ]
  },
  {
   "cell_type": "code",
   "execution_count": null,
   "metadata": {},
   "outputs": [],
   "source": [
    "ds.o2.shape"
   ]
  },
  {
   "cell_type": "code",
   "execution_count": null,
   "metadata": {},
   "outputs": [],
   "source": [
    "expected_full_pacific.shape"
   ]
  },
  {
   "cell_type": "code",
   "execution_count": null,
   "metadata": {},
   "outputs": [],
   "source": [
    "test_full_pacific.sum().data/expected_full_pacific.sum().load().data"
   ]
  },
  {
   "cell_type": "markdown",
   "metadata": {},
   "source": [
    "I suspect this is due to the numerial precision going wrong somewhere..."
   ]
  },
  {
   "cell_type": "code",
   "execution_count": null,
   "metadata": {},
   "outputs": [],
   "source": [
    "test"
   ]
  },
  {
   "cell_type": "code",
   "execution_count": null,
   "metadata": {},
   "outputs": [],
   "source": [
    "# example with masked basin\n",
    "cutoff = o2_bins_converted[-3]\n",
    "test_full_pacific = test.sel(basin_mask_bin=slice(1.5, 3.5))\n",
    "expected_full_pacific = mask_basin(ds.o2, drop=False)\n",
    "expected_full_pacific = xr.ones_like(expected_full_pacific).where(expected_full_pacific<=cutoff)"
   ]
  },
  {
   "cell_type": "code",
   "execution_count": null,
   "metadata": {},
   "outputs": [],
   "source": [
    "test_full_pacific.sum().data/expected_full_pacific.sum().load().data"
   ]
  },
  {
   "cell_type": "code",
   "execution_count": null,
   "metadata": {},
   "outputs": [],
   "source": [
    "# example with masked basin\n",
    "cutoff = o2_bins_converted[-3]\n",
    "test_full_pacific = test3.sel(basin_mask_bin=slice(1.5, 3.5)).sum()/test2.sel(basin_mask_bin=slice(1.5, 3.5)).sum()\n",
    "expected_full_pacific = mask_basin(ds, drop=False)\n",
    "expected_full_pacific = expected_full_pacific.where(expected_full_pacific<=cutoff)\n",
    "expected_full_pacific = expected_full_pacific.o2.weighted((expected_full_pacific.areacello*expected_full_pacific.dz_t).fillna(0)).mean()"
   ]
  },
  {
   "cell_type": "code",
   "execution_count": null,
   "metadata": {},
   "outputs": [],
   "source": [
    "expected_full_pacific.load()"
   ]
  },
  {
   "cell_type": "code",
   "execution_count": null,
   "metadata": {},
   "outputs": [],
   "source": [
    "test_full_pacific"
   ]
  },
  {
   "cell_type": "markdown",
   "metadata": {},
   "source": [
    "## synthetic example for xhistogram\n",
    "\n",
    "I somehow cannot bin over 'lev'...ok for now. Problem is described in detail [here](https://github.com/xgcm/xhistogram/issues/16)"
   ]
  },
  {
   "cell_type": "code",
   "execution_count": null,
   "metadata": {},
   "outputs": [],
   "source": [
    "# I cant get the count numbers to line up. What am I doing wrong here?\n",
    "da = xr.DataArray(np.random.rand(400,76), name='test')\n",
    "cutoff = 0.4\n",
    "hist = histogram(da, bins=np.array([-1e3, cutoff]))\n",
    "hist"
   ]
  },
  {
   "cell_type": "code",
   "execution_count": null,
   "metadata": {},
   "outputs": [],
   "source": [
    "test = xr.ones_like(da).where(da<=cutoff).sum()\n",
    "test"
   ]
  },
  {
   "cell_type": "code",
   "execution_count": null,
   "metadata": {},
   "outputs": [],
   "source": [
    "da.plot()"
   ]
  },
  {
   "cell_type": "code",
   "execution_count": null,
   "metadata": {},
   "outputs": [],
   "source": []
  }
 ],
 "metadata": {
  "kernelspec": {
   "display_name": "Python(cmip6_omz)",
   "language": "python",
   "name": "cmip6_omz"
  },
  "language_info": {
   "codemirror_mode": {
    "name": "ipython",
    "version": 3
   },
   "file_extension": ".py",
   "mimetype": "text/x-python",
   "name": "python",
   "nbconvert_exporter": "python",
   "pygments_lexer": "ipython3",
   "version": "3.9.6"
  }
 },
 "nbformat": 4,
 "nbformat_minor": 5
}
