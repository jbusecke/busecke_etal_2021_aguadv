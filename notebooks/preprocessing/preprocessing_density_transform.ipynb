{
 "cells": [
  {
   "cell_type": "markdown",
   "metadata": {},
   "source": [
    "# Complete reconception of the dataset loading\n",
    "\n",
    "## Priorities\n",
    "- Reduce the number of chunks. Combining members in intake-esm makes everything a lot worse.\n",
    "\n",
    "\n",
    "Should I completely ditch intake-esm? At this point I barely see an advantage."
   ]
  },
  {
   "cell_type": "markdown",
   "metadata": {},
   "source": [
    "The methodology for now looks like this:\n",
    "1. Read all single datasets into a larger dict with intake-esm, but do not aggregate. `dataset` level preprocessing is applied here.\n",
    "2. Detrend on the `dataset` level\n",
    "3. Move datasets to a nested dictionary\n",
    "4. Combine grid_labels by using xesmf\n",
    "5. Parse metrics to get a full `member` dataset.\n",
    "\n",
    "## Things still to fix.\n",
    "\n",
    "- [x] How is the control run making it through the detrending? Might work if it has the same time convention. But I prob have to code an exception in there...\n",
    "- [x] ProgressBar for the trend loading\n",
    "- [x] ProgressBar for the dim split saving\n",
    "- [x] Compare results for CanESM5 (I have some old files for that...\n",
    "- [x] Show non unique entries (https://stackoverflow.com/questions/9835762/how-do-i-find-the-duplicates-in-a-list-and-create-another-list-with-them)\n",
    "    - [x] UKESM has duplicate versions...whyyyyyy\n",
    "- [x] **Why does the rechunking 'setup' take so long? Raise issue?**\n",
    "- [x] Norwegian models dont all have lev_bounds. Investigate\n",
    "    - [x] Regridding needs to ignore area and thckcello! (Norwegian models)\n",
    "- [ ] Sort out the datasets with missing fields before\n",
    "- [ ] missing values alignment should also include dz_t?\n",
    "- [ ] All nan slope files\n",
    "- [ ] MPI-HR has missing detrending fields\n",
    "- [ ]  ddict_nested_metrics['CMIP.MOHC.UKESM1-0-LL.piControl.r1i1p1f2'] has a drift in the upper dzt cells..roi = {'x':180, 'y':130, 'lev':0}\n",
    "- **GFDL weird naming issue need to be fixed upstream**\n",
    "- [ ] reconstruct metrics if they are not there (or parse them from another run? E.g. piControl is missing the area...)\n",
    "- [ ] The removal of files is incredibly slow. `shutil.rmtree()` takes hours e.g. for CM4\n",
    "\n",
    "- [ ] Try to use nc files instead of zarr? Might take too long...\n",
    "\n",
    "- ~~[ ] warnings.warn('Input array is not F_CONTIGUOUS. ' 'Will affect performance.') Can I fix this somehow? its xesmf stuff./~~ "
   ]
  },
  {
   "cell_type": "code",
   "execution_count": 1,
   "metadata": {},
   "outputs": [
    {
     "data": {
      "text/plain": [
       "'2020.12.0'"
      ]
     },
     "execution_count": 1,
     "metadata": {},
     "output_type": "execute_result"
    }
   ],
   "source": [
    "import dask\n",
    "dask.__version__"
   ]
  },
  {
   "cell_type": "markdown",
   "metadata": {},
   "source": [
    "## Should always have this to be able to go back with the versions"
   ]
  },
  {
   "cell_type": "code",
   "execution_count": 2,
   "metadata": {},
   "outputs": [
    {
     "name": "stdout",
     "output_type": "stream",
     "text": [
      "# packages in environment at /scratch/gpfs/jbusecke/conda_tigercpu/envs/aguadv_omz_busecke_2021:\n",
      "#\n",
      "# Name                    Version                   Build  Channel\n",
      "_libgcc_mutex             0.1                 conda_forge    conda-forge\n",
      "_openmp_mutex             4.5                       1_gnu    conda-forge\n",
      "affine                    2.3.0                      py_0    conda-forge\n",
      "aguadv-omz-busecke-2021   0.1.dev16+g64162be.d20210402           dev_0    <develop>\n",
      "aiobotocore               1.2.0                    pypi_0    pypi\n",
      "aiohttp                   3.7.3                    pypi_0    pypi\n",
      "aioitertools              0.7.1                    pypi_0    pypi\n",
      "appdirs                   1.4.4              pyh9f0ad1d_0    conda-forge\n",
      "asciitree                 0.3.3                      py_2    conda-forge\n",
      "astropy                   4.2              py38h497a2fe_1    conda-forge\n",
      "async-timeout             3.0.1                    pypi_0    pypi\n",
      "attrs                     20.3.0             pyhd3deb0d_0    conda-forge\n",
      "backcall                  0.2.0              pyh9f0ad1d_0    conda-forge\n",
      "backports                 1.0                        py_2    conda-forge\n",
      "backports.functools_lru_cache 1.6.1                      py_0    conda-forge\n",
      "black                     20.8b1                   pypi_0    pypi\n",
      "bokeh                     2.2.3            py38h578d9bd_0    conda-forge\n",
      "boost-cpp                 1.72.0               h9d3c048_4    conda-forge\n",
      "botocore                  1.19.52                  pypi_0    pypi\n",
      "brotlipy                  0.7.0           py38h497a2fe_1001    conda-forge\n",
      "bzip2                     1.0.8                h7f98852_4    conda-forge\n",
      "c-ares                    1.17.1               h36c2ea0_0    conda-forge\n",
      "ca-certificates           2021.1.19            h06a4308_1  \n",
      "cached-property           1.5.2                      py_0  \n",
      "cachetools                4.2.0                    pypi_0    pypi\n",
      "cairo                     1.16.0            h7979940_1007    conda-forge\n",
      "cartopy                   0.18.0           py38h9b6dd9e_7    conda-forge\n",
      "certifi                   2020.12.5        py38h578d9bd_1    conda-forge\n",
      "cf_xarray                 0.4.0              pyh44b312d_0    conda-forge\n",
      "cffi                      1.14.4           py38ha65f79e_1    conda-forge\n",
      "cfitsio                   3.470                hb418390_7    conda-forge\n",
      "cftime                    1.3.1            py38h5c078b8_0    conda-forge\n",
      "chardet                   3.0.4                    pypi_0    pypi\n",
      "click                     7.1.2              pyh9f0ad1d_0    conda-forge\n",
      "click-plugins             1.1.1                      py_0    conda-forge\n",
      "cligj                     0.7.1              pyhd8ed1ab_0    conda-forge\n",
      "cloudpickle               1.6.0                      py_0    conda-forge\n",
      "cmip6-preprocessing       0.2.1.dev0+g249f504.d20210409          pypi_0    pypi\n",
      "cmocean                   2.0                        py_3    conda-forge\n",
      "colorspacious             1.1.2              pyh24bf2e0_0    conda-forge\n",
      "cryptography              3.3.1            py38h2b97feb_1    conda-forge\n",
      "curl                      7.71.1               he644dc0_8    conda-forge\n",
      "cycler                    0.10.0                     py_2    conda-forge\n",
      "cytoolz                   0.11.0           py38h25fe258_1    conda-forge\n",
      "dask                      2020.12.0          pyhd8ed1ab_0    conda-forge\n",
      "dask-core                 2020.12.0          pyhd8ed1ab_0    conda-forge\n",
      "dask-jobqueue             0.7.2              pyhd8ed1ab_1    conda-forge\n",
      "dbus                      1.13.18              hb2f20db_0  \n",
      "decorator                 4.4.2                      py_0    conda-forge\n",
      "distributed               2020.12.0        py38h578d9bd_0    conda-forge\n",
      "docrep                    0.2.7                    pypi_0    pypi\n",
      "entrypoints               0.3             pyhd8ed1ab_1003    conda-forge\n",
      "esmf                      8.0.1           mpi_mpich_h3cbecb6_102    conda-forge\n",
      "esmpy                     8.0.1           mpi_mpich_py38h6f0bf2d_102    conda-forge\n",
      "expat                     2.2.10               he6710b0_2  \n",
      "fasteners                 0.16               pyhd3eb1b0_0  \n",
      "fastjmd95                 0.2.1+2.gfe16d2b          pypi_0    pypi\n",
      "fastprogress              1.0.0                      py_0    conda-forge\n",
      "fiona                     1.8.18           py38h37fbd03_0    conda-forge\n",
      "fontconfig                2.13.1            hba837de_1004    conda-forge\n",
      "freetype                  2.10.4               h0708190_1    conda-forge\n",
      "freexl                    1.0.6                h27cfd23_0  \n",
      "fsspec                    0.8.5              pyhd8ed1ab_0    conda-forge\n",
      "future                    0.18.2                   pypi_0    pypi\n",
      "gcsfs                     0.7.1                    pypi_0    pypi\n",
      "gdal                      3.1.4            py38h25844d8_2    conda-forge\n",
      "geopandas                 0.8.1                      py_0    conda-forge\n",
      "geos                      3.8.1                he1b5a44_0    conda-forge\n",
      "geotiff                   1.6.0                h5d11630_3    conda-forge\n",
      "gettext                   0.19.8.1          h0b5b191_1005    conda-forge\n",
      "giflib                    5.2.1                h516909a_2    conda-forge\n",
      "glib                      2.66.4               h709712a_1    conda-forge\n",
      "google-auth               1.24.0                   pypi_0    pypi\n",
      "google-auth-oauthlib      0.4.2                    pypi_0    pypi\n",
      "gst-plugins-base          1.14.5               h0935bb2_2    conda-forge\n",
      "gstreamer                 1.18.3               h3560a44_0    conda-forge\n",
      "gsw                       3.4.0            py38hab2c0dc_1    conda-forge\n",
      "h5netcdf                  0.8.1                      py_0    conda-forge\n",
      "h5py                      3.1.0           nompi_py38hafa665b_100    conda-forge\n",
      "hdf4                      4.2.13            h10796ff_1004    conda-forge\n",
      "hdf5                      1.10.6          mpi_mpich_h996c276_1014    conda-forge\n",
      "heapdict                  1.0.1                      py_0    conda-forge\n",
      "icu                       68.1                 h58526e2_0    conda-forge\n",
      "idna                      2.10               pyh9f0ad1d_0    conda-forge\n",
      "iniconfig                 1.1.1              pyh9f0ad1d_0    conda-forge\n",
      "intake                    0.6.0                      py_0    conda-forge\n",
      "intake-esm                2020.5.1                 pypi_0    pypi\n",
      "intake-xarray             0.4.1                    pypi_0    pypi\n",
      "ipykernel                 5.4.3            py38h81c977d_0    conda-forge\n",
      "ipython                   7.19.0           py38h81c977d_2    conda-forge\n",
      "ipython_genutils          0.2.0                      py_1    conda-forge\n",
      "jedi                      0.17.2           py38h578d9bd_1    conda-forge\n",
      "jinja2                    2.11.2             pyh9f0ad1d_0    conda-forge\n",
      "jmespath                  0.10.0                   pypi_0    pypi\n",
      "jpeg                      9d                   h516909a_0    conda-forge\n",
      "json-c                    0.13.1            hbfbb72e_1002    conda-forge\n",
      "jupyter_client            6.1.11             pyhd8ed1ab_1    conda-forge\n",
      "jupyter_core              4.7.0            py38h578d9bd_1    conda-forge\n",
      "kealib                    1.4.14               h0042707_0    conda-forge\n",
      "kiwisolver                1.3.1            py38h1fd1430_1    conda-forge\n",
      "krb5                      1.17.2               h926e7f8_0    conda-forge\n",
      "lcms2                     2.11                 hcbb858e_1    conda-forge\n",
      "ld_impl_linux-64          2.35.1               hed1e6ac_1    conda-forge\n",
      "libblas                   3.9.0                7_openblas    conda-forge\n",
      "libcblas                  3.9.0                7_openblas    conda-forge\n",
      "libclang                  11.0.1          default_ha53f305_1    conda-forge\n",
      "libcurl                   7.71.1               hcdd3856_8    conda-forge\n",
      "libdap4                   3.20.6               h1d1bd15_1    conda-forge\n",
      "libedit                   3.1.20191231         he28a2e2_2    conda-forge\n",
      "libev                     4.33                 h516909a_1    conda-forge\n",
      "libevent                  2.1.10               hcdb4288_3    conda-forge\n",
      "libffi                    3.3                  h58526e2_2    conda-forge\n",
      "libgcc-ng                 9.3.0               h2828fa1_18    conda-forge\n",
      "libgdal                   3.1.4                h02eeb80_2    conda-forge\n",
      "libgfortran-ng            9.3.0               hff62375_18    conda-forge\n",
      "libgfortran5              9.3.0               hff62375_18    conda-forge\n",
      "libglib                   2.66.4               hf9edacf_1    conda-forge\n",
      "libgomp                   9.3.0               h2828fa1_18    conda-forge\n",
      "libiconv                  1.16                 h516909a_0    conda-forge\n",
      "libkml                    1.3.0             hd79254b_1012    conda-forge\n",
      "liblapack                 3.9.0                7_openblas    conda-forge\n",
      "libllvm10                 10.0.1               he513fc3_3    conda-forge\n",
      "libllvm11                 11.0.1               hf817b99_0    conda-forge\n",
      "libnetcdf                 4.7.4           mpi_mpich_hdef422e_7    conda-forge\n",
      "libnghttp2                1.41.0               h8cfc5f6_2    conda-forge\n",
      "libopenblas               0.3.12          pthreads_h4812303_1    conda-forge\n",
      "libpng                    1.6.37               hed695b0_2    conda-forge\n",
      "libpq                     12.3                 hfd2b0eb_3    conda-forge\n",
      "libsodium                 1.0.18               h516909a_1    conda-forge\n",
      "libspatialindex           1.9.3                he1b5a44_3    conda-forge\n",
      "libspatialite             5.0.0                h4dde289_0    conda-forge\n",
      "libssh2                   1.9.0                hab1572f_5    conda-forge\n",
      "libstdcxx-ng              9.3.0               h6de172a_18    conda-forge\n",
      "libtiff                   4.2.0                hdc55705_0    conda-forge\n",
      "libuuid                   2.32.1            h14c3975_1000    conda-forge\n",
      "libwebp-base              1.1.0                h516909a_3    conda-forge\n",
      "libxcb                    1.14                 h7b6447c_0  \n",
      "libxkbcommon              1.0.3                he3ba5ed_0    conda-forge\n",
      "libxml2                   2.9.10               h72842e0_3    conda-forge\n",
      "llvmlite                  0.35.0           py38h4630a5e_1    conda-forge\n",
      "locket                    0.2.1            py38h06a4308_1  \n",
      "lz4-c                     1.9.3                h9c3ff4c_0    conda-forge\n",
      "markupsafe                1.1.1            py38h497a2fe_3    conda-forge\n",
      "matplotlib                3.3.3            py38h578d9bd_0    conda-forge\n",
      "matplotlib-base           3.3.3            py38h5c7f4ab_0    conda-forge\n",
      "monotonic                 1.5                        py_0    conda-forge\n",
      "more-itertools            8.6.0              pyhd8ed1ab_0    conda-forge\n",
      "mpi                       1.0                       mpich    conda-forge\n",
      "mpi4py                    3.0.3            py38he865349_5    conda-forge\n",
      "mpich                     3.4                  h846660c_2    conda-forge\n",
      "msgpack-python            1.0.2            py38h1fd1430_1    conda-forge\n",
      "multidict                 5.1.0                    pypi_0    pypi\n",
      "munch                     2.5.0                      py_0    conda-forge\n",
      "mypy-extensions           0.4.3                    pypi_0    pypi\n",
      "mysql-common              8.0.22               ha770c72_3    conda-forge\n",
      "mysql-libs                8.0.22               h935591d_3    conda-forge\n",
      "nc-time-axis              1.2.1.dev11              pypi_0    pypi\n",
      "ncurses                   6.2                  h58526e2_4    conda-forge\n",
      "netcdf-fortran            4.5.3           mpi_mpich_h7ad8bfe_1    conda-forge\n",
      "netcdf4                   1.5.5.1         nompi_py38h1cdf482_101    conda-forge\n",
      "nspr                      4.29                 he1b5a44_1    conda-forge\n",
      "nss                       3.60                 hb5efdd6_0    conda-forge\n",
      "numba                     0.52.0           py38h51da96c_0    conda-forge\n",
      "numcodecs                 0.7.2            py38h709712a_1    conda-forge\n",
      "numpy                     1.19.5           py38h18fd61f_1    conda-forge\n",
      "oauthlib                  3.1.0                    pypi_0    pypi\n",
      "olefile                   0.46               pyh9f0ad1d_1    conda-forge\n",
      "openjpeg                  2.4.0                hf7af979_0    conda-forge\n",
      "openssl                   1.1.1k               h7f98852_0    conda-forge\n",
      "packaging                 20.8               pyhd3deb0d_0    conda-forge\n",
      "pandas                    1.2.1            py38h51da96c_0    conda-forge\n",
      "parso                     0.7.1              pyh9f0ad1d_0    conda-forge\n",
      "partd                     1.1.0                      py_0    conda-forge\n",
      "pathspec                  0.8.1                    pypi_0    pypi\n",
      "pcre                      8.44                 he1b5a44_0    conda-forge\n",
      "pexpect                   4.8.0            py38h32f6830_1    conda-forge\n",
      "pickleshare               0.7.5           py38h32f6830_1002    conda-forge\n",
      "pillow                    8.1.0            py38h357d4e7_1    conda-forge\n",
      "pip                       20.3.3             pyhd8ed1ab_0    conda-forge\n",
      "pixman                    0.40.0               h36c2ea0_0    conda-forge\n",
      "pluggy                    0.13.1           py38h578d9bd_4    conda-forge\n",
      "pooch                     1.3.0              pyhd8ed1ab_0    conda-forge\n",
      "poppler                   0.89.0               h2de54a5_5    conda-forge\n",
      "poppler-data              0.4.10                        0    conda-forge\n",
      "postgresql                12.3                 h6303168_3    conda-forge\n",
      "proj                      7.1.1                h966b41f_3    conda-forge\n",
      "prompt-toolkit            3.0.11             pyha770c72_0    conda-forge\n",
      "psutil                    5.8.0            py38h497a2fe_1    conda-forge\n",
      "ptyprocess                0.7.0              pyhd3deb0d_0    conda-forge\n",
      "py                        1.10.0             pyhd3deb0d_0    conda-forge\n",
      "pyasn1                    0.4.8                    pypi_0    pypi\n",
      "pyasn1-modules            0.2.8                    pypi_0    pypi\n",
      "pycparser                 2.20               pyh9f0ad1d_2    conda-forge\n",
      "pyerfa                    1.7.1.1          py38h497a2fe_2    conda-forge\n",
      "pygments                  2.7.4              pyhd8ed1ab_0    conda-forge\n",
      "pyopenssl                 20.0.1             pyhd8ed1ab_0    conda-forge\n",
      "pyparsing                 2.4.7              pyh9f0ad1d_0    conda-forge\n",
      "pyproj                    2.6.1.post1      py38h56787f0_3    conda-forge\n",
      "pyqt                      5.12.3           py38h578d9bd_7    conda-forge\n",
      "pyqt-impl                 5.12.3           py38h7400c14_7    conda-forge\n",
      "pyqt5-sip                 4.19.18          py38h709712a_7    conda-forge\n",
      "pyqtchart                 5.12             py38h7400c14_7    conda-forge\n",
      "pyqtwebengine             5.12.1           py38h7400c14_7    conda-forge\n",
      "pyshp                     2.1.3              pyh44b312d_0    conda-forge\n",
      "pysocks                   1.7.1            py38h578d9bd_3    conda-forge\n",
      "pytest                    6.2.1            py38h578d9bd_1    conda-forge\n",
      "python                    3.8.6           hffdb5ce_4_cpython    conda-forge\n",
      "python-dateutil           2.8.1                      py_0    conda-forge\n",
      "python_abi                3.8                      1_cp38    conda-forge\n",
      "pytz                      2020.5             pyhd8ed1ab_0    conda-forge\n",
      "pyyaml                    5.4.1            py38h497a2fe_0    conda-forge\n",
      "pyzmq                     20.0.0           py38h3d7ac18_1    conda-forge\n",
      "qt                        5.12.9               h9d6b050_2    conda-forge\n",
      "rasterio                  1.1.8            py38h37fbd03_0    conda-forge\n",
      "readline                  8.0                  he28a2e2_2    conda-forge\n",
      "rechunker                 0.3.3              pyhd8ed1ab_0    conda-forge\n",
      "regex                     2020.11.13               pypi_0    pypi\n",
      "regionmask                0.6.1                      py_1    conda-forge\n",
      "requests                  2.25.1             pyhd3deb0d_0    conda-forge\n",
      "requests-oauthlib         1.3.0                    pypi_0    pypi\n",
      "rsa                       4.7                      pypi_0    pypi\n",
      "rtree                     0.9.7            py38h02d302b_1    conda-forge\n",
      "s3fs                      0.5.2                    pypi_0    pypi\n",
      "scipy                     1.6.0            py38hb2138dd_0    conda-forge\n",
      "setuptools                51.3.3           py38h06a4308_4  \n",
      "shapely                   1.7.1            py38hc7361b7_1    conda-forge\n",
      "six                       1.15.0             pyh9f0ad1d_0    conda-forge\n",
      "snuggs                    1.4.7                      py_0    conda-forge\n",
      "sortedcontainers          2.3.0              pyhd8ed1ab_0    conda-forge\n",
      "sqlite                    3.34.0               h74cdb3f_0    conda-forge\n",
      "src                       0.1.0                     dev_0    <develop>\n",
      "tblib                     1.7.0                      py_0  \n",
      "tiledb                    2.1.6                h91fcb0e_1    conda-forge\n",
      "tk                        8.6.10               hed695b0_1    conda-forge\n",
      "toml                      0.10.2             pyhd8ed1ab_0    conda-forge\n",
      "toolz                     0.11.1                     py_0    conda-forge\n",
      "tornado                   6.1              py38h497a2fe_1    conda-forge\n",
      "tqdm                      4.56.0                   pypi_0    pypi\n",
      "traitlets                 5.0.5                      py_0    conda-forge\n",
      "typed-ast                 1.4.2                    pypi_0    pypi\n",
      "typing_extensions         3.7.4.3                    py_0    conda-forge\n",
      "tzcode                    2020f                h7f98852_0    conda-forge\n",
      "urllib3                   1.26.2             pyhd8ed1ab_0    conda-forge\n",
      "wcwidth                   0.2.5              pyh9f0ad1d_2    conda-forge\n",
      "wheel                     0.36.2             pyhd3deb0d_0    conda-forge\n",
      "wrapt                     1.12.1                   pypi_0    pypi\n",
      "xarray                    0.17.0             pyhd8ed1ab_0    conda-forge\n",
      "xarrayutils               0.1.4+14.g7b70f15          pypi_0    pypi\n",
      "xerces-c                  3.2.3                h9d8b166_2    conda-forge\n",
      "xesmf                     0.5.1              pyhd8ed1ab_0    conda-forge\n",
      "xgcm                      0.5.2.dev58+gea1d48a          pypi_0    pypi\n",
      "xhistogram                0.1.2              pyhd8ed1ab_0    conda-forge\n",
      "xorg-kbproto              1.0.7             h14c3975_1002    conda-forge\n",
      "xorg-libice               1.0.10               h516909a_0    conda-forge\n",
      "xorg-libsm                1.2.3             h84519dc_1000    conda-forge\n",
      "xorg-libx11               1.6.12               h516909a_0    conda-forge\n",
      "xorg-libxext              1.3.4                h516909a_0    conda-forge\n",
      "xorg-libxrender           0.9.10            h516909a_1002    conda-forge\n",
      "xorg-renderproto          0.11.1            h14c3975_1002    conda-forge\n",
      "xorg-xextproto            7.3.0             h14c3975_1002    conda-forge\n",
      "xorg-xproto               7.0.31            h14c3975_1007    conda-forge\n",
      "xz                        5.2.5                h516909a_1    conda-forge\n",
      "yaml                      0.2.5                h516909a_0    conda-forge\n",
      "yarl                      1.6.3                    pypi_0    pypi\n",
      "zarr                      2.6.1              pyhd8ed1ab_0    conda-forge\n",
      "zeromq                    4.3.3                h58526e2_3    conda-forge\n",
      "zict                      2.0.0                      py_0    conda-forge\n",
      "zlib                      1.2.11            h516909a_1010    conda-forge\n",
      "zstd                      1.4.8                ha95c52a_1    conda-forge\n"
     ]
    }
   ],
   "source": [
    "!conda list"
   ]
  },
  {
   "cell_type": "code",
   "execution_count": 8,
   "metadata": {},
   "outputs": [
    {
     "name": "stdout",
     "output_type": "stream",
     "text": [
      "The autoreload extension is already loaded. To reload it, use:\n",
      "  %reload_ext autoreload\n"
     ]
    },
    {
     "data": {
      "text/plain": [
       "<dask.config.set at 0x2b6b8cc70a90>"
      ]
     },
     "execution_count": 8,
     "metadata": {},
     "output_type": "execute_result"
    }
   ],
   "source": [
    "%load_ext autoreload\n",
    "%autoreload 2\n",
    "\n",
    "import numpy as np\n",
    "import dask\n",
    "import time\n",
    "import shutil\n",
    "import warnings\n",
    "import xarray as xr\n",
    "\n",
    "import matplotlib.pyplot as plt\n",
    "from fastjmd95 import rho\n",
    "import fastjmd95\n",
    "\n",
    "assert fastjmd95.__version__ >= \"0.2.1\"\n",
    "# import fastjmd95 #quick fix? https://github.com/dask/distributed/issues/3450#issuecomment-584739501\n",
    "# Nope\n",
    "from multiprocessing.pool import ThreadPool\n",
    "from dask.diagnostics import ProgressBar\n",
    "import matplotlib.pyplot as plt\n",
    "\n",
    "from xgcm import Grid\n",
    "from fastprogress.fastprogress import progress_bar\n",
    "\n",
    "from xarrayutils.file_handling import (\n",
    "    write,\n",
    "    maybe_create_folder,\n",
    "    file_exist_check,\n",
    "    temp_write_split,\n",
    ")\n",
    "from xarrayutils.utils import remove_bottom_values\n",
    "\n",
    "\n",
    "from aguadv_omz_busecke_2021.vertical_transformation import (\n",
    "    xgcm_transform_wrapper as transform_wrapper,\n",
    ")\n",
    "from aguadv_omz_busecke_2021.datasets import woa13\n",
    "from aguadv_omz_busecke_2021.utils import print_html\n",
    "from aguadv_omz_busecke_2021.preprocessing import (\n",
    "    mixed_layer_wrapper,\n",
    "    save_and_reload_rechunker,\n",
    "    preprocessing_wrapper,\n",
    "    strip_encoding,\n",
    ")\n",
    "from aguadv_omz_busecke_2021.omz_tools import (\n",
    "    volume_consistency_checks,\n",
    "    plot_omz_results,\n",
    "    omz_thickness,\n",
    ")\n",
    "from aguadv_omz_busecke_2021.cmip6_stash import (\n",
    "    detrend,\n",
    "    construct_cfdate,\n",
    "    _get_calendar,\n",
    "    cmip6_dataset_id,\n",
    "    combined_preprocessing,\n",
    "    load_single_datasets,\n",
    "    nested_dataset_wrapper,\n",
    "    match_and_detrend,\n",
    "    combine_grid_labels,\n",
    "    parse_metrics,\n",
    ")\n",
    "\n",
    "# !!! Replace with the new metric parsing...\n",
    "\n",
    "# from euc_dynamics.file_handling import\n",
    "# from euc_dynamics.cmip6_preprocessing_stash import cmip6_dataset_id\n",
    "\n",
    "# from euc_dynamics.cmip6_preprocessing_stash import combined_preprocessing\n",
    "\n",
    "# from euc_dynamics.o2_utils import omz_thickness\n",
    "\n",
    "# from euc_dynamics.utils import (mask_pacific, member_treatment,load_time_averages,\n",
    "#                                 force_datasets_on_same_grid, master_load, o2_models,\n",
    "#                                 combine_grid_labels, pick_time)\n",
    "\n",
    "\n",
    "# dask.config.set(pool=ThreadPool(4)) ### New\n",
    "dask.config.set(pool=ThreadPool(32))"
   ]
  },
  {
   "cell_type": "markdown",
   "metadata": {},
   "source": [
    "This should in some form move to xgcm"
   ]
  },
  {
   "cell_type": "code",
   "execution_count": 9,
   "metadata": {},
   "outputs": [],
   "source": [
    "def transform_wrapper_again(\n",
    "    ds_in,\n",
    "    intensive_vars=[\n",
    "        \"thetao\",\n",
    "        \"o2\",\n",
    "        \"so\",\n",
    "        \"agessc\",\n",
    "    ],\n",
    "):\n",
    "    # alternate name: transform mean wrapper\n",
    "    # sigma_bins\n",
    "    sigma_bins = np.array([0, 24.5, 26.5, 27.65, 100])\n",
    "\n",
    "    # define variables to be averaged (intensive quantities)\n",
    "    intensive_vars = [\n",
    "        \"thetao\",\n",
    "        \"o2\",\n",
    "        \"so\",\n",
    "        \"agessc\",\n",
    "    ]  # add 'uo', 'agessc' etc?\n",
    "\n",
    "    intensive_vars = [v for v in intensive_vars if v in ds_in.data_vars]\n",
    "\n",
    "    for iv in intensive_vars:\n",
    "        dz = (xr.ones_like(ds_in[iv]) * ds_in.dz_t).where(~np.isnan(ds_in[iv]))\n",
    "        ds_in[iv] = ds_in[iv] * dz\n",
    "\n",
    "    with warnings.catch_warnings():\n",
    "        warnings.simplefilter(\"ignore\")\n",
    "        ds_out = transform_wrapper(\n",
    "            ds_in,\n",
    "            extensive_vars=[\"omz_thickness\"] + intensive_vars,\n",
    "            target=sigma_bins,\n",
    "        )\n",
    "\n",
    "    # reconvert the same variables\n",
    "    dz = ds_out.dz_t\n",
    "    for iv in intensive_vars:\n",
    "        ds_out[iv] = ds_out[iv] / dz\n",
    "    return ds_out"
   ]
  },
  {
   "cell_type": "markdown",
   "metadata": {},
   "source": [
    "## Testing distributed processing. \n",
    "This doesnt work really well...At this point I have almost all models and its not worth it to pursue this further"
   ]
  },
  {
   "cell_type": "code",
   "execution_count": 10,
   "metadata": {},
   "outputs": [],
   "source": [
    "# from dask_jobqueue import SLURMCluster\n",
    "# from dask.distributed import Client\n",
    "# cluster = SLURMCluster(\n",
    "#     scheduler_options={\"dashboard_address\": 9999},\n",
    "# )\n",
    "# client = Client(cluster)\n",
    "# client"
   ]
  },
  {
   "cell_type": "markdown",
   "metadata": {},
   "source": [
    "Template to fire up dask workers:\n",
    "\n",
    "```python\n",
    "/scratch/gpfs/jbusecke/conda_tigercpu/envs/aguadv_omz_busecke_2021/bin/python -m distributed.cli.dask_worker tcp://10.36.18.123:45961 --nthreads 2 --nprocs 20 --memory-limit 9GB --name <name_xx> --nanny --death-timeout 60 --local-directory /tmp --interface op0\n",
    "```"
   ]
  },
  {
   "cell_type": "markdown",
   "metadata": {},
   "source": [
    "## Put out the observations in density data first"
   ]
  },
  {
   "cell_type": "code",
   "execution_count": 11,
   "metadata": {},
   "outputs": [
    {
     "name": "stderr",
     "output_type": "stream",
     "text": [
      "/scratch/gpfs/jbusecke/conda_tigercpu/envs/aguadv_omz_busecke_2021/lib/python3.8/site-packages/xarrayutils/file_handling.py:118: UserWarning: Folder ../../data/processed/density_remapping_obs does already exist.\n",
      "  warnings.warn(f\"Folder {path} does already exist.\", UserWarning)\n"
     ]
    }
   ],
   "source": [
    "foldername = \"density_remapping_obs\"\n",
    "ofolder = maybe_create_folder(f\"../../data/processed/{foldername}\")"
   ]
  },
  {
   "cell_type": "code",
   "execution_count": 7,
   "metadata": {},
   "outputs": [
    {
     "name": "stderr",
     "output_type": "stream",
     "text": [
      "/scratch/gpfs/jbusecke/conda_tigercpu/envs/aguadv_omz_busecke_2021/lib/python3.8/site-packages/xarray/core/indexing.py:1369: PerformanceWarning: Slicing is producing a large chunk. To accept the large\n",
      "chunk and silence this warning, set the option\n",
      "    >>> with dask.config.set(**{'array.slicing.split_large_chunks': False}):\n",
      "    ...     array[indexer]\n",
      "\n",
      "To avoid creating the large chunks, set the option\n",
      "    >>> with dask.config.set(**{'array.slicing.split_large_chunks': True}):\n",
      "    ...     array[indexer]\n",
      "  return self.array[key]\n",
      "/scratch/gpfs/jbusecke/conda_tigercpu/envs/aguadv_omz_busecke_2021/lib/python3.8/site-packages/xarray/core/indexing.py:1369: PerformanceWarning: Slicing is producing a large chunk. To accept the large\n",
      "chunk and silence this warning, set the option\n",
      "    >>> with dask.config.set(**{'array.slicing.split_large_chunks': False}):\n",
      "    ...     array[indexer]\n",
      "\n",
      "To avoid creating the large chunks, set the option\n",
      "    >>> with dask.config.set(**{'array.slicing.split_large_chunks': True}):\n",
      "    ...     array[indexer]\n",
      "  return self.array[key]\n",
      "/scratch/gpfs/jbusecke/conda_tigercpu/envs/aguadv_omz_busecke_2021/lib/python3.8/site-packages/xarray/core/indexing.py:1369: PerformanceWarning: Slicing is producing a large chunk. To accept the large\n",
      "chunk and silence this warning, set the option\n",
      "    >>> with dask.config.set(**{'array.slicing.split_large_chunks': False}):\n",
      "    ...     array[indexer]\n",
      "\n",
      "To avoid creating the large chunks, set the option\n",
      "    >>> with dask.config.set(**{'array.slicing.split_large_chunks': True}):\n",
      "    ...     array[indexer]\n",
      "  return self.array[key]\n",
      "/scratch/gpfs/jbusecke/conda_tigercpu/envs/aguadv_omz_busecke_2021/lib/python3.8/site-packages/xarray/core/indexing.py:1369: PerformanceWarning: Slicing is producing a large chunk. To accept the large\n",
      "chunk and silence this warning, set the option\n",
      "    >>> with dask.config.set(**{'array.slicing.split_large_chunks': False}):\n",
      "    ...     array[indexer]\n",
      "\n",
      "To avoid creating the large chunks, set the option\n",
      "    >>> with dask.config.set(**{'array.slicing.split_large_chunks': True}):\n",
      "    ...     array[indexer]\n",
      "  return self.array[key]\n"
     ]
    },
    {
     "ename": "NameError",
     "evalue": "name 'warnings' is not defined",
     "output_type": "error",
     "traceback": [
      "\u001b[0;31m---------------------------------------------------------------------------\u001b[0m",
      "\u001b[0;31mNameError\u001b[0m                                 Traceback (most recent call last)",
      "\u001b[0;32m<ipython-input-7-aa225f192a38>\u001b[0m in \u001b[0;36m<module>\u001b[0;34m\u001b[0m\n\u001b[0;32m----> 1\u001b[0;31m \u001b[0mwoa\u001b[0m \u001b[0;34m=\u001b[0m \u001b[0mwoa13\u001b[0m\u001b[0;34m(\u001b[0m\u001b[0;34m)\u001b[0m\u001b[0;34m.\u001b[0m\u001b[0mdrop\u001b[0m\u001b[0;34m(\u001b[0m\u001b[0;34m'time'\u001b[0m\u001b[0;34m)\u001b[0m\u001b[0;34m\u001b[0m\u001b[0;34m\u001b[0m\u001b[0m\n\u001b[0m\u001b[1;32m      2\u001b[0m \u001b[0mwoa\u001b[0m\u001b[0;34m[\u001b[0m\u001b[0;34m'sigma_0'\u001b[0m\u001b[0;34m]\u001b[0m \u001b[0;34m=\u001b[0m \u001b[0;34m(\u001b[0m\u001b[0mfastjmd95\u001b[0m\u001b[0;34m.\u001b[0m\u001b[0mrho\u001b[0m\u001b[0;34m(\u001b[0m\u001b[0mwoa\u001b[0m\u001b[0;34m.\u001b[0m\u001b[0mso\u001b[0m\u001b[0;34m,\u001b[0m \u001b[0mwoa\u001b[0m\u001b[0;34m.\u001b[0m\u001b[0mthetao\u001b[0m\u001b[0;34m,\u001b[0m \u001b[0;36m0\u001b[0m\u001b[0;34m)\u001b[0m \u001b[0;34m-\u001b[0m \u001b[0;36m1000\u001b[0m\u001b[0;34m)\u001b[0m\u001b[0;34m\u001b[0m\u001b[0;34m\u001b[0m\u001b[0m\n\u001b[1;32m      3\u001b[0m \u001b[0mwoa\u001b[0m \u001b[0;34m=\u001b[0m \u001b[0mwoa\u001b[0m\u001b[0;34m.\u001b[0m\u001b[0mrename\u001b[0m\u001b[0;34m(\u001b[0m\u001b[0;34m{\u001b[0m\u001b[0;34m'thkcello'\u001b[0m\u001b[0;34m:\u001b[0m\u001b[0;34m'dz_t'\u001b[0m\u001b[0;34m}\u001b[0m\u001b[0;34m)\u001b[0m\u001b[0;34m\u001b[0m\u001b[0;34m\u001b[0m\u001b[0m\n\u001b[1;32m      4\u001b[0m \u001b[0mwoa\u001b[0m \u001b[0;34m=\u001b[0m \u001b[0mwoa\u001b[0m\u001b[0;34m.\u001b[0m\u001b[0mchunk\u001b[0m\u001b[0;34m(\u001b[0m\u001b[0;34m{\u001b[0m\u001b[0;34m'lev'\u001b[0m\u001b[0;34m:\u001b[0m\u001b[0;34m-\u001b[0m\u001b[0;36m1\u001b[0m\u001b[0;34m,\u001b[0m\u001b[0;34m'x'\u001b[0m\u001b[0;34m:\u001b[0m\u001b[0;36m180\u001b[0m\u001b[0;34m}\u001b[0m\u001b[0;34m)\u001b[0m\u001b[0;34m\u001b[0m\u001b[0;34m\u001b[0m\u001b[0m\n\u001b[1;32m      5\u001b[0m \u001b[0mwoa\u001b[0m\u001b[0;34m[\u001b[0m\u001b[0;34m'omz_thickness'\u001b[0m\u001b[0;34m]\u001b[0m \u001b[0;34m=\u001b[0m \u001b[0momz_thickness\u001b[0m\u001b[0;34m(\u001b[0m\u001b[0mwoa\u001b[0m\u001b[0;34m,\u001b[0m \u001b[0mo2_bins\u001b[0m\u001b[0;34m=\u001b[0m\u001b[0mo2_bins\u001b[0m\u001b[0;34m)\u001b[0m\u001b[0;34m\u001b[0m\u001b[0;34m\u001b[0m\u001b[0m\n",
      "\u001b[0;32m/projects/GEOCLIM/LRGROUP/jbusecke/projects/aguadv_omz_busecke_2021/aguadv_omz_busecke_2021/datasets.py\u001b[0m in \u001b[0;36mwoa13\u001b[0;34m()\u001b[0m\n\u001b[1;32m    208\u001b[0m \u001b[0;34m\u001b[0m\u001b[0m\n\u001b[1;32m    209\u001b[0m     \u001b[0;31m# # reconstruct area\u001b[0m\u001b[0;34m\u001b[0m\u001b[0;34m\u001b[0m\u001b[0;34m\u001b[0m\u001b[0m\n\u001b[0;32m--> 210\u001b[0;31m     \u001b[0mwoa\u001b[0m\u001b[0;34m.\u001b[0m\u001b[0mcoords\u001b[0m\u001b[0;34m[\u001b[0m\u001b[0;34m\"areacello\"\u001b[0m\u001b[0;34m]\u001b[0m \u001b[0;34m=\u001b[0m \u001b[0mreconstruct_areacello\u001b[0m\u001b[0;34m(\u001b[0m\u001b[0mwoa\u001b[0m\u001b[0;34m)\u001b[0m\u001b[0;34m\u001b[0m\u001b[0;34m\u001b[0m\u001b[0m\n\u001b[0m\u001b[1;32m    211\u001b[0m     \u001b[0;31m# this is a shitty old implementation (xr cf will solve this....)\u001b[0m\u001b[0;34m\u001b[0m\u001b[0;34m\u001b[0m\u001b[0;34m\u001b[0m\u001b[0m\n\u001b[1;32m    212\u001b[0m     \u001b[0mwoa\u001b[0m\u001b[0;34m.\u001b[0m\u001b[0mcoords\u001b[0m\u001b[0;34m[\u001b[0m\u001b[0;34m\"areacello\"\u001b[0m\u001b[0;34m]\u001b[0m\u001b[0;34m.\u001b[0m\u001b[0mattrs\u001b[0m \u001b[0;34m=\u001b[0m \u001b[0;34m{\u001b[0m\u001b[0;34m}\u001b[0m\u001b[0;34m\u001b[0m\u001b[0;34m\u001b[0m\u001b[0m\n",
      "\u001b[0;32m/projects/GEOCLIM/LRGROUP/jbusecke/projects/aguadv_omz_busecke_2021/aguadv_omz_busecke_2021/datasets.py\u001b[0m in \u001b[0;36mreconstruct_areacello\u001b[0;34m(ds)\u001b[0m\n\u001b[1;32m     26\u001b[0m             \u001b[0mmsg\u001b[0m \u001b[0;34m=\u001b[0m \u001b[0;34m\"based on `lon_bounds` and `lat_bounds` difference\"\u001b[0m\u001b[0;34m\u001b[0m\u001b[0;34m\u001b[0m\u001b[0m\n\u001b[1;32m     27\u001b[0m         \u001b[0;32melse\u001b[0m\u001b[0;34m:\u001b[0m\u001b[0;34m\u001b[0m\u001b[0;34m\u001b[0m\u001b[0m\n\u001b[0;32m---> 28\u001b[0;31m             warnings.warn(\n\u001b[0m\u001b[1;32m     29\u001b[0m                 \u001b[0;34m\"No bounds found for lon and lat. Reconstructing with a very simplified method. Check results carefully.\"\u001b[0m\u001b[0;34m\u001b[0m\u001b[0;34m\u001b[0m\u001b[0m\n\u001b[1;32m     30\u001b[0m             )\n",
      "\u001b[0;31mNameError\u001b[0m: name 'warnings' is not defined"
     ]
    }
   ],
   "source": [
    "woa = woa13().drop('time')\n",
    "woa['sigma_0'] = (fastjmd95.rho(woa.so, woa.thetao, 0) - 1000)\n",
    "woa = woa.rename({'thkcello':'dz_t'})\n",
    "woa = woa.chunk({'lev':-1,'x':180})\n",
    "woa['omz_thickness'] = omz_thickness(woa, o2_bins=o2_bins)\n",
    "\n",
    "woa_sigma = transform_wrapper_again(woa, intensive_vars=[va for va in woa.data_vars if va not in ['omz_thickness']])\n",
    "\n",
    "# confirm that the volume is conserved\n",
    "with ProgressBar():\n",
    "    vol_sigma = (woa_sigma.omz_thickness * woa_sigma.areacello).sum(['x','y','sigma_0']).load()\n",
    "    vol_z = (woa.omz_thickness * woa.areacello).sum(['x', 'y', 'lev']).load()\n",
    "    \n",
    "assert (((vol_z - vol_sigma)/vol_z*100)<0.5).all()\n",
    "\n",
    "fname = ofolder.joinpath('woa13.nc')\n",
    "woa_sigma = write(woa_sigma, fname, overwrite=True)"
   ]
  },
  {
   "cell_type": "code",
   "execution_count": null,
   "metadata": {},
   "outputs": [],
   "source": [
    "woa_sigma.isel(sigma_0=2).o2.plot(robust=True)"
   ]
  },
  {
   "cell_type": "markdown",
   "metadata": {},
   "source": [
    "## Now the models"
   ]
  },
  {
   "cell_type": "code",
   "execution_count": 12,
   "metadata": {},
   "outputs": [
    {
     "name": "stderr",
     "output_type": "stream",
     "text": [
      "/scratch/gpfs/jbusecke/conda_tigercpu/envs/aguadv_omz_busecke_2021/lib/python3.8/site-packages/xarrayutils/file_handling.py:118: UserWarning: Folder ../../data/processed/density_remapping_time_yearly_final does already exist.\n",
      "  warnings.warn(f\"Folder {path} does already exist.\", UserWarning)\n",
      "/scratch/gpfs/jbusecke/conda_tigercpu/envs/aguadv_omz_busecke_2021/lib/python3.8/site-packages/xarrayutils/file_handling.py:118: UserWarning: Folder ../../data/temp/scratch_temp/density_remapping_time_yearly_final does already exist.\n",
      "  warnings.warn(f\"Folder {path} does already exist.\", UserWarning)\n"
     ]
    }
   ],
   "source": [
    "foldername = \"density_remapping_time_yearly_final\"\n",
    "ofolder = maybe_create_folder(f\"../../data/processed/{foldername}\")\n",
    "tempfolder = maybe_create_folder(f\"../../data/temp/scratch_temp/{foldername}\")\n",
    "\n",
    "# global parameters\n",
    "o2_bins = np.array([10, 40, 60, 80, 100, 120])"
   ]
  },
  {
   "cell_type": "code",
   "execution_count": 13,
   "metadata": {},
   "outputs": [],
   "source": [
    "import intake\n",
    "from aguadv_omz_busecke_2021.utils import cmip6_collection\n",
    "col = intake.open_esm_datastore(cmip6_collection(zarr=True))"
   ]
  },
  {
   "cell_type": "code",
   "execution_count": 14,
   "metadata": {},
   "outputs": [
    {
     "data": {
      "text/plain": [
       "array(['CNRM-ESM2-1', 'UKESM1-0-LL', 'GFDL-ESM4', 'GFDL-CM4', 'CanESM5',\n",
       "       'CanESM5-CanOE', 'MPI-ESM1-2-HR', 'ACCESS-ESM1-5', 'MRI-ESM2-0',\n",
       "       'MIROC-ES2L', 'IPSL-CM6A-LR', 'NorESM2-LM', 'NorESM2-MM',\n",
       "       'MPI-ESM1-2-LR', 'MPI-ESM-1-2-HAM', 'NorESM1-F', 'NorCPM1'],\n",
       "      dtype=object)"
      ]
     },
     "execution_count": 14,
     "metadata": {},
     "output_type": "execute_result"
    }
   ],
   "source": [
    "col.df['source_id'].unique()"
   ]
  },
  {
   "cell_type": "code",
   "execution_count": 15,
   "metadata": {},
   "outputs": [
    {
     "name": "stdout",
     "output_type": "stream",
     "text": [
      "Dataframe size before picking latest version: 2086\n",
      "Getting latest version...\n",
      "\n",
      "Dataframe size after picking latest version: 2079\n",
      "\n",
      "Done....\n",
      "\n",
      "\n",
      "--> The keys in the returned dictionary of datasets are constructed as follows:\n",
      "\t'activity_id.institution_id.source_id.experiment_id.member_id.table_id.variable_id.grid_label.version.zstore'\n"
     ]
    },
    {
     "data": {
      "text/html": [
       "\n",
       "    <div>\n",
       "        <style>\n",
       "            /* Turns off some styling */\n",
       "            progress {\n",
       "                /* gets rid of default border in Firefox and Opera. */\n",
       "                border: none;\n",
       "                /* Needs to be in here for Safari polyfill so background images work as expected. */\n",
       "                background-size: auto;\n",
       "            }\n",
       "            .progress-bar-interrupted, .progress-bar-interrupted::-webkit-progress-bar {\n",
       "                background: #F44336;\n",
       "            }\n",
       "        </style>\n",
       "      <progress value='2079' class='' max='2079' style='width:300px; height:20px; vertical-align: middle;'></progress>\n",
       "      100.00% [2079/2079 08:36<00:00]\n",
       "    </div>\n",
       "    "
      ],
      "text/plain": [
       "<IPython.core.display.HTML object>"
      ]
     },
     "metadata": {},
     "output_type": "display_data"
    },
    {
     "name": "stderr",
     "output_type": "stream",
     "text": [
      "/scratch/gpfs/jbusecke/conda_tigercpu/envs/aguadv_omz_busecke_2021/lib/python3.8/site-packages/cmip6_preprocessing/preprocessing.py:211: UserWarning: MIROC-ES2L: No units found for lev\n",
      "  warnings.warn(f'{ds.attrs[\"source_id\"]}: No units found for {co}')\n",
      "/scratch/gpfs/jbusecke/conda_tigercpu/envs/aguadv_omz_busecke_2021/lib/python3.8/site-packages/cmip6_preprocessing/preprocessing.py:211: UserWarning: MIROC-ES2L: No units found for lev\n",
      "  warnings.warn(f'{ds.attrs[\"source_id\"]}: No units found for {co}')\n",
      "/scratch/gpfs/jbusecke/conda_tigercpu/envs/aguadv_omz_busecke_2021/lib/python3.8/site-packages/cmip6_preprocessing/preprocessing.py:211: UserWarning: MIROC-ES2L: No units found for lev\n",
      "  warnings.warn(f'{ds.attrs[\"source_id\"]}: No units found for {co}')\n",
      "/scratch/gpfs/jbusecke/conda_tigercpu/envs/aguadv_omz_busecke_2021/lib/python3.8/site-packages/cmip6_preprocessing/preprocessing.py:211: UserWarning: MIROC-ES2L: No units found for lev\n",
      "  warnings.warn(f'{ds.attrs[\"source_id\"]}: No units found for {co}')\n",
      "/scratch/gpfs/jbusecke/conda_tigercpu/envs/aguadv_omz_busecke_2021/lib/python3.8/site-packages/cmip6_preprocessing/preprocessing.py:211: UserWarning: MIROC-ES2L: No units found for lev\n",
      "  warnings.warn(f'{ds.attrs[\"source_id\"]}: No units found for {co}')\n",
      "/scratch/gpfs/jbusecke/conda_tigercpu/envs/aguadv_omz_busecke_2021/lib/python3.8/site-packages/cmip6_preprocessing/preprocessing.py:211: UserWarning: MIROC-ES2L: No units found for lev\n",
      "  warnings.warn(f'{ds.attrs[\"source_id\"]}: No units found for {co}')\n",
      "/scratch/gpfs/jbusecke/conda_tigercpu/envs/aguadv_omz_busecke_2021/lib/python3.8/site-packages/cmip6_preprocessing/preprocessing.py:211: UserWarning: MIROC-ES2L: No units found for lev\n",
      "  warnings.warn(f'{ds.attrs[\"source_id\"]}: No units found for {co}')\n",
      "/scratch/gpfs/jbusecke/conda_tigercpu/envs/aguadv_omz_busecke_2021/lib/python3.8/site-packages/cmip6_preprocessing/preprocessing.py:211: UserWarning: MIROC-ES2L: No units found for lev\n",
      "  warnings.warn(f'{ds.attrs[\"source_id\"]}: No units found for {co}')\n",
      "/scratch/gpfs/jbusecke/conda_tigercpu/envs/aguadv_omz_busecke_2021/lib/python3.8/site-packages/cmip6_preprocessing/preprocessing.py:211: UserWarning: MIROC-ES2L: No units found for lev\n",
      "  warnings.warn(f'{ds.attrs[\"source_id\"]}: No units found for {co}')\n",
      "/scratch/gpfs/jbusecke/conda_tigercpu/envs/aguadv_omz_busecke_2021/lib/python3.8/site-packages/cmip6_preprocessing/preprocessing.py:211: UserWarning: MIROC-ES2L: No units found for lev\n",
      "  warnings.warn(f'{ds.attrs[\"source_id\"]}: No units found for {co}')\n",
      "/scratch/gpfs/jbusecke/conda_tigercpu/envs/aguadv_omz_busecke_2021/lib/python3.8/site-packages/cmip6_preprocessing/preprocessing.py:211: UserWarning: MIROC-ES2L: No units found for lev\n",
      "  warnings.warn(f'{ds.attrs[\"source_id\"]}: No units found for {co}')\n",
      "/scratch/gpfs/jbusecke/conda_tigercpu/envs/aguadv_omz_busecke_2021/lib/python3.8/site-packages/cmip6_preprocessing/preprocessing.py:211: UserWarning: MIROC-ES2L: No units found for lev\n",
      "  warnings.warn(f'{ds.attrs[\"source_id\"]}: No units found for {co}')\n",
      "/scratch/gpfs/jbusecke/conda_tigercpu/envs/aguadv_omz_busecke_2021/lib/python3.8/site-packages/cmip6_preprocessing/preprocessing.py:211: UserWarning: MIROC-ES2L: No units found for lev\n",
      "  warnings.warn(f'{ds.attrs[\"source_id\"]}: No units found for {co}')\n",
      "/scratch/gpfs/jbusecke/conda_tigercpu/envs/aguadv_omz_busecke_2021/lib/python3.8/site-packages/cmip6_preprocessing/preprocessing.py:211: UserWarning: MIROC-ES2L: No units found for lev\n",
      "  warnings.warn(f'{ds.attrs[\"source_id\"]}: No units found for {co}')\n",
      "/scratch/gpfs/jbusecke/conda_tigercpu/envs/aguadv_omz_busecke_2021/lib/python3.8/site-packages/cmip6_preprocessing/preprocessing.py:211: UserWarning: MIROC-ES2L: No units found for lev\n",
      "  warnings.warn(f'{ds.attrs[\"source_id\"]}: No units found for {co}')\n",
      "/scratch/gpfs/jbusecke/conda_tigercpu/envs/aguadv_omz_busecke_2021/lib/python3.8/site-packages/cmip6_preprocessing/preprocessing.py:211: UserWarning: MIROC-ES2L: No units found for lev\n",
      "  warnings.warn(f'{ds.attrs[\"source_id\"]}: No units found for {co}')\n",
      "/scratch/gpfs/jbusecke/conda_tigercpu/envs/aguadv_omz_busecke_2021/lib/python3.8/site-packages/cmip6_preprocessing/preprocessing.py:211: UserWarning: MIROC-ES2L: No units found for lev\n",
      "  warnings.warn(f'{ds.attrs[\"source_id\"]}: No units found for {co}')\n",
      "/scratch/gpfs/jbusecke/conda_tigercpu/envs/aguadv_omz_busecke_2021/lib/python3.8/site-packages/cmip6_preprocessing/preprocessing.py:211: UserWarning: MIROC-ES2L: No units found for lev\n",
      "  warnings.warn(f'{ds.attrs[\"source_id\"]}: No units found for {co}')\n",
      "/scratch/gpfs/jbusecke/conda_tigercpu/envs/aguadv_omz_busecke_2021/lib/python3.8/site-packages/cmip6_preprocessing/preprocessing.py:211: UserWarning: MIROC-ES2L: No units found for lev\n",
      "  warnings.warn(f'{ds.attrs[\"source_id\"]}: No units found for {co}')\n",
      "/scratch/gpfs/jbusecke/conda_tigercpu/envs/aguadv_omz_busecke_2021/lib/python3.8/site-packages/cmip6_preprocessing/preprocessing.py:211: UserWarning: MIROC-ES2L: No units found for lev\n",
      "  warnings.warn(f'{ds.attrs[\"source_id\"]}: No units found for {co}')\n",
      "/scratch/gpfs/jbusecke/conda_tigercpu/envs/aguadv_omz_busecke_2021/lib/python3.8/site-packages/cmip6_preprocessing/preprocessing.py:211: UserWarning: MIROC-ES2L: No units found for lev\n",
      "  warnings.warn(f'{ds.attrs[\"source_id\"]}: No units found for {co}')\n",
      "/scratch/gpfs/jbusecke/conda_tigercpu/envs/aguadv_omz_busecke_2021/lib/python3.8/site-packages/cmip6_preprocessing/preprocessing.py:211: UserWarning: MIROC-ES2L: No units found for lev\n",
      "  warnings.warn(f'{ds.attrs[\"source_id\"]}: No units found for {co}')\n",
      "/scratch/gpfs/jbusecke/conda_tigercpu/envs/aguadv_omz_busecke_2021/lib/python3.8/site-packages/cmip6_preprocessing/preprocessing.py:211: UserWarning: MIROC-ES2L: No units found for lev\n",
      "  warnings.warn(f'{ds.attrs[\"source_id\"]}: No units found for {co}')\n",
      "/scratch/gpfs/jbusecke/conda_tigercpu/envs/aguadv_omz_busecke_2021/lib/python3.8/site-packages/cmip6_preprocessing/preprocessing.py:211: UserWarning: MIROC-ES2L: No units found for lev\n",
      "  warnings.warn(f'{ds.attrs[\"source_id\"]}: No units found for {co}')\n",
      "/scratch/gpfs/jbusecke/conda_tigercpu/envs/aguadv_omz_busecke_2021/lib/python3.8/site-packages/cmip6_preprocessing/preprocessing.py:211: UserWarning: MIROC-ES2L: No units found for lev\n",
      "  warnings.warn(f'{ds.attrs[\"source_id\"]}: No units found for {co}')\n",
      "/scratch/gpfs/jbusecke/conda_tigercpu/envs/aguadv_omz_busecke_2021/lib/python3.8/site-packages/cmip6_preprocessing/preprocessing.py:211: UserWarning: MIROC-ES2L: No units found for lev\n",
      "  warnings.warn(f'{ds.attrs[\"source_id\"]}: No units found for {co}')\n",
      "/scratch/gpfs/jbusecke/conda_tigercpu/envs/aguadv_omz_busecke_2021/lib/python3.8/site-packages/cmip6_preprocessing/preprocessing.py:211: UserWarning: MIROC-ES2L: No units found for lev\n",
      "  warnings.warn(f'{ds.attrs[\"source_id\"]}: No units found for {co}')\n",
      "/scratch/gpfs/jbusecke/conda_tigercpu/envs/aguadv_omz_busecke_2021/lib/python3.8/site-packages/cmip6_preprocessing/preprocessing.py:211: UserWarning: MIROC-ES2L: No units found for lev\n",
      "  warnings.warn(f'{ds.attrs[\"source_id\"]}: No units found for {co}')\n",
      "/scratch/gpfs/jbusecke/conda_tigercpu/envs/aguadv_omz_busecke_2021/lib/python3.8/site-packages/cmip6_preprocessing/preprocessing.py:211: UserWarning: MIROC-ES2L: No units found for lev\n",
      "  warnings.warn(f'{ds.attrs[\"source_id\"]}: No units found for {co}')\n",
      "/scratch/gpfs/jbusecke/conda_tigercpu/envs/aguadv_omz_busecke_2021/lib/python3.8/site-packages/cmip6_preprocessing/preprocessing.py:211: UserWarning: MIROC-ES2L: No units found for lev\n",
      "  warnings.warn(f'{ds.attrs[\"source_id\"]}: No units found for {co}')\n",
      "/scratch/gpfs/jbusecke/conda_tigercpu/envs/aguadv_omz_busecke_2021/lib/python3.8/site-packages/cmip6_preprocessing/preprocessing.py:211: UserWarning: MIROC-ES2L: No units found for lev\n",
      "  warnings.warn(f'{ds.attrs[\"source_id\"]}: No units found for {co}')\n",
      "/scratch/gpfs/jbusecke/conda_tigercpu/envs/aguadv_omz_busecke_2021/lib/python3.8/site-packages/cmip6_preprocessing/preprocessing.py:211: UserWarning: MIROC-ES2L: No units found for lev\n",
      "  warnings.warn(f'{ds.attrs[\"source_id\"]}: No units found for {co}')\n",
      "/scratch/gpfs/jbusecke/conda_tigercpu/envs/aguadv_omz_busecke_2021/lib/python3.8/site-packages/cmip6_preprocessing/preprocessing.py:211: UserWarning: MIROC-ES2L: No units found for lev\n",
      "  warnings.warn(f'{ds.attrs[\"source_id\"]}: No units found for {co}')\n",
      "/scratch/gpfs/jbusecke/conda_tigercpu/envs/aguadv_omz_busecke_2021/lib/python3.8/site-packages/cmip6_preprocessing/preprocessing.py:211: UserWarning: MIROC-ES2L: No units found for lev\n",
      "  warnings.warn(f'{ds.attrs[\"source_id\"]}: No units found for {co}')\n",
      "/scratch/gpfs/jbusecke/conda_tigercpu/envs/aguadv_omz_busecke_2021/lib/python3.8/site-packages/cmip6_preprocessing/preprocessing.py:211: UserWarning: MIROC-ES2L: No units found for lev\n",
      "  warnings.warn(f'{ds.attrs[\"source_id\"]}: No units found for {co}')\n",
      "/scratch/gpfs/jbusecke/conda_tigercpu/envs/aguadv_omz_busecke_2021/lib/python3.8/site-packages/cmip6_preprocessing/preprocessing.py:211: UserWarning: MIROC-ES2L: No units found for lev\n",
      "  warnings.warn(f'{ds.attrs[\"source_id\"]}: No units found for {co}')\n",
      "/scratch/gpfs/jbusecke/conda_tigercpu/envs/aguadv_omz_busecke_2021/lib/python3.8/site-packages/cmip6_preprocessing/preprocessing.py:211: UserWarning: MIROC-ES2L: No units found for lev\n",
      "  warnings.warn(f'{ds.attrs[\"source_id\"]}: No units found for {co}')\n",
      "/scratch/gpfs/jbusecke/conda_tigercpu/envs/aguadv_omz_busecke_2021/lib/python3.8/site-packages/cmip6_preprocessing/preprocessing.py:211: UserWarning: MIROC-ES2L: No units found for lev\n",
      "  warnings.warn(f'{ds.attrs[\"source_id\"]}: No units found for {co}')\n",
      "/scratch/gpfs/jbusecke/conda_tigercpu/envs/aguadv_omz_busecke_2021/lib/python3.8/site-packages/cmip6_preprocessing/preprocessing.py:211: UserWarning: MIROC-ES2L: No units found for lev\n",
      "  warnings.warn(f'{ds.attrs[\"source_id\"]}: No units found for {co}')\n",
      "/scratch/gpfs/jbusecke/conda_tigercpu/envs/aguadv_omz_busecke_2021/lib/python3.8/site-packages/cmip6_preprocessing/preprocessing.py:211: UserWarning: MIROC-ES2L: No units found for lev\n",
      "  warnings.warn(f'{ds.attrs[\"source_id\"]}: No units found for {co}')\n",
      "/scratch/gpfs/jbusecke/conda_tigercpu/envs/aguadv_omz_busecke_2021/lib/python3.8/site-packages/cmip6_preprocessing/preprocessing.py:211: UserWarning: MIROC-ES2L: No units found for lev\n",
      "  warnings.warn(f'{ds.attrs[\"source_id\"]}: No units found for {co}')\n",
      "/scratch/gpfs/jbusecke/conda_tigercpu/envs/aguadv_omz_busecke_2021/lib/python3.8/site-packages/cmip6_preprocessing/preprocessing.py:211: UserWarning: MIROC-ES2L: No units found for lev\n",
      "  warnings.warn(f'{ds.attrs[\"source_id\"]}: No units found for {co}')\n",
      "/scratch/gpfs/jbusecke/conda_tigercpu/envs/aguadv_omz_busecke_2021/lib/python3.8/site-packages/cmip6_preprocessing/preprocessing.py:211: UserWarning: MIROC-ES2L: No units found for lev\n",
      "  warnings.warn(f'{ds.attrs[\"source_id\"]}: No units found for {co}')\n",
      "/scratch/gpfs/jbusecke/conda_tigercpu/envs/aguadv_omz_busecke_2021/lib/python3.8/site-packages/cmip6_preprocessing/preprocessing.py:211: UserWarning: MIROC-ES2L: No units found for lev\n",
      "  warnings.warn(f'{ds.attrs[\"source_id\"]}: No units found for {co}')\n",
      "/scratch/gpfs/jbusecke/conda_tigercpu/envs/aguadv_omz_busecke_2021/lib/python3.8/site-packages/cmip6_preprocessing/preprocessing.py:211: UserWarning: MIROC-ES2L: No units found for lev\n",
      "  warnings.warn(f'{ds.attrs[\"source_id\"]}: No units found for {co}')\n",
      "/scratch/gpfs/jbusecke/conda_tigercpu/envs/aguadv_omz_busecke_2021/lib/python3.8/site-packages/cmip6_preprocessing/preprocessing.py:211: UserWarning: MIROC-ES2L: No units found for lev\n",
      "  warnings.warn(f'{ds.attrs[\"source_id\"]}: No units found for {co}')\n",
      "/scratch/gpfs/jbusecke/conda_tigercpu/envs/aguadv_omz_busecke_2021/lib/python3.8/site-packages/cmip6_preprocessing/preprocessing.py:211: UserWarning: MIROC-ES2L: No units found for lev\n",
      "  warnings.warn(f'{ds.attrs[\"source_id\"]}: No units found for {co}')\n",
      "/scratch/gpfs/jbusecke/conda_tigercpu/envs/aguadv_omz_busecke_2021/lib/python3.8/site-packages/cmip6_preprocessing/preprocessing.py:211: UserWarning: MIROC-ES2L: No units found for lev\n",
      "  warnings.warn(f'{ds.attrs[\"source_id\"]}: No units found for {co}')\n"
     ]
    }
   ],
   "source": [
    "ddict = load_single_datasets(\n",
    "    col,\n",
    "    source_id=[\n",
    "        \"UKESM1-0-LL\", # area not available for all members\n",
    "        \"MRI-ESM2-0\", # \n",
    "        \"NorESM2-LM\",\n",
    "        \"NorESM2-MM\",\n",
    "        \"GFDL-ESM4\",\n",
    "        \"GFDL-CM4\",\n",
    "        \"MIROC-ES2L\", # done\n",
    "        \"CNRM-ESM2-1\", # done bunch of members have missing thetao\n",
    "        \"CanESM5\", # done\n",
    "        \"CanESM5-CanOE\", # done\n",
    "        \"MPI-ESM1-2-HR\", # done\n",
    "        \"ACCESS-ESM1-5\", # done\n",
    "        \"IPSL-CM6A-LR\", # done\n",
    "        \"NorESM1-F\", #meh, dont need it\n",
    "        \"NorCPM1\", #meh, dont need it\n",
    "        \"MPI-ESM-1-2-HAM\", # done\n",
    "        \"MPI-ESM1-2-LR\", # done\n",
    "    ],\n",
    "    grid_label=[\"gr\", \"gn\"],\n",
    "    experiment_id=[\"historical\", \"ssp585\", \"piControl\"],\n",
    "    table_id=[\"Omon\", \"Ofx\"],\n",
    "    variable_id=[\"thetao\", \"so\", \"o2\", \"mlotst\", \"agessc\", \"thkcello\", \"areacello\"],\n",
    ")"
   ]
  },
  {
   "cell_type": "code",
   "execution_count": 16,
   "metadata": {},
   "outputs": [
    {
     "data": {
      "text/html": [
       "\n",
       "    <div>\n",
       "        <style>\n",
       "            /* Turns off some styling */\n",
       "            progress {\n",
       "                /* gets rid of default border in Firefox and Opera. */\n",
       "                border: none;\n",
       "                /* Needs to be in here for Safari polyfill so background images work as expected. */\n",
       "                background-size: auto;\n",
       "            }\n",
       "            .progress-bar-interrupted, .progress-bar-interrupted::-webkit-progress-bar {\n",
       "                background: #F44336;\n",
       "            }\n",
       "        </style>\n",
       "      <progress value='589' class='' max='589' style='width:300px; height:20px; vertical-align: middle;'></progress>\n",
       "      100.00% [589/589 02:03<00:00]\n",
       "    </div>\n",
       "    "
      ],
      "text/plain": [
       "<IPython.core.display.HTML object>"
      ]
     },
     "metadata": {},
     "output_type": "display_data"
    },
    {
     "name": "stdout",
     "output_type": "stream",
     "text": [
      "found all nan regression data for ../../data/processed/linear_regression_time_zarr_multimember/CMIP_CCCma_CanESM5_historical_Omon_gn_v20190429_r22i1p1f1_so_trend.nc\n",
      "found all nan regression data for ../../data/processed/linear_regression_time_zarr_multimember/CMIP_CCCma_CanESM5_historical_Omon_gn_v20190429_r23i1p1f1_o2_trend.nc\n",
      "found all nan regression data for ../../data/processed/linear_regression_time_zarr_multimember/CMIP_CCCma_CanESM5_historical_Omon_gn_v20190429_r25i1p1f1_so_trend.nc\n",
      "found all nan regression data for ../../data/processed/linear_regression_time_zarr_multimember/CMIP_CCCma_CanESM5_historical_Omon_gn_v20190429_r21i1p1f1_o2_trend.nc\n",
      "found all nan regression data for ../../data/processed/linear_regression_time_zarr_multimember/CMIP_CCCma_CanESM5_historical_Omon_gn_v20190429_r24i1p1f1_so_trend.nc\n",
      "found all nan regression data for ../../data/processed/linear_regression_time_zarr_multimember/CMIP_CCCma_CanESM5_historical_Omon_gn_v20190429_r22i1p1f1_o2_trend.nc\n",
      "found all nan regression data for ../../data/processed/linear_regression_time_zarr_multimember/CMIP_CCCma_CanESM5_historical_Omon_gn_v20190429_r25i1p1f1_agessc_trend.nc\n",
      "found all nan regression data for ../../data/processed/linear_regression_time_zarr_multimember/CMIP_CCCma_CanESM5_historical_Omon_gn_v20190429_r21i1p1f1_agessc_trend.nc\n",
      "found all nan regression data for ../../data/processed/linear_regression_time_zarr_multimember/CMIP_CCCma_CanESM5_historical_Omon_gn_v20190429_r23i1p1f1_agessc_trend.nc\n",
      "found all nan regression data for ../../data/processed/linear_regression_time_zarr_multimember/CMIP_CCCma_CanESM5_historical_Omon_gn_v20190429_r25i1p1f1_o2_trend.nc\n",
      "found all nan regression data for ../../data/processed/linear_regression_time_zarr_multimember/CMIP_CCCma_CanESM5_historical_Omon_gn_v20190429_r24i1p1f1_agessc_trend.nc\n",
      "found all nan regression data for ../../data/processed/linear_regression_time_zarr_multimember/CMIP_CCCma_CanESM5_historical_Omon_gn_v20190429_r24i1p1f1_o2_trend.nc\n",
      "found all nan regression data for ../../data/processed/linear_regression_time_zarr_multimember/CMIP_CCCma_CanESM5_historical_Omon_gn_v20190429_r21i1p1f1_so_trend.nc\n",
      "found all nan regression data for ../../data/processed/linear_regression_time_zarr_multimember/CMIP_CCCma_CanESM5_historical_Omon_gn_v20190429_r21i1p1f1_thetao_trend.nc\n",
      "found all nan regression data for ../../data/processed/linear_regression_time_zarr_multimember/CMIP_CCCma_CanESM5_historical_Omon_gn_v20190429_r23i1p1f1_so_trend.nc\n",
      "found all nan regression data for ../../data/processed/linear_regression_time_zarr_multimember/CMIP_CCCma_CanESM5_historical_Omon_gn_v20190429_r22i1p1f1_thetao_trend.nc\n",
      "found all nan regression data for ../../data/processed/linear_regression_time_zarr_multimember/CMIP_CCCma_CanESM5_historical_Omon_gn_v20190429_r23i1p1f1_thetao_trend.nc\n",
      "found all nan regression data for ../../data/processed/linear_regression_time_zarr_multimember/CMIP_CCCma_CanESM5_historical_Omon_gn_v20190429_r22i1p1f1_agessc_trend.nc\n",
      "found all nan regression data for ../../data/processed/linear_regression_time_zarr_multimember/CMIP_CCCma_CanESM5_historical_Omon_gn_v20190429_r25i1p1f1_thetao_trend.nc\n",
      "found all nan regression data for ../../data/processed/linear_regression_time_zarr_multimember/CMIP_CCCma_CanESM5_historical_Omon_gn_v20190429_r24i1p1f1_thetao_trend.nc\n"
     ]
    }
   ],
   "source": [
    "# Load all trends into dict\n",
    "\n",
    "import pathlib\n",
    "trendfolder = pathlib.Path('../../data/processed/linear_regression_time_zarr_multimember/')\n",
    "trend_models = np.unique([ds.attrs['source_id'] for ds in ddict.values()])\n",
    "flist = []\n",
    "for tm in trend_models:\n",
    "    flist = flist + list(trendfolder.glob(f'*{tm}*_trend.nc'))\n",
    "\n",
    "total = len(flist)\n",
    "progress = progress_bar(range(total))\n",
    "\n",
    "trend_dict = {}\n",
    "for i,path in enumerate(flist):\n",
    "    key = path.stem\n",
    "    ds = xr.open_mfdataset([path])\n",
    "    # write the filename in the dataset\n",
    "    ds.attrs.update({'filepath':str(path)})\n",
    "    # exclude all nan slopes (why are these there in the first place?)\n",
    "    if not np.isnan(ds.slope).all():\n",
    "        trend_dict[key] = ds\n",
    "    else:\n",
    "        print(f\"found all nan regression data for {path}\")\n",
    "    progress.update(i)\n",
    "progress.update(total)"
   ]
  },
  {
   "cell_type": "code",
   "execution_count": 17,
   "metadata": {},
   "outputs": [
    {
     "name": "stdout",
     "output_type": "stream",
     "text": [
      "Manually Ingnored Variable: Passing CMIP.CCCma.CanESM5.historical.r16i1p2f1.Ofx.areacello.gn unaltered\n",
      "Manually Ingnored Variable: Passing ScenarioMIP.CCCma.CanESM5-CanOE.ssp585.r3i1p2f1.Ofx.thkcello.gn unaltered\n",
      "Manually Ingnored Variable: Passing CMIP.CCCma.CanESM5.historical.r36i1p2f1.Ofx.thkcello.gn unaltered\n",
      "Manually Ingnored Variable: Passing CMIP.CCCma.CanESM5.historical.r5i1p2f1.Ofx.areacello.gn unaltered\n",
      "Manually Ingnored Variable: Passing CMIP.CCCma.CanESM5-CanOE.historical.r1i1p2f1.Ofx.thkcello.gn unaltered\n",
      "Manually Ingnored Variable: Passing CMIP.IPSL.IPSL-CM6A-LR.historical.r31i1p1f1.Ofx.areacello.gn unaltered\n",
      "Manually Ingnored Variable: Passing ScenarioMIP.CCCma.CanESM5.ssp585.r12i1p2f1.Ofx.thkcello.gn unaltered\n",
      "Manually Ingnored Variable: Passing CMIP.NCC.NorESM2-LM.piControl.r1i1p1f1.Ofx.thkcello.gr unaltered\n",
      "Manually Ingnored Variable: Passing CMIP.CCCma.CanESM5.historical.r12i1p2f1.Ofx.thkcello.gn unaltered\n",
      "Manually Ingnored Variable: Passing CMIP.MPI-M.MPI-ESM1-2-LR.historical.r9i1p1f1.Ofx.thkcello.gn unaltered\n",
      "Manually Ingnored Variable: Passing CMIP.IPSL.IPSL-CM6A-LR.historical.r21i1p1f1.Ofx.areacello.gn unaltered\n",
      "Manually Ingnored Variable: Passing CMIP.CCCma.CanESM5.historical.r19i1p2f1.Ofx.areacello.gn unaltered\n",
      "Manually Ingnored Variable: Passing CMIP.MIROC.MIROC-ES2L.historical.r3i1p1f2.Ofx.areacello.gn unaltered\n",
      "Manually Ingnored Variable: Passing CMIP.MRI.MRI-ESM2-0.historical.r2i1p1f1.Ofx.areacello.gn unaltered\n",
      "Manually Ingnored Variable: Passing ScenarioMIP.DWD.MPI-ESM1-2-HR.ssp585.r2i1p1f1.Ofx.thkcello.gn unaltered\n"
     ]
    },
    {
     "name": "stderr",
     "output_type": "stream",
     "text": [
      "/projects/GEOCLIM/LRGROUP/jbusecke/projects/aguadv_omz_busecke_2021/aguadv_omz_busecke_2021/cmip6_stash.py:262: UserWarning: No match found for ['NorCPM1', 'Omon', 'gn', 'r19i1p1f1', 'so'].\n",
      "  warnings.warn(f\"No match found for {match_elements}.\")\n"
     ]
    },
    {
     "name": "stdout",
     "output_type": "stream",
     "text": [
      "Manually Ingnored Variable: Passing ScenarioMIP.CNRM-CERFACS.CNRM-ESM2-1.ssp585.r1i1p1f2.Omon.mlotst.gn unaltered\n",
      "Manually Ingnored Variable: Passing ScenarioMIP.MOHC.UKESM1-0-LL.ssp585.r3i1p1f2.Omon.mlotst.gn unaltered\n"
     ]
    },
    {
     "name": "stderr",
     "output_type": "stream",
     "text": [
      "/projects/GEOCLIM/LRGROUP/jbusecke/projects/aguadv_omz_busecke_2021/aguadv_omz_busecke_2021/cmip6_stash.py:262: UserWarning: No match found for ['NorESM2-MM', 'Omon', 'gn', 'r1i1p1f1', 'so'].\n",
      "  warnings.warn(f\"No match found for {match_elements}.\")\n"
     ]
    },
    {
     "name": "stdout",
     "output_type": "stream",
     "text": [
      "Manually Ingnored Variable: Passing CMIP.NCC.NorCPM1.historical.r7i1p1f1.Ofx.areacello.gn unaltered\n",
      "Manually Ingnored Variable: Passing ScenarioMIP.CCCma.CanESM5.ssp585.r23i1p2f1.Ofx.thkcello.gn unaltered\n",
      "Manually Ingnored Variable: Passing ScenarioMIP.MPI-M.MPI-ESM1-2-LR.ssp585.r8i1p1f1.Omon.thkcello.gn unaltered\n",
      "Manually Ingnored Variable: Passing ScenarioMIP.CCCma.CanESM5.ssp585.r3i1p2f1.Ofx.areacello.gn unaltered\n",
      "Manually Ingnored Variable: Passing CMIP.MPI-M.MPI-ESM1-2-LR.historical.r3i1p1f1.Ofx.areacello.gn unaltered\n"
     ]
    },
    {
     "name": "stderr",
     "output_type": "stream",
     "text": [
      "/projects/GEOCLIM/LRGROUP/jbusecke/projects/aguadv_omz_busecke_2021/aguadv_omz_busecke_2021/cmip6_stash.py:262: UserWarning: No match found for ['NorCPM1', 'Omon', 'gn', 'r14i1p1f1', 'so'].\n",
      "  warnings.warn(f\"No match found for {match_elements}.\")\n",
      "/projects/GEOCLIM/LRGROUP/jbusecke/projects/aguadv_omz_busecke_2021/aguadv_omz_busecke_2021/cmip6_stash.py:262: UserWarning: No match found for ['IPSL-CM6A-LR', 'Omon', 'gn', 'r32i1p1f1', 'thetao'].\n",
      "  warnings.warn(f\"No match found for {match_elements}.\")\n"
     ]
    },
    {
     "name": "stdout",
     "output_type": "stream",
     "text": [
      "Manually Ingnored Variable: Passing CMIP.CCCma.CanESM5.historical.r25i1p1f1.Omon.mlotst.gn unaltered\n",
      "Manually Ingnored Variable: Passing CMIP.IPSL.IPSL-CM6A-LR.historical.r4i1p1f1.Omon.thkcello.gn unaltered\n",
      "Manually Ingnored Variable: Passing CMIP.CCCma.CanESM5.historical.r6i1p2f1.Omon.mlotst.gn unaltered\n",
      "Manually Ingnored Variable: Passing CMIP.CSIRO.ACCESS-ESM1-5.historical.r4i1p1f1.Omon.mlotst.gn unaltered\n",
      "Manually Ingnored Variable: Passing CMIP.MPI-M.MPI-ESM1-2-LR.historical.r10i1p1f1.Omon.mlotst.gn unaltered\n",
      "Manually Ingnored Variable: Passing CMIP.CCCma.CanESM5.historical.r9i1p1f1.Ofx.areacello.gn unaltered\n",
      "Manually Ingnored Variable: Passing CMIP.IPSL.IPSL-CM6A-LR.historical.r5i1p1f1.Ofx.areacello.gn unaltered\n",
      "Manually Ingnored Variable: Passing CMIP.CCCma.CanESM5.historical.r25i1p2f1.Ofx.thkcello.gn unaltered\n",
      "Manually Ingnored Variable: Passing CMIP.MPI-M.MPI-ESM1-2-HR.historical.r2i1p1f1.Omon.thkcello.gn unaltered\n"
     ]
    },
    {
     "name": "stderr",
     "output_type": "stream",
     "text": [
      "/projects/GEOCLIM/LRGROUP/jbusecke/projects/aguadv_omz_busecke_2021/aguadv_omz_busecke_2021/cmip6_stash.py:262: UserWarning: No match found for ['CanESM5', 'Omon', 'gn', 'r22i1p1f1', 'so'].\n",
      "  warnings.warn(f\"No match found for {match_elements}.\")\n",
      "/projects/GEOCLIM/LRGROUP/jbusecke/projects/aguadv_omz_busecke_2021/aguadv_omz_busecke_2021/cmip6_stash.py:262: UserWarning: No match found for ['MPI-ESM1-2-HR', 'Omon', 'gn', 'r2i1p1f1', 'so'].\n",
      "  warnings.warn(f\"No match found for {match_elements}.\")\n"
     ]
    },
    {
     "name": "stdout",
     "output_type": "stream",
     "text": [
      "Manually Ingnored Variable: Passing CMIP.CCCma.CanESM5.historical.r12i1p1f1.Ofx.areacello.gn unaltered\n",
      "Manually Ingnored Variable: Passing CMIP.IPSL.IPSL-CM6A-LR.historical.r10i1p1f1.Omon.thkcello.gn unaltered\n",
      "Manually Ingnored Variable: Passing CMIP.MRI.MRI-ESM2-0.historical.r4i1p1f1.Omon.mlotst.gn unaltered\n"
     ]
    },
    {
     "name": "stderr",
     "output_type": "stream",
     "text": [
      "/projects/GEOCLIM/LRGROUP/jbusecke/projects/aguadv_omz_busecke_2021/aguadv_omz_busecke_2021/cmip6_stash.py:262: UserWarning: No match found for ['MPI-ESM1-2-HR', 'Omon', 'gn', 'r3i1p1f1', 'so'].\n",
      "  warnings.warn(f\"No match found for {match_elements}.\")\n",
      "/projects/GEOCLIM/LRGROUP/jbusecke/projects/aguadv_omz_busecke_2021/aguadv_omz_busecke_2021/cmip6_stash.py:262: UserWarning: No match found for ['NorCPM1', 'Omon', 'gr', 'r8i1p1f1', 'thetao'].\n",
      "  warnings.warn(f\"No match found for {match_elements}.\")\n"
     ]
    },
    {
     "name": "stdout",
     "output_type": "stream",
     "text": [
      "Manually Ingnored Variable: Passing CMIP.NCC.NorCPM1.historical.r17i1p1f1.Omon.mlotst.gn unaltered\n",
      "Manually Ingnored Variable: Passing CMIP.CCCma.CanESM5-CanOE.piControl.r1i1p2f1.Ofx.areacello.gn unaltered\n"
     ]
    },
    {
     "name": "stderr",
     "output_type": "stream",
     "text": [
      "/projects/GEOCLIM/LRGROUP/jbusecke/projects/aguadv_omz_busecke_2021/aguadv_omz_busecke_2021/cmip6_stash.py:262: UserWarning: No match found for ['NorCPM1', 'Omon', 'gr', 'r2i1p1f1', 'thetao'].\n",
      "  warnings.warn(f\"No match found for {match_elements}.\")\n",
      "/projects/GEOCLIM/LRGROUP/jbusecke/projects/aguadv_omz_busecke_2021/aguadv_omz_busecke_2021/cmip6_stash.py:262: UserWarning: No match found for ['MPI-ESM1-2-HR', 'Omon', 'gn', 'r4i1p1f1', 'o2'].\n",
      "  warnings.warn(f\"No match found for {match_elements}.\")\n",
      "/projects/GEOCLIM/LRGROUP/jbusecke/projects/aguadv_omz_busecke_2021/aguadv_omz_busecke_2021/cmip6_stash.py:262: UserWarning: No match found for ['NorCPM1', 'Omon', 'gn', 'r2i1p1f1', 'thetao'].\n",
      "  warnings.warn(f\"No match found for {match_elements}.\")\n"
     ]
    },
    {
     "name": "stdout",
     "output_type": "stream",
     "text": [
      "Manually Ingnored Variable: Passing CMIP.MPI-M.MPI-ESM1-2-HR.historical.r5i1p1f1.Ofx.areacello.gn unaltered\n",
      "Manually Ingnored Variable: Passing CMIP.IPSL.IPSL-CM6A-LR.historical.r25i1p1f1.Ofx.areacello.gn unaltered\n",
      "Manually Ingnored Variable: Passing ScenarioMIP.CCCma.CanESM5.ssp585.r11i1p1f1.Ofx.areacello.gn unaltered\n",
      "Manually Ingnored Variable: Passing ScenarioMIP.CCCma.CanESM5.ssp585.r9i1p2f1.Omon.mlotst.gn unaltered\n",
      "Manually Ingnored Variable: Passing ScenarioMIP.IPSL.IPSL-CM6A-LR.ssp585.r3i1p1f1.Ofx.areacello.gn unaltered\n"
     ]
    },
    {
     "name": "stderr",
     "output_type": "stream",
     "text": [
      "/projects/GEOCLIM/LRGROUP/jbusecke/projects/aguadv_omz_busecke_2021/aguadv_omz_busecke_2021/cmip6_stash.py:262: UserWarning: No match found for ['NorCPM1', 'Omon', 'gn', 'r16i1p1f1', 'thetao'].\n",
      "  warnings.warn(f\"No match found for {match_elements}.\")\n"
     ]
    },
    {
     "name": "stdout",
     "output_type": "stream",
     "text": [
      "Manually Ingnored Variable: Passing CMIP.NCC.NorCPM1.historical.r8i1p1f1.Ofx.areacello.gn unaltered\n",
      "Manually Ingnored Variable: Passing CMIP.NCC.NorCPM1.historical.r26i1p1f1.Ofx.areacello.gn unaltered\n"
     ]
    },
    {
     "name": "stderr",
     "output_type": "stream",
     "text": [
      "/projects/GEOCLIM/LRGROUP/jbusecke/projects/aguadv_omz_busecke_2021/aguadv_omz_busecke_2021/cmip6_stash.py:262: UserWarning: No match found for ['NorCPM1', 'Omon', 'gr', 'r5i1p1f1', 'thetao'].\n",
      "  warnings.warn(f\"No match found for {match_elements}.\")\n",
      "/projects/GEOCLIM/LRGROUP/jbusecke/projects/aguadv_omz_busecke_2021/aguadv_omz_busecke_2021/cmip6_stash.py:262: UserWarning: No match found for ['NorCPM1', 'Omon', 'gn', 'r13i1p1f1', 'so'].\n",
      "  warnings.warn(f\"No match found for {match_elements}.\")\n",
      "/projects/GEOCLIM/LRGROUP/jbusecke/projects/aguadv_omz_busecke_2021/aguadv_omz_busecke_2021/cmip6_stash.py:262: UserWarning: No match found for ['MPI-ESM1-2-HR', 'Omon', 'gn', 'r10i1p1f1', 'so'].\n",
      "  warnings.warn(f\"No match found for {match_elements}.\")\n",
      "/projects/GEOCLIM/LRGROUP/jbusecke/projects/aguadv_omz_busecke_2021/aguadv_omz_busecke_2021/cmip6_stash.py:262: UserWarning: No match found for ['CanESM5', 'Omon', 'gn', 'r24i1p1f1', 'o2'].\n",
      "  warnings.warn(f\"No match found for {match_elements}.\")\n"
     ]
    },
    {
     "name": "stdout",
     "output_type": "stream",
     "text": [
      "Manually Ingnored Variable: Passing ScenarioMIP.CCCma.CanESM5.ssp585.r15i1p2f1.Omon.mlotst.gn unaltered\n",
      "Manually Ingnored Variable: Passing CMIP.CSIRO.ACCESS-ESM1-5.historical.r6i1p1f1.Ofx.areacello.gn unaltered\n",
      "Manually Ingnored Variable: Passing CMIP.NCC.NorCPM1.historical.r19i1p1f1.Ofx.areacello.gn unaltered\n",
      "Manually Ingnored Variable: Passing CMIP.IPSL.IPSL-CM6A-LR.historical.r9i1p1f1.Ofx.areacello.gn unaltered\n",
      "Manually Ingnored Variable: Passing CMIP.MIROC.MIROC-ES2L.historical.r5i1p1f2.Ofx.areacello.gn unaltered\n",
      "Manually Ingnored Variable: Passing CMIP.MOHC.UKESM1-0-LL.historical.r1i1p1f2.Omon.thkcello.gn unaltered\n",
      "Manually Ingnored Variable: Passing CMIP.CCCma.CanESM5-CanOE.historical.r1i1p2f1.Omon.mlotst.gn unaltered\n",
      "Manually Ingnored Variable: Passing CMIP.CCCma.CanESM5.historical.r21i1p2f1.Omon.mlotst.gn unaltered\n",
      "Manually Ingnored Variable: Passing CMIP.IPSL.IPSL-CM6A-LR.historical.r15i1p1f1.Omon.mlotst.gn unaltered\n",
      "Manually Ingnored Variable: Passing CMIP.CCCma.CanESM5.historical.r11i1p1f1.Omon.mlotst.gn unaltered\n",
      "Manually Ingnored Variable: Passing CMIP.CCCma.CanESM5.historical.r35i1p2f1.Ofx.thkcello.gn unaltered\n"
     ]
    },
    {
     "name": "stderr",
     "output_type": "stream",
     "text": [
      "/projects/GEOCLIM/LRGROUP/jbusecke/projects/aguadv_omz_busecke_2021/aguadv_omz_busecke_2021/cmip6_stash.py:262: UserWarning: No match found for ['MPI-ESM1-2-HR', 'Omon', 'gn', 'r6i1p1f1', 'so'].\n",
      "  warnings.warn(f\"No match found for {match_elements}.\")\n",
      "/projects/GEOCLIM/LRGROUP/jbusecke/projects/aguadv_omz_busecke_2021/aguadv_omz_busecke_2021/cmip6_stash.py:262: UserWarning: No match found for ['CanESM5', 'Omon', 'gn', 'r31i1p2f1', 'thetao'].\n",
      "  warnings.warn(f\"No match found for {match_elements}.\")\n"
     ]
    },
    {
     "name": "stdout",
     "output_type": "stream",
     "text": [
      "Manually Ingnored Variable: Passing CMIP.MOHC.UKESM1-0-LL.historical.r7i1p1f3.Omon.mlotst.gn unaltered\n",
      "Manually Ingnored Variable: Passing ScenarioMIP.CNRM-CERFACS.CNRM-ESM2-1.ssp585.r3i1p1f2.Ofx.areacello.gn unaltered\n",
      "Manually Ingnored Variable: Passing ScenarioMIP.CCCma.CanESM5.ssp585.r25i1p1f1.Ofx.thkcello.gn unaltered\n",
      "Manually Ingnored Variable: Passing ScenarioMIP.MPI-M.MPI-ESM1-2-LR.ssp585.r2i1p1f1.Omon.thkcello.gn unaltered\n",
      "Manually Ingnored Variable: Passing CMIP.CCCma.CanESM5.historical.r24i1p1f1.Omon.mlotst.gn unaltered\n",
      "Manually Ingnored Variable: Passing CMIP.IPSL.IPSL-CM6A-LR.historical.r14i1p1f1.Omon.mlotst.gn unaltered\n",
      "Manually Ingnored Variable: Passing ScenarioMIP.CSIRO.ACCESS-ESM1-5.ssp585.r3i1p1f1.Ofx.areacello.gn unaltered\n",
      "Manually Ingnored Variable: Passing CMIP.CCCma.CanESM5-CanOE.historical.r1i1p2f1.Ofx.areacello.gn unaltered\n",
      "Manually Ingnored Variable: Passing CMIP.CCCma.CanESM5.historical.r8i1p2f1.Omon.mlotst.gn unaltered\n",
      "Manually Ingnored Variable: Passing CMIP.CCCma.CanESM5.piControl.r1i1p1f1.Ofx.areacello.gn unaltered\n",
      "Manually Ingnored Variable: Passing ScenarioMIP.MPI-M.MPI-ESM1-2-LR.ssp585.r6i1p1f1.Ofx.areacello.gn unaltered\n",
      "Manually Ingnored Variable: Passing ScenarioMIP.MPI-M.MPI-ESM1-2-LR.ssp585.r10i1p1f1.Ofx.areacello.gn unaltered\n"
     ]
    },
    {
     "name": "stderr",
     "output_type": "stream",
     "text": [
      "/projects/GEOCLIM/LRGROUP/jbusecke/projects/aguadv_omz_busecke_2021/aguadv_omz_busecke_2021/cmip6_stash.py:262: UserWarning: No match found for ['NorCPM1', 'Omon', 'gr', 'r5i1p1f1', 'so'].\n",
      "  warnings.warn(f\"No match found for {match_elements}.\")\n"
     ]
    },
    {
     "name": "stdout",
     "output_type": "stream",
     "text": [
      "Manually Ingnored Variable: Passing ScenarioMIP.CCCma.CanESM5.ssp585.r2i1p2f1.Ofx.areacello.gn unaltered\n",
      "Manually Ingnored Variable: Passing CMIP.CCCma.CanESM5.historical.r8i1p1f1.Ofx.areacello.gn unaltered\n",
      "Manually Ingnored Variable: Passing CMIP.NCC.NorESM2-LM.historical.r3i1p1f1.Omon.thkcello.gn unaltered\n"
     ]
    },
    {
     "name": "stderr",
     "output_type": "stream",
     "text": [
      "/projects/GEOCLIM/LRGROUP/jbusecke/projects/aguadv_omz_busecke_2021/aguadv_omz_busecke_2021/cmip6_stash.py:262: UserWarning: No match found for ['NorESM2-LM', 'Omon', 'gn', 'r1i1p1f1', 'so'].\n",
      "  warnings.warn(f\"No match found for {match_elements}.\")\n"
     ]
    },
    {
     "name": "stdout",
     "output_type": "stream",
     "text": [
      "Manually Ingnored Variable: Passing CMIP.CSIRO.ACCESS-ESM1-5.historical.r6i1p1f1.Ofx.thkcello.gn unaltered\n",
      "Manually Ingnored Variable: Passing ScenarioMIP.IPSL.IPSL-CM6A-LR.ssp585.r6i1p1f1.Ofx.areacello.gn unaltered\n",
      "Manually Ingnored Variable: Passing ScenarioMIP.CCCma.CanESM5-CanOE.ssp585.r3i1p2f1.Omon.mlotst.gn unaltered\n"
     ]
    },
    {
     "name": "stderr",
     "output_type": "stream",
     "text": [
      "/projects/GEOCLIM/LRGROUP/jbusecke/projects/aguadv_omz_busecke_2021/aguadv_omz_busecke_2021/cmip6_stash.py:262: UserWarning: No match found for ['NorCPM1', 'Omon', 'gn', 'r1i1p1f1', 'so'].\n",
      "  warnings.warn(f\"No match found for {match_elements}.\")\n",
      "/projects/GEOCLIM/LRGROUP/jbusecke/projects/aguadv_omz_busecke_2021/aguadv_omz_busecke_2021/cmip6_stash.py:262: UserWarning: No match found for ['NorCPM1', 'Omon', 'gn', 'r22i1p1f1', 'so'].\n",
      "  warnings.warn(f\"No match found for {match_elements}.\")\n"
     ]
    },
    {
     "name": "stdout",
     "output_type": "stream",
     "text": [
      "Manually Ingnored Variable: Passing ScenarioMIP.IPSL.IPSL-CM6A-LR.ssp585.r14i1p1f1.Omon.mlotst.gn unaltered\n",
      "Manually Ingnored Variable: Passing CMIP.MOHC.UKESM1-0-LL.historical.r9i1p1f2.Omon.mlotst.gn unaltered\n",
      "Manually Ingnored Variable: Passing ScenarioMIP.MPI-M.MPI-ESM1-2-LR.ssp585.r7i1p1f1.Ofx.areacello.gn unaltered\n",
      "Manually Ingnored Variable: Passing ScenarioMIP.CNRM-CERFACS.CNRM-ESM2-1.ssp585.r5i1p1f2.Omon.thkcello.gn unaltered\n",
      "Manually Ingnored Variable: Passing CMIP.CCCma.CanESM5.historical.r4i1p2f1.Ofx.thkcello.gn unaltered\n"
     ]
    },
    {
     "name": "stderr",
     "output_type": "stream",
     "text": [
      "/projects/GEOCLIM/LRGROUP/jbusecke/projects/aguadv_omz_busecke_2021/aguadv_omz_busecke_2021/cmip6_stash.py:262: UserWarning: No match found for ['MPI-ESM1-2-HR', 'Omon', 'gn', 'r6i1p1f1', 'o2'].\n",
      "  warnings.warn(f\"No match found for {match_elements}.\")\n",
      "/projects/GEOCLIM/LRGROUP/jbusecke/projects/aguadv_omz_busecke_2021/aguadv_omz_busecke_2021/cmip6_stash.py:262: UserWarning: No match found for ['NorCPM1', 'Omon', 'gr', 'r13i1p1f1', 'o2'].\n",
      "  warnings.warn(f\"No match found for {match_elements}.\")\n",
      "/projects/GEOCLIM/LRGROUP/jbusecke/projects/aguadv_omz_busecke_2021/aguadv_omz_busecke_2021/cmip6_stash.py:262: UserWarning: No match found for ['CanESM5', 'Omon', 'gn', 'r34i1p2f1', 'so'].\n",
      "  warnings.warn(f\"No match found for {match_elements}.\")\n"
     ]
    },
    {
     "name": "stdout",
     "output_type": "stream",
     "text": [
      "Manually Ingnored Variable: Passing CMIP.IPSL.IPSL-CM6A-LR.historical.r28i1p1f1.Omon.thkcello.gn unaltered\n",
      "Manually Ingnored Variable: Passing CMIP.CCCma.CanESM5.piControl.r1i1p2f1.Ofx.thkcello.gn unaltered\n",
      "Manually Ingnored Variable: Passing ScenarioMIP.MOHC.UKESM1-0-LL.ssp585.r8i1p1f2.Omon.thkcello.gn unaltered\n",
      "Control run: Passing CMIP.NCC.NorESM2-LM.piControl.r1i1p1f1.Omon.thetao.gr unaltered\n",
      "Control run: Passing CMIP.NCC.NorESM2-LM.piControl.r1i1p1f1.Omon.agessc.gn unaltered\n",
      "Control run: Passing CMIP.NCC.NorESM2-MM.piControl.r1i1p1f1.Omon.so.gn unaltered\n",
      "Manually Ingnored Variable: Passing CMIP.IPSL.IPSL-CM6A-LR.historical.r30i1p1f1.Omon.mlotst.gn unaltered\n",
      "Control run: Passing CMIP.CNRM-CERFACS.CNRM-ESM2-1.piControl.r1i1p1f2.Omon.o2.gn unaltered\n",
      "Manually Ingnored Variable: Passing ScenarioMIP.CCCma.CanESM5.ssp585.r11i1p1f1.Ofx.thkcello.gn unaltered\n",
      "Manually Ingnored Variable: Passing ScenarioMIP.CCCma.CanESM5.ssp585.r9i1p1f1.Ofx.thkcello.gn unaltered\n"
     ]
    },
    {
     "name": "stderr",
     "output_type": "stream",
     "text": [
      "/projects/GEOCLIM/LRGROUP/jbusecke/projects/aguadv_omz_busecke_2021/aguadv_omz_busecke_2021/cmip6_stash.py:262: UserWarning: No match found for ['CanESM5', 'Omon', 'gn', 'r32i1p2f1', 'thetao'].\n",
      "  warnings.warn(f\"No match found for {match_elements}.\")\n"
     ]
    },
    {
     "name": "stdout",
     "output_type": "stream",
     "text": [
      "Manually Ingnored Variable: Passing CMIP.MOHC.UKESM1-0-LL.historical.r5i1p1f3.Omon.mlotst.gn unaltered\n",
      "Manually Ingnored Variable: Passing ScenarioMIP.IPSL.IPSL-CM6A-LR.ssp585.r1i1p1f1.Ofx.areacello.gn unaltered\n"
     ]
    },
    {
     "name": "stderr",
     "output_type": "stream",
     "text": [
      "/projects/GEOCLIM/LRGROUP/jbusecke/projects/aguadv_omz_busecke_2021/aguadv_omz_busecke_2021/cmip6_stash.py:262: UserWarning: No match found for ['MPI-ESM1-2-HR', 'Omon', 'gn', 'r9i1p1f1', 'thetao'].\n",
      "  warnings.warn(f\"No match found for {match_elements}.\")\n"
     ]
    },
    {
     "name": "stdout",
     "output_type": "stream",
     "text": [
      "Manually Ingnored Variable: Passing CMIP.NOAA-GFDL.GFDL-ESM4.piControl.r1i1p1f1.Omon.mlotst.gr unaltered\n",
      "Manually Ingnored Variable: Passing CMIP.NCC.NorCPM1.historical.r29i1p1f1.Omon.mlotst.gn unaltered\n",
      "Manually Ingnored Variable: Passing ScenarioMIP.CNRM-CERFACS.CNRM-ESM2-1.ssp585.r4i1p1f2.Omon.thkcello.gn unaltered\n",
      "Manually Ingnored Variable: Passing CMIP.MPI-M.MPI-ESM1-2-LR.historical.r8i1p1f1.Ofx.areacello.gn unaltered\n",
      "Manually Ingnored Variable: Passing CMIP.IPSL.IPSL-CM6A-LR.historical.r31i1p1f1.Omon.thkcello.gn unaltered\n"
     ]
    },
    {
     "name": "stderr",
     "output_type": "stream",
     "text": [
      "/projects/GEOCLIM/LRGROUP/jbusecke/projects/aguadv_omz_busecke_2021/aguadv_omz_busecke_2021/cmip6_stash.py:262: UserWarning: No match found for ['MPI-ESM1-2-HR', 'Omon', 'gn', 'r7i1p1f1', 'thetao'].\n",
      "  warnings.warn(f\"No match found for {match_elements}.\")\n",
      "/projects/GEOCLIM/LRGROUP/jbusecke/projects/aguadv_omz_busecke_2021/aguadv_omz_busecke_2021/cmip6_stash.py:262: UserWarning: No match found for ['CanESM5', 'Omon', 'gn', 'r24i1p1f1', 'agessc'].\n",
      "  warnings.warn(f\"No match found for {match_elements}.\")\n",
      "/projects/GEOCLIM/LRGROUP/jbusecke/projects/aguadv_omz_busecke_2021/aguadv_omz_busecke_2021/cmip6_stash.py:262: UserWarning: No match found for ['MPI-ESM1-2-HR', 'Omon', 'gn', 'r2i1p1f1', 'agessc'].\n",
      "  warnings.warn(f\"No match found for {match_elements}.\")\n"
     ]
    },
    {
     "name": "stdout",
     "output_type": "stream",
     "text": [
      "Manually Ingnored Variable: Passing CMIP.CCCma.CanESM5.historical.r23i1p2f1.Ofx.thkcello.gn unaltered\n",
      "Manually Ingnored Variable: Passing CMIP.NCC.NorCPM1.historical.r9i1p1f1.Omon.mlotst.gn unaltered\n",
      "Manually Ingnored Variable: Passing ScenarioMIP.MPI-M.MPI-ESM1-2-LR.ssp585.r5i1p1f1.Ofx.areacello.gn unaltered\n",
      "Manually Ingnored Variable: Passing CMIP.CCCma.CanESM5.historical.r10i1p2f1.Ofx.areacello.gn unaltered\n",
      "Manually Ingnored Variable: Passing CMIP.MRI.MRI-ESM2-0.historical.r5i1p1f1.Ofx.areacello.gn unaltered\n",
      "Manually Ingnored Variable: Passing ScenarioMIP.CNRM-CERFACS.CNRM-ESM2-1.ssp585.r3i1p1f2.Omon.thkcello.gn unaltered\n",
      "Manually Ingnored Variable: Passing CMIP.CCCma.CanESM5-CanOE.historical.r3i1p2f1.Omon.mlotst.gn unaltered\n"
     ]
    },
    {
     "name": "stderr",
     "output_type": "stream",
     "text": [
      "/projects/GEOCLIM/LRGROUP/jbusecke/projects/aguadv_omz_busecke_2021/aguadv_omz_busecke_2021/cmip6_stash.py:262: UserWarning: No match found for ['NorCPM1', 'Omon', 'gr', 'r14i1p1f1', 'thetao'].\n",
      "  warnings.warn(f\"No match found for {match_elements}.\")\n"
     ]
    },
    {
     "name": "stdout",
     "output_type": "stream",
     "text": [
      "Manually Ingnored Variable: Passing CMIP.MPI-M.MPI-ESM1-2-LR.historical.r2i1p1f1.Omon.thkcello.gn unaltered\n",
      "Manually Ingnored Variable: Passing CMIP.CCCma.CanESM5.historical.r3i1p1f1.Omon.mlotst.gn unaltered\n",
      "Manually Ingnored Variable: Passing ScenarioMIP.IPSL.IPSL-CM6A-LR.ssp585.r14i1p1f1.Omon.thkcello.gn unaltered\n",
      "Manually Ingnored Variable: Passing CMIP.CCCma.CanESM5.historical.r24i1p1f1.Ofx.thkcello.gn unaltered\n"
     ]
    },
    {
     "name": "stderr",
     "output_type": "stream",
     "text": [
      "/projects/GEOCLIM/LRGROUP/jbusecke/projects/aguadv_omz_busecke_2021/aguadv_omz_busecke_2021/cmip6_stash.py:262: UserWarning: No match found for ['MPI-ESM1-2-HR', 'Omon', 'gn', 'r10i1p1f1', 'thetao'].\n",
      "  warnings.warn(f\"No match found for {match_elements}.\")\n"
     ]
    },
    {
     "name": "stdout",
     "output_type": "stream",
     "text": [
      "Manually Ingnored Variable: Passing ScenarioMIP.CNRM-CERFACS.CNRM-ESM2-1.ssp585.r4i1p1f2.Omon.mlotst.gn unaltered\n"
     ]
    },
    {
     "name": "stderr",
     "output_type": "stream",
     "text": [
      "/projects/GEOCLIM/LRGROUP/jbusecke/projects/aguadv_omz_busecke_2021/aguadv_omz_busecke_2021/cmip6_stash.py:262: UserWarning: No match found for ['NorCPM1', 'Omon', 'gr', 'r13i1p1f1', 'thetao'].\n",
      "  warnings.warn(f\"No match found for {match_elements}.\")\n"
     ]
    },
    {
     "name": "stdout",
     "output_type": "stream",
     "text": [
      "Manually Ingnored Variable: Passing ScenarioMIP.NCC.NorESM2-MM.ssp585.r1i1p1f1.Omon.mlotst.gn unaltered\n",
      "Manually Ingnored Variable: Passing ScenarioMIP.CCCma.CanESM5.ssp585.r6i1p1f1.Ofx.areacello.gn unaltered\n",
      "Manually Ingnored Variable: Passing CMIP.NOAA-GFDL.GFDL-ESM4.historical.r1i1p1f1.Ofx.areacello.gn unaltered\n",
      "Manually Ingnored Variable: Passing CMIP.CCCma.CanESM5.historical.r5i1p1f1.Ofx.thkcello.gn unaltered\n",
      "Manually Ingnored Variable: Passing ScenarioMIP.CCCma.CanESM5.ssp585.r15i1p1f1.Omon.mlotst.gn unaltered\n",
      "Manually Ingnored Variable: Passing CMIP.NCC.NorCPM1.piControl.r1i1p1f1.Ofx.areacello.gn unaltered\n",
      "Manually Ingnored Variable: Passing ScenarioMIP.CCCma.CanESM5.ssp585.r4i1p2f1.Ofx.areacello.gn unaltered\n",
      "Manually Ingnored Variable: Passing ScenarioMIP.IPSL.IPSL-CM6A-LR.ssp585.r2i1p1f1.Ofx.areacello.gn unaltered\n",
      "Manually Ingnored Variable: Passing CMIP.CNRM-CERFACS.CNRM-ESM2-1.historical.r8i1p1f2.Omon.thkcello.gn unaltered\n",
      "Manually Ingnored Variable: Passing CMIP.CCCma.CanESM5.historical.r35i1p2f1.Omon.mlotst.gn unaltered\n",
      "Manually Ingnored Variable: Passing CMIP.CCCma.CanESM5-CanOE.piControl.r1i1p2f1.Ofx.thkcello.gn unaltered\n",
      "Control run: Passing CMIP.NOAA-GFDL.GFDL-ESM4.piControl.r1i1p1f1.Omon.o2.gr unaltered\n",
      "Manually Ingnored Variable: Passing CMIP.CCCma.CanESM5.historical.r31i1p2f1.Ofx.thkcello.gn unaltered\n",
      "Manually Ingnored Variable: Passing CMIP.CSIRO.ACCESS-ESM1-5.historical.r4i1p1f1.Ofx.areacello.gn unaltered\n",
      "Manually Ingnored Variable: Passing CMIP.CCCma.CanESM5-CanOE.historical.r3i1p2f1.Ofx.areacello.gn unaltered\n",
      "Manually Ingnored Variable: Passing ScenarioMIP.MPI-M.MPI-ESM1-2-LR.ssp585.r3i1p1f1.Ofx.thkcello.gn unaltered\n",
      "Manually Ingnored Variable: Passing CMIP.MPI-M.MPI-ESM1-2-HR.historical.r9i1p1f1.Omon.mlotst.gn unaltered\n"
     ]
    },
    {
     "name": "stderr",
     "output_type": "stream",
     "text": [
      "/projects/GEOCLIM/LRGROUP/jbusecke/projects/aguadv_omz_busecke_2021/aguadv_omz_busecke_2021/cmip6_stash.py:262: UserWarning: No match found for ['NorESM2-MM', 'Omon', 'gn', 'r1i1p1f1', 'so'].\n",
      "  warnings.warn(f\"No match found for {match_elements}.\")\n",
      "/projects/GEOCLIM/LRGROUP/jbusecke/projects/aguadv_omz_busecke_2021/aguadv_omz_busecke_2021/cmip6_stash.py:262: UserWarning: No match found for ['CanESM5', 'Omon', 'gn', 'r36i1p2f1', 'thetao'].\n",
      "  warnings.warn(f\"No match found for {match_elements}.\")\n"
     ]
    },
    {
     "name": "stdout",
     "output_type": "stream",
     "text": [
      "Manually Ingnored Variable: Passing CMIP.CCCma.CanESM5.historical.r21i1p1f1.Ofx.thkcello.gn unaltered\n",
      "Manually Ingnored Variable: Passing CMIP.CCCma.CanESM5.historical.r4i1p2f1.Ofx.areacello.gn unaltered\n",
      "Manually Ingnored Variable: Passing CMIP.MPI-M.MPI-ESM1-2-LR.piControl.r1i1p1f1.Ofx.thkcello.gn unaltered\n",
      "Manually Ingnored Variable: Passing CMIP.CCCma.CanESM5.historical.r23i1p2f1.Omon.mlotst.gn unaltered\n",
      "Manually Ingnored Variable: Passing CMIP.MPI-M.MPI-ESM1-2-LR.historical.r8i1p1f1.Omon.thkcello.gn unaltered\n"
     ]
    },
    {
     "name": "stderr",
     "output_type": "stream",
     "text": [
      "/projects/GEOCLIM/LRGROUP/jbusecke/projects/aguadv_omz_busecke_2021/aguadv_omz_busecke_2021/cmip6_stash.py:262: UserWarning: No match found for ['NorCPM1', 'Omon', 'gn', 'r17i1p1f1', 'thetao'].\n",
      "  warnings.warn(f\"No match found for {match_elements}.\")\n"
     ]
    },
    {
     "name": "stdout",
     "output_type": "stream",
     "text": [
      "Manually Ingnored Variable: Passing CMIP.CCCma.CanESM5.historical.r7i1p1f1.Ofx.areacello.gn unaltered\n",
      "Manually Ingnored Variable: Passing CMIP.CNRM-CERFACS.CNRM-ESM2-1.historical.r6i1p1f2.Omon.thkcello.gn unaltered\n",
      "Manually Ingnored Variable: Passing CMIP.CCCma.CanESM5.historical.r11i1p1f1.Ofx.areacello.gn unaltered\n",
      "Manually Ingnored Variable: Passing CMIP.CCCma.CanESM5.historical.r25i1p1f1.Ofx.areacello.gn unaltered\n",
      "Manually Ingnored Variable: Passing CMIP.NCC.NorESM2-LM.historical.r2i1p1f1.Ofx.areacello.gn unaltered\n",
      "Control run: Passing CMIP.NOAA-GFDL.GFDL-CM4.piControl.r1i1p1f1.Omon.agessc.gn unaltered\n",
      "Manually Ingnored Variable: Passing CMIP.CCCma.CanESM5.historical.r23i1p1f1.Omon.mlotst.gn unaltered\n",
      "Manually Ingnored Variable: Passing ScenarioMIP.CCCma.CanESM5.ssp585.r23i1p1f1.Omon.mlotst.gn unaltered\n",
      "Manually Ingnored Variable: Passing ScenarioMIP.CCCma.CanESM5.ssp585.r25i1p2f1.Omon.mlotst.gn unaltered\n",
      "Manually Ingnored Variable: Passing ScenarioMIP.IPSL.IPSL-CM6A-LR.ssp585.r6i1p1f1.Omon.thkcello.gn unaltered\n",
      "Manually Ingnored Variable: Passing CMIP.NCC.NorCPM1.historical.r16i1p1f1.Ofx.areacello.gn unaltered\n",
      "Manually Ingnored Variable: Passing CMIP.NCC.NorCPM1.historical.r11i1p1f1.Omon.mlotst.gn unaltered\n",
      "Manually Ingnored Variable: Passing ScenarioMIP.CCCma.CanESM5.ssp585.r21i1p1f1.Ofx.areacello.gn unaltered\n",
      "Manually Ingnored Variable: Passing ScenarioMIP.MRI.MRI-ESM2-0.ssp585.r1i1p1f1.Omon.mlotst.gr unaltered\n",
      "Manually Ingnored Variable: Passing ScenarioMIP.MPI-M.MPI-ESM1-2-LR.ssp585.r6i1p1f1.Omon.mlotst.gn unaltered\n",
      "Manually Ingnored Variable: Passing CMIP.CCCma.CanESM5.historical.r23i1p2f1.Ofx.areacello.gn unaltered\n",
      "Manually Ingnored Variable: Passing CMIP.IPSL.IPSL-CM6A-LR.historical.r2i1p1f1.Omon.thkcello.gn unaltered\n",
      "Manually Ingnored Variable: Passing ScenarioMIP.CCCma.CanESM5-CanOE.ssp585.r2i1p2f1.Ofx.areacello.gn unaltered\n",
      "Manually Ingnored Variable: Passing CMIP.CSIRO.ACCESS-ESM1-5.piControl.r1i1p1f1.Ofx.thkcello.gn unaltered\n",
      "Manually Ingnored Variable: Passing CMIP.CCCma.CanESM5.historical.r39i1p2f1.Omon.mlotst.gn unaltered\n",
      "Manually Ingnored Variable: Passing CMIP.NCC.NorESM2-MM.piControl.r1i1p1f1.Ofx.thkcello.gr unaltered\n"
     ]
    },
    {
     "name": "stderr",
     "output_type": "stream",
     "text": [
      "/projects/GEOCLIM/LRGROUP/jbusecke/projects/aguadv_omz_busecke_2021/aguadv_omz_busecke_2021/cmip6_stash.py:262: UserWarning: No match found for ['MPI-ESM1-2-HR', 'Omon', 'gn', 'r7i1p1f1', 'o2'].\n",
      "  warnings.warn(f\"No match found for {match_elements}.\")\n"
     ]
    },
    {
     "name": "stdout",
     "output_type": "stream",
     "text": [
      "Manually Ingnored Variable: Passing CMIP.MPI-M.MPI-ESM1-2-LR.historical.r9i1p1f1.Omon.mlotst.gn unaltered\n",
      "Manually Ingnored Variable: Passing CMIP.CCCma.CanESM5.historical.r9i1p1f1.Ofx.thkcello.gn unaltered\n",
      "Manually Ingnored Variable: Passing CMIP.IPSL.IPSL-CM6A-LR.historical.r7i1p1f1.Omon.thkcello.gn unaltered\n",
      "Manually Ingnored Variable: Passing CMIP.CCCma.CanESM5.historical.r3i1p2f1.Ofx.thkcello.gn unaltered\n",
      "Manually Ingnored Variable: Passing CMIP.CCCma.CanESM5.historical.r27i1p2f1.Omon.mlotst.gn unaltered\n",
      "Manually Ingnored Variable: Passing CMIP.CCCma.CanESM5.historical.r15i1p2f1.Ofx.areacello.gn unaltered\n",
      "Manually Ingnored Variable: Passing CMIP.CCCma.CanESM5.historical.r6i1p2f1.Ofx.thkcello.gn unaltered\n",
      "Manually Ingnored Variable: Passing CMIP.IPSL.IPSL-CM6A-LR.historical.r1i1p1f1.Omon.thkcello.gn unaltered\n",
      "Manually Ingnored Variable: Passing ScenarioMIP.CCCma.CanESM5.ssp585.r25i1p1f1.Ofx.areacello.gn unaltered\n"
     ]
    },
    {
     "name": "stderr",
     "output_type": "stream",
     "text": [
      "/projects/GEOCLIM/LRGROUP/jbusecke/projects/aguadv_omz_busecke_2021/aguadv_omz_busecke_2021/cmip6_stash.py:262: UserWarning: No match found for ['NorCPM1', 'Omon', 'gr', 'r12i1p1f1', 'thetao'].\n",
      "  warnings.warn(f\"No match found for {match_elements}.\")\n",
      "/projects/GEOCLIM/LRGROUP/jbusecke/projects/aguadv_omz_busecke_2021/aguadv_omz_busecke_2021/cmip6_stash.py:262: UserWarning: No match found for ['NorCPM1', 'Omon', 'gn', 'r16i1p1f1', 'so'].\n",
      "  warnings.warn(f\"No match found for {match_elements}.\")\n",
      "/projects/GEOCLIM/LRGROUP/jbusecke/projects/aguadv_omz_busecke_2021/aguadv_omz_busecke_2021/cmip6_stash.py:262: UserWarning: No match found for ['NorCPM1', 'Omon', 'gr', 'r9i1p1f1', 'o2'].\n",
      "  warnings.warn(f\"No match found for {match_elements}.\")\n"
     ]
    },
    {
     "name": "stdout",
     "output_type": "stream",
     "text": [
      "Manually Ingnored Variable: Passing CMIP.MPI-M.MPI-ESM1-2-LR.historical.r6i1p1f1.Omon.thkcello.gn unaltered\n",
      "Manually Ingnored Variable: Passing CMIP.MOHC.UKESM1-0-LL.historical.r4i1p1f2.Omon.thkcello.gn unaltered\n",
      "Manually Ingnored Variable: Passing ScenarioMIP.IPSL.IPSL-CM6A-LR.ssp585.r3i1p1f1.Omon.mlotst.gn unaltered\n",
      "Manually Ingnored Variable: Passing ScenarioMIP.MPI-M.MPI-ESM1-2-LR.ssp585.r3i1p1f1.Ofx.areacello.gn unaltered\n",
      "Manually Ingnored Variable: Passing CMIP.MPI-M.MPI-ESM1-2-HR.piControl.r1i1p1f1.Ofx.thkcello.gn unaltered\n",
      "Manually Ingnored Variable: Passing ScenarioMIP.CCCma.CanESM5.ssp585.r17i1p2f1.Ofx.thkcello.gn unaltered\n",
      "Manually Ingnored Variable: Passing CMIP.CCCma.CanESM5.historical.r20i1p2f1.Ofx.thkcello.gn unaltered\n"
     ]
    },
    {
     "name": "stderr",
     "output_type": "stream",
     "text": [
      "/projects/GEOCLIM/LRGROUP/jbusecke/projects/aguadv_omz_busecke_2021/aguadv_omz_busecke_2021/cmip6_stash.py:262: UserWarning: No match found for ['NorCPM1', 'Omon', 'gr', 'r11i1p1f1', 'so'].\n",
      "  warnings.warn(f\"No match found for {match_elements}.\")\n"
     ]
    },
    {
     "name": "stdout",
     "output_type": "stream",
     "text": [
      "Manually Ingnored Variable: Passing ScenarioMIP.CCCma.CanESM5.ssp585.r6i1p2f1.Omon.mlotst.gn unaltered\n",
      "Manually Ingnored Variable: Passing CMIP.CCCma.CanESM5.historical.r40i1p2f1.Ofx.thkcello.gn unaltered\n",
      "Manually Ingnored Variable: Passing CMIP.MRI.MRI-ESM2-0.historical.r5i1p1f1.Omon.mlotst.gr unaltered\n",
      "Manually Ingnored Variable: Passing CMIP.CCCma.CanESM5.historical.r2i1p2f1.Ofx.areacello.gn unaltered\n",
      "Manually Ingnored Variable: Passing ScenarioMIP.CCCma.CanESM5.ssp585.r7i1p2f1.Ofx.areacello.gn unaltered\n",
      "Manually Ingnored Variable: Passing CMIP.MIROC.MIROC-ES2L.historical.r1i1p1f2.Ofx.areacello.gn unaltered\n",
      "Manually Ingnored Variable: Passing CMIP.CCCma.CanESM5.historical.r37i1p2f1.Omon.mlotst.gn unaltered\n",
      "Manually Ingnored Variable: Passing CMIP.NCC.NorCPM1.historical.r8i1p1f1.Omon.mlotst.gn unaltered\n",
      "Manually Ingnored Variable: Passing CMIP.IPSL.IPSL-CM6A-LR.historical.r15i1p1f1.Omon.thkcello.gn unaltered\n",
      "Manually Ingnored Variable: Passing CMIP.CCCma.CanESM5.historical.r16i1p1f1.Ofx.thkcello.gn unaltered\n",
      "Manually Ingnored Variable: Passing ScenarioMIP.MPI-M.MPI-ESM1-2-LR.ssp585.r9i1p1f1.Ofx.areacello.gn unaltered\n",
      "Manually Ingnored Variable: Passing CMIP.CCCma.CanESM5.historical.r16i1p1f1.Omon.mlotst.gn unaltered\n"
     ]
    },
    {
     "name": "stderr",
     "output_type": "stream",
     "text": [
      "/projects/GEOCLIM/LRGROUP/jbusecke/projects/aguadv_omz_busecke_2021/aguadv_omz_busecke_2021/cmip6_stash.py:262: UserWarning: No match found for ['NorCPM1', 'Omon', 'gr', 'r21i1p1f1', 'so'].\n",
      "  warnings.warn(f\"No match found for {match_elements}.\")\n"
     ]
    },
    {
     "name": "stdout",
     "output_type": "stream",
     "text": [
      "Manually Ingnored Variable: Passing CMIP.CCCma.CanESM5.historical.r33i1p2f1.Omon.mlotst.gn unaltered\n",
      "Manually Ingnored Variable: Passing CMIP.CCCma.CanESM5.historical.r12i1p2f1.Omon.mlotst.gn unaltered\n",
      "Manually Ingnored Variable: Passing CMIP.MOHC.UKESM1-0-LL.historical.r16i1p1f2.Omon.mlotst.gn unaltered\n",
      "Manually Ingnored Variable: Passing ScenarioMIP.CNRM-CERFACS.CNRM-ESM2-1.ssp585.r5i1p1f2.Ofx.areacello.gn unaltered\n",
      "Manually Ingnored Variable: Passing CMIP.CCCma.CanESM5.historical.r20i1p2f1.Ofx.areacello.gn unaltered\n",
      "Manually Ingnored Variable: Passing ScenarioMIP.MPI-M.MPI-ESM1-2-LR.ssp585.r9i1p1f1.Omon.thkcello.gn unaltered\n",
      "Manually Ingnored Variable: Passing CMIP.IPSL.IPSL-CM6A-LR.historical.r19i1p1f1.Ofx.areacello.gn unaltered\n",
      "Manually Ingnored Variable: Passing CMIP.NCC.NorCPM1.historical.r6i1p1f1.Omon.mlotst.gn unaltered\n",
      "Manually Ingnored Variable: Passing CMIP.CNRM-CERFACS.CNRM-ESM2-1.historical.r5i1p1f2.Omon.thkcello.gn unaltered\n"
     ]
    },
    {
     "name": "stderr",
     "output_type": "stream",
     "text": [
      "/projects/GEOCLIM/LRGROUP/jbusecke/projects/aguadv_omz_busecke_2021/aguadv_omz_busecke_2021/cmip6_stash.py:262: UserWarning: No match found for ['NorCPM1', 'Omon', 'gr', 'r29i1p1f1', 'so'].\n",
      "  warnings.warn(f\"No match found for {match_elements}.\")\n"
     ]
    },
    {
     "name": "stdout",
     "output_type": "stream",
     "text": [
      "Manually Ingnored Variable: Passing CMIP.CCCma.CanESM5.historical.r5i1p2f1.Ofx.thkcello.gn unaltered\n",
      "Manually Ingnored Variable: Passing CMIP.CCCma.CanESM5.historical.r22i1p2f1.Ofx.thkcello.gn unaltered\n",
      "Manually Ingnored Variable: Passing CMIP.MPI-M.MPI-ESM1-2-LR.historical.r4i1p1f1.Ofx.areacello.gn unaltered\n",
      "Manually Ingnored Variable: Passing CMIP.IPSL.IPSL-CM6A-LR.historical.r6i1p1f1.Omon.thkcello.gn unaltered\n"
     ]
    },
    {
     "name": "stderr",
     "output_type": "stream",
     "text": [
      "/projects/GEOCLIM/LRGROUP/jbusecke/projects/aguadv_omz_busecke_2021/aguadv_omz_busecke_2021/cmip6_stash.py:262: UserWarning: No match found for ['NorCPM1', 'Omon', 'gr', 'r21i1p1f1', 'thetao'].\n",
      "  warnings.warn(f\"No match found for {match_elements}.\")\n"
     ]
    },
    {
     "name": "stdout",
     "output_type": "stream",
     "text": [
      "Manually Ingnored Variable: Passing CMIP.CSIRO.ACCESS-ESM1-5.historical.r2i1p1f1.Ofx.thkcello.gn unaltered\n",
      "Manually Ingnored Variable: Passing CMIP.CNRM-CERFACS.CNRM-ESM2-1.historical.r7i1p1f2.Omon.thkcello.gn unaltered\n",
      "Manually Ingnored Variable: Passing CMIP.CCCma.CanESM5.historical.r21i1p2f1.Ofx.thkcello.gn unaltered\n",
      "Manually Ingnored Variable: Passing ScenarioMIP.CCCma.CanESM5.ssp585.r14i1p1f1.Omon.mlotst.gn unaltered\n",
      "Manually Ingnored Variable: Passing ScenarioMIP.MIROC.MIROC-ES2L.ssp585.r1i1p1f2.Ofx.areacello.gn unaltered\n",
      "Manually Ingnored Variable: Passing ScenarioMIP.CCCma.CanESM5.ssp585.r18i1p1f1.Ofx.thkcello.gn unaltered\n",
      "Manually Ingnored Variable: Passing ScenarioMIP.CCCma.CanESM5.ssp585.r7i1p1f1.Omon.mlotst.gn unaltered\n",
      "Manually Ingnored Variable: Passing CMIP.CNRM-CERFACS.CNRM-ESM2-1.historical.r2i1p1f2.Ofx.areacello.gn unaltered\n"
     ]
    },
    {
     "name": "stderr",
     "output_type": "stream",
     "text": [
      "/projects/GEOCLIM/LRGROUP/jbusecke/projects/aguadv_omz_busecke_2021/aguadv_omz_busecke_2021/cmip6_stash.py:262: UserWarning: No match found for ['NorCPM1', 'Omon', 'gn', 'r3i1p1f1', 'so'].\n",
      "  warnings.warn(f\"No match found for {match_elements}.\")\n"
     ]
    },
    {
     "name": "stdout",
     "output_type": "stream",
     "text": [
      "Manually Ingnored Variable: Passing CMIP.CCCma.CanESM5.historical.r30i1p2f1.Ofx.areacello.gn unaltered\n",
      "Manually Ingnored Variable: Passing ScenarioMIP.DWD.MPI-ESM1-2-HR.ssp585.r2i1p1f1.Omon.thkcello.gn unaltered\n",
      "Manually Ingnored Variable: Passing CMIP.MRI.MRI-ESM2-0.historical.r2i1p1f1.Omon.mlotst.gr unaltered\n",
      "Manually Ingnored Variable: Passing CMIP.MIROC.MIROC-ES2L.piControl.r1i1p1f2.Ofx.areacello.gn unaltered\n"
     ]
    },
    {
     "name": "stderr",
     "output_type": "stream",
     "text": [
      "/projects/GEOCLIM/LRGROUP/jbusecke/projects/aguadv_omz_busecke_2021/aguadv_omz_busecke_2021/cmip6_stash.py:262: UserWarning: No match found for ['CanESM5', 'Omon', 'gn', 'r22i1p1f1', 'thetao'].\n",
      "  warnings.warn(f\"No match found for {match_elements}.\")\n"
     ]
    },
    {
     "name": "stdout",
     "output_type": "stream",
     "text": [
      "Manually Ingnored Variable: Passing CMIP.MRI.MRI-ESM2-0.historical.r5i1p1f1.Omon.mlotst.gn unaltered\n",
      "Manually Ingnored Variable: Passing ScenarioMIP.CCCma.CanESM5.ssp585.r15i1p2f1.Ofx.areacello.gn unaltered\n",
      "Control run: Passing CMIP.HAMMOZ-Consortium.MPI-ESM-1-2-HAM.piControl.r1i1p1f1.Omon.so.gn unaltered\n",
      "Manually Ingnored Variable: Passing ScenarioMIP.CSIRO.ACCESS-ESM1-5.ssp585.r2i1p1f1.Ofx.areacello.gn unaltered\n",
      "Manually Ingnored Variable: Passing ScenarioMIP.CCCma.CanESM5.ssp585.r12i1p2f1.Ofx.areacello.gn unaltered\n"
     ]
    },
    {
     "name": "stderr",
     "output_type": "stream",
     "text": [
      "/projects/GEOCLIM/LRGROUP/jbusecke/projects/aguadv_omz_busecke_2021/aguadv_omz_busecke_2021/cmip6_stash.py:262: UserWarning: No match found for ['NorCPM1', 'Omon', 'gr', 'r6i1p1f1', 'so'].\n",
      "  warnings.warn(f\"No match found for {match_elements}.\")\n",
      "/projects/GEOCLIM/LRGROUP/jbusecke/projects/aguadv_omz_busecke_2021/aguadv_omz_busecke_2021/cmip6_stash.py:262: UserWarning: No match found for ['NorCPM1', 'Omon', 'gn', 'r12i1p1f1', 'so'].\n",
      "  warnings.warn(f\"No match found for {match_elements}.\")\n",
      "/projects/GEOCLIM/LRGROUP/jbusecke/projects/aguadv_omz_busecke_2021/aguadv_omz_busecke_2021/cmip6_stash.py:262: UserWarning: No match found for ['NorCPM1', 'Omon', 'gr', 'r3i1p1f1', 'o2'].\n",
      "  warnings.warn(f\"No match found for {match_elements}.\")\n"
     ]
    },
    {
     "name": "stdout",
     "output_type": "stream",
     "text": [
      "Manually Ingnored Variable: Passing CMIP.CNRM-CERFACS.CNRM-ESM2-1.historical.r2i1p1f2.Omon.mlotst.gn unaltered\n",
      "Control run: Passing CMIP.NCC.NorESM2-LM.piControl.r1i1p1f1.Omon.so.gn unaltered\n",
      "Manually Ingnored Variable: Passing ScenarioMIP.CCCma.CanESM5.ssp585.r15i1p2f1.Ofx.thkcello.gn unaltered\n",
      "Manually Ingnored Variable: Passing CMIP.NCC.NorESM2-LM.historical.r3i1p1f1.Omon.mlotst.gn unaltered\n",
      "Manually Ingnored Variable: Passing CMIP.IPSL.IPSL-CM6A-LR.historical.r31i1p1f1.Omon.mlotst.gn unaltered\n",
      "Manually Ingnored Variable: Passing CMIP.CCCma.CanESM5.historical.r31i1p2f1.Ofx.areacello.gn unaltered\n"
     ]
    },
    {
     "name": "stderr",
     "output_type": "stream",
     "text": [
      "/projects/GEOCLIM/LRGROUP/jbusecke/projects/aguadv_omz_busecke_2021/aguadv_omz_busecke_2021/cmip6_stash.py:262: UserWarning: No match found for ['NorCPM1', 'Omon', 'gn', 'r19i1p1f1', 'thetao'].\n",
      "  warnings.warn(f\"No match found for {match_elements}.\")\n"
     ]
    },
    {
     "name": "stdout",
     "output_type": "stream",
     "text": [
      "Manually Ingnored Variable: Passing CMIP.CCCma.CanESM5.historical.r1i1p2f1.Omon.mlotst.gn unaltered\n",
      "Manually Ingnored Variable: Passing ScenarioMIP.CCCma.CanESM5.ssp585.r12i1p1f1.Omon.mlotst.gn unaltered\n",
      "Manually Ingnored Variable: Passing ScenarioMIP.IPSL.IPSL-CM6A-LR.ssp585.r4i1p1f1.Omon.thkcello.gn unaltered\n",
      "Manually Ingnored Variable: Passing CMIP.CNRM-CERFACS.CNRM-ESM2-1.historical.r2i1p1f2.Omon.thkcello.gn unaltered\n",
      "Control run: Passing CMIP.CCCma.CanESM5-CanOE.piControl.r1i1p2f1.Omon.o2.gn unaltered\n",
      "Manually Ingnored Variable: Passing CMIP.CSIRO.ACCESS-ESM1-5.historical.r8i1p1f1.Ofx.areacello.gn unaltered\n",
      "Manually Ingnored Variable: Passing CMIP.NCC.NorCPM1.historical.r4i1p1f1.Omon.mlotst.gn unaltered\n",
      "Control run: Passing CMIP.IPSL.IPSL-CM6A-LR.piControl.r1i2p1f1.Omon.so.gn unaltered\n",
      "Control run: Passing CMIP.MRI.MRI-ESM2-0.piControl.r1i1p1f1.Omon.agessc.gr unaltered\n",
      "Manually Ingnored Variable: Passing ScenarioMIP.CSIRO.ACCESS-ESM1-5.ssp585.r3i1p1f1.Omon.mlotst.gn unaltered\n"
     ]
    },
    {
     "name": "stderr",
     "output_type": "stream",
     "text": [
      "/projects/GEOCLIM/LRGROUP/jbusecke/projects/aguadv_omz_busecke_2021/aguadv_omz_busecke_2021/cmip6_stash.py:262: UserWarning: No match found for ['NorCPM1', 'Omon', 'gr', 'r9i1p1f1', 'so'].\n",
      "  warnings.warn(f\"No match found for {match_elements}.\")\n"
     ]
    },
    {
     "name": "stdout",
     "output_type": "stream",
     "text": [
      "Manually Ingnored Variable: Passing CMIP.CCCma.CanESM5.historical.r2i1p1f1.Ofx.areacello.gn unaltered\n",
      "Manually Ingnored Variable: Passing ScenarioMIP.CSIRO.ACCESS-ESM1-5.ssp585.r1i1p1f1.Ofx.thkcello.gn unaltered\n",
      "Manually Ingnored Variable: Passing CMIP.MPI-M.MPI-ESM1-2-HR.historical.r5i1p1f1.Omon.mlotst.gn unaltered\n",
      "Control run: Passing CMIP.NCC.NorESM2-MM.piControl.r1i1p1f1.Omon.thetao.gn unaltered\n",
      "Manually Ingnored Variable: Passing CMIP.CCCma.CanESM5.historical.r20i1p1f1.Ofx.areacello.gn unaltered\n",
      "Manually Ingnored Variable: Passing CMIP.MPI-M.MPI-ESM1-2-LR.historical.r5i1p1f1.Ofx.areacello.gn unaltered\n",
      "Manually Ingnored Variable: Passing ScenarioMIP.NCC.NorESM2-LM.ssp585.r1i1p1f1.Omon.mlotst.gn unaltered\n",
      "Manually Ingnored Variable: Passing CMIP.MPI-M.MPI-ESM1-2-HR.historical.r9i1p1f1.Ofx.thkcello.gn unaltered\n",
      "Manually Ingnored Variable: Passing ScenarioMIP.CCCma.CanESM5.ssp585.r9i1p2f1.Ofx.areacello.gn unaltered\n",
      "Manually Ingnored Variable: Passing ScenarioMIP.CCCma.CanESM5.ssp585.r10i1p2f1.Omon.mlotst.gn unaltered\n",
      "Manually Ingnored Variable: Passing CMIP.NCC.NorCPM1.piControl.r3i1p1f1.Omon.mlotst.gn unaltered\n",
      "Manually Ingnored Variable: Passing ScenarioMIP.CCCma.CanESM5.ssp585.r20i1p1f1.Omon.mlotst.gn unaltered\n",
      "Manually Ingnored Variable: Passing CMIP.CSIRO.ACCESS-ESM1-5.historical.r1i1p1f1.Ofx.areacello.gn unaltered\n",
      "Manually Ingnored Variable: Passing CMIP.MPI-M.MPI-ESM1-2-HR.historical.r10i1p1f1.Ofx.areacello.gn unaltered\n"
     ]
    },
    {
     "name": "stderr",
     "output_type": "stream",
     "text": [
      "/projects/GEOCLIM/LRGROUP/jbusecke/projects/aguadv_omz_busecke_2021/aguadv_omz_busecke_2021/cmip6_stash.py:262: UserWarning: No match found for ['CanESM5', 'Omon', 'gn', 'r27i1p2f1', 'so'].\n",
      "  warnings.warn(f\"No match found for {match_elements}.\")\n"
     ]
    },
    {
     "name": "stdout",
     "output_type": "stream",
     "text": [
      "Manually Ingnored Variable: Passing CMIP.MRI.MRI-ESM2-0.historical.r1i1p1f1.Omon.mlotst.gr unaltered\n"
     ]
    },
    {
     "name": "stderr",
     "output_type": "stream",
     "text": [
      "/projects/GEOCLIM/LRGROUP/jbusecke/projects/aguadv_omz_busecke_2021/aguadv_omz_busecke_2021/cmip6_stash.py:262: UserWarning: No match found for ['CanESM5', 'Omon', 'gn', 'r22i1p1f1', 'o2'].\n",
      "  warnings.warn(f\"No match found for {match_elements}.\")\n"
     ]
    },
    {
     "name": "stdout",
     "output_type": "stream",
     "text": [
      "Manually Ingnored Variable: Passing CMIP.MPI-M.MPI-ESM1-2-LR.historical.r5i1p1f1.Omon.thkcello.gn unaltered\n"
     ]
    },
    {
     "name": "stderr",
     "output_type": "stream",
     "text": [
      "/projects/GEOCLIM/LRGROUP/jbusecke/projects/aguadv_omz_busecke_2021/aguadv_omz_busecke_2021/cmip6_stash.py:262: UserWarning: No match found for ['NorCPM1', 'Omon', 'gn', 'r23i1p1f1', 'thetao'].\n",
      "  warnings.warn(f\"No match found for {match_elements}.\")\n"
     ]
    },
    {
     "name": "stdout",
     "output_type": "stream",
     "text": [
      "Manually Ingnored Variable: Passing ScenarioMIP.CCCma.CanESM5.ssp585.r13i1p2f1.Ofx.thkcello.gn unaltered\n",
      "Manually Ingnored Variable: Passing CMIP.NOAA-GFDL.GFDL-ESM4.piControl.r1i1p1f1.Ofx.areacello.gn unaltered\n",
      "Manually Ingnored Variable: Passing CMIP.NCC.NorCPM1.historical.r7i1p1f1.Omon.mlotst.gn unaltered\n",
      "Manually Ingnored Variable: Passing CMIP.NOAA-GFDL.GFDL-CM4.historical.r1i1p1f1.Ofx.areacello.gn unaltered\n",
      "Manually Ingnored Variable: Passing CMIP.CCCma.CanESM5.historical.r7i1p2f1.Ofx.areacello.gn unaltered\n",
      "Manually Ingnored Variable: Passing CMIP.IPSL.IPSL-CM6A-LR.historical.r32i1p1f1.Omon.thkcello.gn unaltered\n"
     ]
    },
    {
     "name": "stderr",
     "output_type": "stream",
     "text": [
      "/projects/GEOCLIM/LRGROUP/jbusecke/projects/aguadv_omz_busecke_2021/aguadv_omz_busecke_2021/cmip6_stash.py:262: UserWarning: No match found for ['NorCPM1', 'Omon', 'gr', 'r4i1p1f1', 'o2'].\n",
      "  warnings.warn(f\"No match found for {match_elements}.\")\n"
     ]
    },
    {
     "name": "stdout",
     "output_type": "stream",
     "text": [
      "Control run: Passing CMIP.MPI-M.MPI-ESM1-2-HR.piControl.r1i1p1f1.Omon.thetao.gn unaltered\n",
      "Manually Ingnored Variable: Passing ScenarioMIP.DKRZ.MPI-ESM1-2-HR.ssp585.r1i1p1f1.Omon.thkcello.gn unaltered\n",
      "Manually Ingnored Variable: Passing ScenarioMIP.CCCma.CanESM5-CanOE.ssp585.r2i1p2f1.Ofx.thkcello.gn unaltered\n"
     ]
    },
    {
     "name": "stderr",
     "output_type": "stream",
     "text": [
      "/projects/GEOCLIM/LRGROUP/jbusecke/projects/aguadv_omz_busecke_2021/aguadv_omz_busecke_2021/cmip6_stash.py:262: UserWarning: No match found for ['NorCPM1', 'Omon', 'gr', 'r25i1p1f1', 'o2'].\n",
      "  warnings.warn(f\"No match found for {match_elements}.\")\n"
     ]
    },
    {
     "name": "stdout",
     "output_type": "stream",
     "text": [
      "Control run: Passing CMIP.NCC.NorCPM1.piControl.r1i1p1f1.Omon.thetao.gr unaltered\n"
     ]
    },
    {
     "name": "stderr",
     "output_type": "stream",
     "text": [
      "/projects/GEOCLIM/LRGROUP/jbusecke/projects/aguadv_omz_busecke_2021/aguadv_omz_busecke_2021/cmip6_stash.py:262: UserWarning: No match found for ['MPI-ESM1-2-HR', 'Omon', 'gn', 'r2i1p1f1', 'thetao'].\n",
      "  warnings.warn(f\"No match found for {match_elements}.\")\n"
     ]
    },
    {
     "name": "stdout",
     "output_type": "stream",
     "text": [
      "Manually Ingnored Variable: Passing CMIP.CSIRO.ACCESS-ESM1-5.historical.r3i1p1f1.Ofx.thkcello.gn unaltered\n",
      "Manually Ingnored Variable: Passing CMIP.CCCma.CanESM5.historical.r7i1p1f1.Omon.mlotst.gn unaltered\n",
      "Manually Ingnored Variable: Passing CMIP.IPSL.IPSL-CM6A-LR.historical.r24i1p1f1.Omon.thkcello.gn unaltered\n",
      "Manually Ingnored Variable: Passing CMIP.CCCma.CanESM5.historical.r9i1p1f1.Omon.mlotst.gn unaltered\n",
      "Manually Ingnored Variable: Passing ScenarioMIP.CCCma.CanESM5.ssp585.r5i1p2f1.Ofx.areacello.gn unaltered\n",
      "Manually Ingnored Variable: Passing ScenarioMIP.NCC.NorESM2-MM.ssp585.r1i1p1f1.Ofx.areacello.gn unaltered\n",
      "Manually Ingnored Variable: Passing CMIP.IPSL.IPSL-CM6A-LR.historical.r26i1p1f1.Omon.thkcello.gn unaltered\n",
      "Manually Ingnored Variable: Passing ScenarioMIP.CCCma.CanESM5.ssp585.r16i1p1f1.Omon.mlotst.gn unaltered\n"
     ]
    },
    {
     "name": "stderr",
     "output_type": "stream",
     "text": [
      "/projects/GEOCLIM/LRGROUP/jbusecke/projects/aguadv_omz_busecke_2021/aguadv_omz_busecke_2021/cmip6_stash.py:262: UserWarning: No match found for ['NorCPM1', 'Omon', 'gn', 'r30i1p1f1', 'thetao'].\n",
      "  warnings.warn(f\"No match found for {match_elements}.\")\n"
     ]
    },
    {
     "name": "stdout",
     "output_type": "stream",
     "text": [
      "Manually Ingnored Variable: Passing ScenarioMIP.CCCma.CanESM5.ssp585.r19i1p1f1.Ofx.thkcello.gn unaltered\n",
      "Manually Ingnored Variable: Passing ScenarioMIP.CCCma.CanESM5.ssp585.r4i1p1f1.Ofx.areacello.gn unaltered\n",
      "Manually Ingnored Variable: Passing CMIP.MPI-M.MPI-ESM1-2-HR.historical.r4i1p1f1.Ofx.thkcello.gn unaltered\n"
     ]
    },
    {
     "name": "stderr",
     "output_type": "stream",
     "text": [
      "/projects/GEOCLIM/LRGROUP/jbusecke/projects/aguadv_omz_busecke_2021/aguadv_omz_busecke_2021/cmip6_stash.py:262: UserWarning: No match found for ['CanESM5', 'Omon', 'gn', 'r21i1p1f1', 'agessc'].\n",
      "  warnings.warn(f\"No match found for {match_elements}.\")\n",
      "/projects/GEOCLIM/LRGROUP/jbusecke/projects/aguadv_omz_busecke_2021/aguadv_omz_busecke_2021/cmip6_stash.py:262: UserWarning: No match found for ['NorCPM1', 'Omon', 'gr', 'r30i1p1f1', 'thetao'].\n",
      "  warnings.warn(f\"No match found for {match_elements}.\")\n",
      "/projects/GEOCLIM/LRGROUP/jbusecke/projects/aguadv_omz_busecke_2021/aguadv_omz_busecke_2021/cmip6_stash.py:262: UserWarning: No match found for ['NorCPM1', 'Omon', 'gn', 'r7i1p1f1', 'thetao'].\n",
      "  warnings.warn(f\"No match found for {match_elements}.\")\n",
      "/projects/GEOCLIM/LRGROUP/jbusecke/projects/aguadv_omz_busecke_2021/aguadv_omz_busecke_2021/cmip6_stash.py:262: UserWarning: No match found for ['CanESM5', 'Omon', 'gn', 'r35i1p2f1', 'thetao'].\n",
      "  warnings.warn(f\"No match found for {match_elements}.\")\n"
     ]
    },
    {
     "name": "stdout",
     "output_type": "stream",
     "text": [
      "Manually Ingnored Variable: Passing CMIP.IPSL.IPSL-CM6A-LR.historical.r14i1p1f1.Omon.thkcello.gn unaltered\n",
      "Manually Ingnored Variable: Passing CMIP.CSIRO.ACCESS-ESM1-5.historical.r5i1p1f1.Ofx.areacello.gn unaltered\n",
      "Control run: Passing CMIP.NOAA-GFDL.GFDL-CM4.piControl.r1i1p1f1.Omon.so.gr unaltered\n",
      "Control run: Passing CMIP.CCCma.CanESM5.piControl.r1i1p2f1.Omon.so.gn unaltered\n",
      "Manually Ingnored Variable: Passing CMIP.MPI-M.MPI-ESM1-2-LR.historical.r8i1p1f1.Ofx.thkcello.gn unaltered\n",
      "Manually Ingnored Variable: Passing CMIP.CNRM-CERFACS.CNRM-ESM2-1.piControl.r1i1p1f2.Ofx.areacello.gn unaltered\n"
     ]
    },
    {
     "name": "stderr",
     "output_type": "stream",
     "text": [
      "/projects/GEOCLIM/LRGROUP/jbusecke/projects/aguadv_omz_busecke_2021/aguadv_omz_busecke_2021/cmip6_stash.py:262: UserWarning: No match found for ['CanESM5', 'Omon', 'gn', 'r33i1p2f1', 'so'].\n",
      "  warnings.warn(f\"No match found for {match_elements}.\")\n",
      "/projects/GEOCLIM/LRGROUP/jbusecke/projects/aguadv_omz_busecke_2021/aguadv_omz_busecke_2021/cmip6_stash.py:262: UserWarning: No match found for ['NorESM2-LM', 'Omon', 'gn', 'r3i1p1f1', 'so'].\n",
      "  warnings.warn(f\"No match found for {match_elements}.\")\n",
      "/projects/GEOCLIM/LRGROUP/jbusecke/projects/aguadv_omz_busecke_2021/aguadv_omz_busecke_2021/cmip6_stash.py:262: UserWarning: No match found for ['NorCPM1', 'Omon', 'gr', 'r7i1p1f1', 'so'].\n",
      "  warnings.warn(f\"No match found for {match_elements}.\")\n",
      "/projects/GEOCLIM/LRGROUP/jbusecke/projects/aguadv_omz_busecke_2021/aguadv_omz_busecke_2021/cmip6_stash.py:262: UserWarning: No match found for ['CanESM5', 'Omon', 'gn', 'r36i1p2f1', 'so'].\n",
      "  warnings.warn(f\"No match found for {match_elements}.\")\n"
     ]
    },
    {
     "name": "stdout",
     "output_type": "stream",
     "text": [
      "Manually Ingnored Variable: Passing ScenarioMIP.CCCma.CanESM5.ssp585.r13i1p2f1.Omon.mlotst.gn unaltered\n",
      "Manually Ingnored Variable: Passing ScenarioMIP.CCCma.CanESM5.ssp585.r14i1p2f1.Ofx.areacello.gn unaltered\n",
      "Manually Ingnored Variable: Passing CMIP.NCC.NorCPM1.historical.r17i1p1f1.Ofx.areacello.gn unaltered\n",
      "Manually Ingnored Variable: Passing CMIP.IPSL.IPSL-CM6A-LR.historical.r17i1p1f1.Omon.mlotst.gn unaltered\n",
      "Control run: Passing CMIP.MPI-M.MPI-ESM1-2-HR.piControl.r1i1p1f1.Omon.agessc.gn unaltered\n",
      "Manually Ingnored Variable: Passing CMIP.CNRM-CERFACS.CNRM-ESM2-1.historical.r11i1p1f2.Omon.mlotst.gn unaltered\n",
      "Manually Ingnored Variable: Passing CMIP.NCC.NorCPM1.historical.r30i1p1f1.Ofx.areacello.gn unaltered\n",
      "Manually Ingnored Variable: Passing ScenarioMIP.CCCma.CanESM5.ssp585.r4i1p2f1.Omon.mlotst.gn unaltered\n"
     ]
    },
    {
     "name": "stderr",
     "output_type": "stream",
     "text": [
      "/projects/GEOCLIM/LRGROUP/jbusecke/projects/aguadv_omz_busecke_2021/aguadv_omz_busecke_2021/cmip6_stash.py:262: UserWarning: No match found for ['NorCPM1', 'Omon', 'gn', 'r3i1p1f1', 'thetao'].\n",
      "  warnings.warn(f\"No match found for {match_elements}.\")\n"
     ]
    },
    {
     "name": "stdout",
     "output_type": "stream",
     "text": [
      "Manually Ingnored Variable: Passing CMIP.MOHC.UKESM1-0-LL.piControl.r1i1p1f2.Omon.mlotst.gn unaltered\n",
      "Manually Ingnored Variable: Passing CMIP.MRI.MRI-ESM2-0.piControl.r1i1p1f1.Omon.mlotst.gn unaltered\n",
      "Manually Ingnored Variable: Passing CMIP.CCCma.CanESM5.historical.r23i1p1f1.Ofx.thkcello.gn unaltered\n",
      "Manually Ingnored Variable: Passing CMIP.CSIRO.ACCESS-ESM1-5.historical.r4i1p1f1.Ofx.thkcello.gn unaltered\n",
      "Manually Ingnored Variable: Passing ScenarioMIP.MOHC.UKESM1-0-LL.ssp585.r1i1p1f2.Omon.thkcello.gn unaltered\n",
      "Manually Ingnored Variable: Passing CMIP.MRI.MRI-ESM2-0.piControl.r1i1p1f1.Omon.mlotst.gr unaltered\n",
      "Manually Ingnored Variable: Passing CMIP.CCCma.CanESM5.historical.r11i1p2f1.Omon.mlotst.gn unaltered\n",
      "Manually Ingnored Variable: Passing CMIP.CCCma.CanESM5.historical.r3i1p1f1.Ofx.thkcello.gn unaltered\n",
      "Manually Ingnored Variable: Passing CMIP.MPI-M.MPI-ESM1-2-LR.historical.r10i1p1f1.Omon.thkcello.gn unaltered\n"
     ]
    },
    {
     "name": "stderr",
     "output_type": "stream",
     "text": [
      "/projects/GEOCLIM/LRGROUP/jbusecke/projects/aguadv_omz_busecke_2021/aguadv_omz_busecke_2021/cmip6_stash.py:262: UserWarning: No match found for ['MPI-ESM1-2-HR', 'Omon', 'gn', 'r9i1p1f1', 'agessc'].\n",
      "  warnings.warn(f\"No match found for {match_elements}.\")\n",
      "/projects/GEOCLIM/LRGROUP/jbusecke/projects/aguadv_omz_busecke_2021/aguadv_omz_busecke_2021/cmip6_stash.py:262: UserWarning: No match found for ['NorCPM1', 'Omon', 'gr', 'r2i1p1f1', 'so'].\n",
      "  warnings.warn(f\"No match found for {match_elements}.\")\n",
      "/projects/GEOCLIM/LRGROUP/jbusecke/projects/aguadv_omz_busecke_2021/aguadv_omz_busecke_2021/cmip6_stash.py:262: UserWarning: No match found for ['MPI-ESM1-2-HR', 'Omon', 'gn', 'r2i1p1f1', 'thetao'].\n",
      "  warnings.warn(f\"No match found for {match_elements}.\")\n",
      "/projects/GEOCLIM/LRGROUP/jbusecke/projects/aguadv_omz_busecke_2021/aguadv_omz_busecke_2021/cmip6_stash.py:262: UserWarning: No match found for ['NorCPM1', 'Omon', 'gr', 'r1i1p1f1', 'o2'].\n",
      "  warnings.warn(f\"No match found for {match_elements}.\")\n"
     ]
    },
    {
     "name": "stdout",
     "output_type": "stream",
     "text": [
      "Manually Ingnored Variable: Passing CMIP.NCC.NorESM1-F.piControl.r1i1p1f1.Ofx.areacello.gn unaltered\n",
      "Manually Ingnored Variable: Passing ScenarioMIP.CSIRO.ACCESS-ESM1-5.ssp585.r1i1p1f1.Omon.mlotst.gn unaltered\n",
      "Manually Ingnored Variable: Passing CMIP.MOHC.UKESM1-0-LL.historical.r8i1p1f2.Omon.thkcello.gn unaltered\n",
      "Manually Ingnored Variable: Passing CMIP.NCC.NorCPM1.historical.r25i1p1f1.Omon.mlotst.gn unaltered\n",
      "Manually Ingnored Variable: Passing ScenarioMIP.CCCma.CanESM5.ssp585.r16i1p2f1.Omon.mlotst.gn unaltered\n",
      "Manually Ingnored Variable: Passing CMIP.MOHC.UKESM1-0-LL.historical.r9i1p1f2.Omon.thkcello.gn unaltered\n",
      "Manually Ingnored Variable: Passing CMIP.MPI-M.MPI-ESM1-2-HR.historical.r8i1p1f1.Ofx.thkcello.gn unaltered\n",
      "Manually Ingnored Variable: Passing CMIP.CCCma.CanESM5.historical.r17i1p2f1.Ofx.thkcello.gn unaltered\n",
      "Manually Ingnored Variable: Passing CMIP.CCCma.CanESM5-CanOE.historical.r2i1p2f1.Ofx.thkcello.gn unaltered\n",
      "Manually Ingnored Variable: Passing CMIP.CSIRO.ACCESS-ESM1-5.historical.r3i1p1f1.Ofx.areacello.gn unaltered\n",
      "Manually Ingnored Variable: Passing CMIP.HAMMOZ-Consortium.MPI-ESM-1-2-HAM.historical.r1i1p1f1.Ofx.thkcello.gn unaltered\n",
      "Manually Ingnored Variable: Passing CMIP.NCC.NorCPM1.historical.r5i1p1f1.Omon.mlotst.gn unaltered\n",
      "Manually Ingnored Variable: Passing CMIP.IPSL.IPSL-CM6A-LR.historical.r29i1p1f1.Ofx.areacello.gn unaltered\n",
      "Control run: Passing CMIP.MPI-M.MPI-ESM1-2-LR.piControl.r2i1p1f1.Omon.so.gn unaltered\n",
      "Manually Ingnored Variable: Passing ScenarioMIP.DKRZ.MPI-ESM1-2-HR.ssp585.r1i1p1f1.Ofx.areacello.gn unaltered\n",
      "Manually Ingnored Variable: Passing CMIP.MOHC.UKESM1-0-LL.historical.r1i1p1f2.Omon.mlotst.gn unaltered\n",
      "Manually Ingnored Variable: Passing ScenarioMIP.CCCma.CanESM5.ssp585.r7i1p1f1.Ofx.areacello.gn unaltered\n",
      "Manually Ingnored Variable: Passing CMIP.IPSL.IPSL-CM6A-LR.historical.r21i1p1f1.Omon.mlotst.gn unaltered\n",
      "Manually Ingnored Variable: Passing CMIP.MPI-M.MPI-ESM1-2-LR.historical.r2i1p1f1.Ofx.thkcello.gn unaltered\n",
      "Manually Ingnored Variable: Passing ScenarioMIP.MRI.MRI-ESM2-0.ssp585.r1i2p1f1.Ofx.areacello.gn unaltered\n",
      "Manually Ingnored Variable: Passing ScenarioMIP.NCC.NorESM2-MM.ssp585.r1i1p1f1.Ofx.thkcello.gr unaltered\n",
      "Manually Ingnored Variable: Passing ScenarioMIP.MPI-M.MPI-ESM1-2-LR.ssp585.r4i1p1f1.Omon.thkcello.gn unaltered\n",
      "Manually Ingnored Variable: Passing CMIP.CCCma.CanESM5.historical.r17i1p1f1.Ofx.areacello.gn unaltered\n",
      "Manually Ingnored Variable: Passing CMIP.IPSL.IPSL-CM6A-LR.historical.r12i1p1f1.Omon.mlotst.gn unaltered\n",
      "Manually Ingnored Variable: Passing ScenarioMIP.CCCma.CanESM5.ssp585.r21i1p1f1.Ofx.thkcello.gn unaltered\n"
     ]
    },
    {
     "name": "stderr",
     "output_type": "stream",
     "text": [
      "/projects/GEOCLIM/LRGROUP/jbusecke/projects/aguadv_omz_busecke_2021/aguadv_omz_busecke_2021/cmip6_stash.py:262: UserWarning: No match found for ['NorCPM1', 'Omon', 'gr', 'r11i1p1f1', 'thetao'].\n",
      "  warnings.warn(f\"No match found for {match_elements}.\")\n"
     ]
    },
    {
     "name": "stdout",
     "output_type": "stream",
     "text": [
      "Control run: Passing CMIP.HAMMOZ-Consortium.MPI-ESM-1-2-HAM.piControl.r1i1p1f1.Omon.agessc.gn unaltered\n",
      "Manually Ingnored Variable: Passing CMIP.MOHC.UKESM1-0-LL.piControl.r1i1p1f2.Ofx.areacello.gn unaltered\n"
     ]
    },
    {
     "name": "stderr",
     "output_type": "stream",
     "text": [
      "/projects/GEOCLIM/LRGROUP/jbusecke/projects/aguadv_omz_busecke_2021/aguadv_omz_busecke_2021/cmip6_stash.py:262: UserWarning: No match found for ['NorCPM1', 'Omon', 'gn', 'r2i1p1f1', 'so'].\n",
      "  warnings.warn(f\"No match found for {match_elements}.\")\n"
     ]
    },
    {
     "name": "stdout",
     "output_type": "stream",
     "text": [
      "Manually Ingnored Variable: Passing CMIP.IPSL.IPSL-CM6A-LR.historical.r3i1p1f1.Omon.mlotst.gn unaltered\n",
      "Manually Ingnored Variable: Passing CMIP.IPSL.IPSL-CM6A-LR.historical.r9i1p1f1.Omon.mlotst.gn unaltered\n",
      "Manually Ingnored Variable: Passing CMIP.CCCma.CanESM5.historical.r20i1p1f1.Omon.mlotst.gn unaltered\n"
     ]
    },
    {
     "name": "stderr",
     "output_type": "stream",
     "text": [
      "/projects/GEOCLIM/LRGROUP/jbusecke/projects/aguadv_omz_busecke_2021/aguadv_omz_busecke_2021/cmip6_stash.py:262: UserWarning: No match found for ['NorCPM1', 'Omon', 'gn', 'r5i1p1f1', 'so'].\n",
      "  warnings.warn(f\"No match found for {match_elements}.\")\n"
     ]
    },
    {
     "name": "stdout",
     "output_type": "stream",
     "text": [
      "Control run: Passing CMIP.MPI-M.MPI-ESM1-2-HR.piControl.r1i1p1f1.Omon.so.gn unaltered\n"
     ]
    },
    {
     "name": "stderr",
     "output_type": "stream",
     "text": [
      "/projects/GEOCLIM/LRGROUP/jbusecke/projects/aguadv_omz_busecke_2021/aguadv_omz_busecke_2021/cmip6_stash.py:262: UserWarning: No match found for ['NorCPM1', 'Omon', 'gr', 'r24i1p1f1', 'thetao'].\n",
      "  warnings.warn(f\"No match found for {match_elements}.\")\n"
     ]
    },
    {
     "name": "stdout",
     "output_type": "stream",
     "text": [
      "Manually Ingnored Variable: Passing ScenarioMIP.CCCma.CanESM5.ssp585.r18i1p2f1.Ofx.areacello.gn unaltered\n"
     ]
    },
    {
     "name": "stderr",
     "output_type": "stream",
     "text": [
      "/projects/GEOCLIM/LRGROUP/jbusecke/projects/aguadv_omz_busecke_2021/aguadv_omz_busecke_2021/cmip6_stash.py:262: UserWarning: No match found for ['MPI-ESM-1-2-HAM', 'Omon', 'gn', 'r2i1p1f1', 'thetao'].\n",
      "  warnings.warn(f\"No match found for {match_elements}.\")\n",
      "/projects/GEOCLIM/LRGROUP/jbusecke/projects/aguadv_omz_busecke_2021/aguadv_omz_busecke_2021/cmip6_stash.py:262: UserWarning: No match found for ['NorCPM1', 'Omon', 'gr', 'r8i1p1f1', 'so'].\n",
      "  warnings.warn(f\"No match found for {match_elements}.\")\n",
      "/projects/GEOCLIM/LRGROUP/jbusecke/projects/aguadv_omz_busecke_2021/aguadv_omz_busecke_2021/cmip6_stash.py:262: UserWarning: No match found for ['NorCPM1', 'Omon', 'gr', 'r25i1p1f1', 'thetao'].\n",
      "  warnings.warn(f\"No match found for {match_elements}.\")\n",
      "/projects/GEOCLIM/LRGROUP/jbusecke/projects/aguadv_omz_busecke_2021/aguadv_omz_busecke_2021/cmip6_stash.py:262: UserWarning: No match found for ['NorCPM1', 'Omon', 'gr', 'r30i1p1f1', 'so'].\n",
      "  warnings.warn(f\"No match found for {match_elements}.\")\n"
     ]
    },
    {
     "name": "stdout",
     "output_type": "stream",
     "text": [
      "Manually Ingnored Variable: Passing ScenarioMIP.NCC.NorESM2-LM.ssp585.r1i1p1f1.Omon.thkcello.gn unaltered\n",
      "Manually Ingnored Variable: Passing ScenarioMIP.CCCma.CanESM5.ssp585.r5i1p1f1.Ofx.areacello.gn unaltered\n",
      "Manually Ingnored Variable: Passing CMIP.CCCma.CanESM5.historical.r30i1p2f1.Omon.mlotst.gn unaltered\n",
      "Control run: Passing CMIP.NCC.NorCPM1.piControl.r2i1p1f1.Omon.thetao.gr unaltered\n",
      "Manually Ingnored Variable: Passing CMIP.NCC.NorCPM1.historical.r20i1p1f1.Ofx.areacello.gn unaltered\n",
      "Manually Ingnored Variable: Passing ScenarioMIP.CCCma.CanESM5.ssp585.r19i1p2f1.Omon.mlotst.gn unaltered\n",
      "Manually Ingnored Variable: Passing ScenarioMIP.CCCma.CanESM5-CanOE.ssp585.r3i1p2f1.Ofx.areacello.gn unaltered\n",
      "Manually Ingnored Variable: Passing CMIP.CCCma.CanESM5.historical.r36i1p2f1.Ofx.areacello.gn unaltered\n"
     ]
    },
    {
     "name": "stderr",
     "output_type": "stream",
     "text": [
      "/projects/GEOCLIM/LRGROUP/jbusecke/projects/aguadv_omz_busecke_2021/aguadv_omz_busecke_2021/cmip6_stash.py:262: UserWarning: No match found for ['MPI-ESM1-2-HR', 'Omon', 'gn', 'r3i1p1f1', 'o2'].\n",
      "  warnings.warn(f\"No match found for {match_elements}.\")\n",
      "/projects/GEOCLIM/LRGROUP/jbusecke/projects/aguadv_omz_busecke_2021/aguadv_omz_busecke_2021/cmip6_stash.py:262: UserWarning: No match found for ['CanESM5', 'Omon', 'gn', 'r40i1p2f1', 'so'].\n",
      "  warnings.warn(f\"No match found for {match_elements}.\")\n"
     ]
    },
    {
     "name": "stdout",
     "output_type": "stream",
     "text": [
      "Manually Ingnored Variable: Passing CMIP.MPI-M.MPI-ESM1-2-LR.historical.r7i1p1f1.Ofx.thkcello.gn unaltered\n",
      "Manually Ingnored Variable: Passing CMIP.NCC.NorCPM1.historical.r22i1p1f1.Ofx.areacello.gn unaltered\n"
     ]
    },
    {
     "name": "stderr",
     "output_type": "stream",
     "text": [
      "/projects/GEOCLIM/LRGROUP/jbusecke/projects/aguadv_omz_busecke_2021/aguadv_omz_busecke_2021/cmip6_stash.py:262: UserWarning: No match found for ['NorCPM1', 'Omon', 'gr', 'r29i1p1f1', 'thetao'].\n",
      "  warnings.warn(f\"No match found for {match_elements}.\")\n"
     ]
    },
    {
     "name": "stdout",
     "output_type": "stream",
     "text": [
      "Manually Ingnored Variable: Passing CMIP.MRI.MRI-ESM2-0.piControl.r1i2p1f1.Omon.mlotst.gr unaltered\n",
      "Manually Ingnored Variable: Passing CMIP.NCC.NorESM2-LM.historical.r2i1p1f1.Omon.thkcello.gn unaltered\n"
     ]
    },
    {
     "name": "stderr",
     "output_type": "stream",
     "text": [
      "/projects/GEOCLIM/LRGROUP/jbusecke/projects/aguadv_omz_busecke_2021/aguadv_omz_busecke_2021/cmip6_stash.py:262: UserWarning: No match found for ['NorCPM1', 'Omon', 'gr', 'r28i1p1f1', 'o2'].\n",
      "  warnings.warn(f\"No match found for {match_elements}.\")\n"
     ]
    },
    {
     "name": "stdout",
     "output_type": "stream",
     "text": [
      "Manually Ingnored Variable: Passing CMIP.MPI-M.MPI-ESM1-2-HR.piControl.r1i1p1f1.Omon.thkcello.gn unaltered\n",
      "Manually Ingnored Variable: Passing CMIP.IPSL.IPSL-CM6A-LR.historical.r4i1p1f1.Omon.mlotst.gn unaltered\n",
      "Manually Ingnored Variable: Passing CMIP.CNRM-CERFACS.CNRM-ESM2-1.piControl.r1i1p1f2.Omon.mlotst.gn unaltered\n",
      "Manually Ingnored Variable: Passing ScenarioMIP.MPI-M.MPI-ESM1-2-LR.ssp585.r10i1p1f1.Ofx.thkcello.gn unaltered\n",
      "Manually Ingnored Variable: Passing CMIP.MPI-M.MPI-ESM1-2-LR.historical.r7i1p1f1.Omon.thkcello.gn unaltered\n"
     ]
    },
    {
     "name": "stderr",
     "output_type": "stream",
     "text": [
      "/projects/GEOCLIM/LRGROUP/jbusecke/projects/aguadv_omz_busecke_2021/aguadv_omz_busecke_2021/cmip6_stash.py:262: UserWarning: No match found for ['NorCPM1', 'Omon', 'gn', 'r18i1p1f1', 'thetao'].\n",
      "  warnings.warn(f\"No match found for {match_elements}.\")\n"
     ]
    },
    {
     "name": "stdout",
     "output_type": "stream",
     "text": [
      "Manually Ingnored Variable: Passing CMIP.CCCma.CanESM5.historical.r22i1p1f1.Ofx.thkcello.gn unaltered\n",
      "Control run: Passing CMIP.MPI-M.MPI-ESM1-2-LR.piControl.r2i1p1f1.Omon.o2.gn unaltered\n",
      "Manually Ingnored Variable: Passing ScenarioMIP.MPI-M.MPI-ESM1-2-LR.ssp585.r1i1p1f1.Omon.thkcello.gn unaltered\n",
      "Manually Ingnored Variable: Passing CMIP.NOAA-GFDL.GFDL-ESM4.piControl.r1i1p1f1.Ofx.areacello.gr unaltered\n"
     ]
    },
    {
     "name": "stderr",
     "output_type": "stream",
     "text": [
      "/projects/GEOCLIM/LRGROUP/jbusecke/projects/aguadv_omz_busecke_2021/aguadv_omz_busecke_2021/cmip6_stash.py:262: UserWarning: No match found for ['MPI-ESM1-2-HR', 'Omon', 'gn', 'r5i1p1f1', 'o2'].\n",
      "  warnings.warn(f\"No match found for {match_elements}.\")\n",
      "/projects/GEOCLIM/LRGROUP/jbusecke/projects/aguadv_omz_busecke_2021/aguadv_omz_busecke_2021/cmip6_stash.py:262: UserWarning: No match found for ['NorCPM1', 'Omon', 'gn', 'r15i1p1f1', 'thetao'].\n",
      "  warnings.warn(f\"No match found for {match_elements}.\")\n",
      "/projects/GEOCLIM/LRGROUP/jbusecke/projects/aguadv_omz_busecke_2021/aguadv_omz_busecke_2021/cmip6_stash.py:262: UserWarning: No match found for ['NorCPM1', 'Omon', 'gr', 'r1i1p1f1', 'thetao'].\n",
      "  warnings.warn(f\"No match found for {match_elements}.\")\n"
     ]
    },
    {
     "name": "stdout",
     "output_type": "stream",
     "text": [
      "Manually Ingnored Variable: Passing ScenarioMIP.CCCma.CanESM5.ssp585.r2i1p2f1.Ofx.thkcello.gn unaltered\n",
      "Control run: Passing CMIP.NCC.NorCPM1.piControl.r2i1p1f1.Omon.so.gr unaltered\n",
      "Manually Ingnored Variable: Passing CMIP.CCCma.CanESM5.historical.r18i1p1f1.Ofx.areacello.gn unaltered\n",
      "Manually Ingnored Variable: Passing CMIP.CCCma.CanESM5.historical.r19i1p1f1.Ofx.areacello.gn unaltered\n",
      "Manually Ingnored Variable: Passing CMIP.CCCma.CanESM5.historical.r38i1p2f1.Ofx.areacello.gn unaltered\n"
     ]
    },
    {
     "name": "stderr",
     "output_type": "stream",
     "text": [
      "/projects/GEOCLIM/LRGROUP/jbusecke/projects/aguadv_omz_busecke_2021/aguadv_omz_busecke_2021/cmip6_stash.py:262: UserWarning: No match found for ['MPI-ESM1-2-HR', 'Omon', 'gn', 'r4i1p1f1', 'thetao'].\n",
      "  warnings.warn(f\"No match found for {match_elements}.\")\n"
     ]
    },
    {
     "name": "stdout",
     "output_type": "stream",
     "text": [
      "Manually Ingnored Variable: Passing ScenarioMIP.CCCma.CanESM5.ssp585.r1i1p2f1.Omon.mlotst.gn unaltered\n"
     ]
    },
    {
     "name": "stderr",
     "output_type": "stream",
     "text": [
      "/projects/GEOCLIM/LRGROUP/jbusecke/projects/aguadv_omz_busecke_2021/aguadv_omz_busecke_2021/cmip6_stash.py:262: UserWarning: No match found for ['NorCPM1', 'Omon', 'gr', 'r24i1p1f1', 'so'].\n",
      "  warnings.warn(f\"No match found for {match_elements}.\")\n"
     ]
    },
    {
     "name": "stdout",
     "output_type": "stream",
     "text": [
      "Manually Ingnored Variable: Passing CMIP.IPSL.IPSL-CM6A-LR.historical.r5i1p1f1.Omon.thkcello.gn unaltered\n",
      "Manually Ingnored Variable: Passing CMIP.CCCma.CanESM5.historical.r37i1p2f1.Ofx.thkcello.gn unaltered\n",
      "Manually Ingnored Variable: Passing CMIP.NCC.NorCPM1.historical.r14i1p1f1.Ofx.areacello.gn unaltered\n"
     ]
    },
    {
     "name": "stderr",
     "output_type": "stream",
     "text": [
      "/projects/GEOCLIM/LRGROUP/jbusecke/projects/aguadv_omz_busecke_2021/aguadv_omz_busecke_2021/cmip6_stash.py:262: UserWarning: No match found for ['CanESM5', 'Omon', 'gn', 'r26i1p2f1', 'thetao'].\n",
      "  warnings.warn(f\"No match found for {match_elements}.\")\n",
      "/projects/GEOCLIM/LRGROUP/jbusecke/projects/aguadv_omz_busecke_2021/aguadv_omz_busecke_2021/cmip6_stash.py:262: UserWarning: No match found for ['NorCPM1', 'Omon', 'gn', 'r4i1p1f1', 'so'].\n",
      "  warnings.warn(f\"No match found for {match_elements}.\")\n",
      "/projects/GEOCLIM/LRGROUP/jbusecke/projects/aguadv_omz_busecke_2021/aguadv_omz_busecke_2021/cmip6_stash.py:262: UserWarning: No match found for ['NorCPM1', 'Omon', 'gr', 'r6i1p1f1', 'o2'].\n",
      "  warnings.warn(f\"No match found for {match_elements}.\")\n",
      "/projects/GEOCLIM/LRGROUP/jbusecke/projects/aguadv_omz_busecke_2021/aguadv_omz_busecke_2021/cmip6_stash.py:262: UserWarning: No match found for ['NorCPM1', 'Omon', 'gr', 'r27i1p1f1', 'o2'].\n",
      "  warnings.warn(f\"No match found for {match_elements}.\")\n"
     ]
    },
    {
     "name": "stdout",
     "output_type": "stream",
     "text": [
      "Manually Ingnored Variable: Passing CMIP.HAMMOZ-Consortium.MPI-ESM-1-2-HAM.piControl.r1i1p1f1.Omon.thkcello.gn unaltered\n",
      "Manually Ingnored Variable: Passing CMIP.CCCma.CanESM5.historical.r19i1p1f1.Omon.mlotst.gn unaltered\n",
      "Manually Ingnored Variable: Passing CMIP.IPSL.IPSL-CM6A-LR.historical.r24i1p1f1.Omon.mlotst.gn unaltered\n",
      "Manually Ingnored Variable: Passing CMIP.MPI-M.MPI-ESM1-2-HR.historical.r3i1p1f1.Ofx.areacello.gn unaltered\n",
      "Manually Ingnored Variable: Passing CMIP.NCC.NorCPM1.historical.r15i1p1f1.Omon.mlotst.gn unaltered\n",
      "Manually Ingnored Variable: Passing CMIP.CCCma.CanESM5.historical.r40i1p2f1.Omon.mlotst.gn unaltered\n",
      "Manually Ingnored Variable: Passing CMIP.MPI-M.MPI-ESM1-2-HR.historical.r5i1p1f1.Ofx.thkcello.gn unaltered\n",
      "Manually Ingnored Variable: Passing CMIP.CSIRO.ACCESS-ESM1-5.historical.r10i1p1f1.Omon.mlotst.gn unaltered\n",
      "Manually Ingnored Variable: Passing CMIP.IPSL.IPSL-CM6A-LR.historical.r27i1p1f1.Ofx.areacello.gn unaltered\n",
      "Manually Ingnored Variable: Passing CMIP.CNRM-CERFACS.CNRM-ESM2-1.historical.r1i1p1f2.Ofx.areacello.gn unaltered\n",
      "Manually Ingnored Variable: Passing CMIP.IPSL.IPSL-CM6A-LR.historical.r3i1p1f1.Ofx.areacello.gn unaltered\n"
     ]
    },
    {
     "name": "stderr",
     "output_type": "stream",
     "text": [
      "/projects/GEOCLIM/LRGROUP/jbusecke/projects/aguadv_omz_busecke_2021/aguadv_omz_busecke_2021/cmip6_stash.py:262: UserWarning: No match found for ['NorCPM1', 'Omon', 'gr', 'r16i1p1f1', 'thetao'].\n",
      "  warnings.warn(f\"No match found for {match_elements}.\")\n"
     ]
    },
    {
     "name": "stdout",
     "output_type": "stream",
     "text": [
      "Manually Ingnored Variable: Passing CMIP.CCCma.CanESM5.historical.r12i1p1f1.Ofx.thkcello.gn unaltered\n"
     ]
    },
    {
     "name": "stderr",
     "output_type": "stream",
     "text": [
      "/projects/GEOCLIM/LRGROUP/jbusecke/projects/aguadv_omz_busecke_2021/aguadv_omz_busecke_2021/cmip6_stash.py:262: UserWarning: No match found for ['MPI-ESM1-2-HR', 'Omon', 'gn', 'r2i1p1f1', 'o2'].\n",
      "  warnings.warn(f\"No match found for {match_elements}.\")\n"
     ]
    },
    {
     "name": "stdout",
     "output_type": "stream",
     "text": [
      "Manually Ingnored Variable: Passing ScenarioMIP.CSIRO.ACCESS-ESM1-5.ssp585.r3i1p1f1.Ofx.thkcello.gn unaltered\n",
      "Manually Ingnored Variable: Passing CMIP.CCCma.CanESM5.historical.r19i1p2f1.Omon.mlotst.gn unaltered\n",
      "Manually Ingnored Variable: Passing ScenarioMIP.CCCma.CanESM5.ssp585.r24i1p2f1.Omon.mlotst.gn unaltered\n",
      "Manually Ingnored Variable: Passing CMIP.MIROC.MIROC-ES2L.historical.r9i1p1f2.Ofx.areacello.gn unaltered\n",
      "Manually Ingnored Variable: Passing CMIP.NCC.NorCPM1.historical.r1i1p1f1.Omon.mlotst.gn unaltered\n",
      "Control run: Passing CMIP.MRI.MRI-ESM2-0.piControl.r1i1p1f1.Omon.agessc.gn unaltered\n",
      "Manually Ingnored Variable: Passing CMIP.CCCma.CanESM5.historical.r13i1p2f1.Ofx.thkcello.gn unaltered\n"
     ]
    },
    {
     "name": "stderr",
     "output_type": "stream",
     "text": [
      "/projects/GEOCLIM/LRGROUP/jbusecke/projects/aguadv_omz_busecke_2021/aguadv_omz_busecke_2021/cmip6_stash.py:262: UserWarning: No match found for ['NorCPM1', 'Omon', 'gr', 'r18i1p1f1', 'thetao'].\n",
      "  warnings.warn(f\"No match found for {match_elements}.\")\n",
      "/projects/GEOCLIM/LRGROUP/jbusecke/projects/aguadv_omz_busecke_2021/aguadv_omz_busecke_2021/cmip6_stash.py:262: UserWarning: No match found for ['NorCPM1', 'Omon', 'gr', 'r3i1p1f1', 'so'].\n",
      "  warnings.warn(f\"No match found for {match_elements}.\")\n",
      "/projects/GEOCLIM/LRGROUP/jbusecke/projects/aguadv_omz_busecke_2021/aguadv_omz_busecke_2021/cmip6_stash.py:262: UserWarning: No match found for ['CanESM5', 'Omon', 'gn', 'r28i1p2f1', 'thetao'].\n",
      "  warnings.warn(f\"No match found for {match_elements}.\")\n"
     ]
    },
    {
     "name": "stdout",
     "output_type": "stream",
     "text": [
      "Manually Ingnored Variable: Passing ScenarioMIP.CCCma.CanESM5.ssp585.r19i1p2f1.Ofx.areacello.gn unaltered\n",
      "Manually Ingnored Variable: Passing CMIP.CCCma.CanESM5.historical.r2i1p2f1.Omon.mlotst.gn unaltered\n",
      "Manually Ingnored Variable: Passing CMIP.CCCma.CanESM5.historical.r1i1p1f1.Ofx.areacello.gn unaltered\n",
      "Manually Ingnored Variable: Passing CMIP.NCC.NorCPM1.piControl.r3i1p1f1.Ofx.areacello.gn unaltered\n",
      "Manually Ingnored Variable: Passing ScenarioMIP.CCCma.CanESM5.ssp585.r18i1p1f1.Omon.mlotst.gn unaltered\n",
      "Manually Ingnored Variable: Passing ScenarioMIP.CCCma.CanESM5.ssp585.r10i1p1f1.Ofx.areacello.gn unaltered\n"
     ]
    },
    {
     "name": "stderr",
     "output_type": "stream",
     "text": [
      "/projects/GEOCLIM/LRGROUP/jbusecke/projects/aguadv_omz_busecke_2021/aguadv_omz_busecke_2021/cmip6_stash.py:262: UserWarning: No match found for ['NorCPM1', 'Omon', 'gr', 'r13i1p1f1', 'so'].\n",
      "  warnings.warn(f\"No match found for {match_elements}.\")\n",
      "/projects/GEOCLIM/LRGROUP/jbusecke/projects/aguadv_omz_busecke_2021/aguadv_omz_busecke_2021/cmip6_stash.py:262: UserWarning: No match found for ['NorESM2-LM', 'Omon', 'gn', 'r1i1p1f1', 'agessc'].\n",
      "  warnings.warn(f\"No match found for {match_elements}.\")\n",
      "/projects/GEOCLIM/LRGROUP/jbusecke/projects/aguadv_omz_busecke_2021/aguadv_omz_busecke_2021/cmip6_stash.py:262: UserWarning: No match found for ['NorCPM1', 'Omon', 'gr', 'r23i1p1f1', 'o2'].\n",
      "  warnings.warn(f\"No match found for {match_elements}.\")\n",
      "/projects/GEOCLIM/LRGROUP/jbusecke/projects/aguadv_omz_busecke_2021/aguadv_omz_busecke_2021/cmip6_stash.py:262: UserWarning: No match found for ['CanESM5', 'Omon', 'gn', 'r21i1p1f1', 'o2'].\n",
      "  warnings.warn(f\"No match found for {match_elements}.\")\n"
     ]
    },
    {
     "name": "stdout",
     "output_type": "stream",
     "text": [
      "Manually Ingnored Variable: Passing CMIP.NCC.NorESM2-MM.historical.r1i1p1f1.Ofx.areacello.gn unaltered\n",
      "Manually Ingnored Variable: Passing CMIP.NCC.NorCPM1.historical.r27i1p1f1.Omon.mlotst.gn unaltered\n",
      "Manually Ingnored Variable: Passing CMIP.NCC.NorESM2-LM.historical.r1i1p1f1.Omon.mlotst.gn unaltered\n",
      "Manually Ingnored Variable: Passing CMIP.IPSL.IPSL-CM6A-LR.historical.r23i1p1f1.Omon.mlotst.gn unaltered\n",
      "Manually Ingnored Variable: Passing CMIP.MPI-M.MPI-ESM1-2-LR.historical.r4i1p1f1.Omon.mlotst.gn unaltered\n"
     ]
    },
    {
     "name": "stderr",
     "output_type": "stream",
     "text": [
      "/projects/GEOCLIM/LRGROUP/jbusecke/projects/aguadv_omz_busecke_2021/aguadv_omz_busecke_2021/cmip6_stash.py:262: UserWarning: No match found for ['NorCPM1', 'Omon', 'gn', 'r1i1p1f1', 'thetao'].\n",
      "  warnings.warn(f\"No match found for {match_elements}.\")\n"
     ]
    },
    {
     "name": "stdout",
     "output_type": "stream",
     "text": [
      "Manually Ingnored Variable: Passing CMIP.CCCma.CanESM5.historical.r10i1p1f1.Omon.mlotst.gn unaltered\n",
      "Manually Ingnored Variable: Passing CMIP.CSIRO.ACCESS-ESM1-5.historical.r3i1p1f1.Omon.mlotst.gn unaltered\n"
     ]
    },
    {
     "name": "stderr",
     "output_type": "stream",
     "text": [
      "/projects/GEOCLIM/LRGROUP/jbusecke/projects/aguadv_omz_busecke_2021/aguadv_omz_busecke_2021/cmip6_stash.py:262: UserWarning: No match found for ['NorCPM1', 'Omon', 'gr', 'r20i1p1f1', 'so'].\n",
      "  warnings.warn(f\"No match found for {match_elements}.\")\n",
      "/projects/GEOCLIM/LRGROUP/jbusecke/projects/aguadv_omz_busecke_2021/aguadv_omz_busecke_2021/cmip6_stash.py:262: UserWarning: No match found for ['NorCPM1', 'Omon', 'gr', 'r5i1p1f1', 'o2'].\n",
      "  warnings.warn(f\"No match found for {match_elements}.\")\n",
      "/projects/GEOCLIM/LRGROUP/jbusecke/projects/aguadv_omz_busecke_2021/aguadv_omz_busecke_2021/cmip6_stash.py:262: UserWarning: No match found for ['NorCPM1', 'Omon', 'gr', 'r11i1p1f1', 'o2'].\n",
      "  warnings.warn(f\"No match found for {match_elements}.\")\n"
     ]
    },
    {
     "name": "stdout",
     "output_type": "stream",
     "text": [
      "Manually Ingnored Variable: Passing ScenarioMIP.CCCma.CanESM5.ssp585.r22i1p1f1.Omon.mlotst.gn unaltered\n",
      "Manually Ingnored Variable: Passing CMIP.CCCma.CanESM5.historical.r8i1p1f1.Ofx.thkcello.gn unaltered\n",
      "Manually Ingnored Variable: Passing ScenarioMIP.CCCma.CanESM5.ssp585.r11i1p2f1.Omon.mlotst.gn unaltered\n",
      "Manually Ingnored Variable: Passing CMIP.IPSL.IPSL-CM6A-LR.historical.r16i1p1f1.Omon.mlotst.gn unaltered\n",
      "Manually Ingnored Variable: Passing CMIP.IPSL.IPSL-CM6A-LR.historical.r14i1p1f1.Ofx.areacello.gn unaltered\n"
     ]
    },
    {
     "name": "stderr",
     "output_type": "stream",
     "text": [
      "/projects/GEOCLIM/LRGROUP/jbusecke/projects/aguadv_omz_busecke_2021/aguadv_omz_busecke_2021/cmip6_stash.py:262: UserWarning: No match found for ['CanESM5', 'Omon', 'gn', 'r24i1p1f1', 'thetao'].\n",
      "  warnings.warn(f\"No match found for {match_elements}.\")\n",
      "/projects/GEOCLIM/LRGROUP/jbusecke/projects/aguadv_omz_busecke_2021/aguadv_omz_busecke_2021/cmip6_stash.py:262: UserWarning: No match found for ['NorCPM1', 'Omon', 'gn', 'r6i1p1f1', 'thetao'].\n",
      "  warnings.warn(f\"No match found for {match_elements}.\")\n",
      "/projects/GEOCLIM/LRGROUP/jbusecke/projects/aguadv_omz_busecke_2021/aguadv_omz_busecke_2021/cmip6_stash.py:262: UserWarning: No match found for ['NorESM2-LM', 'Omon', 'gn', 'r1i1p1f1', 'agessc'].\n",
      "  warnings.warn(f\"No match found for {match_elements}.\")\n"
     ]
    },
    {
     "name": "stdout",
     "output_type": "stream",
     "text": [
      "Manually Ingnored Variable: Passing ScenarioMIP.CCCma.CanESM5.ssp585.r22i1p2f1.Ofx.areacello.gn unaltered\n",
      "Manually Ingnored Variable: Passing ScenarioMIP.CCCma.CanESM5.ssp585.r21i1p2f1.Ofx.thkcello.gn unaltered\n",
      "Manually Ingnored Variable: Passing CMIP.HAMMOZ-Consortium.MPI-ESM-1-2-HAM.piControl.r1i1p1f1.Ofx.thkcello.gn unaltered\n",
      "Manually Ingnored Variable: Passing CMIP.HAMMOZ-Consortium.MPI-ESM-1-2-HAM.historical.r2i1p1f1.Omon.thkcello.gn unaltered\n",
      "Manually Ingnored Variable: Passing CMIP.CNRM-CERFACS.CNRM-ESM2-1.historical.r8i1p1f2.Ofx.areacello.gn unaltered\n",
      "Manually Ingnored Variable: Passing ScenarioMIP.CCCma.CanESM5.ssp585.r17i1p2f1.Omon.mlotst.gn unaltered\n",
      "Manually Ingnored Variable: Passing ScenarioMIP.CCCma.CanESM5.ssp585.r17i1p1f1.Ofx.thkcello.gn unaltered\n",
      "Control run: Passing CMIP.CCCma.CanESM5.piControl.r1i1p1f1.Omon.o2.gn unaltered\n",
      "Manually Ingnored Variable: Passing CMIP.NCC.NorCPM1.historical.r24i1p1f1.Omon.mlotst.gn unaltered\n"
     ]
    },
    {
     "name": "stderr",
     "output_type": "stream",
     "text": [
      "/projects/GEOCLIM/LRGROUP/jbusecke/projects/aguadv_omz_busecke_2021/aguadv_omz_busecke_2021/cmip6_stash.py:262: UserWarning: No match found for ['CanESM5', 'Omon', 'gn', 'r38i1p2f1', 'so'].\n",
      "  warnings.warn(f\"No match found for {match_elements}.\")\n",
      "/projects/GEOCLIM/LRGROUP/jbusecke/projects/aguadv_omz_busecke_2021/aguadv_omz_busecke_2021/cmip6_stash.py:262: UserWarning: No match found for ['NorESM2-LM', 'Omon', 'gn', 'r3i1p1f1', 'thetao'].\n",
      "  warnings.warn(f\"No match found for {match_elements}.\")\n"
     ]
    },
    {
     "name": "stdout",
     "output_type": "stream",
     "text": [
      "Manually Ingnored Variable: Passing CMIP.NOAA-GFDL.GFDL-CM4.piControl.r1i1p1f1.Omon.mlotst.gr unaltered\n",
      "Manually Ingnored Variable: Passing CMIP.MPI-M.MPI-ESM1-2-HR.historical.r10i1p1f1.Omon.mlotst.gn unaltered\n",
      "Manually Ingnored Variable: Passing CMIP.NCC.NorCPM1.historical.r24i1p1f1.Ofx.areacello.gn unaltered\n",
      "Manually Ingnored Variable: Passing CMIP.HAMMOZ-Consortium.MPI-ESM-1-2-HAM.historical.r1i1p1f1.Omon.mlotst.gn unaltered\n",
      "Manually Ingnored Variable: Passing ScenarioMIP.CCCma.CanESM5.ssp585.r21i1p1f1.Omon.mlotst.gn unaltered\n",
      "Manually Ingnored Variable: Passing CMIP.IPSL.IPSL-CM6A-LR.historical.r11i1p1f1.Ofx.areacello.gn unaltered\n",
      "Manually Ingnored Variable: Passing CMIP.NCC.NorCPM1.historical.r3i1p1f1.Omon.mlotst.gn unaltered\n",
      "Manually Ingnored Variable: Passing ScenarioMIP.CCCma.CanESM5.ssp585.r16i1p1f1.Ofx.areacello.gn unaltered\n",
      "Manually Ingnored Variable: Passing CMIP.CCCma.CanESM5.historical.r13i1p1f1.Ofx.areacello.gn unaltered\n",
      "Manually Ingnored Variable: Passing CMIP.NCC.NorESM2-LM.historical.r2i1p1f1.Omon.mlotst.gn unaltered\n",
      "Manually Ingnored Variable: Passing CMIP.CSIRO.ACCESS-ESM1-5.historical.r9i1p1f1.Ofx.areacello.gn unaltered\n",
      "Manually Ingnored Variable: Passing CMIP.IPSL.IPSL-CM6A-LR.historical.r18i1p1f1.Ofx.areacello.gn unaltered\n"
     ]
    },
    {
     "name": "stderr",
     "output_type": "stream",
     "text": [
      "/projects/GEOCLIM/LRGROUP/jbusecke/projects/aguadv_omz_busecke_2021/aguadv_omz_busecke_2021/cmip6_stash.py:262: UserWarning: No match found for ['NorCPM1', 'Omon', 'gr', 'r12i1p1f1', 'so'].\n",
      "  warnings.warn(f\"No match found for {match_elements}.\")\n",
      "/projects/GEOCLIM/LRGROUP/jbusecke/projects/aguadv_omz_busecke_2021/aguadv_omz_busecke_2021/cmip6_stash.py:262: UserWarning: No match found for ['NorCPM1', 'Omon', 'gr', 'r10i1p1f1', 'thetao'].\n",
      "  warnings.warn(f\"No match found for {match_elements}.\")\n",
      "/projects/GEOCLIM/LRGROUP/jbusecke/projects/aguadv_omz_busecke_2021/aguadv_omz_busecke_2021/cmip6_stash.py:262: UserWarning: No match found for ['MPI-ESM1-2-HR', 'Omon', 'gn', 'r2i1p1f1', 'o2'].\n",
      "  warnings.warn(f\"No match found for {match_elements}.\")\n",
      "/projects/GEOCLIM/LRGROUP/jbusecke/projects/aguadv_omz_busecke_2021/aguadv_omz_busecke_2021/cmip6_stash.py:262: UserWarning: No match found for ['CanESM5', 'Omon', 'gn', 'r25i1p1f1', 'o2'].\n",
      "  warnings.warn(f\"No match found for {match_elements}.\")\n"
     ]
    },
    {
     "name": "stdout",
     "output_type": "stream",
     "text": [
      "Manually Ingnored Variable: Passing CMIP.NCC.NorESM2-LM.historical.r3i1p1f1.Ofx.areacello.gn unaltered\n",
      "Manually Ingnored Variable: Passing CMIP.MPI-M.MPI-ESM1-2-LR.historical.r6i1p1f1.Ofx.areacello.gn unaltered\n"
     ]
    },
    {
     "name": "stderr",
     "output_type": "stream",
     "text": [
      "/projects/GEOCLIM/LRGROUP/jbusecke/projects/aguadv_omz_busecke_2021/aguadv_omz_busecke_2021/cmip6_stash.py:262: UserWarning: No match found for ['NorESM2-MM', 'Omon', 'gn', 'r1i1p1f1', 'agessc'].\n",
      "  warnings.warn(f\"No match found for {match_elements}.\")\n"
     ]
    },
    {
     "name": "stdout",
     "output_type": "stream",
     "text": [
      "Manually Ingnored Variable: Passing CMIP.MIROC.MIROC-ES2L.historical.r7i1p1f2.Ofx.areacello.gn unaltered\n",
      "Manually Ingnored Variable: Passing CMIP.IPSL.IPSL-CM6A-LR.historical.r28i1p1f1.Ofx.areacello.gn unaltered\n",
      "Manually Ingnored Variable: Passing ScenarioMIP.CCCma.CanESM5.ssp585.r11i1p1f1.Omon.mlotst.gn unaltered\n",
      "Manually Ingnored Variable: Passing CMIP.CCCma.CanESM5.historical.r22i1p1f1.Omon.mlotst.gn unaltered\n",
      "Manually Ingnored Variable: Passing ScenarioMIP.CSIRO.ACCESS-ESM1-5.ssp585.r2i1p1f1.Ofx.thkcello.gn unaltered\n"
     ]
    },
    {
     "name": "stderr",
     "output_type": "stream",
     "text": [
      "/projects/GEOCLIM/LRGROUP/jbusecke/projects/aguadv_omz_busecke_2021/aguadv_omz_busecke_2021/cmip6_stash.py:262: UserWarning: No match found for ['MPI-ESM1-2-HR', 'Omon', 'gn', 'r8i1p1f1', 'so'].\n",
      "  warnings.warn(f\"No match found for {match_elements}.\")\n"
     ]
    },
    {
     "name": "stdout",
     "output_type": "stream",
     "text": [
      "Manually Ingnored Variable: Passing CMIP.CNRM-CERFACS.CNRM-ESM2-1.historical.r10i1p1f2.Ofx.areacello.gn unaltered\n",
      "Manually Ingnored Variable: Passing ScenarioMIP.CCCma.CanESM5.ssp585.r3i1p2f1.Ofx.thkcello.gn unaltered\n",
      "Manually Ingnored Variable: Passing ScenarioMIP.CCCma.CanESM5.ssp585.r5i1p1f1.Ofx.thkcello.gn unaltered\n",
      "Control run: Passing CMIP.NCC.NorCPM1.piControl.r3i1p1f1.Omon.thetao.gr unaltered\n",
      "Manually Ingnored Variable: Passing ScenarioMIP.CCCma.CanESM5.ssp585.r22i1p1f1.Ofx.areacello.gn unaltered\n",
      "Manually Ingnored Variable: Passing CMIP.IPSL.IPSL-CM6A-LR.historical.r26i1p1f1.Ofx.areacello.gn unaltered\n",
      "Manually Ingnored Variable: Passing CMIP.CCCma.CanESM5.historical.r40i1p2f1.Ofx.areacello.gn unaltered\n"
     ]
    },
    {
     "name": "stderr",
     "output_type": "stream",
     "text": [
      "/projects/GEOCLIM/LRGROUP/jbusecke/projects/aguadv_omz_busecke_2021/aguadv_omz_busecke_2021/cmip6_stash.py:262: UserWarning: No match found for ['NorESM2-LM', 'Omon', 'gn', 'r2i1p1f1', 'agessc'].\n",
      "  warnings.warn(f\"No match found for {match_elements}.\")\n"
     ]
    },
    {
     "name": "stdout",
     "output_type": "stream",
     "text": [
      "Manually Ingnored Variable: Passing CMIP.CCCma.CanESM5.historical.r1i1p1f1.Ofx.thkcello.gn unaltered\n",
      "Control run: Passing CMIP.MIROC.MIROC-ES2L.piControl.r1i1p1f2.Omon.so.gn unaltered\n",
      "Manually Ingnored Variable: Passing CMIP.NOAA-GFDL.GFDL-ESM4.historical.r1i1p1f1.Ofx.areacello.gr unaltered\n",
      "Manually Ingnored Variable: Passing CMIP.MOHC.UKESM1-0-LL.historical.r11i1p1f2.Omon.mlotst.gn unaltered\n",
      "Manually Ingnored Variable: Passing CMIP.MPI-M.MPI-ESM1-2-LR.historical.r9i1p1f1.Ofx.areacello.gn unaltered\n"
     ]
    },
    {
     "name": "stderr",
     "output_type": "stream",
     "text": [
      "/projects/GEOCLIM/LRGROUP/jbusecke/projects/aguadv_omz_busecke_2021/aguadv_omz_busecke_2021/cmip6_stash.py:262: UserWarning: No match found for ['MPI-ESM1-2-HR', 'Omon', 'gn', 'r8i1p1f1', 'o2'].\n",
      "  warnings.warn(f\"No match found for {match_elements}.\")\n"
     ]
    },
    {
     "name": "stdout",
     "output_type": "stream",
     "text": [
      "Manually Ingnored Variable: Passing CMIP.CCCma.CanESM5.historical.r14i1p2f1.Ofx.areacello.gn unaltered\n",
      "Manually Ingnored Variable: Passing ScenarioMIP.CCCma.CanESM5.ssp585.r10i1p2f1.Ofx.areacello.gn unaltered\n"
     ]
    },
    {
     "name": "stderr",
     "output_type": "stream",
     "text": [
      "/projects/GEOCLIM/LRGROUP/jbusecke/projects/aguadv_omz_busecke_2021/aguadv_omz_busecke_2021/cmip6_stash.py:262: UserWarning: No match found for ['NorCPM1', 'Omon', 'gn', 'r24i1p1f1', 'thetao'].\n",
      "  warnings.warn(f\"No match found for {match_elements}.\")\n"
     ]
    },
    {
     "name": "stdout",
     "output_type": "stream",
     "text": [
      "Manually Ingnored Variable: Passing CMIP.CNRM-CERFACS.CNRM-ESM2-1.historical.r11i1p1f2.Ofx.areacello.gn unaltered\n",
      "Manually Ingnored Variable: Passing CMIP.CCCma.CanESM5.historical.r14i1p2f1.Omon.mlotst.gn unaltered\n",
      "Manually Ingnored Variable: Passing CMIP.IPSL.IPSL-CM6A-LR.historical.r25i1p1f1.Omon.mlotst.gn unaltered\n",
      "Manually Ingnored Variable: Passing CMIP.CCCma.CanESM5.historical.r21i1p2f1.Ofx.areacello.gn unaltered\n",
      "Manually Ingnored Variable: Passing CMIP.CCCma.CanESM5.piControl.r1i1p1f1.Ofx.thkcello.gn unaltered\n",
      "Control run: Passing CMIP.CCCma.CanESM5-CanOE.piControl.r1i1p2f1.Omon.agessc.gn unaltered\n",
      "Manually Ingnored Variable: Passing CMIP.CCCma.CanESM5.historical.r5i1p2f1.Omon.mlotst.gn unaltered\n",
      "Manually Ingnored Variable: Passing CMIP.CCCma.CanESM5.historical.r35i1p2f1.Ofx.areacello.gn unaltered\n"
     ]
    },
    {
     "name": "stderr",
     "output_type": "stream",
     "text": [
      "/projects/GEOCLIM/LRGROUP/jbusecke/projects/aguadv_omz_busecke_2021/aguadv_omz_busecke_2021/cmip6_stash.py:262: UserWarning: No match found for ['NorCPM1', 'Omon', 'gr', 'r21i1p1f1', 'o2'].\n",
      "  warnings.warn(f\"No match found for {match_elements}.\")\n"
     ]
    },
    {
     "name": "stdout",
     "output_type": "stream",
     "text": [
      "Manually Ingnored Variable: Passing CMIP.CCCma.CanESM5.historical.r3i1p1f1.Ofx.areacello.gn unaltered\n",
      "Manually Ingnored Variable: Passing CMIP.MOHC.UKESM1-0-LL.historical.r12i1p1f2.Omon.mlotst.gn unaltered\n",
      "Manually Ingnored Variable: Passing CMIP.MPI-M.MPI-ESM1-2-HR.historical.r8i1p1f1.Omon.thkcello.gn unaltered\n",
      "Manually Ingnored Variable: Passing ScenarioMIP.CCCma.CanESM5.ssp585.r7i1p2f1.Omon.mlotst.gn unaltered\n",
      "Manually Ingnored Variable: Passing CMIP.CCCma.CanESM5.historical.r28i1p2f1.Omon.mlotst.gn unaltered\n",
      "Manually Ingnored Variable: Passing CMIP.MPI-M.MPI-ESM1-2-LR.historical.r7i1p1f1.Ofx.areacello.gn unaltered\n",
      "Manually Ingnored Variable: Passing ScenarioMIP.CCCma.CanESM5.ssp585.r18i1p1f1.Ofx.areacello.gn unaltered\n",
      "Manually Ingnored Variable: Passing CMIP.CSIRO.ACCESS-ESM1-5.historical.r10i1p1f1.Ofx.areacello.gn unaltered\n",
      "Manually Ingnored Variable: Passing CMIP.NCC.NorCPM1.historical.r22i1p1f1.Omon.mlotst.gn unaltered\n",
      "Manually Ingnored Variable: Passing CMIP.CCCma.CanESM5-CanOE.historical.r2i1p2f1.Omon.mlotst.gn unaltered\n"
     ]
    },
    {
     "name": "stderr",
     "output_type": "stream",
     "text": [
      "/projects/GEOCLIM/LRGROUP/jbusecke/projects/aguadv_omz_busecke_2021/aguadv_omz_busecke_2021/cmip6_stash.py:262: UserWarning: No match found for ['CanESM5', 'Omon', 'gn', 'r39i1p2f1', 'thetao'].\n",
      "  warnings.warn(f\"No match found for {match_elements}.\")\n",
      "/projects/GEOCLIM/LRGROUP/jbusecke/projects/aguadv_omz_busecke_2021/aguadv_omz_busecke_2021/cmip6_stash.py:262: UserWarning: No match found for ['CanESM5', 'Omon', 'gn', 'r23i1p1f1', 'o2'].\n",
      "  warnings.warn(f\"No match found for {match_elements}.\")\n"
     ]
    },
    {
     "name": "stdout",
     "output_type": "stream",
     "text": [
      "Manually Ingnored Variable: Passing ScenarioMIP.CCCma.CanESM5.ssp585.r2i1p1f1.Ofx.areacello.gn unaltered\n",
      "Manually Ingnored Variable: Passing CMIP.MPI-M.MPI-ESM1-2-LR.historical.r2i1p1f1.Omon.mlotst.gn unaltered\n",
      "Manually Ingnored Variable: Passing CMIP.MOHC.UKESM1-0-LL.historical.r6i1p1f3.Omon.thkcello.gn unaltered\n",
      "Control run: Passing CMIP.CCCma.CanESM5-CanOE.piControl.r1i1p2f1.Omon.thetao.gn unaltered\n",
      "Manually Ingnored Variable: Passing ScenarioMIP.CCCma.CanESM5.ssp585.r8i1p1f1.Ofx.areacello.gn unaltered\n"
     ]
    },
    {
     "name": "stderr",
     "output_type": "stream",
     "text": [
      "/projects/GEOCLIM/LRGROUP/jbusecke/projects/aguadv_omz_busecke_2021/aguadv_omz_busecke_2021/cmip6_stash.py:262: UserWarning: No match found for ['CanESM5', 'Omon', 'gn', 'r24i1p1f1', 'so'].\n",
      "  warnings.warn(f\"No match found for {match_elements}.\")\n",
      "/projects/GEOCLIM/LRGROUP/jbusecke/projects/aguadv_omz_busecke_2021/aguadv_omz_busecke_2021/cmip6_stash.py:262: UserWarning: No match found for ['NorCPM1', 'Omon', 'gr', 'r27i1p1f1', 'thetao'].\n",
      "  warnings.warn(f\"No match found for {match_elements}.\")\n"
     ]
    },
    {
     "name": "stdout",
     "output_type": "stream",
     "text": [
      "Manually Ingnored Variable: Passing ScenarioMIP.CCCma.CanESM5.ssp585.r17i1p1f1.Omon.mlotst.gn unaltered\n",
      "Manually Ingnored Variable: Passing CMIP.NOAA-GFDL.GFDL-ESM4.piControl.r1i1p1f1.Omon.mlotst.gn unaltered\n",
      "Manually Ingnored Variable: Passing ScenarioMIP.MPI-M.MPI-ESM1-2-LR.ssp585.r6i1p1f1.Ofx.thkcello.gn unaltered\n",
      "Manually Ingnored Variable: Passing CMIP.CCCma.CanESM5.historical.r14i1p1f1.Ofx.thkcello.gn unaltered\n",
      "Manually Ingnored Variable: Passing ScenarioMIP.CCCma.CanESM5.ssp585.r16i1p2f1.Ofx.areacello.gn unaltered\n",
      "Control run: Passing CMIP.CCCma.CanESM5.piControl.r1i1p2f1.Omon.agessc.gn unaltered\n",
      "Manually Ingnored Variable: Passing CMIP.CCCma.CanESM5.historical.r28i1p2f1.Ofx.areacello.gn unaltered\n",
      "Manually Ingnored Variable: Passing CMIP.MPI-M.MPI-ESM1-2-LR.historical.r6i1p1f1.Omon.mlotst.gn unaltered\n",
      "Manually Ingnored Variable: Passing ScenarioMIP.MPI-M.MPI-ESM1-2-LR.ssp585.r10i1p1f1.Omon.mlotst.gn unaltered\n",
      "Manually Ingnored Variable: Passing CMIP.IPSL.IPSL-CM6A-LR.historical.r8i1p1f1.Omon.thkcello.gn unaltered\n",
      "Manually Ingnored Variable: Passing CMIP.NCC.NorCPM1.historical.r18i1p1f1.Omon.mlotst.gn unaltered\n",
      "Manually Ingnored Variable: Passing CMIP.CCCma.CanESM5.historical.r18i1p2f1.Ofx.areacello.gn unaltered\n",
      "Manually Ingnored Variable: Passing CMIP.MPI-M.MPI-ESM1-2-LR.historical.r1i1p1f1.Omon.thkcello.gn unaltered\n",
      "Manually Ingnored Variable: Passing CMIP.CCCma.CanESM5.historical.r4i1p2f1.Omon.mlotst.gn unaltered\n",
      "Manually Ingnored Variable: Passing ScenarioMIP.CCCma.CanESM5.ssp585.r25i1p2f1.Ofx.areacello.gn unaltered\n",
      "Manually Ingnored Variable: Passing CMIP.CCCma.CanESM5.historical.r1i1p2f1.Ofx.areacello.gn unaltered\n",
      "Manually Ingnored Variable: Passing CMIP.CCCma.CanESM5.historical.r11i1p1f1.Ofx.thkcello.gn unaltered\n",
      "Manually Ingnored Variable: Passing CMIP.MOHC.UKESM1-0-LL.historical.r7i1p1f3.Omon.thkcello.gn unaltered\n"
     ]
    },
    {
     "name": "stderr",
     "output_type": "stream",
     "text": [
      "/projects/GEOCLIM/LRGROUP/jbusecke/projects/aguadv_omz_busecke_2021/aguadv_omz_busecke_2021/cmip6_stash.py:262: UserWarning: No match found for ['NorCPM1', 'Omon', 'gn', 'r27i1p1f1', 'so'].\n",
      "  warnings.warn(f\"No match found for {match_elements}.\")\n"
     ]
    },
    {
     "name": "stdout",
     "output_type": "stream",
     "text": [
      "Manually Ingnored Variable: Passing CMIP.MPI-M.MPI-ESM1-2-LR.piControl.r1i1p1f1.Ofx.areacello.gn unaltered\n",
      "Manually Ingnored Variable: Passing CMIP.IPSL.IPSL-CM6A-LR.historical.r13i1p1f1.Omon.mlotst.gn unaltered\n"
     ]
    },
    {
     "name": "stderr",
     "output_type": "stream",
     "text": [
      "/projects/GEOCLIM/LRGROUP/jbusecke/projects/aguadv_omz_busecke_2021/aguadv_omz_busecke_2021/cmip6_stash.py:262: UserWarning: No match found for ['NorCPM1', 'Omon', 'gn', 'r13i1p1f1', 'thetao'].\n",
      "  warnings.warn(f\"No match found for {match_elements}.\")\n",
      "/projects/GEOCLIM/LRGROUP/jbusecke/projects/aguadv_omz_busecke_2021/aguadv_omz_busecke_2021/cmip6_stash.py:262: UserWarning: No match found for ['NorCPM1', 'Omon', 'gr', 'r15i1p1f1', 'thetao'].\n",
      "  warnings.warn(f\"No match found for {match_elements}.\")\n"
     ]
    },
    {
     "name": "stdout",
     "output_type": "stream",
     "text": [
      "Manually Ingnored Variable: Passing CMIP.MOHC.UKESM1-0-LL.historical.r18i1p1f2.Omon.thkcello.gn unaltered\n",
      "Manually Ingnored Variable: Passing CMIP.CCCma.CanESM5.historical.r6i1p1f1.Ofx.areacello.gn unaltered\n",
      "Manually Ingnored Variable: Passing CMIP.MPI-M.MPI-ESM1-2-LR.historical.r4i1p1f1.Omon.thkcello.gn unaltered\n",
      "Manually Ingnored Variable: Passing CMIP.CNRM-CERFACS.CNRM-ESM2-1.historical.r3i1p1f2.Omon.thkcello.gn unaltered\n",
      "Manually Ingnored Variable: Passing CMIP.MRI.MRI-ESM2-0.historical.r2i1p1f1.Omon.mlotst.gn unaltered\n",
      "Manually Ingnored Variable: Passing ScenarioMIP.CNRM-CERFACS.CNRM-ESM2-1.ssp585.r3i1p1f2.Omon.mlotst.gn unaltered\n",
      "Manually Ingnored Variable: Passing CMIP.CCCma.CanESM5.historical.r24i1p2f1.Omon.mlotst.gn unaltered\n"
     ]
    },
    {
     "name": "stderr",
     "output_type": "stream",
     "text": [
      "/projects/GEOCLIM/LRGROUP/jbusecke/projects/aguadv_omz_busecke_2021/aguadv_omz_busecke_2021/cmip6_stash.py:262: UserWarning: No match found for ['NorCPM1', 'Omon', 'gn', 'r8i1p1f1', 'thetao'].\n",
      "  warnings.warn(f\"No match found for {match_elements}.\")\n"
     ]
    },
    {
     "name": "stdout",
     "output_type": "stream",
     "text": [
      "Manually Ingnored Variable: Passing CMIP.NCC.NorCPM1.historical.r23i1p1f1.Ofx.areacello.gn unaltered\n",
      "Manually Ingnored Variable: Passing CMIP.CNRM-CERFACS.CNRM-ESM2-1.historical.r8i1p1f2.Omon.mlotst.gn unaltered\n",
      "Manually Ingnored Variable: Passing ScenarioMIP.CCCma.CanESM5.ssp585.r23i1p2f1.Omon.mlotst.gn unaltered\n"
     ]
    },
    {
     "name": "stderr",
     "output_type": "stream",
     "text": [
      "/projects/GEOCLIM/LRGROUP/jbusecke/projects/aguadv_omz_busecke_2021/aguadv_omz_busecke_2021/cmip6_stash.py:262: UserWarning: No match found for ['NorCPM1', 'Omon', 'gr', 'r14i1p1f1', 'o2'].\n",
      "  warnings.warn(f\"No match found for {match_elements}.\")\n",
      "/projects/GEOCLIM/LRGROUP/jbusecke/projects/aguadv_omz_busecke_2021/aguadv_omz_busecke_2021/cmip6_stash.py:262: UserWarning: No match found for ['MPI-ESM1-2-HR', 'Omon', 'gn', 'r7i1p1f1', 'so'].\n",
      "  warnings.warn(f\"No match found for {match_elements}.\")\n",
      "/projects/GEOCLIM/LRGROUP/jbusecke/projects/aguadv_omz_busecke_2021/aguadv_omz_busecke_2021/cmip6_stash.py:262: UserWarning: No match found for ['CanESM5', 'Omon', 'gn', 'r31i1p2f1', 'so'].\n",
      "  warnings.warn(f\"No match found for {match_elements}.\")\n"
     ]
    },
    {
     "name": "stdout",
     "output_type": "stream",
     "text": [
      "Manually Ingnored Variable: Passing ScenarioMIP.CCCma.CanESM5.ssp585.r1i1p1f1.Omon.mlotst.gn unaltered\n",
      "Manually Ingnored Variable: Passing CMIP.MOHC.UKESM1-0-LL.historical.r17i1p1f2.Omon.thkcello.gn unaltered\n",
      "Manually Ingnored Variable: Passing CMIP.NCC.NorESM2-MM.piControl.r1i1p1f1.Omon.mlotst.gn unaltered\n",
      "Manually Ingnored Variable: Passing CMIP.CCCma.CanESM5.historical.r17i1p1f1.Omon.mlotst.gn unaltered\n",
      "Manually Ingnored Variable: Passing CMIP.NCC.NorCPM1.historical.r28i1p1f1.Omon.mlotst.gn unaltered\n",
      "Manually Ingnored Variable: Passing CMIP.CCCma.CanESM5.historical.r28i1p2f1.Ofx.thkcello.gn unaltered\n"
     ]
    },
    {
     "name": "stderr",
     "output_type": "stream",
     "text": [
      "/projects/GEOCLIM/LRGROUP/jbusecke/projects/aguadv_omz_busecke_2021/aguadv_omz_busecke_2021/cmip6_stash.py:262: UserWarning: No match found for ['CanESM5', 'Omon', 'gn', 'r32i1p2f1', 'so'].\n",
      "  warnings.warn(f\"No match found for {match_elements}.\")\n",
      "/projects/GEOCLIM/LRGROUP/jbusecke/projects/aguadv_omz_busecke_2021/aguadv_omz_busecke_2021/cmip6_stash.py:262: UserWarning: No match found for ['MPI-ESM1-2-HR', 'Omon', 'gn', 'r8i1p1f1', 'thetao'].\n",
      "  warnings.warn(f\"No match found for {match_elements}.\")\n"
     ]
    },
    {
     "name": "stdout",
     "output_type": "stream",
     "text": [
      "Control run: Passing CMIP.MRI.MRI-ESM2-0.piControl.r1i2p1f1.Omon.so.gr unaltered\n",
      "Manually Ingnored Variable: Passing CMIP.NCC.NorCPM1.historical.r5i1p1f1.Ofx.areacello.gn unaltered\n",
      "Manually Ingnored Variable: Passing ScenarioMIP.MPI-M.MPI-ESM1-2-LR.ssp585.r10i1p1f1.Omon.thkcello.gn unaltered\n",
      "Manually Ingnored Variable: Passing CMIP.CNRM-CERFACS.CNRM-ESM2-1.historical.r9i1p1f2.Ofx.areacello.gn unaltered\n",
      "Manually Ingnored Variable: Passing ScenarioMIP.CSIRO.ACCESS-ESM1-5.ssp585.r3i1p1f1.Omon.thkcello.gn unaltered\n",
      "Manually Ingnored Variable: Passing CMIP.CNRM-CERFACS.CNRM-ESM2-1.historical.r3i1p1f2.Ofx.areacello.gn unaltered\n",
      "Manually Ingnored Variable: Passing ScenarioMIP.MPI-M.MPI-ESM1-2-LR.ssp585.r1i1p1f1.Ofx.thkcello.gn unaltered\n",
      "Manually Ingnored Variable: Passing CMIP.CCCma.CanESM5.historical.r17i1p2f1.Omon.mlotst.gn unaltered\n",
      "Manually Ingnored Variable: Passing CMIP.CCCma.CanESM5.historical.r6i1p1f1.Ofx.thkcello.gn unaltered\n",
      "Manually Ingnored Variable: Passing CMIP.IPSL.IPSL-CM6A-LR.historical.r9i1p1f1.Omon.thkcello.gn unaltered\n",
      "Manually Ingnored Variable: Passing CMIP.NCC.NorESM2-MM.historical.r1i1p1f1.Ofx.thkcello.gr unaltered\n"
     ]
    },
    {
     "name": "stderr",
     "output_type": "stream",
     "text": [
      "/projects/GEOCLIM/LRGROUP/jbusecke/projects/aguadv_omz_busecke_2021/aguadv_omz_busecke_2021/cmip6_stash.py:262: UserWarning: No match found for ['NorCPM1', 'Omon', 'gn', 'r10i1p1f1', 'so'].\n",
      "  warnings.warn(f\"No match found for {match_elements}.\")\n"
     ]
    },
    {
     "name": "stdout",
     "output_type": "stream",
     "text": [
      "Control run: Passing CMIP.NCC.NorCPM1.piControl.r3i1p1f1.Omon.so.gr unaltered\n",
      "Manually Ingnored Variable: Passing ScenarioMIP.CCCma.CanESM5.ssp585.r13i1p1f1.Omon.mlotst.gn unaltered\n"
     ]
    },
    {
     "name": "stderr",
     "output_type": "stream",
     "text": [
      "/projects/GEOCLIM/LRGROUP/jbusecke/projects/aguadv_omz_busecke_2021/aguadv_omz_busecke_2021/cmip6_stash.py:262: UserWarning: No match found for ['NorCPM1', 'Omon', 'gn', 'r23i1p1f1', 'so'].\n",
      "  warnings.warn(f\"No match found for {match_elements}.\")\n",
      "/projects/GEOCLIM/LRGROUP/jbusecke/projects/aguadv_omz_busecke_2021/aguadv_omz_busecke_2021/cmip6_stash.py:262: UserWarning: No match found for ['NorCPM1', 'Omon', 'gr', 'r10i1p1f1', 'o2'].\n",
      "  warnings.warn(f\"No match found for {match_elements}.\")\n"
     ]
    },
    {
     "name": "stdout",
     "output_type": "stream",
     "text": [
      "Control run: Passing CMIP.IPSL.IPSL-CM6A-LR.piControl.r1i2p1f1.Omon.agessc.gn unaltered\n",
      "Manually Ingnored Variable: Passing CMIP.IPSL.IPSL-CM6A-LR.historical.r3i1p1f1.Omon.thkcello.gn unaltered\n",
      "Manually Ingnored Variable: Passing ScenarioMIP.CCCma.CanESM5.ssp585.r3i1p1f1.Omon.mlotst.gn unaltered\n",
      "Control run: Passing CMIP.MPI-M.MPI-ESM1-2-LR.piControl.r1i1p1f1.Omon.o2.gn unaltered\n",
      "Manually Ingnored Variable: Passing CMIP.MPI-M.MPI-ESM1-2-LR.piControl.r1i1p1f1.Omon.thkcello.gn unaltered\n",
      "Manually Ingnored Variable: Passing ScenarioMIP.CCCma.CanESM5.ssp585.r25i1p2f1.Ofx.thkcello.gn unaltered\n",
      "Manually Ingnored Variable: Passing CMIP.CCCma.CanESM5.historical.r16i1p1f1.Ofx.areacello.gn unaltered\n",
      "Control run: Passing CMIP.NOAA-GFDL.GFDL-CM4.piControl.r1i1p1f1.Omon.o2.gr unaltered\n",
      "Manually Ingnored Variable: Passing ScenarioMIP.CCCma.CanESM5.ssp585.r14i1p1f1.Ofx.thkcello.gn unaltered\n",
      "Manually Ingnored Variable: Passing CMIP.CCCma.CanESM5.historical.r38i1p2f1.Omon.mlotst.gn unaltered\n",
      "Manually Ingnored Variable: Passing CMIP.IPSL.IPSL-CM6A-LR.historical.r27i1p1f1.Omon.thkcello.gn unaltered\n",
      "Manually Ingnored Variable: Passing CMIP.HAMMOZ-Consortium.MPI-ESM-1-2-HAM.piControl.r1i1p1f1.Omon.mlotst.gn unaltered\n",
      "Control run: Passing CMIP.CCCma.CanESM5-CanOE.piControl.r1i1p2f1.Omon.so.gn unaltered\n",
      "Manually Ingnored Variable: Passing CMIP.CNRM-CERFACS.CNRM-ESM2-1.historical.r6i1p1f2.Ofx.areacello.gn unaltered\n"
     ]
    },
    {
     "name": "stderr",
     "output_type": "stream",
     "text": [
      "/projects/GEOCLIM/LRGROUP/jbusecke/projects/aguadv_omz_busecke_2021/aguadv_omz_busecke_2021/cmip6_stash.py:262: UserWarning: No match found for ['MPI-ESM1-2-HR', 'Omon', 'gn', 'r2i1p1f1', 'agessc'].\n",
      "  warnings.warn(f\"No match found for {match_elements}.\")\n"
     ]
    },
    {
     "name": "stdout",
     "output_type": "stream",
     "text": [
      "Manually Ingnored Variable: Passing ScenarioMIP.MRI.MRI-ESM2-0.ssp585.r1i1p1f1.Omon.mlotst.gn unaltered\n",
      "Manually Ingnored Variable: Passing ScenarioMIP.CCCma.CanESM5.ssp585.r12i1p1f1.Ofx.thkcello.gn unaltered\n",
      "Manually Ingnored Variable: Passing CMIP.NCC.NorCPM1.historical.r11i1p1f1.Ofx.areacello.gn unaltered\n",
      "Manually Ingnored Variable: Passing CMIP.NCC.NorCPM1.historical.r30i1p1f1.Omon.mlotst.gn unaltered\n"
     ]
    },
    {
     "name": "stderr",
     "output_type": "stream",
     "text": [
      "/projects/GEOCLIM/LRGROUP/jbusecke/projects/aguadv_omz_busecke_2021/aguadv_omz_busecke_2021/cmip6_stash.py:262: UserWarning: No match found for ['CanESM5', 'Omon', 'gn', 'r29i1p2f1', 'thetao'].\n",
      "  warnings.warn(f\"No match found for {match_elements}.\")\n"
     ]
    },
    {
     "name": "stdout",
     "output_type": "stream",
     "text": [
      "Manually Ingnored Variable: Passing CMIP.CCCma.CanESM5.historical.r23i1p1f1.Ofx.areacello.gn unaltered\n",
      "Manually Ingnored Variable: Passing CMIP.IPSL.IPSL-CM6A-LR.historical.r10i1p1f1.Ofx.areacello.gn unaltered\n",
      "Manually Ingnored Variable: Passing ScenarioMIP.CCCma.CanESM5.ssp585.r11i1p2f1.Ofx.thkcello.gn unaltered\n",
      "Manually Ingnored Variable: Passing ScenarioMIP.MPI-M.MPI-ESM1-2-LR.ssp585.r1i1p1f1.Ofx.areacello.gn unaltered\n",
      "Manually Ingnored Variable: Passing ScenarioMIP.CCCma.CanESM5.ssp585.r21i1p2f1.Omon.mlotst.gn unaltered\n",
      "Manually Ingnored Variable: Passing ScenarioMIP.IPSL.IPSL-CM6A-LR.ssp585.r2i1p1f1.Omon.thkcello.gn unaltered\n",
      "Manually Ingnored Variable: Passing CMIP.MRI.MRI-ESM2-0.historical.r4i1p1f1.Omon.mlotst.gr unaltered\n",
      "Manually Ingnored Variable: Passing CMIP.MPI-M.MPI-ESM1-2-HR.historical.r6i1p1f1.Omon.mlotst.gn unaltered\n"
     ]
    },
    {
     "name": "stderr",
     "output_type": "stream",
     "text": [
      "/projects/GEOCLIM/LRGROUP/jbusecke/projects/aguadv_omz_busecke_2021/aguadv_omz_busecke_2021/cmip6_stash.py:262: UserWarning: No match found for ['CanESM5', 'Omon', 'gn', 'r29i1p2f1', 'so'].\n",
      "  warnings.warn(f\"No match found for {match_elements}.\")\n"
     ]
    },
    {
     "name": "stdout",
     "output_type": "stream",
     "text": [
      "Manually Ingnored Variable: Passing ScenarioMIP.IPSL.IPSL-CM6A-LR.ssp585.r6i1p1f1.Omon.mlotst.gn unaltered\n",
      "Manually Ingnored Variable: Passing CMIP.CCCma.CanESM5.historical.r15i1p2f1.Omon.mlotst.gn unaltered\n",
      "Manually Ingnored Variable: Passing CMIP.NCC.NorESM2-MM.piControl.r1i1p1f1.Ofx.areacello.gn unaltered\n",
      "Manually Ingnored Variable: Passing ScenarioMIP.CCCma.CanESM5.ssp585.r22i1p1f1.Ofx.thkcello.gn unaltered\n",
      "Manually Ingnored Variable: Passing ScenarioMIP.CCCma.CanESM5.ssp585.r2i1p1f1.Omon.mlotst.gn unaltered\n",
      "Manually Ingnored Variable: Passing CMIP.IPSL.IPSL-CM6A-LR.historical.r10i1p1f1.Omon.mlotst.gn unaltered\n",
      "Manually Ingnored Variable: Passing CMIP.MIROC.MIROC-ES2L.historical.r8i1p1f2.Ofx.areacello.gn unaltered\n"
     ]
    },
    {
     "name": "stderr",
     "output_type": "stream",
     "text": [
      "/projects/GEOCLIM/LRGROUP/jbusecke/projects/aguadv_omz_busecke_2021/aguadv_omz_busecke_2021/cmip6_stash.py:262: UserWarning: No match found for ['CanESM5', 'Omon', 'gn', 'r40i1p2f1', 'thetao'].\n",
      "  warnings.warn(f\"No match found for {match_elements}.\")\n",
      "/projects/GEOCLIM/LRGROUP/jbusecke/projects/aguadv_omz_busecke_2021/aguadv_omz_busecke_2021/cmip6_stash.py:262: UserWarning: No match found for ['MPI-ESM-1-2-HAM', 'Omon', 'gn', 'r2i1p1f1', 'o2'].\n",
      "  warnings.warn(f\"No match found for {match_elements}.\")\n"
     ]
    },
    {
     "name": "stdout",
     "output_type": "stream",
     "text": [
      "Manually Ingnored Variable: Passing ScenarioMIP.CCCma.CanESM5.ssp585.r16i1p1f1.Ofx.thkcello.gn unaltered\n"
     ]
    },
    {
     "name": "stderr",
     "output_type": "stream",
     "text": [
      "/projects/GEOCLIM/LRGROUP/jbusecke/projects/aguadv_omz_busecke_2021/aguadv_omz_busecke_2021/cmip6_stash.py:262: UserWarning: No match found for ['NorCPM1', 'Omon', 'gr', 'r3i1p1f1', 'thetao'].\n",
      "  warnings.warn(f\"No match found for {match_elements}.\")\n"
     ]
    },
    {
     "name": "stdout",
     "output_type": "stream",
     "text": [
      "Manually Ingnored Variable: Passing ScenarioMIP.MPI-M.MPI-ESM1-2-LR.ssp585.r8i1p1f1.Ofx.areacello.gn unaltered\n",
      "Control run: Passing CMIP.HAMMOZ-Consortium.MPI-ESM-1-2-HAM.piControl.r1i1p1f1.Omon.o2.gn unaltered\n",
      "Manually Ingnored Variable: Passing CMIP.IPSL.IPSL-CM6A-LR.historical.r20i1p1f1.Ofx.areacello.gn unaltered\n",
      "Manually Ingnored Variable: Passing CMIP.CNRM-CERFACS.CNRM-ESM2-1.historical.r3i1p1f2.Omon.mlotst.gn unaltered\n",
      "Manually Ingnored Variable: Passing CMIP.CCCma.CanESM5.historical.r25i1p1f1.Ofx.thkcello.gn unaltered\n",
      "Manually Ingnored Variable: Passing CMIP.CCCma.CanESM5.historical.r18i1p2f1.Omon.mlotst.gn unaltered\n",
      "Manually Ingnored Variable: Passing ScenarioMIP.MOHC.UKESM1-0-LL.ssp585.r4i1p1f2.Omon.thkcello.gn unaltered\n",
      "Control run: Passing CMIP.NCC.NorESM2-MM.piControl.r1i1p1f1.Omon.agessc.gr unaltered\n",
      "Manually Ingnored Variable: Passing CMIP.CNRM-CERFACS.CNRM-ESM2-1.historical.r4i1p1f2.Ofx.areacello.gn unaltered\n",
      "Manually Ingnored Variable: Passing CMIP.MIROC.MIROC-ES2L.historical.r10i1p1f2.Ofx.areacello.gn unaltered\n",
      "Manually Ingnored Variable: Passing CMIP.IPSL.IPSL-CM6A-LR.historical.r29i1p1f1.Omon.thkcello.gn unaltered\n",
      "Control run: Passing CMIP.MRI.MRI-ESM2-0.piControl.r1i1p1f1.Omon.so.gr unaltered\n"
     ]
    },
    {
     "name": "stderr",
     "output_type": "stream",
     "text": [
      "/projects/GEOCLIM/LRGROUP/jbusecke/projects/aguadv_omz_busecke_2021/aguadv_omz_busecke_2021/cmip6_stash.py:262: UserWarning: No match found for ['MPI-ESM1-2-HR', 'Omon', 'gn', 'r7i1p1f1', 'agessc'].\n",
      "  warnings.warn(f\"No match found for {match_elements}.\")\n"
     ]
    },
    {
     "name": "stdout",
     "output_type": "stream",
     "text": [
      "Control run: Passing CMIP.CSIRO.ACCESS-ESM1-5.piControl.r1i1p1f1.Omon.o2.gn unaltered\n",
      "Manually Ingnored Variable: Passing ScenarioMIP.MPI-M.MPI-ESM1-2-LR.ssp585.r1i1p1f1.Omon.mlotst.gn unaltered\n",
      "Manually Ingnored Variable: Passing ScenarioMIP.CCCma.CanESM5.ssp585.r4i1p2f1.Ofx.thkcello.gn unaltered\n",
      "Manually Ingnored Variable: Passing CMIP.MPI-M.MPI-ESM1-2-LR.historical.r3i1p1f1.Omon.thkcello.gn unaltered\n",
      "Manually Ingnored Variable: Passing CMIP.IPSL.IPSL-CM6A-LR.historical.r27i1p1f1.Omon.mlotst.gn unaltered\n",
      "Manually Ingnored Variable: Passing CMIP.CCCma.CanESM5.historical.r25i1p2f1.Ofx.areacello.gn unaltered\n",
      "Manually Ingnored Variable: Passing CMIP.MRI.MRI-ESM2-0.piControl.r1i2p1f1.Omon.mlotst.gn unaltered\n"
     ]
    },
    {
     "name": "stderr",
     "output_type": "stream",
     "text": [
      "/projects/GEOCLIM/LRGROUP/jbusecke/projects/aguadv_omz_busecke_2021/aguadv_omz_busecke_2021/cmip6_stash.py:262: UserWarning: No match found for ['NorCPM1', 'Omon', 'gn', 'r11i1p1f1', 'thetao'].\n",
      "  warnings.warn(f\"No match found for {match_elements}.\")\n"
     ]
    },
    {
     "name": "stdout",
     "output_type": "stream",
     "text": [
      "Manually Ingnored Variable: Passing CMIP.MPI-M.MPI-ESM1-2-HR.historical.r5i1p1f1.Omon.thkcello.gn unaltered\n",
      "Manually Ingnored Variable: Passing CMIP.MPI-M.MPI-ESM1-2-LR.historical.r6i1p1f1.Ofx.thkcello.gn unaltered\n",
      "Manually Ingnored Variable: Passing CMIP.CCCma.CanESM5.historical.r32i1p2f1.Omon.mlotst.gn unaltered\n",
      "Manually Ingnored Variable: Passing CMIP.IPSL.IPSL-CM6A-LR.historical.r1i1p1f1.Ofx.areacello.gn unaltered\n",
      "Control run: Passing CMIP.MRI.MRI-ESM2-0.piControl.r1i2p1f1.Omon.thetao.gn unaltered\n",
      "Manually Ingnored Variable: Passing CMIP.CCCma.CanESM5.historical.r20i1p1f1.Ofx.thkcello.gn unaltered\n"
     ]
    },
    {
     "name": "stderr",
     "output_type": "stream",
     "text": [
      "/projects/GEOCLIM/LRGROUP/jbusecke/projects/aguadv_omz_busecke_2021/aguadv_omz_busecke_2021/cmip6_stash.py:262: UserWarning: No match found for ['NorCPM1', 'Omon', 'gr', 'r22i1p1f1', 'thetao'].\n",
      "  warnings.warn(f\"No match found for {match_elements}.\")\n"
     ]
    },
    {
     "name": "stdout",
     "output_type": "stream",
     "text": [
      "Manually Ingnored Variable: Passing ScenarioMIP.CSIRO.ACCESS-ESM1-5.ssp585.r2i1p1f1.Omon.thkcello.gn unaltered\n",
      "Manually Ingnored Variable: Passing ScenarioMIP.MOHC.UKESM1-0-LL.ssp585.r1i1p1f2.Omon.mlotst.gn unaltered\n",
      "Control run: Passing CMIP.NOAA-GFDL.GFDL-ESM4.piControl.r1i1p1f1.Omon.thetao.gn unaltered\n"
     ]
    },
    {
     "name": "stderr",
     "output_type": "stream",
     "text": [
      "/projects/GEOCLIM/LRGROUP/jbusecke/projects/aguadv_omz_busecke_2021/aguadv_omz_busecke_2021/cmip6_stash.py:262: UserWarning: No match found for ['MPI-ESM1-2-HR', 'Omon', 'gn', 'r9i1p1f1', 'o2'].\n",
      "  warnings.warn(f\"No match found for {match_elements}.\")\n"
     ]
    },
    {
     "name": "stdout",
     "output_type": "stream",
     "text": [
      "Control run: Passing CMIP.MPI-M.MPI-ESM1-2-HR.piControl.r1i1p1f1.Omon.o2.gn unaltered\n",
      "Manually Ingnored Variable: Passing CMIP.CNRM-CERFACS.CNRM-ESM2-1.historical.r4i1p1f2.Omon.mlotst.gn unaltered\n",
      "Manually Ingnored Variable: Passing CMIP.NCC.NorCPM1.historical.r21i1p1f1.Ofx.areacello.gn unaltered\n",
      "Manually Ingnored Variable: Passing ScenarioMIP.MOHC.UKESM1-0-LL.ssp585.r8i1p1f2.Omon.mlotst.gn unaltered\n",
      "Manually Ingnored Variable: Passing CMIP.MPI-M.MPI-ESM1-2-HR.historical.r1i1p1f1.Ofx.thkcello.gn unaltered\n",
      "Manually Ingnored Variable: Passing ScenarioMIP.CCCma.CanESM5.ssp585.r16i1p2f1.Ofx.thkcello.gn unaltered\n"
     ]
    },
    {
     "name": "stderr",
     "output_type": "stream",
     "text": [
      "/projects/GEOCLIM/LRGROUP/jbusecke/projects/aguadv_omz_busecke_2021/aguadv_omz_busecke_2021/cmip6_stash.py:262: UserWarning: No match found for ['NorCPM1', 'Omon', 'gr', 'r26i1p1f1', 'so'].\n",
      "  warnings.warn(f\"No match found for {match_elements}.\")\n"
     ]
    },
    {
     "name": "stdout",
     "output_type": "stream",
     "text": [
      "Manually Ingnored Variable: Passing CMIP.MOHC.UKESM1-0-LL.historical.r6i1p1f3.Omon.mlotst.gn unaltered\n",
      "Manually Ingnored Variable: Passing CMIP.MRI.MRI-ESM2-0.historical.r3i1p1f1.Omon.mlotst.gn unaltered\n",
      "Manually Ingnored Variable: Passing CMIP.MPI-M.MPI-ESM1-2-LR.historical.r4i1p1f1.Ofx.thkcello.gn unaltered\n",
      "Manually Ingnored Variable: Passing CMIP.MPI-M.MPI-ESM1-2-HR.historical.r4i1p1f1.Ofx.areacello.gn unaltered\n",
      "Manually Ingnored Variable: Passing CMIP.MPI-M.MPI-ESM1-2-LR.historical.r10i1p1f1.Ofx.thkcello.gn unaltered\n",
      "Manually Ingnored Variable: Passing ScenarioMIP.CCCma.CanESM5.ssp585.r20i1p2f1.Ofx.thkcello.gn unaltered\n",
      "Manually Ingnored Variable: Passing ScenarioMIP.MPI-M.MPI-ESM1-2-LR.ssp585.r4i1p1f1.Omon.mlotst.gn unaltered\n",
      "Manually Ingnored Variable: Passing CMIP.NCC.NorCPM1.historical.r18i1p1f1.Ofx.areacello.gn unaltered\n",
      "Manually Ingnored Variable: Passing CMIP.IPSL.IPSL-CM6A-LR.historical.r22i1p1f1.Ofx.areacello.gn unaltered\n",
      "Manually Ingnored Variable: Passing CMIP.MPI-M.MPI-ESM1-2-LR.historical.r5i1p1f1.Ofx.thkcello.gn unaltered\n",
      "Manually Ingnored Variable: Passing ScenarioMIP.CCCma.CanESM5.ssp585.r23i1p1f1.Ofx.areacello.gn unaltered\n",
      "Manually Ingnored Variable: Passing ScenarioMIP.MPI-M.MPI-ESM1-2-LR.ssp585.r7i1p1f1.Omon.thkcello.gn unaltered\n",
      "Control run: Passing CMIP.MRI.MRI-ESM2-0.piControl.r1i2p1f1.Omon.agessc.gn unaltered\n",
      "Manually Ingnored Variable: Passing CMIP.MPI-M.MPI-ESM1-2-LR.historical.r3i1p1f1.Omon.mlotst.gn unaltered\n",
      "Manually Ingnored Variable: Passing ScenarioMIP.CCCma.CanESM5.ssp585.r22i1p2f1.Ofx.thkcello.gn unaltered\n",
      "Manually Ingnored Variable: Passing ScenarioMIP.CCCma.CanESM5.ssp585.r3i1p2f1.Omon.mlotst.gn unaltered\n",
      "Manually Ingnored Variable: Passing CMIP.MOHC.UKESM1-0-LL.historical.r2i1p1f2.Omon.thkcello.gn unaltered\n",
      "Control run: Passing CMIP.NCC.NorESM2-LM.piControl.r1i1p1f1.Omon.so.gr unaltered\n",
      "Manually Ingnored Variable: Passing ScenarioMIP.CNRM-CERFACS.CNRM-ESM2-1.ssp585.r1i1p1f2.Omon.thkcello.gn unaltered\n",
      "Manually Ingnored Variable: Passing CMIP.MPI-M.MPI-ESM1-2-LR.historical.r8i1p1f1.Omon.mlotst.gn unaltered\n",
      "Manually Ingnored Variable: Passing ScenarioMIP.CCCma.CanESM5.ssp585.r8i1p2f1.Ofx.areacello.gn unaltered\n",
      "Manually Ingnored Variable: Passing CMIP.NOAA-GFDL.GFDL-ESM4.historical.r1i1p1f1.Omon.mlotst.gn unaltered\n",
      "Manually Ingnored Variable: Passing ScenarioMIP.CCCma.CanESM5.ssp585.r19i1p1f1.Omon.mlotst.gn unaltered\n"
     ]
    },
    {
     "name": "stderr",
     "output_type": "stream",
     "text": [
      "/projects/GEOCLIM/LRGROUP/jbusecke/projects/aguadv_omz_busecke_2021/aguadv_omz_busecke_2021/cmip6_stash.py:262: UserWarning: No match found for ['MPI-ESM1-2-HR', 'Omon', 'gn', 'r9i1p1f1', 'so'].\n",
      "  warnings.warn(f\"No match found for {match_elements}.\")\n"
     ]
    },
    {
     "name": "stdout",
     "output_type": "stream",
     "text": [
      "Manually Ingnored Variable: Passing ScenarioMIP.CNRM-CERFACS.CNRM-ESM2-1.ssp585.r2i1p1f2.Omon.mlotst.gn unaltered\n",
      "Control run: Passing CMIP.NOAA-GFDL.GFDL-ESM4.piControl.r1i1p1f1.Omon.agessc.gn unaltered\n",
      "Manually Ingnored Variable: Passing CMIP.CCCma.CanESM5.historical.r30i1p2f1.Ofx.thkcello.gn unaltered\n",
      "Manually Ingnored Variable: Passing ScenarioMIP.CCCma.CanESM5.ssp585.r10i1p2f1.Ofx.thkcello.gn unaltered\n",
      "Control run: Passing CMIP.CCCma.CanESM5.piControl.r1i1p1f1.Omon.so.gn unaltered\n",
      "Manually Ingnored Variable: Passing CMIP.IPSL.IPSL-CM6A-LR.historical.r8i1p1f1.Ofx.areacello.gn unaltered\n"
     ]
    },
    {
     "name": "stderr",
     "output_type": "stream",
     "text": [
      "/projects/GEOCLIM/LRGROUP/jbusecke/projects/aguadv_omz_busecke_2021/aguadv_omz_busecke_2021/cmip6_stash.py:262: UserWarning: No match found for ['CanESM5', 'Omon', 'gn', 'r30i1p2f1', 'so'].\n",
      "  warnings.warn(f\"No match found for {match_elements}.\")\n"
     ]
    },
    {
     "name": "stdout",
     "output_type": "stream",
     "text": [
      "Control run: Passing CMIP.MIROC.MIROC-ES2L.piControl.r1i1p1f2.Omon.o2.gn unaltered\n",
      "Manually Ingnored Variable: Passing ScenarioMIP.DKRZ.MPI-ESM1-2-HR.ssp585.r1i1p1f1.Ofx.thkcello.gn unaltered\n",
      "Manually Ingnored Variable: Passing CMIP.MPI-M.MPI-ESM1-2-HR.historical.r4i1p1f1.Omon.mlotst.gn unaltered\n",
      "Manually Ingnored Variable: Passing ScenarioMIP.CCCma.CanESM5.ssp585.r24i1p2f1.Ofx.thkcello.gn unaltered\n",
      "Control run: Passing CMIP.MRI.MRI-ESM2-0.piControl.r1i2p1f1.Omon.so.gn unaltered\n"
     ]
    },
    {
     "name": "stderr",
     "output_type": "stream",
     "text": [
      "/projects/GEOCLIM/LRGROUP/jbusecke/projects/aguadv_omz_busecke_2021/aguadv_omz_busecke_2021/cmip6_stash.py:262: UserWarning: No match found for ['CanESM5', 'Omon', 'gn', 'r37i1p2f1', 'thetao'].\n",
      "  warnings.warn(f\"No match found for {match_elements}.\")\n"
     ]
    },
    {
     "name": "stdout",
     "output_type": "stream",
     "text": [
      "Manually Ingnored Variable: Passing ScenarioMIP.CSIRO.ACCESS-ESM1-5.ssp585.r1i1p1f1.Omon.thkcello.gn unaltered\n",
      "Manually Ingnored Variable: Passing ScenarioMIP.CCCma.CanESM5.ssp585.r12i1p2f1.Omon.mlotst.gn unaltered\n",
      "Manually Ingnored Variable: Passing ScenarioMIP.CCCma.CanESM5.ssp585.r1i1p2f1.Ofx.thkcello.gn unaltered\n"
     ]
    },
    {
     "name": "stderr",
     "output_type": "stream",
     "text": [
      "/projects/GEOCLIM/LRGROUP/jbusecke/projects/aguadv_omz_busecke_2021/aguadv_omz_busecke_2021/cmip6_stash.py:262: UserWarning: No match found for ['NorCPM1', 'Omon', 'gn', 'r28i1p1f1', 'thetao'].\n",
      "  warnings.warn(f\"No match found for {match_elements}.\")\n"
     ]
    },
    {
     "name": "stdout",
     "output_type": "stream",
     "text": [
      "Control run: Passing CMIP.MRI.MRI-ESM2-0.piControl.r1i1p1f1.Omon.thetao.gr unaltered\n",
      "Manually Ingnored Variable: Passing CMIP.NCC.NorCPM1.historical.r23i1p1f1.Omon.mlotst.gn unaltered\n",
      "Control run: Passing CMIP.MOHC.UKESM1-0-LL.piControl.r1i1p1f2.Omon.so.gn unaltered\n",
      "Control run: Passing CMIP.NOAA-GFDL.GFDL-ESM4.piControl.r1i1p1f1.Omon.so.gn unaltered\n",
      "Manually Ingnored Variable: Passing CMIP.CCCma.CanESM5.historical.r34i1p2f1.Omon.mlotst.gn unaltered\n",
      "Manually Ingnored Variable: Passing CMIP.CCCma.CanESM5.historical.r13i1p2f1.Omon.mlotst.gn unaltered\n",
      "Manually Ingnored Variable: Passing CMIP.NCC.NorCPM1.historical.r14i1p1f1.Omon.mlotst.gn unaltered\n"
     ]
    },
    {
     "name": "stderr",
     "output_type": "stream",
     "text": [
      "/projects/GEOCLIM/LRGROUP/jbusecke/projects/aguadv_omz_busecke_2021/aguadv_omz_busecke_2021/cmip6_stash.py:262: UserWarning: No match found for ['MPI-ESM1-2-HR', 'Omon', 'gn', 'r3i1p1f1', 'thetao'].\n",
      "  warnings.warn(f\"No match found for {match_elements}.\")\n"
     ]
    },
    {
     "name": "stdout",
     "output_type": "stream",
     "text": [
      "Manually Ingnored Variable: Passing CMIP.CCCma.CanESM5.historical.r15i1p1f1.Ofx.areacello.gn unaltered\n",
      "Manually Ingnored Variable: Passing CMIP.NCC.NorCPM1.historical.r3i1p1f1.Ofx.areacello.gn unaltered\n",
      "Manually Ingnored Variable: Passing ScenarioMIP.MPI-M.MPI-ESM1-2-LR.ssp585.r8i1p1f1.Ofx.thkcello.gn unaltered\n",
      "Manually Ingnored Variable: Passing CMIP.CCCma.CanESM5.historical.r32i1p2f1.Ofx.thkcello.gn unaltered\n",
      "Manually Ingnored Variable: Passing CMIP.MIROC.MIROC-ES2L.historical.r2i1p1f2.Ofx.areacello.gn unaltered\n",
      "Manually Ingnored Variable: Passing CMIP.CSIRO.ACCESS-ESM1-5.historical.r6i1p1f1.Omon.mlotst.gn unaltered\n",
      "Control run: Passing CMIP.NCC.NorESM2-LM.piControl.r1i1p1f1.Omon.thetao.gn unaltered\n"
     ]
    },
    {
     "name": "stderr",
     "output_type": "stream",
     "text": [
      "/projects/GEOCLIM/LRGROUP/jbusecke/projects/aguadv_omz_busecke_2021/aguadv_omz_busecke_2021/cmip6_stash.py:262: UserWarning: No match found for ['MPI-ESM1-2-HR', 'Omon', 'gn', 'r6i1p1f1', 'thetao'].\n",
      "  warnings.warn(f\"No match found for {match_elements}.\")\n",
      "/projects/GEOCLIM/LRGROUP/jbusecke/projects/aguadv_omz_busecke_2021/aguadv_omz_busecke_2021/cmip6_stash.py:262: UserWarning: No match found for ['NorCPM1', 'Omon', 'gn', 'r15i1p1f1', 'so'].\n",
      "  warnings.warn(f\"No match found for {match_elements}.\")\n"
     ]
    },
    {
     "name": "stdout",
     "output_type": "stream",
     "text": [
      "Manually Ingnored Variable: Passing ScenarioMIP.CCCma.CanESM5.ssp585.r6i1p1f1.Ofx.thkcello.gn unaltered\n",
      "Manually Ingnored Variable: Passing CMIP.NCC.NorCPM1.historical.r16i1p1f1.Omon.mlotst.gn unaltered\n",
      "Manually Ingnored Variable: Passing CMIP.CCCma.CanESM5.historical.r4i1p1f1.Omon.mlotst.gn unaltered\n",
      "Manually Ingnored Variable: Passing CMIP.CCCma.CanESM5.historical.r22i1p2f1.Ofx.areacello.gn unaltered\n",
      "Manually Ingnored Variable: Passing CMIP.NCC.NorCPM1.historical.r9i1p1f1.Ofx.areacello.gn unaltered\n",
      "Control run: Passing CMIP.IPSL.IPSL-CM6A-LR.piControl.r1i1p1f1.Omon.agessc.gn unaltered\n",
      "Control run: Passing CMIP.CCCma.CanESM5.piControl.r1i1p1f1.Omon.thetao.gn unaltered\n",
      "Manually Ingnored Variable: Passing CMIP.IPSL.IPSL-CM6A-LR.historical.r7i1p1f1.Omon.mlotst.gn unaltered\n",
      "Manually Ingnored Variable: Passing CMIP.CNRM-CERFACS.CNRM-ESM2-1.historical.r1i1p1f2.Omon.thkcello.gn unaltered\n",
      "Manually Ingnored Variable: Passing CMIP.CSIRO.ACCESS-ESM1-5.historical.r10i1p1f1.Ofx.thkcello.gn unaltered\n"
     ]
    },
    {
     "name": "stderr",
     "output_type": "stream",
     "text": [
      "/projects/GEOCLIM/LRGROUP/jbusecke/projects/aguadv_omz_busecke_2021/aguadv_omz_busecke_2021/cmip6_stash.py:262: UserWarning: No match found for ['NorCPM1', 'Omon', 'gn', 'r11i1p1f1', 'so'].\n",
      "  warnings.warn(f\"No match found for {match_elements}.\")\n"
     ]
    },
    {
     "name": "stdout",
     "output_type": "stream",
     "text": [
      "Manually Ingnored Variable: Passing CMIP.IPSL.IPSL-CM6A-LR.historical.r21i1p1f1.Omon.thkcello.gn unaltered\n",
      "Manually Ingnored Variable: Passing ScenarioMIP.MPI-M.MPI-ESM1-2-LR.ssp585.r5i1p1f1.Omon.mlotst.gn unaltered\n",
      "Manually Ingnored Variable: Passing CMIP.MPI-M.MPI-ESM1-2-HR.historical.r9i1p1f1.Omon.thkcello.gn unaltered\n",
      "Manually Ingnored Variable: Passing CMIP.IPSL.IPSL-CM6A-LR.historical.r26i1p1f1.Omon.mlotst.gn unaltered\n",
      "Manually Ingnored Variable: Passing CMIP.CCCma.CanESM5.historical.r8i1p1f1.Omon.mlotst.gn unaltered\n",
      "Manually Ingnored Variable: Passing CMIP.CNRM-CERFACS.CNRM-ESM2-1.piControl.r1i1p1f2.Omon.thkcello.gn unaltered\n"
     ]
    },
    {
     "name": "stderr",
     "output_type": "stream",
     "text": [
      "/projects/GEOCLIM/LRGROUP/jbusecke/projects/aguadv_omz_busecke_2021/aguadv_omz_busecke_2021/cmip6_stash.py:262: UserWarning: No match found for ['MPI-ESM1-2-HR', 'Omon', 'gn', 'r5i1p1f1', 'thetao'].\n",
      "  warnings.warn(f\"No match found for {match_elements}.\")\n",
      "/projects/GEOCLIM/LRGROUP/jbusecke/projects/aguadv_omz_busecke_2021/aguadv_omz_busecke_2021/cmip6_stash.py:262: UserWarning: No match found for ['CanESM5', 'Omon', 'gn', 'r21i1p1f1', 'so'].\n",
      "  warnings.warn(f\"No match found for {match_elements}.\")\n"
     ]
    },
    {
     "name": "stdout",
     "output_type": "stream",
     "text": [
      "Manually Ingnored Variable: Passing CMIP.IPSL.IPSL-CM6A-LR.historical.r23i1p1f1.Omon.thkcello.gn unaltered\n",
      "Manually Ingnored Variable: Passing CMIP.IPSL.IPSL-CM6A-LR.historical.r6i1p1f1.Ofx.areacello.gn unaltered\n",
      "Manually Ingnored Variable: Passing CMIP.IPSL.IPSL-CM6A-LR.historical.r12i1p1f1.Ofx.areacello.gn unaltered\n",
      "Manually Ingnored Variable: Passing CMIP.CCCma.CanESM5.historical.r34i1p2f1.Ofx.areacello.gn unaltered\n",
      "Manually Ingnored Variable: Passing CMIP.CCCma.CanESM5.historical.r29i1p2f1.Ofx.thkcello.gn unaltered\n",
      "Manually Ingnored Variable: Passing ScenarioMIP.NOAA-GFDL.GFDL-ESM4.ssp585.r1i1p1f1.Omon.mlotst.gr unaltered\n",
      "Manually Ingnored Variable: Passing CMIP.IPSL.IPSL-CM6A-LR.historical.r15i1p1f1.Ofx.areacello.gn unaltered\n",
      "Manually Ingnored Variable: Passing CMIP.IPSL.IPSL-CM6A-LR.historical.r30i1p1f1.Omon.thkcello.gn unaltered\n"
     ]
    },
    {
     "name": "stderr",
     "output_type": "stream",
     "text": [
      "/projects/GEOCLIM/LRGROUP/jbusecke/projects/aguadv_omz_busecke_2021/aguadv_omz_busecke_2021/cmip6_stash.py:262: UserWarning: No match found for ['NorCPM1', 'Omon', 'gn', 'r6i1p1f1', 'so'].\n",
      "  warnings.warn(f\"No match found for {match_elements}.\")\n"
     ]
    },
    {
     "name": "stdout",
     "output_type": "stream",
     "text": [
      "Control run: Passing CMIP.HAMMOZ-Consortium.MPI-ESM-1-2-HAM.piControl.r1i1p1f1.Omon.thetao.gn unaltered\n",
      "Manually Ingnored Variable: Passing CMIP.IPSL.IPSL-CM6A-LR.historical.r32i1p1f1.Ofx.areacello.gn unaltered\n",
      "Manually Ingnored Variable: Passing ScenarioMIP.CCCma.CanESM5.ssp585.r14i1p1f1.Ofx.areacello.gn unaltered\n"
     ]
    },
    {
     "name": "stderr",
     "output_type": "stream",
     "text": [
      "/projects/GEOCLIM/LRGROUP/jbusecke/projects/aguadv_omz_busecke_2021/aguadv_omz_busecke_2021/cmip6_stash.py:262: UserWarning: No match found for ['NorCPM1', 'Omon', 'gn', 'r25i1p1f1', 'so'].\n",
      "  warnings.warn(f\"No match found for {match_elements}.\")\n"
     ]
    },
    {
     "name": "stdout",
     "output_type": "stream",
     "text": [
      "Manually Ingnored Variable: Passing ScenarioMIP.CCCma.CanESM5.ssp585.r13i1p1f1.Ofx.areacello.gn unaltered\n",
      "Manually Ingnored Variable: Passing CMIP.MPI-M.MPI-ESM1-2-HR.historical.r2i1p1f1.Omon.mlotst.gn unaltered\n",
      "Manually Ingnored Variable: Passing CMIP.MRI.MRI-ESM2-0.historical.r1i2p1f1.Omon.mlotst.gn unaltered\n"
     ]
    },
    {
     "name": "stderr",
     "output_type": "stream",
     "text": [
      "/projects/GEOCLIM/LRGROUP/jbusecke/projects/aguadv_omz_busecke_2021/aguadv_omz_busecke_2021/cmip6_stash.py:262: UserWarning: No match found for ['NorCPM1', 'Omon', 'gn', 'r21i1p1f1', 'thetao'].\n",
      "  warnings.warn(f\"No match found for {match_elements}.\")\n",
      "/projects/GEOCLIM/LRGROUP/jbusecke/projects/aguadv_omz_busecke_2021/aguadv_omz_busecke_2021/cmip6_stash.py:262: UserWarning: No match found for ['CanESM5', 'Omon', 'gn', 'r23i1p1f1', 'agessc'].\n",
      "  warnings.warn(f\"No match found for {match_elements}.\")\n"
     ]
    },
    {
     "name": "stdout",
     "output_type": "stream",
     "text": [
      "Manually Ingnored Variable: Passing CMIP.CNRM-CERFACS.CNRM-ESM2-1.historical.r5i1p1f2.Ofx.areacello.gn unaltered\n",
      "Manually Ingnored Variable: Passing CMIP.CCCma.CanESM5.historical.r24i1p1f1.Ofx.areacello.gn unaltered\n",
      "Manually Ingnored Variable: Passing CMIP.CCCma.CanESM5.historical.r13i1p2f1.Ofx.areacello.gn unaltered\n",
      "Manually Ingnored Variable: Passing ScenarioMIP.MOHC.UKESM1-0-LL.ssp585.r4i1p1f2.Omon.mlotst.gn unaltered\n"
     ]
    },
    {
     "name": "stderr",
     "output_type": "stream",
     "text": [
      "/projects/GEOCLIM/LRGROUP/jbusecke/projects/aguadv_omz_busecke_2021/aguadv_omz_busecke_2021/cmip6_stash.py:262: UserWarning: No match found for ['CanESM5', 'Omon', 'gn', 'r23i1p1f1', 'thetao'].\n",
      "  warnings.warn(f\"No match found for {match_elements}.\")\n"
     ]
    },
    {
     "name": "stdout",
     "output_type": "stream",
     "text": [
      "Manually Ingnored Variable: Passing CMIP.MOHC.UKESM1-0-LL.historical.r10i1p1f2.Omon.mlotst.gn unaltered\n",
      "Manually Ingnored Variable: Passing ScenarioMIP.CCCma.CanESM5.ssp585.r11i1p2f1.Ofx.areacello.gn unaltered\n",
      "Manually Ingnored Variable: Passing ScenarioMIP.CCCma.CanESM5.ssp585.r19i1p1f1.Ofx.areacello.gn unaltered\n",
      "Control run: Passing CMIP.MRI.MRI-ESM2-0.piControl.r1i1p1f1.Omon.so.gn unaltered\n"
     ]
    },
    {
     "name": "stderr",
     "output_type": "stream",
     "text": [
      "/projects/GEOCLIM/LRGROUP/jbusecke/projects/aguadv_omz_busecke_2021/aguadv_omz_busecke_2021/cmip6_stash.py:262: UserWarning: No match found for ['IPSL-CM6A-LR', 'Omon', 'gn', 'r32i1p1f1', 'so'].\n",
      "  warnings.warn(f\"No match found for {match_elements}.\")\n",
      "/projects/GEOCLIM/LRGROUP/jbusecke/projects/aguadv_omz_busecke_2021/aguadv_omz_busecke_2021/cmip6_stash.py:262: UserWarning: No match found for ['NorCPM1', 'Omon', 'gn', 'r7i1p1f1', 'so'].\n",
      "  warnings.warn(f\"No match found for {match_elements}.\")\n",
      "/projects/GEOCLIM/LRGROUP/jbusecke/projects/aguadv_omz_busecke_2021/aguadv_omz_busecke_2021/cmip6_stash.py:262: UserWarning: No match found for ['NorCPM1', 'Omon', 'gn', 'r12i1p1f1', 'thetao'].\n",
      "  warnings.warn(f\"No match found for {match_elements}.\")\n"
     ]
    },
    {
     "name": "stdout",
     "output_type": "stream",
     "text": [
      "Manually Ingnored Variable: Passing CMIP.NCC.NorESM2-MM.historical.r1i1p1f1.Omon.thkcello.gn unaltered\n",
      "Manually Ingnored Variable: Passing CMIP.CNRM-CERFACS.CNRM-ESM2-1.historical.r4i1p1f2.Omon.thkcello.gn unaltered\n",
      "Manually Ingnored Variable: Passing CMIP.CCCma.CanESM5.historical.r37i1p2f1.Ofx.areacello.gn unaltered\n",
      "Manually Ingnored Variable: Passing CMIP.IPSL.IPSL-CM6A-LR.piControl.r1i1p1f1.Ofx.thkcello.gn unaltered\n",
      "Manually Ingnored Variable: Passing CMIP.CSIRO.ACCESS-ESM1-5.historical.r1i1p1f1.Ofx.thkcello.gn unaltered\n",
      "Manually Ingnored Variable: Passing CMIP.IPSL.IPSL-CM6A-LR.historical.r18i1p1f1.Omon.thkcello.gn unaltered\n"
     ]
    },
    {
     "name": "stderr",
     "output_type": "stream",
     "text": [
      "/projects/GEOCLIM/LRGROUP/jbusecke/projects/aguadv_omz_busecke_2021/aguadv_omz_busecke_2021/cmip6_stash.py:262: UserWarning: No match found for ['CanESM5', 'Omon', 'gn', 'r37i1p2f1', 'so'].\n",
      "  warnings.warn(f\"No match found for {match_elements}.\")\n"
     ]
    },
    {
     "name": "stdout",
     "output_type": "stream",
     "text": [
      "Manually Ingnored Variable: Passing ScenarioMIP.CCCma.CanESM5.ssp585.r22i1p2f1.Omon.mlotst.gn unaltered\n",
      "Manually Ingnored Variable: Passing CMIP.CNRM-CERFACS.CNRM-ESM2-1.historical.r11i1p1f2.Omon.thkcello.gn unaltered\n",
      "Control run: Passing CMIP.NCC.NorESM2-LM.piControl.r1i1p1f1.Omon.o2.gr unaltered\n",
      "Manually Ingnored Variable: Passing CMIP.MPI-M.MPI-ESM1-2-HR.historical.r10i1p1f1.Ofx.thkcello.gn unaltered\n"
     ]
    },
    {
     "name": "stderr",
     "output_type": "stream",
     "text": [
      "/projects/GEOCLIM/LRGROUP/jbusecke/projects/aguadv_omz_busecke_2021/aguadv_omz_busecke_2021/cmip6_stash.py:262: UserWarning: No match found for ['MPI-ESM1-2-HR', 'Omon', 'gn', 'r5i1p1f1', 'agessc'].\n",
      "  warnings.warn(f\"No match found for {match_elements}.\")\n"
     ]
    },
    {
     "name": "stdout",
     "output_type": "stream",
     "text": [
      "Manually Ingnored Variable: Passing CMIP.NCC.NorESM2-LM.piControl.r1i1p1f1.Ofx.areacello.gn unaltered\n",
      "Manually Ingnored Variable: Passing ScenarioMIP.CCCma.CanESM5.ssp585.r4i1p1f1.Omon.mlotst.gn unaltered\n",
      "Manually Ingnored Variable: Passing CMIP.CCCma.CanESM5.historical.r29i1p2f1.Ofx.areacello.gn unaltered\n",
      "Manually Ingnored Variable: Passing CMIP.NCC.NorCPM1.historical.r13i1p1f1.Ofx.areacello.gn unaltered\n",
      "Manually Ingnored Variable: Passing CMIP.NCC.NorCPM1.historical.r6i1p1f1.Ofx.areacello.gn unaltered\n",
      "Manually Ingnored Variable: Passing ScenarioMIP.CCCma.CanESM5.ssp585.r9i1p2f1.Ofx.thkcello.gn unaltered\n",
      "Control run: Passing CMIP.IPSL.IPSL-CM6A-LR.piControl.r1i2p1f1.Omon.o2.gn unaltered\n"
     ]
    },
    {
     "name": "stderr",
     "output_type": "stream",
     "text": [
      "/projects/GEOCLIM/LRGROUP/jbusecke/projects/aguadv_omz_busecke_2021/aguadv_omz_busecke_2021/cmip6_stash.py:262: UserWarning: No match found for ['NorCPM1', 'Omon', 'gr', 'r22i1p1f1', 'o2'].\n",
      "  warnings.warn(f\"No match found for {match_elements}.\")\n",
      "/projects/GEOCLIM/LRGROUP/jbusecke/projects/aguadv_omz_busecke_2021/aguadv_omz_busecke_2021/cmip6_stash.py:262: UserWarning: No match found for ['NorCPM1', 'Omon', 'gr', 'r4i1p1f1', 'so'].\n",
      "  warnings.warn(f\"No match found for {match_elements}.\")\n"
     ]
    },
    {
     "name": "stdout",
     "output_type": "stream",
     "text": [
      "Manually Ingnored Variable: Passing CMIP.IPSL.IPSL-CM6A-LR.piControl.r1i1p1f1.Omon.thkcello.gn unaltered\n",
      "Manually Ingnored Variable: Passing CMIP.IPSL.IPSL-CM6A-LR.historical.r6i1p1f1.Omon.mlotst.gn unaltered\n",
      "Manually Ingnored Variable: Passing CMIP.CCCma.CanESM5.historical.r39i1p2f1.Ofx.areacello.gn unaltered\n",
      "Manually Ingnored Variable: Passing CMIP.MPI-M.MPI-ESM1-2-HR.historical.r2i1p1f1.Ofx.thkcello.gn unaltered\n",
      "Manually Ingnored Variable: Passing CMIP.MPI-M.MPI-ESM1-2-LR.historical.r7i1p1f1.Omon.mlotst.gn unaltered\n"
     ]
    },
    {
     "name": "stderr",
     "output_type": "stream",
     "text": [
      "/projects/GEOCLIM/LRGROUP/jbusecke/projects/aguadv_omz_busecke_2021/aguadv_omz_busecke_2021/cmip6_stash.py:262: UserWarning: No match found for ['NorCPM1', 'Omon', 'gn', 'r21i1p1f1', 'so'].\n",
      "  warnings.warn(f\"No match found for {match_elements}.\")\n",
      "/projects/GEOCLIM/LRGROUP/jbusecke/projects/aguadv_omz_busecke_2021/aguadv_omz_busecke_2021/cmip6_stash.py:262: UserWarning: No match found for ['IPSL-CM6A-LR', 'Omon', 'gn', 'r32i1p1f1', 'agessc'].\n",
      "  warnings.warn(f\"No match found for {match_elements}.\")\n"
     ]
    },
    {
     "name": "stdout",
     "output_type": "stream",
     "text": [
      "Manually Ingnored Variable: Passing CMIP.CCCma.CanESM5.historical.r9i1p2f1.Ofx.thkcello.gn unaltered\n"
     ]
    },
    {
     "name": "stderr",
     "output_type": "stream",
     "text": [
      "/projects/GEOCLIM/LRGROUP/jbusecke/projects/aguadv_omz_busecke_2021/aguadv_omz_busecke_2021/cmip6_stash.py:262: UserWarning: No match found for ['NorCPM1', 'Omon', 'gr', 'r12i1p1f1', 'o2'].\n",
      "  warnings.warn(f\"No match found for {match_elements}.\")\n",
      "/projects/GEOCLIM/LRGROUP/jbusecke/projects/aguadv_omz_busecke_2021/aguadv_omz_busecke_2021/cmip6_stash.py:262: UserWarning: No match found for ['NorCPM1', 'Omon', 'gn', 'r26i1p1f1', 'so'].\n",
      "  warnings.warn(f\"No match found for {match_elements}.\")\n"
     ]
    },
    {
     "name": "stdout",
     "output_type": "stream",
     "text": [
      "Manually Ingnored Variable: Passing ScenarioMIP.CCCma.CanESM5-CanOE.ssp585.r1i1p2f1.Ofx.thkcello.gn unaltered\n",
      "Manually Ingnored Variable: Passing CMIP.MIROC.MIROC-ES2L.historical.r6i1p1f2.Ofx.areacello.gn unaltered\n",
      "Manually Ingnored Variable: Passing CMIP.IPSL.IPSL-CM6A-LR.historical.r4i1p1f1.Ofx.areacello.gn unaltered\n",
      "Manually Ingnored Variable: Passing CMIP.MPI-M.MPI-ESM1-2-LR.historical.r10i1p1f1.Ofx.areacello.gn unaltered\n"
     ]
    },
    {
     "name": "stderr",
     "output_type": "stream",
     "text": [
      "/projects/GEOCLIM/LRGROUP/jbusecke/projects/aguadv_omz_busecke_2021/aguadv_omz_busecke_2021/cmip6_stash.py:262: UserWarning: No match found for ['NorESM2-LM', 'Omon', 'gn', 'r3i1p1f1', 'agessc'].\n",
      "  warnings.warn(f\"No match found for {match_elements}.\")\n",
      "/projects/GEOCLIM/LRGROUP/jbusecke/projects/aguadv_omz_busecke_2021/aguadv_omz_busecke_2021/cmip6_stash.py:262: UserWarning: No match found for ['NorESM2-LM', 'Omon', 'gn', 'r1i1p1f1', 'so'].\n",
      "  warnings.warn(f\"No match found for {match_elements}.\")\n",
      "/projects/GEOCLIM/LRGROUP/jbusecke/projects/aguadv_omz_busecke_2021/aguadv_omz_busecke_2021/cmip6_stash.py:262: UserWarning: No match found for ['NorESM2-MM', 'Omon', 'gn', 'r1i1p1f1', 'thetao'].\n",
      "  warnings.warn(f\"No match found for {match_elements}.\")\n"
     ]
    },
    {
     "name": "stdout",
     "output_type": "stream",
     "text": [
      "Manually Ingnored Variable: Passing CMIP.MPI-M.MPI-ESM1-2-HR.historical.r2i1p1f1.Ofx.areacello.gn unaltered\n",
      "Manually Ingnored Variable: Passing CMIP.IPSL.IPSL-CM6A-LR.historical.r17i1p1f1.Omon.thkcello.gn unaltered\n",
      "Manually Ingnored Variable: Passing CMIP.CSIRO.ACCESS-ESM1-5.historical.r5i1p1f1.Omon.mlotst.gn unaltered\n",
      "Manually Ingnored Variable: Passing ScenarioMIP.CCCma.CanESM5.ssp585.r9i1p1f1.Omon.mlotst.gn unaltered\n",
      "Manually Ingnored Variable: Passing CMIP.MPI-M.MPI-ESM1-2-HR.historical.r6i1p1f1.Ofx.areacello.gn unaltered\n",
      "Manually Ingnored Variable: Passing CMIP.CCCma.CanESM5.historical.r5i1p1f1.Omon.mlotst.gn unaltered\n",
      "Manually Ingnored Variable: Passing CMIP.CNRM-CERFACS.CNRM-ESM2-1.historical.r9i1p1f2.Omon.mlotst.gn unaltered\n",
      "Manually Ingnored Variable: Passing CMIP.CCCma.CanESM5.historical.r32i1p2f1.Ofx.areacello.gn unaltered\n",
      "Manually Ingnored Variable: Passing CMIP.MPI-M.MPI-ESM1-2-HR.historical.r1i1p1f1.Ofx.areacello.gn unaltered\n"
     ]
    },
    {
     "name": "stderr",
     "output_type": "stream",
     "text": [
      "/projects/GEOCLIM/LRGROUP/jbusecke/projects/aguadv_omz_busecke_2021/aguadv_omz_busecke_2021/cmip6_stash.py:262: UserWarning: No match found for ['NorCPM1', 'Omon', 'gr', 'r30i1p1f1', 'o2'].\n",
      "  warnings.warn(f\"No match found for {match_elements}.\")\n",
      "/projects/GEOCLIM/LRGROUP/jbusecke/projects/aguadv_omz_busecke_2021/aguadv_omz_busecke_2021/cmip6_stash.py:262: UserWarning: No match found for ['NorESM2-LM', 'Omon', 'gn', 'r2i1p1f1', 'so'].\n",
      "  warnings.warn(f\"No match found for {match_elements}.\")\n",
      "/projects/GEOCLIM/LRGROUP/jbusecke/projects/aguadv_omz_busecke_2021/aguadv_omz_busecke_2021/cmip6_stash.py:262: UserWarning: No match found for ['NorCPM1', 'Omon', 'gr', 'r26i1p1f1', 'thetao'].\n",
      "  warnings.warn(f\"No match found for {match_elements}.\")\n"
     ]
    },
    {
     "name": "stdout",
     "output_type": "stream",
     "text": [
      "Manually Ingnored Variable: Passing CMIP.IPSL.IPSL-CM6A-LR.piControl.r1i1p1f1.Omon.mlotst.gn unaltered\n"
     ]
    },
    {
     "name": "stderr",
     "output_type": "stream",
     "text": [
      "/projects/GEOCLIM/LRGROUP/jbusecke/projects/aguadv_omz_busecke_2021/aguadv_omz_busecke_2021/cmip6_stash.py:262: UserWarning: No match found for ['NorCPM1', 'Omon', 'gr', 'r19i1p1f1', 'o2'].\n",
      "  warnings.warn(f\"No match found for {match_elements}.\")\n"
     ]
    },
    {
     "name": "stdout",
     "output_type": "stream",
     "text": [
      "Manually Ingnored Variable: Passing CMIP.NCC.NorCPM1.historical.r10i1p1f1.Omon.mlotst.gn unaltered\n",
      "Manually Ingnored Variable: Passing ScenarioMIP.MPI-M.MPI-ESM1-2-LR.ssp585.r3i1p1f1.Omon.thkcello.gn unaltered\n",
      "Manually Ingnored Variable: Passing ScenarioMIP.CCCma.CanESM5.ssp585.r3i1p1f1.Ofx.thkcello.gn unaltered\n",
      "Manually Ingnored Variable: Passing CMIP.NCC.NorCPM1.historical.r29i1p1f1.Ofx.areacello.gn unaltered\n"
     ]
    },
    {
     "name": "stderr",
     "output_type": "stream",
     "text": [
      "/projects/GEOCLIM/LRGROUP/jbusecke/projects/aguadv_omz_busecke_2021/aguadv_omz_busecke_2021/cmip6_stash.py:262: UserWarning: No match found for ['MPI-ESM1-2-HR', 'Omon', 'gn', 'r2i1p1f1', 'so'].\n",
      "  warnings.warn(f\"No match found for {match_elements}.\")\n",
      "/projects/GEOCLIM/LRGROUP/jbusecke/projects/aguadv_omz_busecke_2021/aguadv_omz_busecke_2021/cmip6_stash.py:262: UserWarning: No match found for ['NorCPM1', 'Omon', 'gr', 'r10i1p1f1', 'so'].\n",
      "  warnings.warn(f\"No match found for {match_elements}.\")\n",
      "/projects/GEOCLIM/LRGROUP/jbusecke/projects/aguadv_omz_busecke_2021/aguadv_omz_busecke_2021/cmip6_stash.py:262: UserWarning: No match found for ['CanESM5', 'Omon', 'gn', 'r23i1p1f1', 'so'].\n",
      "  warnings.warn(f\"No match found for {match_elements}.\")\n",
      "/projects/GEOCLIM/LRGROUP/jbusecke/projects/aguadv_omz_busecke_2021/aguadv_omz_busecke_2021/cmip6_stash.py:262: UserWarning: No match found for ['CanESM5', 'Omon', 'gn', 'r30i1p2f1', 'thetao'].\n",
      "  warnings.warn(f\"No match found for {match_elements}.\")\n"
     ]
    },
    {
     "name": "stdout",
     "output_type": "stream",
     "text": [
      "Manually Ingnored Variable: Passing CMIP.NCC.NorESM2-LM.historical.r1i1p1f1.Ofx.thkcello.gr unaltered\n",
      "Manually Ingnored Variable: Passing CMIP.CCCma.CanESM5.historical.r11i1p2f1.Ofx.thkcello.gn unaltered\n",
      "Manually Ingnored Variable: Passing CMIP.CCCma.CanESM5.historical.r19i1p1f1.Ofx.thkcello.gn unaltered\n",
      "Manually Ingnored Variable: Passing CMIP.NCC.NorCPM1.historical.r10i1p1f1.Ofx.areacello.gn unaltered\n",
      "Manually Ingnored Variable: Passing ScenarioMIP.CCCma.CanESM5.ssp585.r12i1p1f1.Ofx.areacello.gn unaltered\n",
      "Manually Ingnored Variable: Passing ScenarioMIP.DWD.MPI-ESM1-2-HR.ssp585.r2i1p1f1.Omon.mlotst.gn unaltered\n"
     ]
    },
    {
     "name": "stderr",
     "output_type": "stream",
     "text": [
      "/projects/GEOCLIM/LRGROUP/jbusecke/projects/aguadv_omz_busecke_2021/aguadv_omz_busecke_2021/cmip6_stash.py:262: UserWarning: No match found for ['NorCPM1', 'Omon', 'gr', 'r18i1p1f1', 'o2'].\n",
      "  warnings.warn(f\"No match found for {match_elements}.\")\n"
     ]
    },
    {
     "name": "stdout",
     "output_type": "stream",
     "text": [
      "Manually Ingnored Variable: Passing ScenarioMIP.CCCma.CanESM5.ssp585.r24i1p1f1.Ofx.areacello.gn unaltered\n",
      "Manually Ingnored Variable: Passing CMIP.MRI.MRI-ESM2-0.historical.r1i2p1f1.Ofx.areacello.gn unaltered\n",
      "Manually Ingnored Variable: Passing CMIP.CSIRO.ACCESS-ESM1-5.historical.r2i1p1f1.Omon.mlotst.gn unaltered\n",
      "Manually Ingnored Variable: Passing CMIP.CCCma.CanESM5.historical.r1i1p1f1.Omon.mlotst.gn unaltered\n",
      "Control run: Passing CMIP.MRI.MRI-ESM2-0.piControl.r1i2p1f1.Omon.thetao.gr unaltered\n"
     ]
    },
    {
     "name": "stderr",
     "output_type": "stream",
     "text": [
      "/projects/GEOCLIM/LRGROUP/jbusecke/projects/aguadv_omz_busecke_2021/aguadv_omz_busecke_2021/cmip6_stash.py:262: UserWarning: No match found for ['NorESM2-LM', 'Omon', 'gn', 'r2i1p1f1', 'thetao'].\n",
      "  warnings.warn(f\"No match found for {match_elements}.\")\n"
     ]
    },
    {
     "name": "stdout",
     "output_type": "stream",
     "text": [
      "Control run: Passing CMIP.MOHC.UKESM1-0-LL.piControl.r1i1p1f2.Omon.o2.gn unaltered\n",
      "Control run: Passing CMIP.IPSL.IPSL-CM6A-LR.piControl.r1i2p1f1.Omon.thetao.gn unaltered\n",
      "Manually Ingnored Variable: Passing ScenarioMIP.CCCma.CanESM5.ssp585.r1i1p2f1.Ofx.areacello.gn unaltered\n",
      "Manually Ingnored Variable: Passing CMIP.MPI-M.MPI-ESM1-2-HR.historical.r6i1p1f1.Omon.thkcello.gn unaltered\n",
      "Manually Ingnored Variable: Passing CMIP.NCC.NorCPM1.historical.r1i1p1f1.Ofx.areacello.gn unaltered\n",
      "Manually Ingnored Variable: Passing CMIP.CCCma.CanESM5.historical.r7i1p2f1.Ofx.thkcello.gn unaltered\n",
      "Manually Ingnored Variable: Passing CMIP.NCC.NorESM2-LM.historical.r1i1p1f1.Ofx.areacello.gn unaltered\n",
      "Control run: Passing CMIP.CCCma.CanESM5.piControl.r1i1p2f1.Omon.thetao.gn unaltered\n",
      "Manually Ingnored Variable: Passing CMIP.NCC.NorESM2-MM.historical.r1i1p1f1.Omon.mlotst.gn unaltered\n",
      "Manually Ingnored Variable: Passing CMIP.MOHC.UKESM1-0-LL.historical.r10i1p1f2.Omon.thkcello.gn unaltered\n",
      "Manually Ingnored Variable: Passing CMIP.CCCma.CanESM5.historical.r2i1p2f1.Ofx.thkcello.gn unaltered\n",
      "Control run: Passing CMIP.CSIRO.ACCESS-ESM1-5.piControl.r1i1p1f1.Omon.thetao.gn unaltered\n",
      "Manually Ingnored Variable: Passing ScenarioMIP.CCCma.CanESM5.ssp585.r3i1p1f1.Ofx.areacello.gn unaltered\n",
      "Manually Ingnored Variable: Passing ScenarioMIP.MOHC.UKESM1-0-LL.ssp585.r2i1p1f2.Omon.thkcello.gn unaltered\n",
      "Manually Ingnored Variable: Passing CMIP.NOAA-GFDL.GFDL-CM4.piControl.r1i1p1f1.Ofx.areacello.gn unaltered\n"
     ]
    },
    {
     "name": "stderr",
     "output_type": "stream",
     "text": [
      "/projects/GEOCLIM/LRGROUP/jbusecke/projects/aguadv_omz_busecke_2021/aguadv_omz_busecke_2021/cmip6_stash.py:262: UserWarning: No match found for ['CanESM5', 'Omon', 'gn', 'r25i1p1f1', 'agessc'].\n",
      "  warnings.warn(f\"No match found for {match_elements}.\")\n",
      "/projects/GEOCLIM/LRGROUP/jbusecke/projects/aguadv_omz_busecke_2021/aguadv_omz_busecke_2021/cmip6_stash.py:262: UserWarning: No match found for ['NorCPM1', 'Omon', 'gn', 'r9i1p1f1', 'so'].\n",
      "  warnings.warn(f\"No match found for {match_elements}.\")\n",
      "/projects/GEOCLIM/LRGROUP/jbusecke/projects/aguadv_omz_busecke_2021/aguadv_omz_busecke_2021/cmip6_stash.py:262: UserWarning: No match found for ['NorCPM1', 'Omon', 'gn', 'r29i1p1f1', 'so'].\n",
      "  warnings.warn(f\"No match found for {match_elements}.\")\n",
      "/projects/GEOCLIM/LRGROUP/jbusecke/projects/aguadv_omz_busecke_2021/aguadv_omz_busecke_2021/cmip6_stash.py:262: UserWarning: No match found for ['CanESM5', 'Omon', 'gn', 'r26i1p2f1', 'so'].\n",
      "  warnings.warn(f\"No match found for {match_elements}.\")\n"
     ]
    },
    {
     "name": "stdout",
     "output_type": "stream",
     "text": [
      "Manually Ingnored Variable: Passing ScenarioMIP.CNRM-CERFACS.CNRM-ESM2-1.ssp585.r4i1p1f2.Ofx.areacello.gn unaltered\n",
      "Manually Ingnored Variable: Passing ScenarioMIP.CCCma.CanESM5.ssp585.r18i1p2f1.Ofx.thkcello.gn unaltered\n",
      "Manually Ingnored Variable: Passing CMIP.NCC.NorCPM1.historical.r2i1p1f1.Omon.mlotst.gn unaltered\n",
      "Manually Ingnored Variable: Passing CMIP.NCC.NorCPM1.historical.r13i1p1f1.Omon.mlotst.gn unaltered\n",
      "Manually Ingnored Variable: Passing CMIP.CCCma.CanESM5.historical.r14i1p1f1.Omon.mlotst.gn unaltered\n",
      "Manually Ingnored Variable: Passing CMIP.CCCma.CanESM5.historical.r34i1p2f1.Ofx.thkcello.gn unaltered\n",
      "Manually Ingnored Variable: Passing CMIP.CCCma.CanESM5.historical.r1i1p2f1.Ofx.thkcello.gn unaltered\n",
      "Manually Ingnored Variable: Passing CMIP.MOHC.UKESM1-0-LL.historical.r16i1p1f2.Omon.thkcello.gn unaltered\n",
      "Manually Ingnored Variable: Passing CMIP.CCCma.CanESM5.historical.r24i1p2f1.Ofx.thkcello.gn unaltered\n",
      "Manually Ingnored Variable: Passing CMIP.IPSL.IPSL-CM6A-LR.historical.r24i1p1f1.Ofx.areacello.gn unaltered\n",
      "Manually Ingnored Variable: Passing CMIP.MPI-M.MPI-ESM1-2-HR.historical.r7i1p1f1.Omon.mlotst.gn unaltered\n",
      "Manually Ingnored Variable: Passing ScenarioMIP.CCCma.CanESM5.ssp585.r8i1p1f1.Ofx.thkcello.gn unaltered\n",
      "Manually Ingnored Variable: Passing CMIP.NCC.NorCPM1.historical.r2i1p1f1.Ofx.areacello.gn unaltered\n",
      "Manually Ingnored Variable: Passing CMIP.CNRM-CERFACS.CNRM-ESM2-1.historical.r7i1p1f2.Omon.mlotst.gn unaltered\n",
      "Manually Ingnored Variable: Passing CMIP.CCCma.CanESM5.historical.r4i1p1f1.Ofx.thkcello.gn unaltered\n",
      "Manually Ingnored Variable: Passing ScenarioMIP.MPI-M.MPI-ESM1-2-LR.ssp585.r9i1p1f1.Ofx.thkcello.gn unaltered\n",
      "Manually Ingnored Variable: Passing CMIP.NCC.NorESM2-MM.piControl.r1i1p1f1.Omon.thkcello.gn unaltered\n",
      "Manually Ingnored Variable: Passing ScenarioMIP.CNRM-CERFACS.CNRM-ESM2-1.ssp585.r5i1p1f2.Omon.mlotst.gn unaltered\n"
     ]
    },
    {
     "name": "stderr",
     "output_type": "stream",
     "text": [
      "/projects/GEOCLIM/LRGROUP/jbusecke/projects/aguadv_omz_busecke_2021/aguadv_omz_busecke_2021/cmip6_stash.py:262: UserWarning: No match found for ['NorCPM1', 'Omon', 'gr', 'r15i1p1f1', 'o2'].\n",
      "  warnings.warn(f\"No match found for {match_elements}.\")\n"
     ]
    },
    {
     "name": "stdout",
     "output_type": "stream",
     "text": [
      "Manually Ingnored Variable: Passing ScenarioMIP.CCCma.CanESM5.ssp585.r2i1p2f1.Omon.mlotst.gn unaltered\n",
      "Manually Ingnored Variable: Passing CMIP.CCCma.CanESM5.historical.r33i1p2f1.Ofx.thkcello.gn unaltered\n",
      "Manually Ingnored Variable: Passing ScenarioMIP.CCCma.CanESM5.ssp585.r17i1p1f1.Ofx.areacello.gn unaltered\n",
      "Manually Ingnored Variable: Passing CMIP.IPSL.IPSL-CM6A-LR.historical.r29i1p1f1.Omon.mlotst.gn unaltered\n"
     ]
    },
    {
     "name": "stderr",
     "output_type": "stream",
     "text": [
      "/projects/GEOCLIM/LRGROUP/jbusecke/projects/aguadv_omz_busecke_2021/aguadv_omz_busecke_2021/cmip6_stash.py:262: UserWarning: No match found for ['NorCPM1', 'Omon', 'gr', 'r17i1p1f1', 'so'].\n",
      "  warnings.warn(f\"No match found for {match_elements}.\")\n"
     ]
    },
    {
     "name": "stdout",
     "output_type": "stream",
     "text": [
      "Manually Ingnored Variable: Passing ScenarioMIP.MPI-M.MPI-ESM1-2-LR.ssp585.r2i1p1f1.Ofx.areacello.gn unaltered\n",
      "Manually Ingnored Variable: Passing ScenarioMIP.CCCma.CanESM5.ssp585.r20i1p2f1.Ofx.areacello.gn unaltered\n",
      "Manually Ingnored Variable: Passing ScenarioMIP.DKRZ.MPI-ESM1-2-HR.ssp585.r1i1p1f1.Omon.mlotst.gn unaltered\n"
     ]
    },
    {
     "name": "stderr",
     "output_type": "stream",
     "text": [
      "/projects/GEOCLIM/LRGROUP/jbusecke/projects/aguadv_omz_busecke_2021/aguadv_omz_busecke_2021/cmip6_stash.py:262: UserWarning: No match found for ['NorCPM1', 'Omon', 'gr', 'r20i1p1f1', 'o2'].\n",
      "  warnings.warn(f\"No match found for {match_elements}.\")\n",
      "/projects/GEOCLIM/LRGROUP/jbusecke/projects/aguadv_omz_busecke_2021/aguadv_omz_busecke_2021/cmip6_stash.py:262: UserWarning: No match found for ['CanESM5', 'Omon', 'gn', 'r28i1p2f1', 'so'].\n",
      "  warnings.warn(f\"No match found for {match_elements}.\")\n"
     ]
    },
    {
     "name": "stdout",
     "output_type": "stream",
     "text": [
      "Manually Ingnored Variable: Passing CMIP.IPSL.IPSL-CM6A-LR.historical.r22i1p1f1.Omon.mlotst.gn unaltered\n",
      "Manually Ingnored Variable: Passing CMIP.CCCma.CanESM5.historical.r15i1p1f1.Omon.mlotst.gn unaltered\n",
      "Manually Ingnored Variable: Passing CMIP.IPSL.IPSL-CM6A-LR.historical.r7i1p1f1.Ofx.areacello.gn unaltered\n",
      "Manually Ingnored Variable: Passing CMIP.NCC.NorCPM1.historical.r28i1p1f1.Ofx.areacello.gn unaltered\n",
      "Manually Ingnored Variable: Passing ScenarioMIP.NCC.NorESM2-MM.ssp585.r1i1p1f1.Omon.thkcello.gn unaltered\n",
      "Manually Ingnored Variable: Passing ScenarioMIP.CCCma.CanESM5.ssp585.r15i1p1f1.Ofx.areacello.gn unaltered\n",
      "Manually Ingnored Variable: Passing ScenarioMIP.IPSL.IPSL-CM6A-LR.ssp585.r1i1p1f1.Omon.mlotst.gn unaltered\n"
     ]
    },
    {
     "name": "stderr",
     "output_type": "stream",
     "text": [
      "/projects/GEOCLIM/LRGROUP/jbusecke/projects/aguadv_omz_busecke_2021/aguadv_omz_busecke_2021/cmip6_stash.py:262: UserWarning: No match found for ['NorCPM1', 'Omon', 'gr', 'r9i1p1f1', 'thetao'].\n",
      "  warnings.warn(f\"No match found for {match_elements}.\")\n"
     ]
    },
    {
     "name": "stdout",
     "output_type": "stream",
     "text": [
      "Manually Ingnored Variable: Passing ScenarioMIP.CCCma.CanESM5.ssp585.r13i1p2f1.Ofx.areacello.gn unaltered\n"
     ]
    },
    {
     "name": "stderr",
     "output_type": "stream",
     "text": [
      "/projects/GEOCLIM/LRGROUP/jbusecke/projects/aguadv_omz_busecke_2021/aguadv_omz_busecke_2021/cmip6_stash.py:262: UserWarning: No match found for ['NorCPM1', 'Omon', 'gn', 'r10i1p1f1', 'thetao'].\n",
      "  warnings.warn(f\"No match found for {match_elements}.\")\n",
      "/projects/GEOCLIM/LRGROUP/jbusecke/projects/aguadv_omz_busecke_2021/aguadv_omz_busecke_2021/cmip6_stash.py:262: UserWarning: No match found for ['NorCPM1', 'Omon', 'gr', 'r18i1p1f1', 'so'].\n",
      "  warnings.warn(f\"No match found for {match_elements}.\")\n"
     ]
    },
    {
     "name": "stdout",
     "output_type": "stream",
     "text": [
      "Manually Ingnored Variable: Passing ScenarioMIP.CCCma.CanESM5.ssp585.r8i1p1f1.Omon.mlotst.gn unaltered\n",
      "Manually Ingnored Variable: Passing CMIP.CCCma.CanESM5.historical.r27i1p2f1.Ofx.areacello.gn unaltered\n",
      "Manually Ingnored Variable: Passing CMIP.CCCma.CanESM5.historical.r26i1p2f1.Ofx.areacello.gn unaltered\n"
     ]
    },
    {
     "name": "stderr",
     "output_type": "stream",
     "text": [
      "/projects/GEOCLIM/LRGROUP/jbusecke/projects/aguadv_omz_busecke_2021/aguadv_omz_busecke_2021/cmip6_stash.py:262: UserWarning: No match found for ['NorCPM1', 'Omon', 'gr', 'r17i1p1f1', 'o2'].\n",
      "  warnings.warn(f\"No match found for {match_elements}.\")\n"
     ]
    },
    {
     "name": "stdout",
     "output_type": "stream",
     "text": [
      "Manually Ingnored Variable: Passing CMIP.MPI-M.MPI-ESM1-2-HR.historical.r6i1p1f1.Ofx.thkcello.gn unaltered\n",
      "Manually Ingnored Variable: Passing CMIP.MOHC.UKESM1-0-LL.historical.r3i1p1f2.Omon.thkcello.gn unaltered\n",
      "Manually Ingnored Variable: Passing CMIP.CCCma.CanESM5.historical.r12i1p1f1.Omon.mlotst.gn unaltered\n",
      "Manually Ingnored Variable: Passing CMIP.CCCma.CanESM5.piControl.r1i1p1f1.Omon.mlotst.gn unaltered\n",
      "Manually Ingnored Variable: Passing CMIP.MOHC.UKESM1-0-LL.historical.r18i1p1f2.Omon.mlotst.gn unaltered\n"
     ]
    },
    {
     "name": "stderr",
     "output_type": "stream",
     "text": [
      "/projects/GEOCLIM/LRGROUP/jbusecke/projects/aguadv_omz_busecke_2021/aguadv_omz_busecke_2021/cmip6_stash.py:262: UserWarning: No match found for ['NorCPM1', 'Omon', 'gn', 'r14i1p1f1', 'thetao'].\n",
      "  warnings.warn(f\"No match found for {match_elements}.\")\n",
      "/projects/GEOCLIM/LRGROUP/jbusecke/projects/aguadv_omz_busecke_2021/aguadv_omz_busecke_2021/cmip6_stash.py:262: UserWarning: No match found for ['NorCPM1', 'Omon', 'gn', 'r25i1p1f1', 'thetao'].\n",
      "  warnings.warn(f\"No match found for {match_elements}.\")\n"
     ]
    },
    {
     "name": "stdout",
     "output_type": "stream",
     "text": [
      "Manually Ingnored Variable: Passing CMIP.CCCma.CanESM5.historical.r38i1p2f1.Ofx.thkcello.gn unaltered\n",
      "Manually Ingnored Variable: Passing CMIP.CCCma.CanESM5-CanOE.historical.r2i1p2f1.Ofx.areacello.gn unaltered\n",
      "Manually Ingnored Variable: Passing CMIP.IPSL.IPSL-CM6A-LR.historical.r20i1p1f1.Omon.mlotst.gn unaltered\n",
      "Manually Ingnored Variable: Passing CMIP.MOHC.UKESM1-0-LL.historical.r5i1p1f3.Omon.thkcello.gn unaltered\n"
     ]
    },
    {
     "name": "stderr",
     "output_type": "stream",
     "text": [
      "/projects/GEOCLIM/LRGROUP/jbusecke/projects/aguadv_omz_busecke_2021/aguadv_omz_busecke_2021/cmip6_stash.py:262: UserWarning: No match found for ['NorCPM1', 'Omon', 'gr', 'r1i1p1f1', 'so'].\n",
      "  warnings.warn(f\"No match found for {match_elements}.\")\n",
      "/projects/GEOCLIM/LRGROUP/jbusecke/projects/aguadv_omz_busecke_2021/aguadv_omz_busecke_2021/cmip6_stash.py:262: UserWarning: No match found for ['NorCPM1', 'Omon', 'gn', 'r20i1p1f1', 'thetao'].\n",
      "  warnings.warn(f\"No match found for {match_elements}.\")\n",
      "/projects/GEOCLIM/LRGROUP/jbusecke/projects/aguadv_omz_busecke_2021/aguadv_omz_busecke_2021/cmip6_stash.py:262: UserWarning: No match found for ['NorCPM1', 'Omon', 'gn', 'r22i1p1f1', 'thetao'].\n",
      "  warnings.warn(f\"No match found for {match_elements}.\")\n",
      "/projects/GEOCLIM/LRGROUP/jbusecke/projects/aguadv_omz_busecke_2021/aguadv_omz_busecke_2021/cmip6_stash.py:262: UserWarning: No match found for ['NorCPM1', 'Omon', 'gr', 'r28i1p1f1', 'so'].\n",
      "  warnings.warn(f\"No match found for {match_elements}.\")\n"
     ]
    },
    {
     "name": "stdout",
     "output_type": "stream",
     "text": [
      "Manually Ingnored Variable: Passing ScenarioMIP.MPI-M.MPI-ESM1-2-LR.ssp585.r7i1p1f1.Omon.mlotst.gn unaltered\n",
      "Manually Ingnored Variable: Passing CMIP.CCCma.CanESM5.historical.r18i1p2f1.Ofx.thkcello.gn unaltered\n",
      "Manually Ingnored Variable: Passing CMIP.MRI.MRI-ESM2-0.historical.r1i1p1f1.Ofx.areacello.gn unaltered\n",
      "Manually Ingnored Variable: Passing CMIP.NCC.NorCPM1.historical.r25i1p1f1.Ofx.areacello.gn unaltered\n",
      "Manually Ingnored Variable: Passing CMIP.MPI-M.MPI-ESM1-2-HR.piControl.r1i1p1f1.Ofx.areacello.gn unaltered\n",
      "Manually Ingnored Variable: Passing ScenarioMIP.MOHC.UKESM1-0-LL.ssp585.r3i1p1f2.Omon.thkcello.gn unaltered\n",
      "Manually Ingnored Variable: Passing CMIP.CCCma.CanESM5.historical.r18i1p1f1.Omon.mlotst.gn unaltered\n",
      "Manually Ingnored Variable: Passing CMIP.MPI-M.MPI-ESM1-2-LR.historical.r2i1p1f1.Ofx.areacello.gn unaltered\n",
      "Manually Ingnored Variable: Passing CMIP.MPI-M.MPI-ESM1-2-HR.historical.r7i1p1f1.Ofx.areacello.gn unaltered\n",
      "Manually Ingnored Variable: Passing CMIP.MRI.MRI-ESM2-0.piControl.r1i1p1f1.Ofx.areacello.gn unaltered\n",
      "Manually Ingnored Variable: Passing CMIP.MPI-M.MPI-ESM1-2-HR.historical.r7i1p1f1.Omon.thkcello.gn unaltered\n"
     ]
    },
    {
     "name": "stderr",
     "output_type": "stream",
     "text": [
      "/projects/GEOCLIM/LRGROUP/jbusecke/projects/aguadv_omz_busecke_2021/aguadv_omz_busecke_2021/cmip6_stash.py:262: UserWarning: No match found for ['NorCPM1', 'Omon', 'gn', 'r20i1p1f1', 'so'].\n",
      "  warnings.warn(f\"No match found for {match_elements}.\")\n"
     ]
    },
    {
     "name": "stdout",
     "output_type": "stream",
     "text": [
      "Manually Ingnored Variable: Passing CMIP.CCCma.CanESM5.historical.r39i1p2f1.Ofx.thkcello.gn unaltered\n",
      "Manually Ingnored Variable: Passing CMIP.MRI.MRI-ESM2-0.historical.r3i1p1f1.Omon.mlotst.gr unaltered\n",
      "Manually Ingnored Variable: Passing CMIP.CNRM-CERFACS.CNRM-ESM2-1.historical.r6i1p1f2.Omon.mlotst.gn unaltered\n",
      "Manually Ingnored Variable: Passing CMIP.HAMMOZ-Consortium.MPI-ESM-1-2-HAM.piControl.r1i1p1f1.Ofx.areacello.gn unaltered\n"
     ]
    },
    {
     "name": "stderr",
     "output_type": "stream",
     "text": [
      "/projects/GEOCLIM/LRGROUP/jbusecke/projects/aguadv_omz_busecke_2021/aguadv_omz_busecke_2021/cmip6_stash.py:262: UserWarning: No match found for ['NorCPM1', 'Omon', 'gr', 'r28i1p1f1', 'thetao'].\n",
      "  warnings.warn(f\"No match found for {match_elements}.\")\n"
     ]
    },
    {
     "name": "stdout",
     "output_type": "stream",
     "text": [
      "Control run: Passing CMIP.NCC.NorESM2-MM.piControl.r1i1p1f1.Omon.thetao.gr unaltered\n"
     ]
    },
    {
     "name": "stderr",
     "output_type": "stream",
     "text": [
      "/projects/GEOCLIM/LRGROUP/jbusecke/projects/aguadv_omz_busecke_2021/aguadv_omz_busecke_2021/cmip6_stash.py:262: UserWarning: No match found for ['NorCPM1', 'Omon', 'gn', 'r8i1p1f1', 'so'].\n",
      "  warnings.warn(f\"No match found for {match_elements}.\")\n",
      "/projects/GEOCLIM/LRGROUP/jbusecke/projects/aguadv_omz_busecke_2021/aguadv_omz_busecke_2021/cmip6_stash.py:262: UserWarning: No match found for ['NorESM2-MM', 'Omon', 'gn', 'r1i1p1f1', 'thetao'].\n",
      "  warnings.warn(f\"No match found for {match_elements}.\")\n"
     ]
    },
    {
     "name": "stdout",
     "output_type": "stream",
     "text": [
      "Manually Ingnored Variable: Passing ScenarioMIP.MOHC.UKESM1-0-LL.ssp585.r2i1p1f2.Omon.mlotst.gn unaltered\n",
      "Manually Ingnored Variable: Passing ScenarioMIP.CCCma.CanESM5.ssp585.r18i1p2f1.Omon.mlotst.gn unaltered\n",
      "Manually Ingnored Variable: Passing CMIP.CCCma.CanESM5.historical.r9i1p2f1.Omon.mlotst.gn unaltered\n",
      "Manually Ingnored Variable: Passing ScenarioMIP.MPI-M.MPI-ESM1-2-LR.ssp585.r3i1p1f1.Omon.mlotst.gn unaltered\n",
      "Manually Ingnored Variable: Passing ScenarioMIP.IPSL.IPSL-CM6A-LR.ssp585.r4i1p1f1.Omon.mlotst.gn unaltered\n",
      "Manually Ingnored Variable: Passing CMIP.CCCma.CanESM5.historical.r8i1p2f1.Ofx.areacello.gn unaltered\n"
     ]
    },
    {
     "name": "stderr",
     "output_type": "stream",
     "text": [
      "/projects/GEOCLIM/LRGROUP/jbusecke/projects/aguadv_omz_busecke_2021/aguadv_omz_busecke_2021/cmip6_stash.py:262: UserWarning: No match found for ['NorCPM1', 'Omon', 'gn', 'r24i1p1f1', 'so'].\n",
      "  warnings.warn(f\"No match found for {match_elements}.\")\n"
     ]
    },
    {
     "name": "stdout",
     "output_type": "stream",
     "text": [
      "Manually Ingnored Variable: Passing CMIP.MPI-M.MPI-ESM1-2-HR.historical.r10i1p1f1.Omon.thkcello.gn unaltered\n",
      "Manually Ingnored Variable: Passing ScenarioMIP.IPSL.IPSL-CM6A-LR.ssp585.r2i1p1f1.Omon.mlotst.gn unaltered\n",
      "Manually Ingnored Variable: Passing CMIP.CSIRO.ACCESS-ESM1-5.historical.r8i1p1f1.Ofx.thkcello.gn unaltered\n",
      "Manually Ingnored Variable: Passing CMIP.NCC.NorESM2-LM.piControl.r1i1p1f1.Omon.thkcello.gn unaltered\n",
      "Manually Ingnored Variable: Passing CMIP.IPSL.IPSL-CM6A-LR.historical.r22i1p1f1.Omon.thkcello.gn unaltered\n",
      "Manually Ingnored Variable: Passing ScenarioMIP.CCCma.CanESM5.ssp585.r13i1p1f1.Ofx.thkcello.gn unaltered\n",
      "Manually Ingnored Variable: Passing ScenarioMIP.CNRM-CERFACS.CNRM-ESM2-1.ssp585.r2i1p1f2.Omon.thkcello.gn unaltered\n"
     ]
    },
    {
     "name": "stderr",
     "output_type": "stream",
     "text": [
      "/projects/GEOCLIM/LRGROUP/jbusecke/projects/aguadv_omz_busecke_2021/aguadv_omz_busecke_2021/cmip6_stash.py:262: UserWarning: No match found for ['NorCPM1', 'Omon', 'gr', 'r2i1p1f1', 'o2'].\n",
      "  warnings.warn(f\"No match found for {match_elements}.\")\n"
     ]
    },
    {
     "name": "stdout",
     "output_type": "stream",
     "text": [
      "Manually Ingnored Variable: Passing CMIP.CCCma.CanESM5.historical.r20i1p2f1.Omon.mlotst.gn unaltered\n",
      "Manually Ingnored Variable: Passing CMIP.IPSL.IPSL-CM6A-LR.historical.r8i1p1f1.Omon.mlotst.gn unaltered\n"
     ]
    },
    {
     "name": "stderr",
     "output_type": "stream",
     "text": [
      "/projects/GEOCLIM/LRGROUP/jbusecke/projects/aguadv_omz_busecke_2021/aguadv_omz_busecke_2021/cmip6_stash.py:262: UserWarning: No match found for ['NorCPM1', 'Omon', 'gr', 'r29i1p1f1', 'o2'].\n",
      "  warnings.warn(f\"No match found for {match_elements}.\")\n",
      "/projects/GEOCLIM/LRGROUP/jbusecke/projects/aguadv_omz_busecke_2021/aguadv_omz_busecke_2021/cmip6_stash.py:262: UserWarning: No match found for ['NorCPM1', 'Omon', 'gn', 'r29i1p1f1', 'thetao'].\n",
      "  warnings.warn(f\"No match found for {match_elements}.\")\n"
     ]
    },
    {
     "name": "stdout",
     "output_type": "stream",
     "text": [
      "Control run: Passing CMIP.NOAA-GFDL.GFDL-ESM4.piControl.r1i1p1f1.Omon.so.gr unaltered\n",
      "Manually Ingnored Variable: Passing ScenarioMIP.DWD.MPI-ESM1-2-HR.ssp585.r2i1p1f1.Ofx.areacello.gn unaltered\n",
      "Manually Ingnored Variable: Passing CMIP.CSIRO.ACCESS-ESM1-5.historical.r5i1p1f1.Ofx.thkcello.gn unaltered\n",
      "Manually Ingnored Variable: Passing CMIP.NCC.NorCPM1.historical.r19i1p1f1.Omon.mlotst.gn unaltered\n"
     ]
    },
    {
     "name": "stderr",
     "output_type": "stream",
     "text": [
      "/projects/GEOCLIM/LRGROUP/jbusecke/projects/aguadv_omz_busecke_2021/aguadv_omz_busecke_2021/cmip6_stash.py:262: UserWarning: No match found for ['CanESM5', 'Omon', 'gn', 'r35i1p2f1', 'so'].\n",
      "  warnings.warn(f\"No match found for {match_elements}.\")\n"
     ]
    },
    {
     "name": "stdout",
     "output_type": "stream",
     "text": [
      "Manually Ingnored Variable: Passing CMIP.MRI.MRI-ESM2-0.piControl.r1i2p1f1.Ofx.areacello.gn unaltered\n"
     ]
    },
    {
     "name": "stderr",
     "output_type": "stream",
     "text": [
      "/projects/GEOCLIM/LRGROUP/jbusecke/projects/aguadv_omz_busecke_2021/aguadv_omz_busecke_2021/cmip6_stash.py:262: UserWarning: No match found for ['NorCPM1', 'Omon', 'gr', 'r16i1p1f1', 'so'].\n",
      "  warnings.warn(f\"No match found for {match_elements}.\")\n"
     ]
    },
    {
     "name": "stdout",
     "output_type": "stream",
     "text": [
      "Manually Ingnored Variable: Passing CMIP.IPSL.IPSL-CM6A-LR.historical.r2i1p1f1.Omon.mlotst.gn unaltered\n"
     ]
    },
    {
     "name": "stderr",
     "output_type": "stream",
     "text": [
      "/projects/GEOCLIM/LRGROUP/jbusecke/projects/aguadv_omz_busecke_2021/aguadv_omz_busecke_2021/cmip6_stash.py:262: UserWarning: No match found for ['NorCPM1', 'Omon', 'gn', 'r28i1p1f1', 'so'].\n",
      "  warnings.warn(f\"No match found for {match_elements}.\")\n"
     ]
    },
    {
     "name": "stdout",
     "output_type": "stream",
     "text": [
      "Control run: Passing CMIP.CSIRO.ACCESS-ESM1-5.piControl.r1i1p1f1.Omon.agessc.gn unaltered\n",
      "Manually Ingnored Variable: Passing ScenarioMIP.CCCma.CanESM5.ssp585.r10i1p1f1.Omon.mlotst.gn unaltered\n",
      "Manually Ingnored Variable: Passing ScenarioMIP.CCCma.CanESM5.ssp585.r6i1p2f1.Ofx.thkcello.gn unaltered\n"
     ]
    },
    {
     "name": "stderr",
     "output_type": "stream",
     "text": [
      "/projects/GEOCLIM/LRGROUP/jbusecke/projects/aguadv_omz_busecke_2021/aguadv_omz_busecke_2021/cmip6_stash.py:262: UserWarning: No match found for ['MPI-ESM-1-2-HAM', 'Omon', 'gn', 'r2i1p1f1', 'agessc'].\n",
      "  warnings.warn(f\"No match found for {match_elements}.\")\n"
     ]
    },
    {
     "name": "stdout",
     "output_type": "stream",
     "text": [
      "Manually Ingnored Variable: Passing ScenarioMIP.CCCma.CanESM5.ssp585.r6i1p1f1.Omon.mlotst.gn unaltered\n",
      "Manually Ingnored Variable: Passing ScenarioMIP.CCCma.CanESM5.ssp585.r21i1p2f1.Ofx.areacello.gn unaltered\n",
      "Manually Ingnored Variable: Passing CMIP.NCC.NorCPM1.historical.r12i1p1f1.Omon.mlotst.gn unaltered\n",
      "Manually Ingnored Variable: Passing CMIP.IPSL.IPSL-CM6A-LR.historical.r19i1p1f1.Omon.thkcello.gn unaltered\n",
      "Manually Ingnored Variable: Passing ScenarioMIP.CCCma.CanESM5.ssp585.r24i1p1f1.Ofx.thkcello.gn unaltered\n",
      "Manually Ingnored Variable: Passing CMIP.CSIRO.ACCESS-ESM1-5.historical.r9i1p1f1.Omon.mlotst.gn unaltered\n"
     ]
    },
    {
     "name": "stderr",
     "output_type": "stream",
     "text": [
      "/projects/GEOCLIM/LRGROUP/jbusecke/projects/aguadv_omz_busecke_2021/aguadv_omz_busecke_2021/cmip6_stash.py:262: UserWarning: No match found for ['NorCPM1', 'Omon', 'gn', 'r5i1p1f1', 'thetao'].\n",
      "  warnings.warn(f\"No match found for {match_elements}.\")\n"
     ]
    },
    {
     "name": "stdout",
     "output_type": "stream",
     "text": [
      "Manually Ingnored Variable: Passing CMIP.CCCma.CanESM5.historical.r19i1p2f1.Ofx.thkcello.gn unaltered\n",
      "Manually Ingnored Variable: Passing CMIP.MPI-M.MPI-ESM1-2-LR.historical.r5i1p1f1.Omon.mlotst.gn unaltered\n",
      "Manually Ingnored Variable: Passing ScenarioMIP.IPSL.IPSL-CM6A-LR.ssp585.r4i1p1f1.Ofx.areacello.gn unaltered\n"
     ]
    },
    {
     "name": "stderr",
     "output_type": "stream",
     "text": [
      "/projects/GEOCLIM/LRGROUP/jbusecke/projects/aguadv_omz_busecke_2021/aguadv_omz_busecke_2021/cmip6_stash.py:262: UserWarning: No match found for ['NorCPM1', 'Omon', 'gr', 'r24i1p1f1', 'o2'].\n",
      "  warnings.warn(f\"No match found for {match_elements}.\")\n"
     ]
    },
    {
     "name": "stdout",
     "output_type": "stream",
     "text": [
      "Manually Ingnored Variable: Passing CMIP.IPSL.IPSL-CM6A-LR.historical.r5i1p1f1.Omon.mlotst.gn unaltered\n",
      "Manually Ingnored Variable: Passing ScenarioMIP.CCCma.CanESM5-CanOE.ssp585.r1i1p2f1.Omon.mlotst.gn unaltered\n",
      "Manually Ingnored Variable: Passing CMIP.MPI-M.MPI-ESM1-2-HR.piControl.r1i1p1f1.Omon.mlotst.gn unaltered\n",
      "Manually Ingnored Variable: Passing CMIP.MPI-M.MPI-ESM1-2-LR.historical.r1i1p1f1.Omon.mlotst.gn unaltered\n",
      "Manually Ingnored Variable: Passing CMIP.IPSL.IPSL-CM6A-LR.historical.r16i1p1f1.Ofx.areacello.gn unaltered\n",
      "Manually Ingnored Variable: Passing CMIP.CCCma.CanESM5.historical.r26i1p2f1.Ofx.thkcello.gn unaltered\n",
      "Manually Ingnored Variable: Passing ScenarioMIP.CCCma.CanESM5.ssp585.r9i1p1f1.Ofx.areacello.gn unaltered\n",
      "Manually Ingnored Variable: Passing CMIP.MIROC.MIROC-ES2L.historical.r4i1p1f2.Ofx.areacello.gn unaltered\n",
      "Manually Ingnored Variable: Passing ScenarioMIP.MPI-M.MPI-ESM1-2-LR.ssp585.r9i1p1f1.Omon.mlotst.gn unaltered\n",
      "Manually Ingnored Variable: Passing CMIP.MPI-M.MPI-ESM1-2-HR.historical.r8i1p1f1.Omon.mlotst.gn unaltered\n",
      "Manually Ingnored Variable: Passing ScenarioMIP.MPI-M.MPI-ESM1-2-LR.ssp585.r5i1p1f1.Omon.thkcello.gn unaltered\n",
      "Manually Ingnored Variable: Passing CMIP.MRI.MRI-ESM2-0.historical.r1i2p1f1.Omon.mlotst.gr unaltered\n",
      "Manually Ingnored Variable: Passing CMIP.NCC.NorCPM1.piControl.r1i1p1f1.Omon.mlotst.gn unaltered\n",
      "Manually Ingnored Variable: Passing CMIP.CCCma.CanESM5.historical.r24i1p2f1.Ofx.areacello.gn unaltered\n",
      "Manually Ingnored Variable: Passing ScenarioMIP.CCCma.CanESM5.ssp585.r23i1p1f1.Ofx.thkcello.gn unaltered\n"
     ]
    },
    {
     "name": "stderr",
     "output_type": "stream",
     "text": [
      "/projects/GEOCLIM/LRGROUP/jbusecke/projects/aguadv_omz_busecke_2021/aguadv_omz_busecke_2021/cmip6_stash.py:262: UserWarning: No match found for ['CanESM5', 'Omon', 'gn', 'r22i1p1f1', 'agessc'].\n",
      "  warnings.warn(f\"No match found for {match_elements}.\")\n",
      "/projects/GEOCLIM/LRGROUP/jbusecke/projects/aguadv_omz_busecke_2021/aguadv_omz_busecke_2021/cmip6_stash.py:262: UserWarning: No match found for ['CanESM5', 'Omon', 'gn', 'r34i1p2f1', 'thetao'].\n",
      "  warnings.warn(f\"No match found for {match_elements}.\")\n",
      "/projects/GEOCLIM/LRGROUP/jbusecke/projects/aguadv_omz_busecke_2021/aguadv_omz_busecke_2021/cmip6_stash.py:262: UserWarning: No match found for ['CanESM5', 'Omon', 'gn', 'r21i1p1f1', 'thetao'].\n",
      "  warnings.warn(f\"No match found for {match_elements}.\")\n",
      "/projects/GEOCLIM/LRGROUP/jbusecke/projects/aguadv_omz_busecke_2021/aguadv_omz_busecke_2021/cmip6_stash.py:262: UserWarning: No match found for ['CanESM5', 'Omon', 'gn', 'r38i1p2f1', 'thetao'].\n",
      "  warnings.warn(f\"No match found for {match_elements}.\")\n"
     ]
    },
    {
     "name": "stdout",
     "output_type": "stream",
     "text": [
      "Manually Ingnored Variable: Passing CMIP.NOAA-GFDL.GFDL-ESM4.historical.r1i1p1f1.Omon.mlotst.gr unaltered\n",
      "Manually Ingnored Variable: Passing ScenarioMIP.CNRM-CERFACS.CNRM-ESM2-1.ssp585.r1i1p1f2.Ofx.areacello.gn unaltered\n",
      "Manually Ingnored Variable: Passing ScenarioMIP.MPI-M.MPI-ESM1-2-LR.ssp585.r4i1p1f1.Ofx.thkcello.gn unaltered\n",
      "Control run: Passing CMIP.CNRM-CERFACS.CNRM-ESM2-1.piControl.r1i1p1f2.Omon.thetao.gn unaltered\n"
     ]
    },
    {
     "name": "stderr",
     "output_type": "stream",
     "text": [
      "/projects/GEOCLIM/LRGROUP/jbusecke/projects/aguadv_omz_busecke_2021/aguadv_omz_busecke_2021/cmip6_stash.py:262: UserWarning: No match found for ['NorCPM1', 'Omon', 'gr', 'r26i1p1f1', 'o2'].\n",
      "  warnings.warn(f\"No match found for {match_elements}.\")\n",
      "/projects/GEOCLIM/LRGROUP/jbusecke/projects/aguadv_omz_busecke_2021/aguadv_omz_busecke_2021/cmip6_stash.py:262: UserWarning: No match found for ['NorCPM1', 'Omon', 'gr', 'r16i1p1f1', 'o2'].\n",
      "  warnings.warn(f\"No match found for {match_elements}.\")\n",
      "/projects/GEOCLIM/LRGROUP/jbusecke/projects/aguadv_omz_busecke_2021/aguadv_omz_busecke_2021/cmip6_stash.py:262: UserWarning: No match found for ['NorCPM1', 'Omon', 'gr', 'r7i1p1f1', 'o2'].\n",
      "  warnings.warn(f\"No match found for {match_elements}.\")\n"
     ]
    },
    {
     "name": "stdout",
     "output_type": "stream",
     "text": [
      "Control run: Passing CMIP.MPI-M.MPI-ESM1-2-LR.piControl.r2i1p1f1.Omon.agessc.gn unaltered\n",
      "Manually Ingnored Variable: Passing CMIP.HAMMOZ-Consortium.MPI-ESM-1-2-HAM.historical.r2i1p1f1.Omon.mlotst.gn unaltered\n",
      "Manually Ingnored Variable: Passing ScenarioMIP.CCCma.CanESM5.ssp585.r19i1p2f1.Ofx.thkcello.gn unaltered\n",
      "Manually Ingnored Variable: Passing CMIP.NCC.NorESM2-LM.piControl.r1i1p1f1.Omon.mlotst.gn unaltered\n",
      "Manually Ingnored Variable: Passing CMIP.MOHC.UKESM1-0-LL.historical.r17i1p1f2.Omon.mlotst.gn unaltered\n",
      "Manually Ingnored Variable: Passing CMIP.CCCma.CanESM5.historical.r16i1p2f1.Omon.mlotst.gn unaltered\n"
     ]
    },
    {
     "name": "stderr",
     "output_type": "stream",
     "text": [
      "/projects/GEOCLIM/LRGROUP/jbusecke/projects/aguadv_omz_busecke_2021/aguadv_omz_busecke_2021/cmip6_stash.py:262: UserWarning: No match found for ['NorCPM1', 'Omon', 'gr', 'r14i1p1f1', 'so'].\n",
      "  warnings.warn(f\"No match found for {match_elements}.\")\n"
     ]
    },
    {
     "name": "stdout",
     "output_type": "stream",
     "text": [
      "Manually Ingnored Variable: Passing ScenarioMIP.CCCma.CanESM5.ssp585.r20i1p1f1.Ofx.areacello.gn unaltered\n",
      "Manually Ingnored Variable: Passing CMIP.MPI-M.MPI-ESM1-2-HR.historical.r1i1p1f1.Omon.thkcello.gn unaltered\n",
      "Manually Ingnored Variable: Passing CMIP.MPI-M.MPI-ESM1-2-LR.historical.r3i1p1f1.Ofx.thkcello.gn unaltered\n"
     ]
    },
    {
     "name": "stderr",
     "output_type": "stream",
     "text": [
      "/projects/GEOCLIM/LRGROUP/jbusecke/projects/aguadv_omz_busecke_2021/aguadv_omz_busecke_2021/cmip6_stash.py:262: UserWarning: No match found for ['NorCPM1', 'Omon', 'gr', 'r20i1p1f1', 'thetao'].\n",
      "  warnings.warn(f\"No match found for {match_elements}.\")\n",
      "/projects/GEOCLIM/LRGROUP/jbusecke/projects/aguadv_omz_busecke_2021/aguadv_omz_busecke_2021/cmip6_stash.py:262: UserWarning: No match found for ['NorCPM1', 'Omon', 'gn', 'r27i1p1f1', 'thetao'].\n",
      "  warnings.warn(f\"No match found for {match_elements}.\")\n"
     ]
    },
    {
     "name": "stdout",
     "output_type": "stream",
     "text": [
      "Control run: Passing CMIP.CNRM-CERFACS.CNRM-ESM2-1.piControl.r1i1p1f2.Omon.so.gn unaltered\n",
      "Manually Ingnored Variable: Passing CMIP.CCCma.CanESM5.historical.r3i1p2f1.Omon.mlotst.gn unaltered\n",
      "Manually Ingnored Variable: Passing CMIP.MPI-M.MPI-ESM1-2-HR.historical.r4i1p1f1.Omon.thkcello.gn unaltered\n",
      "Manually Ingnored Variable: Passing ScenarioMIP.CCCma.CanESM5.ssp585.r10i1p1f1.Ofx.thkcello.gn unaltered\n",
      "Manually Ingnored Variable: Passing CMIP.CCCma.CanESM5.historical.r16i1p2f1.Ofx.thkcello.gn unaltered\n",
      "Manually Ingnored Variable: Passing CMIP.CCCma.CanESM5.historical.r10i1p2f1.Ofx.thkcello.gn unaltered\n",
      "Manually Ingnored Variable: Passing CMIP.CCCma.CanESM5.historical.r18i1p1f1.Ofx.thkcello.gn unaltered\n",
      "Manually Ingnored Variable: Passing CMIP.MOHC.UKESM1-0-LL.historical.r4i1p1f2.Omon.mlotst.gn unaltered\n",
      "Manually Ingnored Variable: Passing ScenarioMIP.CCCma.CanESM5.ssp585.r5i1p2f1.Ofx.thkcello.gn unaltered\n"
     ]
    },
    {
     "name": "stderr",
     "output_type": "stream",
     "text": [
      "/projects/GEOCLIM/LRGROUP/jbusecke/projects/aguadv_omz_busecke_2021/aguadv_omz_busecke_2021/cmip6_stash.py:262: UserWarning: No match found for ['NorCPM1', 'Omon', 'gn', 'r30i1p1f1', 'so'].\n",
      "  warnings.warn(f\"No match found for {match_elements}.\")\n"
     ]
    },
    {
     "name": "stdout",
     "output_type": "stream",
     "text": [
      "Control run: Passing CMIP.MRI.MRI-ESM2-0.piControl.r1i2p1f1.Omon.o2.gn unaltered\n",
      "Control run: Passing CMIP.NOAA-GFDL.GFDL-CM4.piControl.r1i1p1f1.Omon.thetao.gn unaltered\n",
      "Manually Ingnored Variable: Passing CMIP.CCCma.CanESM5.historical.r3i1p2f1.Ofx.areacello.gn unaltered\n",
      "Manually Ingnored Variable: Passing CMIP.CCCma.CanESM5.piControl.r1i1p2f1.Ofx.areacello.gn unaltered\n",
      "Manually Ingnored Variable: Passing CMIP.MOHC.UKESM1-0-LL.historical.r8i1p1f2.Omon.mlotst.gn unaltered\n",
      "Manually Ingnored Variable: Passing CMIP.CCCma.CanESM5.historical.r2i1p1f1.Omon.mlotst.gn unaltered\n",
      "Manually Ingnored Variable: Passing ScenarioMIP.CCCma.CanESM5.ssp585.r25i1p1f1.Omon.mlotst.gn unaltered\n",
      "Manually Ingnored Variable: Passing CMIP.IPSL.IPSL-CM6A-LR.historical.r13i1p1f1.Omon.thkcello.gn unaltered\n",
      "Manually Ingnored Variable: Passing ScenarioMIP.CCCma.CanESM5.ssp585.r14i1p2f1.Ofx.thkcello.gn unaltered\n",
      "Manually Ingnored Variable: Passing ScenarioMIP.MPI-M.MPI-ESM1-2-LR.ssp585.r4i1p1f1.Ofx.areacello.gn unaltered\n",
      "Manually Ingnored Variable: Passing CMIP.CCCma.CanESM5.historical.r8i1p2f1.Ofx.thkcello.gn unaltered\n",
      "Manually Ingnored Variable: Passing CMIP.IPSL.IPSL-CM6A-LR.historical.r17i1p1f1.Ofx.areacello.gn unaltered\n",
      "Manually Ingnored Variable: Passing CMIP.CCCma.CanESM5.historical.r15i1p2f1.Ofx.thkcello.gn unaltered\n",
      "Manually Ingnored Variable: Passing CMIP.NCC.NorCPM1.historical.r4i1p1f1.Ofx.areacello.gn unaltered\n",
      "Manually Ingnored Variable: Passing ScenarioMIP.MPI-M.MPI-ESM1-2-LR.ssp585.r5i1p1f1.Ofx.thkcello.gn unaltered\n",
      "Manually Ingnored Variable: Passing CMIP.IPSL.IPSL-CM6A-LR.piControl.r1i2p1f1.Ofx.areacello.gn unaltered\n",
      "Manually Ingnored Variable: Passing CMIP.NCC.NorCPM1.historical.r12i1p1f1.Ofx.areacello.gn unaltered\n",
      "Manually Ingnored Variable: Passing ScenarioMIP.CCCma.CanESM5.ssp585.r7i1p1f1.Ofx.thkcello.gn unaltered\n",
      "Manually Ingnored Variable: Passing CMIP.CCCma.CanESM5.historical.r15i1p1f1.Ofx.thkcello.gn unaltered\n",
      "Manually Ingnored Variable: Passing ScenarioMIP.IPSL.IPSL-CM6A-LR.ssp585.r3i1p1f1.Omon.thkcello.gn unaltered\n"
     ]
    },
    {
     "name": "stderr",
     "output_type": "stream",
     "text": [
      "/projects/GEOCLIM/LRGROUP/jbusecke/projects/aguadv_omz_busecke_2021/aguadv_omz_busecke_2021/cmip6_stash.py:262: UserWarning: No match found for ['NorESM2-LM', 'Omon', 'gn', 'r1i1p1f1', 'thetao'].\n",
      "  warnings.warn(f\"No match found for {match_elements}.\")\n"
     ]
    },
    {
     "name": "stdout",
     "output_type": "stream",
     "text": [
      "Control run: Passing CMIP.CCCma.CanESM5.piControl.r1i1p2f1.Omon.o2.gn unaltered\n",
      "Control run: Passing CMIP.MIROC.MIROC-ES2L.piControl.r1i1p1f2.Omon.agessc.gn unaltered\n",
      "Manually Ingnored Variable: Passing ScenarioMIP.CCCma.CanESM5-CanOE.ssp585.r2i1p2f1.Omon.mlotst.gn unaltered\n",
      "Manually Ingnored Variable: Passing CMIP.HAMMOZ-Consortium.MPI-ESM-1-2-HAM.historical.r2i1p1f1.Ofx.areacello.gn unaltered\n",
      "Manually Ingnored Variable: Passing CMIP.CCCma.CanESM5.historical.r13i1p1f1.Omon.mlotst.gn unaltered\n",
      "Manually Ingnored Variable: Passing CMIP.IPSL.IPSL-CM6A-LR.historical.r25i1p1f1.Omon.thkcello.gn unaltered\n",
      "Manually Ingnored Variable: Passing CMIP.CCCma.CanESM5.historical.r4i1p1f1.Ofx.areacello.gn unaltered\n",
      "Manually Ingnored Variable: Passing CMIP.MPI-M.MPI-ESM1-2-LR.historical.r9i1p1f1.Omon.thkcello.gn unaltered\n",
      "Manually Ingnored Variable: Passing CMIP.CCCma.CanESM5.historical.r6i1p1f1.Omon.mlotst.gn unaltered\n",
      "Manually Ingnored Variable: Passing CMIP.IPSL.IPSL-CM6A-LR.historical.r2i1p1f1.Ofx.areacello.gn unaltered\n",
      "Manually Ingnored Variable: Passing ScenarioMIP.CCCma.CanESM5.ssp585.r5i1p1f1.Omon.mlotst.gn unaltered\n",
      "Manually Ingnored Variable: Passing CMIP.CCCma.CanESM5.historical.r2i1p1f1.Ofx.thkcello.gn unaltered\n",
      "Manually Ingnored Variable: Passing CMIP.CCCma.CanESM5.historical.r21i1p1f1.Ofx.areacello.gn unaltered\n"
     ]
    },
    {
     "name": "stderr",
     "output_type": "stream",
     "text": [
      "/projects/GEOCLIM/LRGROUP/jbusecke/projects/aguadv_omz_busecke_2021/aguadv_omz_busecke_2021/cmip6_stash.py:262: UserWarning: No match found for ['MPI-ESM1-2-HR', 'Omon', 'gn', 'r4i1p1f1', 'agessc'].\n",
      "  warnings.warn(f\"No match found for {match_elements}.\")\n"
     ]
    },
    {
     "name": "stdout",
     "output_type": "stream",
     "text": [
      "Manually Ingnored Variable: Passing CMIP.CSIRO.ACCESS-ESM1-5.historical.r8i1p1f1.Omon.mlotst.gn unaltered\n",
      "Manually Ingnored Variable: Passing CMIP.CCCma.CanESM5.historical.r27i1p2f1.Ofx.thkcello.gn unaltered\n"
     ]
    },
    {
     "name": "stderr",
     "output_type": "stream",
     "text": [
      "/projects/GEOCLIM/LRGROUP/jbusecke/projects/aguadv_omz_busecke_2021/aguadv_omz_busecke_2021/cmip6_stash.py:262: UserWarning: No match found for ['NorESM2-MM', 'Omon', 'gn', 'r1i1p1f1', 'agessc'].\n",
      "  warnings.warn(f\"No match found for {match_elements}.\")\n"
     ]
    },
    {
     "name": "stdout",
     "output_type": "stream",
     "text": [
      "Manually Ingnored Variable: Passing CMIP.NCC.NorCPM1.historical.r27i1p1f1.Ofx.areacello.gn unaltered\n"
     ]
    },
    {
     "name": "stderr",
     "output_type": "stream",
     "text": [
      "/projects/GEOCLIM/LRGROUP/jbusecke/projects/aguadv_omz_busecke_2021/aguadv_omz_busecke_2021/cmip6_stash.py:262: UserWarning: No match found for ['NorCPM1', 'Omon', 'gn', 'r17i1p1f1', 'so'].\n",
      "  warnings.warn(f\"No match found for {match_elements}.\")\n"
     ]
    },
    {
     "name": "stdout",
     "output_type": "stream",
     "text": [
      "Manually Ingnored Variable: Passing CMIP.CCCma.CanESM5.historical.r10i1p1f1.Ofx.thkcello.gn unaltered\n",
      "Manually Ingnored Variable: Passing CMIP.CCCma.CanESM5.historical.r9i1p2f1.Ofx.areacello.gn unaltered\n",
      "Manually Ingnored Variable: Passing CMIP.CCCma.CanESM5.historical.r25i1p2f1.Omon.mlotst.gn unaltered\n",
      "Manually Ingnored Variable: Passing CMIP.HAMMOZ-Consortium.MPI-ESM-1-2-HAM.historical.r2i1p1f1.Ofx.thkcello.gn unaltered\n",
      "Manually Ingnored Variable: Passing CMIP.CCCma.CanESM5.historical.r26i1p2f1.Omon.mlotst.gn unaltered\n"
     ]
    },
    {
     "name": "stderr",
     "output_type": "stream",
     "text": [
      "/projects/GEOCLIM/LRGROUP/jbusecke/projects/aguadv_omz_busecke_2021/aguadv_omz_busecke_2021/cmip6_stash.py:262: UserWarning: No match found for ['NorCPM1', 'Omon', 'gn', 'r18i1p1f1', 'so'].\n",
      "  warnings.warn(f\"No match found for {match_elements}.\")\n"
     ]
    },
    {
     "name": "stdout",
     "output_type": "stream",
     "text": [
      "Manually Ingnored Variable: Passing CMIP.MPI-M.MPI-ESM1-2-HR.historical.r3i1p1f1.Omon.thkcello.gn unaltered\n",
      "Manually Ingnored Variable: Passing CMIP.CCCma.CanESM5.historical.r31i1p2f1.Omon.mlotst.gn unaltered\n",
      "Control run: Passing CMIP.NCC.NorESM2-MM.piControl.r1i1p1f1.Omon.agessc.gn unaltered\n",
      "Manually Ingnored Variable: Passing CMIP.CCCma.CanESM5.piControl.r1i1p2f1.Omon.mlotst.gn unaltered\n",
      "Manually Ingnored Variable: Passing ScenarioMIP.CCCma.CanESM5.ssp585.r23i1p2f1.Ofx.areacello.gn unaltered\n",
      "Manually Ingnored Variable: Passing CMIP.CCCma.CanESM5.historical.r22i1p2f1.Omon.mlotst.gn unaltered\n",
      "Manually Ingnored Variable: Passing ScenarioMIP.CCCma.CanESM5.ssp585.r24i1p2f1.Ofx.areacello.gn unaltered\n",
      "Control run: Passing CMIP.NOAA-GFDL.GFDL-CM4.piControl.r1i1p1f1.Omon.so.gn unaltered\n",
      "Control run: Passing CMIP.NCC.NorESM1-F.piControl.r1i1p1f1.Omon.o2.gn unaltered\n",
      "Manually Ingnored Variable: Passing ScenarioMIP.CCCma.CanESM5.ssp585.r8i1p2f1.Omon.mlotst.gn unaltered\n",
      "Manually Ingnored Variable: Passing CMIP.MPI-M.MPI-ESM1-2-LR.piControl.r1i1p1f1.Omon.mlotst.gn unaltered\n",
      "Manually Ingnored Variable: Passing CMIP.CCCma.CanESM5.historical.r7i1p1f1.Ofx.thkcello.gn unaltered\n"
     ]
    },
    {
     "name": "stderr",
     "output_type": "stream",
     "text": [
      "/projects/GEOCLIM/LRGROUP/jbusecke/projects/aguadv_omz_busecke_2021/aguadv_omz_busecke_2021/cmip6_stash.py:262: UserWarning: No match found for ['CanESM5', 'Omon', 'gn', 'r25i1p1f1', 'so'].\n",
      "  warnings.warn(f\"No match found for {match_elements}.\")\n",
      "/projects/GEOCLIM/LRGROUP/jbusecke/projects/aguadv_omz_busecke_2021/aguadv_omz_busecke_2021/cmip6_stash.py:262: UserWarning: No match found for ['IPSL-CM6A-LR', 'Omon', 'gn', 'r32i1p1f1', 'o2'].\n",
      "  warnings.warn(f\"No match found for {match_elements}.\")\n"
     ]
    },
    {
     "name": "stdout",
     "output_type": "stream",
     "text": [
      "Manually Ingnored Variable: Passing CMIP.MRI.MRI-ESM2-0.historical.r4i1p1f1.Ofx.areacello.gn unaltered\n",
      "Manually Ingnored Variable: Passing CMIP.NCC.NorESM2-LM.historical.r1i1p1f1.Omon.thkcello.gn unaltered\n",
      "Manually Ingnored Variable: Passing CMIP.MPI-M.MPI-ESM1-2-HR.historical.r3i1p1f1.Omon.mlotst.gn unaltered\n",
      "Control run: Passing CMIP.MOHC.UKESM1-0-LL.piControl.r1i1p1f2.Omon.thetao.gn unaltered\n",
      "Manually Ingnored Variable: Passing ScenarioMIP.CCCma.CanESM5.ssp585.r5i1p2f1.Omon.mlotst.gn unaltered\n",
      "Manually Ingnored Variable: Passing ScenarioMIP.CCCma.CanESM5.ssp585.r6i1p2f1.Ofx.areacello.gn unaltered\n",
      "Control run: Passing CMIP.NCC.NorESM2-MM.piControl.r1i1p1f1.Omon.so.gr unaltered\n",
      "Manually Ingnored Variable: Passing CMIP.MPI-M.MPI-ESM1-2-LR.piControl.r2i1p1f1.Omon.mlotst.gn unaltered\n",
      "Manually Ingnored Variable: Passing CMIP.NCC.NorCPM1.piControl.r2i1p1f1.Ofx.areacello.gn unaltered\n",
      "Manually Ingnored Variable: Passing CMIP.CCCma.CanESM5.historical.r29i1p2f1.Omon.mlotst.gn unaltered\n",
      "Manually Ingnored Variable: Passing CMIP.IPSL.IPSL-CM6A-LR.historical.r23i1p1f1.Ofx.areacello.gn unaltered\n"
     ]
    },
    {
     "name": "stderr",
     "output_type": "stream",
     "text": [
      "/projects/GEOCLIM/LRGROUP/jbusecke/projects/aguadv_omz_busecke_2021/aguadv_omz_busecke_2021/cmip6_stash.py:262: UserWarning: No match found for ['NorCPM1', 'Omon', 'gr', 'r25i1p1f1', 'so'].\n",
      "  warnings.warn(f\"No match found for {match_elements}.\")\n",
      "/projects/GEOCLIM/LRGROUP/jbusecke/projects/aguadv_omz_busecke_2021/aguadv_omz_busecke_2021/cmip6_stash.py:262: UserWarning: No match found for ['NorCPM1', 'Omon', 'gr', 'r23i1p1f1', 'so'].\n",
      "  warnings.warn(f\"No match found for {match_elements}.\")\n"
     ]
    },
    {
     "name": "stdout",
     "output_type": "stream",
     "text": [
      "Manually Ingnored Variable: Passing CMIP.CCCma.CanESM5.historical.r17i1p2f1.Ofx.areacello.gn unaltered\n",
      "Manually Ingnored Variable: Passing CMIP.MPI-M.MPI-ESM1-2-HR.historical.r9i1p1f1.Ofx.areacello.gn unaltered\n",
      "Manually Ingnored Variable: Passing CMIP.IPSL.IPSL-CM6A-LR.piControl.r1i1p1f1.Ofx.areacello.gn unaltered\n",
      "Manually Ingnored Variable: Passing ScenarioMIP.MRI.MRI-ESM2-0.ssp585.r1i1p1f1.Ofx.areacello.gn unaltered\n",
      "Manually Ingnored Variable: Passing CMIP.IPSL.IPSL-CM6A-LR.historical.r13i1p1f1.Ofx.areacello.gn unaltered\n",
      "Control run: Passing CMIP.NCC.NorESM2-LM.piControl.r1i1p1f1.Omon.agessc.gr unaltered\n",
      "Manually Ingnored Variable: Passing CMIP.CSIRO.ACCESS-ESM1-5.piControl.r1i1p1f1.Ofx.areacello.gn unaltered\n"
     ]
    },
    {
     "name": "stderr",
     "output_type": "stream",
     "text": [
      "/projects/GEOCLIM/LRGROUP/jbusecke/projects/aguadv_omz_busecke_2021/aguadv_omz_busecke_2021/cmip6_stash.py:262: UserWarning: No match found for ['MPI-ESM1-2-HR', 'Omon', 'gn', 'r5i1p1f1', 'so'].\n",
      "  warnings.warn(f\"No match found for {match_elements}.\")\n",
      "/projects/GEOCLIM/LRGROUP/jbusecke/projects/aguadv_omz_busecke_2021/aguadv_omz_busecke_2021/cmip6_stash.py:262: UserWarning: No match found for ['CanESM5', 'Omon', 'gn', 'r27i1p2f1', 'thetao'].\n",
      "  warnings.warn(f\"No match found for {match_elements}.\")\n"
     ]
    },
    {
     "name": "stdout",
     "output_type": "stream",
     "text": [
      "Control run: Passing CMIP.MRI.MRI-ESM2-0.piControl.r1i2p1f1.Omon.agessc.gr unaltered\n",
      "Manually Ingnored Variable: Passing ScenarioMIP.CNRM-CERFACS.CNRM-ESM2-1.ssp585.r2i1p1f2.Ofx.areacello.gn unaltered\n",
      "Manually Ingnored Variable: Passing ScenarioMIP.NOAA-GFDL.GFDL-ESM4.ssp585.r1i1p1f1.Omon.mlotst.gn unaltered\n",
      "Manually Ingnored Variable: Passing CMIP.CCCma.CanESM5.historical.r14i1p1f1.Ofx.areacello.gn unaltered\n",
      "Manually Ingnored Variable: Passing ScenarioMIP.MPI-M.MPI-ESM1-2-LR.ssp585.r6i1p1f1.Omon.thkcello.gn unaltered\n",
      "Manually Ingnored Variable: Passing ScenarioMIP.CCCma.CanESM5.ssp585.r4i1p1f1.Ofx.thkcello.gn unaltered\n",
      "Control run: Passing CMIP.MPI-M.MPI-ESM1-2-LR.piControl.r1i1p1f1.Omon.so.gn unaltered\n",
      "Manually Ingnored Variable: Passing CMIP.CCCma.CanESM5.historical.r5i1p1f1.Ofx.areacello.gn unaltered\n",
      "Control run: Passing CMIP.CCCma.CanESM5.piControl.r1i1p1f1.Omon.agessc.gn unaltered\n",
      "Manually Ingnored Variable: Passing CMIP.MPI-M.MPI-ESM1-2-LR.historical.r1i1p1f1.Ofx.areacello.gn unaltered\n",
      "Manually Ingnored Variable: Passing CMIP.NCC.NorCPM1.historical.r21i1p1f1.Omon.mlotst.gn unaltered\n",
      "Manually Ingnored Variable: Passing CMIP.MPI-M.MPI-ESM1-2-HR.historical.r3i1p1f1.Ofx.thkcello.gn unaltered\n",
      "Manually Ingnored Variable: Passing CMIP.CCCma.CanESM5.historical.r13i1p1f1.Ofx.thkcello.gn unaltered\n",
      "Manually Ingnored Variable: Passing CMIP.MOHC.UKESM1-0-LL.historical.r11i1p1f2.Omon.thkcello.gn unaltered\n",
      "Manually Ingnored Variable: Passing ScenarioMIP.CSIRO.ACCESS-ESM1-5.ssp585.r2i1p1f1.Omon.mlotst.gn unaltered\n",
      "Manually Ingnored Variable: Passing CMIP.CCCma.CanESM5.historical.r11i1p2f1.Ofx.areacello.gn unaltered\n",
      "Manually Ingnored Variable: Passing CMIP.CNRM-CERFACS.CNRM-ESM2-1.historical.r10i1p1f2.Omon.thkcello.gn unaltered\n"
     ]
    },
    {
     "name": "stderr",
     "output_type": "stream",
     "text": [
      "/projects/GEOCLIM/LRGROUP/jbusecke/projects/aguadv_omz_busecke_2021/aguadv_omz_busecke_2021/cmip6_stash.py:262: UserWarning: No match found for ['MPI-ESM1-2-HR', 'Omon', 'gn', 'r10i1p1f1', 'o2'].\n",
      "  warnings.warn(f\"No match found for {match_elements}.\")\n",
      "/projects/GEOCLIM/LRGROUP/jbusecke/projects/aguadv_omz_busecke_2021/aguadv_omz_busecke_2021/cmip6_stash.py:262: UserWarning: No match found for ['MPI-ESM1-2-HR', 'Omon', 'gn', 'r3i1p1f1', 'agessc'].\n",
      "  warnings.warn(f\"No match found for {match_elements}.\")\n",
      "/projects/GEOCLIM/LRGROUP/jbusecke/projects/aguadv_omz_busecke_2021/aguadv_omz_busecke_2021/cmip6_stash.py:262: UserWarning: No match found for ['CanESM5', 'Omon', 'gn', 'r33i1p2f1', 'thetao'].\n",
      "  warnings.warn(f\"No match found for {match_elements}.\")\n"
     ]
    },
    {
     "name": "stdout",
     "output_type": "stream",
     "text": [
      "Manually Ingnored Variable: Passing ScenarioMIP.MRI.MRI-ESM2-0.ssp585.r1i2p1f1.Omon.mlotst.gr unaltered\n",
      "Manually Ingnored Variable: Passing CMIP.CCCma.CanESM5.historical.r33i1p2f1.Ofx.areacello.gn unaltered\n",
      "Manually Ingnored Variable: Passing CMIP.MRI.MRI-ESM2-0.historical.r3i1p1f1.Ofx.areacello.gn unaltered\n",
      "Manually Ingnored Variable: Passing CMIP.IPSL.IPSL-CM6A-LR.historical.r32i1p1f1.Omon.mlotst.gn unaltered\n",
      "Manually Ingnored Variable: Passing ScenarioMIP.CCCma.CanESM5.ssp585.r20i1p1f1.Ofx.thkcello.gn unaltered\n"
     ]
    },
    {
     "name": "stderr",
     "output_type": "stream",
     "text": [
      "/projects/GEOCLIM/LRGROUP/jbusecke/projects/aguadv_omz_busecke_2021/aguadv_omz_busecke_2021/cmip6_stash.py:262: UserWarning: No match found for ['NorCPM1', 'Omon', 'gr', 'r23i1p1f1', 'thetao'].\n",
      "  warnings.warn(f\"No match found for {match_elements}.\")\n",
      "/projects/GEOCLIM/LRGROUP/jbusecke/projects/aguadv_omz_busecke_2021/aguadv_omz_busecke_2021/cmip6_stash.py:262: UserWarning: No match found for ['NorCPM1', 'Omon', 'gr', 'r4i1p1f1', 'thetao'].\n",
      "  warnings.warn(f\"No match found for {match_elements}.\")\n"
     ]
    },
    {
     "name": "stdout",
     "output_type": "stream",
     "text": [
      "Manually Ingnored Variable: Passing CMIP.CCCma.CanESM5.historical.r12i1p2f1.Ofx.areacello.gn unaltered\n",
      "Manually Ingnored Variable: Passing ScenarioMIP.MPI-M.MPI-ESM1-2-LR.ssp585.r7i1p1f1.Ofx.thkcello.gn unaltered\n",
      "Manually Ingnored Variable: Passing CMIP.NCC.NorCPM1.historical.r26i1p1f1.Omon.mlotst.gn unaltered\n",
      "Manually Ingnored Variable: Passing CMIP.HAMMOZ-Consortium.MPI-ESM-1-2-HAM.historical.r1i1p1f1.Omon.thkcello.gn unaltered\n",
      "Manually Ingnored Variable: Passing CMIP.IPSL.IPSL-CM6A-LR.historical.r30i1p1f1.Ofx.areacello.gn unaltered\n",
      "Manually Ingnored Variable: Passing CMIP.MRI.MRI-ESM2-0.historical.r1i1p1f1.Omon.mlotst.gn unaltered\n"
     ]
    },
    {
     "name": "stderr",
     "output_type": "stream",
     "text": [
      "/projects/GEOCLIM/LRGROUP/jbusecke/projects/aguadv_omz_busecke_2021/aguadv_omz_busecke_2021/cmip6_stash.py:262: UserWarning: No match found for ['NorCPM1', 'Omon', 'gn', 'r4i1p1f1', 'thetao'].\n",
      "  warnings.warn(f\"No match found for {match_elements}.\")\n",
      "/projects/GEOCLIM/LRGROUP/jbusecke/projects/aguadv_omz_busecke_2021/aguadv_omz_busecke_2021/cmip6_stash.py:262: UserWarning: No match found for ['MPI-ESM1-2-HR', 'Omon', 'gn', 'r8i1p1f1', 'agessc'].\n",
      "  warnings.warn(f\"No match found for {match_elements}.\")\n",
      "/projects/GEOCLIM/LRGROUP/jbusecke/projects/aguadv_omz_busecke_2021/aguadv_omz_busecke_2021/cmip6_stash.py:262: UserWarning: No match found for ['NorCPM1', 'Omon', 'gr', 'r19i1p1f1', 'thetao'].\n",
      "  warnings.warn(f\"No match found for {match_elements}.\")\n"
     ]
    },
    {
     "name": "stdout",
     "output_type": "stream",
     "text": [
      "Manually Ingnored Variable: Passing ScenarioMIP.CCCma.CanESM5-CanOE.ssp585.r1i1p2f1.Ofx.areacello.gn unaltered\n",
      "Manually Ingnored Variable: Passing CMIP.NCC.NorCPM1.historical.r20i1p1f1.Omon.mlotst.gn unaltered\n",
      "Manually Ingnored Variable: Passing CMIP.MPI-M.MPI-ESM1-2-LR.historical.r1i1p1f1.Ofx.thkcello.gn unaltered\n",
      "Manually Ingnored Variable: Passing CMIP.CCCma.CanESM5-CanOE.historical.r3i1p2f1.Ofx.thkcello.gn unaltered\n",
      "Manually Ingnored Variable: Passing ScenarioMIP.NCC.NorESM2-LM.ssp585.r1i1p1f1.Ofx.thkcello.gr unaltered\n"
     ]
    },
    {
     "name": "stderr",
     "output_type": "stream",
     "text": [
      "/projects/GEOCLIM/LRGROUP/jbusecke/projects/aguadv_omz_busecke_2021/aguadv_omz_busecke_2021/cmip6_stash.py:262: UserWarning: No match found for ['NorCPM1', 'Omon', 'gr', 'r27i1p1f1', 'so'].\n",
      "  warnings.warn(f\"No match found for {match_elements}.\")\n",
      "/projects/GEOCLIM/LRGROUP/jbusecke/projects/aguadv_omz_busecke_2021/aguadv_omz_busecke_2021/cmip6_stash.py:262: UserWarning: No match found for ['MPI-ESM1-2-HR', 'Omon', 'gn', 'r6i1p1f1', 'agessc'].\n",
      "  warnings.warn(f\"No match found for {match_elements}.\")\n"
     ]
    },
    {
     "name": "stdout",
     "output_type": "stream",
     "text": [
      "Manually Ingnored Variable: Passing CMIP.MOHC.UKESM1-0-LL.historical.r2i1p1f2.Omon.mlotst.gn unaltered\n",
      "Manually Ingnored Variable: Passing ScenarioMIP.IPSL.IPSL-CM6A-LR.ssp585.r1i1p1f1.Omon.thkcello.gn unaltered\n",
      "Manually Ingnored Variable: Passing CMIP.IPSL.IPSL-CM6A-LR.historical.r20i1p1f1.Omon.thkcello.gn unaltered\n",
      "Control run: Passing CMIP.NOAA-GFDL.GFDL-CM4.piControl.r1i1p1f1.Omon.thetao.gr unaltered\n",
      "Manually Ingnored Variable: Passing CMIP.IPSL.IPSL-CM6A-LR.historical.r11i1p1f1.Omon.thkcello.gn unaltered\n",
      "Control run: Passing CMIP.MPI-M.MPI-ESM1-2-LR.piControl.r2i1p1f1.Omon.thetao.gn unaltered\n",
      "Manually Ingnored Variable: Passing ScenarioMIP.CCCma.CanESM5.ssp585.r1i1p1f1.Ofx.thkcello.gn unaltered\n",
      "Manually Ingnored Variable: Passing CMIP.IPSL.IPSL-CM6A-LR.historical.r18i1p1f1.Omon.mlotst.gn unaltered\n",
      "Manually Ingnored Variable: Passing CMIP.IPSL.IPSL-CM6A-LR.historical.r12i1p1f1.Omon.thkcello.gn unaltered\n",
      "Manually Ingnored Variable: Passing CMIP.CCCma.CanESM5.historical.r14i1p2f1.Ofx.thkcello.gn unaltered\n",
      "Manually Ingnored Variable: Passing CMIP.CSIRO.ACCESS-ESM1-5.historical.r2i1p1f1.Ofx.areacello.gn unaltered\n",
      "Manually Ingnored Variable: Passing ScenarioMIP.CCCma.CanESM5.ssp585.r8i1p2f1.Ofx.thkcello.gn unaltered\n"
     ]
    },
    {
     "name": "stderr",
     "output_type": "stream",
     "text": [
      "/projects/GEOCLIM/LRGROUP/jbusecke/projects/aguadv_omz_busecke_2021/aguadv_omz_busecke_2021/cmip6_stash.py:262: UserWarning: No match found for ['NorCPM1', 'Omon', 'gr', 'r6i1p1f1', 'thetao'].\n",
      "  warnings.warn(f\"No match found for {match_elements}.\")\n",
      "/projects/GEOCLIM/LRGROUP/jbusecke/projects/aguadv_omz_busecke_2021/aguadv_omz_busecke_2021/cmip6_stash.py:262: UserWarning: No match found for ['NorCPM1', 'Omon', 'gr', 'r7i1p1f1', 'thetao'].\n",
      "  warnings.warn(f\"No match found for {match_elements}.\")\n"
     ]
    },
    {
     "name": "stdout",
     "output_type": "stream",
     "text": [
      "Manually Ingnored Variable: Passing ScenarioMIP.CCCma.CanESM5.ssp585.r20i1p2f1.Omon.mlotst.gn unaltered\n",
      "Manually Ingnored Variable: Passing ScenarioMIP.MRI.MRI-ESM2-0.ssp585.r1i2p1f1.Omon.mlotst.gn unaltered\n",
      "Manually Ingnored Variable: Passing CMIP.NOAA-GFDL.GFDL-CM4.piControl.r1i1p1f1.Ofx.areacello.gr unaltered\n",
      "Manually Ingnored Variable: Passing CMIP.CCCma.CanESM5.historical.r22i1p1f1.Ofx.areacello.gn unaltered\n",
      "Manually Ingnored Variable: Passing CMIP.MPI-M.MPI-ESM1-2-HR.historical.r8i1p1f1.Ofx.areacello.gn unaltered\n"
     ]
    },
    {
     "name": "stderr",
     "output_type": "stream",
     "text": [
      "/projects/GEOCLIM/LRGROUP/jbusecke/projects/aguadv_omz_busecke_2021/aguadv_omz_busecke_2021/cmip6_stash.py:262: UserWarning: No match found for ['NorCPM1', 'Omon', 'gn', 'r26i1p1f1', 'thetao'].\n",
      "  warnings.warn(f\"No match found for {match_elements}.\")\n"
     ]
    },
    {
     "name": "stdout",
     "output_type": "stream",
     "text": [
      "Manually Ingnored Variable: Passing CMIP.MOHC.UKESM1-0-LL.historical.r3i1p1f2.Omon.mlotst.gn unaltered\n",
      "Manually Ingnored Variable: Passing CMIP.NCC.NorCPM1.piControl.r2i1p1f1.Omon.mlotst.gn unaltered\n"
     ]
    },
    {
     "name": "stderr",
     "output_type": "stream",
     "text": [
      "/projects/GEOCLIM/LRGROUP/jbusecke/projects/aguadv_omz_busecke_2021/aguadv_omz_busecke_2021/cmip6_stash.py:262: UserWarning: No match found for ['CanESM5', 'Omon', 'gn', 'r39i1p2f1', 'so'].\n",
      "  warnings.warn(f\"No match found for {match_elements}.\")\n"
     ]
    },
    {
     "name": "stdout",
     "output_type": "stream",
     "text": [
      "Manually Ingnored Variable: Passing CMIP.CCCma.CanESM5.historical.r21i1p1f1.Omon.mlotst.gn unaltered\n"
     ]
    },
    {
     "name": "stderr",
     "output_type": "stream",
     "text": [
      "/projects/GEOCLIM/LRGROUP/jbusecke/projects/aguadv_omz_busecke_2021/aguadv_omz_busecke_2021/cmip6_stash.py:262: UserWarning: No match found for ['MPI-ESM1-2-HR', 'Omon', 'gn', 'r10i1p1f1', 'agessc'].\n",
      "  warnings.warn(f\"No match found for {match_elements}.\")\n"
     ]
    },
    {
     "name": "stdout",
     "output_type": "stream",
     "text": [
      "Control run: Passing CMIP.NCC.NorCPM1.piControl.r1i1p1f1.Omon.so.gr unaltered\n",
      "Manually Ingnored Variable: Passing ScenarioMIP.CCCma.CanESM5.ssp585.r15i1p1f1.Ofx.thkcello.gn unaltered\n",
      "Manually Ingnored Variable: Passing CMIP.IPSL.IPSL-CM6A-LR.historical.r19i1p1f1.Omon.mlotst.gn unaltered\n"
     ]
    },
    {
     "name": "stderr",
     "output_type": "stream",
     "text": [
      "/projects/GEOCLIM/LRGROUP/jbusecke/projects/aguadv_omz_busecke_2021/aguadv_omz_busecke_2021/cmip6_stash.py:262: UserWarning: No match found for ['NorCPM1', 'Omon', 'gr', 'r19i1p1f1', 'so'].\n",
      "  warnings.warn(f\"No match found for {match_elements}.\")\n"
     ]
    },
    {
     "name": "stdout",
     "output_type": "stream",
     "text": [
      "Manually Ingnored Variable: Passing CMIP.MOHC.UKESM1-0-LL.historical.r12i1p1f2.Omon.thkcello.gn unaltered\n",
      "Manually Ingnored Variable: Passing ScenarioMIP.MPI-M.MPI-ESM1-2-LR.ssp585.r2i1p1f1.Omon.mlotst.gn unaltered\n",
      "Manually Ingnored Variable: Passing ScenarioMIP.NCC.NorESM2-LM.ssp585.r1i1p1f1.Ofx.areacello.gn unaltered\n",
      "Manually Ingnored Variable: Passing ScenarioMIP.CCCma.CanESM5.ssp585.r7i1p2f1.Ofx.thkcello.gn unaltered\n",
      "Manually Ingnored Variable: Passing ScenarioMIP.CSIRO.ACCESS-ESM1-5.ssp585.r1i1p1f1.Ofx.areacello.gn unaltered\n"
     ]
    },
    {
     "name": "stderr",
     "output_type": "stream",
     "text": [
      "/projects/GEOCLIM/LRGROUP/jbusecke/projects/aguadv_omz_busecke_2021/aguadv_omz_busecke_2021/cmip6_stash.py:262: UserWarning: No match found for ['NorCPM1', 'Omon', 'gn', 'r9i1p1f1', 'thetao'].\n",
      "  warnings.warn(f\"No match found for {match_elements}.\")\n"
     ]
    },
    {
     "name": "stdout",
     "output_type": "stream",
     "text": [
      "Manually Ingnored Variable: Passing CMIP.CCCma.CanESM5.historical.r10i1p1f1.Ofx.areacello.gn unaltered\n",
      "Manually Ingnored Variable: Passing ScenarioMIP.CCCma.CanESM5.ssp585.r1i1p1f1.Ofx.areacello.gn unaltered\n",
      "Manually Ingnored Variable: Passing CMIP.CNRM-CERFACS.CNRM-ESM2-1.historical.r1i1p1f2.Omon.mlotst.gn unaltered\n"
     ]
    },
    {
     "name": "stderr",
     "output_type": "stream",
     "text": [
      "/projects/GEOCLIM/LRGROUP/jbusecke/projects/aguadv_omz_busecke_2021/aguadv_omz_busecke_2021/cmip6_stash.py:262: UserWarning: No match found for ['CanESM5', 'Omon', 'gn', 'r25i1p1f1', 'thetao'].\n",
      "  warnings.warn(f\"No match found for {match_elements}.\")\n",
      "/projects/GEOCLIM/LRGROUP/jbusecke/projects/aguadv_omz_busecke_2021/aguadv_omz_busecke_2021/cmip6_stash.py:262: UserWarning: No match found for ['NorCPM1', 'Omon', 'gr', 'r22i1p1f1', 'so'].\n",
      "  warnings.warn(f\"No match found for {match_elements}.\")\n",
      "/projects/GEOCLIM/LRGROUP/jbusecke/projects/aguadv_omz_busecke_2021/aguadv_omz_busecke_2021/cmip6_stash.py:262: UserWarning: No match found for ['NorCPM1', 'Omon', 'gr', 'r8i1p1f1', 'o2'].\n",
      "  warnings.warn(f\"No match found for {match_elements}.\")\n"
     ]
    },
    {
     "name": "stdout",
     "output_type": "stream",
     "text": [
      "Manually Ingnored Variable: Passing CMIP.CNRM-CERFACS.CNRM-ESM2-1.historical.r9i1p1f2.Omon.thkcello.gn unaltered\n"
     ]
    },
    {
     "name": "stderr",
     "output_type": "stream",
     "text": [
      "/projects/GEOCLIM/LRGROUP/jbusecke/projects/aguadv_omz_busecke_2021/aguadv_omz_busecke_2021/cmip6_stash.py:262: UserWarning: No match found for ['NorCPM1', 'Omon', 'gr', 'r15i1p1f1', 'so'].\n",
      "  warnings.warn(f\"No match found for {match_elements}.\")\n"
     ]
    },
    {
     "name": "stdout",
     "output_type": "stream",
     "text": [
      "Manually Ingnored Variable: Passing CMIP.MPI-M.MPI-ESM1-2-HR.historical.r1i1p1f1.Omon.mlotst.gn unaltered\n",
      "Control run: Passing CMIP.MPI-M.MPI-ESM1-2-LR.piControl.r1i1p1f1.Omon.thetao.gn unaltered\n",
      "Manually Ingnored Variable: Passing CMIP.CSIRO.ACCESS-ESM1-5.historical.r1i1p1f1.Omon.mlotst.gn unaltered\n",
      "Manually Ingnored Variable: Passing CMIP.CCCma.CanESM5.historical.r7i1p2f1.Omon.mlotst.gn unaltered\n",
      "Control run: Passing CMIP.MOHC.UKESM1-0-LL.piControl.r1i1p1f2.Omon.agessc.gn unaltered\n",
      "Manually Ingnored Variable: Passing CMIP.CCCma.CanESM5.historical.r36i1p2f1.Omon.mlotst.gn unaltered\n",
      "Manually Ingnored Variable: Passing ScenarioMIP.IPSL.IPSL-CM6A-LR.ssp585.r14i1p1f1.Ofx.areacello.gn unaltered\n",
      "Manually Ingnored Variable: Passing CMIP.IPSL.IPSL-CM6A-LR.historical.r11i1p1f1.Omon.mlotst.gn unaltered\n",
      "Manually Ingnored Variable: Passing ScenarioMIP.CCCma.CanESM5.ssp585.r17i1p2f1.Ofx.areacello.gn unaltered\n",
      "Control run: Passing CMIP.MRI.MRI-ESM2-0.piControl.r1i1p1f1.Omon.thetao.gn unaltered\n",
      "Manually Ingnored Variable: Passing CMIP.IPSL.IPSL-CM6A-LR.historical.r28i1p1f1.Omon.mlotst.gn unaltered\n",
      "Manually Ingnored Variable: Passing CMIP.NCC.NorCPM1.historical.r15i1p1f1.Ofx.areacello.gn unaltered\n",
      "Manually Ingnored Variable: Passing CMIP.CSIRO.ACCESS-ESM1-5.historical.r9i1p1f1.Ofx.thkcello.gn unaltered\n",
      "Manually Ingnored Variable: Passing ScenarioMIP.CCCma.CanESM5.ssp585.r24i1p1f1.Omon.mlotst.gn unaltered\n",
      "Manually Ingnored Variable: Passing CMIP.CCCma.CanESM5.historical.r17i1p1f1.Ofx.thkcello.gn unaltered\n",
      "Manually Ingnored Variable: Passing CMIP.CCCma.CanESM5.historical.r6i1p2f1.Ofx.areacello.gn unaltered\n",
      "Control run: Passing CMIP.NOAA-GFDL.GFDL-ESM4.piControl.r1i1p1f1.Omon.thetao.gr unaltered\n",
      "Manually Ingnored Variable: Passing ScenarioMIP.CCCma.CanESM5.ssp585.r2i1p1f1.Ofx.thkcello.gn unaltered\n"
     ]
    },
    {
     "name": "stderr",
     "output_type": "stream",
     "text": [
      "/projects/GEOCLIM/LRGROUP/jbusecke/projects/aguadv_omz_busecke_2021/aguadv_omz_busecke_2021/cmip6_stash.py:262: UserWarning: No match found for ['MPI-ESM-1-2-HAM', 'Omon', 'gn', 'r2i1p1f1', 'so'].\n",
      "  warnings.warn(f\"No match found for {match_elements}.\")\n"
     ]
    },
    {
     "name": "stdout",
     "output_type": "stream",
     "text": [
      "Control run: Passing CMIP.IPSL.IPSL-CM6A-LR.piControl.r1i1p1f1.Omon.thetao.gn unaltered\n",
      "Manually Ingnored Variable: Passing ScenarioMIP.MPI-M.MPI-ESM1-2-LR.ssp585.r2i1p1f1.Ofx.thkcello.gn unaltered\n",
      "Control run: Passing CMIP.MPI-M.MPI-ESM1-2-LR.piControl.r1i1p1f1.Omon.agessc.gn unaltered\n",
      "Manually Ingnored Variable: Passing CMIP.MPI-M.MPI-ESM1-2-LR.piControl.r2i1p1f1.Omon.thkcello.gn unaltered\n",
      "Manually Ingnored Variable: Passing ScenarioMIP.CCCma.CanESM5.ssp585.r14i1p2f1.Omon.mlotst.gn unaltered\n",
      "Manually Ingnored Variable: Passing CMIP.HAMMOZ-Consortium.MPI-ESM-1-2-HAM.historical.r1i1p1f1.Ofx.areacello.gn unaltered\n",
      "Manually Ingnored Variable: Passing CMIP.MPI-M.MPI-ESM1-2-HR.historical.r7i1p1f1.Ofx.thkcello.gn unaltered\n",
      "Manually Ingnored Variable: Passing ScenarioMIP.MPI-M.MPI-ESM1-2-LR.ssp585.r8i1p1f1.Omon.mlotst.gn unaltered\n",
      "Control run: Passing CMIP.CSIRO.ACCESS-ESM1-5.piControl.r1i1p1f1.Omon.so.gn unaltered\n",
      "Manually Ingnored Variable: Passing CMIP.CNRM-CERFACS.CNRM-ESM2-1.historical.r10i1p1f2.Omon.mlotst.gn unaltered\n",
      "Manually Ingnored Variable: Passing CMIP.IPSL.IPSL-CM6A-LR.historical.r1i1p1f1.Omon.mlotst.gn unaltered\n",
      "Manually Ingnored Variable: Passing CMIP.CCCma.CanESM5.historical.r10i1p2f1.Omon.mlotst.gn unaltered\n",
      "Manually Ingnored Variable: Passing CMIP.CNRM-CERFACS.CNRM-ESM2-1.historical.r5i1p1f2.Omon.mlotst.gn unaltered\n",
      "Manually Ingnored Variable: Passing CMIP.MOHC.UKESM1-0-LL.historical.r19i1p1f2.Omon.mlotst.gn unaltered\n",
      "Control run: Passing CMIP.MIROC.MIROC-ES2L.piControl.r1i1p1f2.Omon.thetao.gn unaltered\n",
      "Manually Ingnored Variable: Passing CMIP.MOHC.UKESM1-0-LL.historical.r19i1p1f2.Omon.thkcello.gn unaltered\n",
      "Manually Ingnored Variable: Passing CMIP.IPSL.IPSL-CM6A-LR.historical.r16i1p1f1.Omon.thkcello.gn unaltered\n"
     ]
    },
    {
     "name": "stderr",
     "output_type": "stream",
     "text": [
      "/projects/GEOCLIM/LRGROUP/jbusecke/projects/aguadv_omz_busecke_2021/aguadv_omz_busecke_2021/cmip6_stash.py:262: UserWarning: No match found for ['MPI-ESM1-2-HR', 'Omon', 'gn', 'r4i1p1f1', 'so'].\n",
      "  warnings.warn(f\"No match found for {match_elements}.\")\n",
      "/projects/GEOCLIM/LRGROUP/jbusecke/projects/aguadv_omz_busecke_2021/aguadv_omz_busecke_2021/cmip6_stash.py:262: UserWarning: No match found for ['NorCPM1', 'Omon', 'gr', 'r17i1p1f1', 'thetao'].\n",
      "  warnings.warn(f\"No match found for {match_elements}.\")\n"
     ]
    },
    {
     "name": "stdout",
     "output_type": "stream",
     "text": [
      "Manually Ingnored Variable: Passing CMIP.IPSL.IPSL-CM6A-LR.piControl.r1i2p1f1.Omon.mlotst.gn unaltered\n",
      "Manually Ingnored Variable: Passing CMIP.IPSL.IPSL-CM6A-LR.piControl.r1i2p1f1.Omon.thkcello.gn unaltered\n",
      "Control run: Passing CMIP.NCC.NorESM2-MM.piControl.r1i1p1f1.Omon.o2.gr unaltered\n",
      "Control run: Passing CMIP.IPSL.IPSL-CM6A-LR.piControl.r1i1p1f1.Omon.o2.gn unaltered\n",
      "Manually Ingnored Variable: Passing CMIP.CCCma.CanESM5-CanOE.piControl.r1i1p2f1.Omon.mlotst.gn unaltered\n",
      "Manually Ingnored Variable: Passing CMIP.MOHC.UKESM1-0-LL.piControl.r1i1p1f2.Omon.thkcello.gn unaltered\n",
      "Manually Ingnored Variable: Passing CMIP.CSIRO.ACCESS-ESM1-5.piControl.r1i1p1f1.Omon.mlotst.gn unaltered\n",
      "Control run: Passing CMIP.IPSL.IPSL-CM6A-LR.piControl.r1i1p1f1.Omon.so.gn unaltered\n"
     ]
    }
   ],
   "source": [
    "ddict_detrended = match_and_detrend(\n",
    "    ddict,\n",
    "    trend_dict,\n",
    "    verbose=True,\n",
    "    pass_variables=[\"areacello\", \"thkcello\", \"mlotst\"],\n",
    ")"
   ]
  },
  {
   "cell_type": "code",
   "execution_count": null,
   "metadata": {},
   "outputs": [],
   "source": []
  },
  {
   "cell_type": "code",
   "execution_count": 18,
   "metadata": {},
   "outputs": [],
   "source": [
    "ddict_detrended_filtered = {k:v for k,v in ddict_detrended.items() if 'rho' not in v.dims}"
   ]
  },
  {
   "cell_type": "code",
   "execution_count": 19,
   "metadata": {},
   "outputs": [
    {
     "name": "stdout",
     "output_type": "stream",
     "text": [
      "Could not find reference dataset for variables ['areacello' 'thkcello'] and grid_label gn\n",
      "No datasets to merge in `combine_grid_labels`.\n",
      "Could not find reference dataset for variables ['areacello' 'thkcello'] and grid_label gn\n",
      "No datasets to merge in `combine_grid_labels`.\n",
      "Could not find reference dataset for variables ['areacello' 'thkcello'] and grid_label gn\n",
      "No datasets to merge in `combine_grid_labels`.\n",
      "Could not find reference dataset for variables ['areacello' 'thkcello'] and grid_label gn\n",
      "No datasets to merge in `combine_grid_labels`.\n",
      "Could not find reference dataset for variables ['areacello' 'thkcello'] and grid_label gn\n",
      "No datasets to merge in `combine_grid_labels`.\n",
      "Could not find reference dataset for variables ['areacello' 'thkcello'] and grid_label gn\n",
      "No datasets to merge in `combine_grid_labels`.\n",
      "Could not find reference dataset for variables ['areacello' 'thkcello'] and grid_label gn\n",
      "No datasets to merge in `combine_grid_labels`.\n",
      "Could not find reference dataset for variables ['areacello' 'thkcello'] and grid_label gn\n",
      "No datasets to merge in `combine_grid_labels`.\n",
      "Could not find reference dataset for variables ['areacello' 'thkcello'] and grid_label gn\n",
      "No datasets to merge in `combine_grid_labels`.\n",
      "Could not find reference dataset for variables ['areacello' 'thkcello'] and grid_label gn\n",
      "No datasets to merge in `combine_grid_labels`.\n",
      "Could not find reference dataset for variables ['areacello' 'thkcello'] and grid_label gn\n",
      "No datasets to merge in `combine_grid_labels`.\n",
      "Could not find reference dataset for variables ['areacello' 'thkcello'] and grid_label gn\n",
      "No datasets to merge in `combine_grid_labels`.\n",
      "Could not find reference dataset for variables ['areacello' 'thkcello'] and grid_label gn\n",
      "No datasets to merge in `combine_grid_labels`.\n",
      "Could not find reference dataset for variables ['areacello' 'thkcello'] and grid_label gn\n",
      "No datasets to merge in `combine_grid_labels`.\n",
      "Could not find reference dataset for variables ['areacello' 'thkcello'] and grid_label gn\n",
      "No datasets to merge in `combine_grid_labels`.\n",
      "Could not find reference dataset for variables ['areacello' 'thkcello'] and grid_label gn\n",
      "No datasets to merge in `combine_grid_labels`.\n",
      "Could not find reference dataset for variables ['areacello' 'thkcello'] and grid_label gn\n",
      "No datasets to merge in `combine_grid_labels`.\n",
      "Could not find reference dataset for variables ['areacello' 'thkcello'] and grid_label gn\n",
      "No datasets to merge in `combine_grid_labels`.\n",
      "Could not find reference dataset for variables ['areacello' 'thkcello'] and grid_label gn\n",
      "No datasets to merge in `combine_grid_labels`.\n",
      "Could not find reference dataset for variables ['areacello' 'thkcello'] and grid_label gn\n",
      "No datasets to merge in `combine_grid_labels`.\n",
      "Could not find reference dataset for variables ['areacello' 'thkcello'] and grid_label gn\n",
      "No datasets to merge in `combine_grid_labels`.\n",
      "Could not find reference dataset for variables ['areacello' 'thkcello'] and grid_label gn\n",
      "No datasets to merge in `combine_grid_labels`.\n",
      "Could not find reference dataset for variables ['areacello' 'thkcello'] and grid_label gn\n",
      "No datasets to merge in `combine_grid_labels`.\n",
      "Could not find reference dataset for variables ['areacello' 'thkcello'] and grid_label gn\n",
      "No datasets to merge in `combine_grid_labels`.\n",
      "Could not find reference dataset for variables ['areacello' 'thkcello'] and grid_label gn\n",
      "No datasets to merge in `combine_grid_labels`.\n",
      "Could not find reference dataset for variables ['areacello' 'thkcello'] and grid_label gn\n",
      "No datasets to merge in `combine_grid_labels`.\n",
      "Could not find reference dataset for variables ['areacello' 'thkcello'] and grid_label gn\n",
      "No datasets to merge in `combine_grid_labels`.\n",
      "Could not find reference dataset for variables ['areacello' 'thkcello'] and grid_label gn\n",
      "No datasets to merge in `combine_grid_labels`.\n",
      "Could not find reference dataset for variables ['areacello' 'thkcello'] and grid_label gn\n",
      "No datasets to merge in `combine_grid_labels`.\n",
      "Could not find reference dataset for variables ['areacello' 'thkcello'] and grid_label gn\n",
      "No datasets to merge in `combine_grid_labels`.\n",
      "Could not find reference dataset for variables ['areacello' 'thkcello'] and grid_label gn\n",
      "No datasets to merge in `combine_grid_labels`.\n",
      "Could not find reference dataset for variables ['areacello' 'thkcello'] and grid_label gn\n",
      "No datasets to merge in `combine_grid_labels`.\n",
      "Could not find reference dataset for variables ['areacello' 'thkcello'] and grid_label gn\n",
      "No datasets to merge in `combine_grid_labels`.\n",
      "Could not find reference dataset for variables ['areacello' 'thkcello'] and grid_label gn\n",
      "No datasets to merge in `combine_grid_labels`.\n",
      "Could not find reference dataset for variables ['areacello' 'thkcello'] and grid_label gn\n",
      "No datasets to merge in `combine_grid_labels`.\n",
      "Could not find reference dataset for variables ['areacello' 'thkcello'] and grid_label gn\n",
      "No datasets to merge in `combine_grid_labels`.\n",
      "Could not find reference dataset for variables ['areacello' 'thkcello'] and grid_label gn\n",
      "No datasets to merge in `combine_grid_labels`.\n",
      "Could not find reference dataset for variables ['areacello' 'thkcello'] and grid_label gn\n",
      "No datasets to merge in `combine_grid_labels`.\n",
      "Could not find reference dataset for variables ['areacello' 'thkcello'] and grid_label gn\n",
      "No datasets to merge in `combine_grid_labels`.\n",
      "Could not find reference dataset for variables ['areacello' 'thkcello'] and grid_label gn\n",
      "No datasets to merge in `combine_grid_labels`.\n",
      "Could not find reference dataset for variables ['areacello' 'thkcello'] and grid_label gn\n",
      "No datasets to merge in `combine_grid_labels`.\n",
      "Could not find reference dataset for variables ['areacello' 'thkcello'] and grid_label gn\n",
      "No datasets to merge in `combine_grid_labels`.\n",
      "Could not find reference dataset for variables ['areacello' 'thkcello'] and grid_label gn\n",
      "No datasets to merge in `combine_grid_labels`.\n",
      "Could not find reference dataset for variables ['areacello' 'thkcello'] and grid_label gn\n",
      "No datasets to merge in `combine_grid_labels`.\n",
      "Could not find reference dataset for variables ['areacello' 'thkcello'] and grid_label gn\n",
      "No datasets to merge in `combine_grid_labels`.\n",
      "Could not find reference dataset for variables ['areacello' 'thkcello'] and grid_label gn\n",
      "No datasets to merge in `combine_grid_labels`.\n",
      "Could not find reference dataset for variables ['areacello' 'thkcello'] and grid_label gn\n",
      "No datasets to merge in `combine_grid_labels`.\n",
      "Could not find reference dataset for variables ['areacello' 'thkcello'] and grid_label gn\n",
      "No datasets to merge in `combine_grid_labels`.\n",
      "Could not find reference dataset for variables ['areacello' 'thkcello'] and grid_label gn\n",
      "No datasets to merge in `combine_grid_labels`.\n",
      "Could not find reference dataset for variables ['areacello' 'thkcello'] and grid_label gn\n",
      "No datasets to merge in `combine_grid_labels`.\n",
      "Could not find reference dataset for variables ['areacello' 'thkcello'] and grid_label gn\n",
      "No datasets to merge in `combine_grid_labels`.\n",
      "Could not find reference dataset for variables ['areacello' 'thkcello'] and grid_label gn\n",
      "No datasets to merge in `combine_grid_labels`.\n",
      "Could not find reference dataset for variables ['areacello' 'thkcello'] and grid_label gn\n",
      "No datasets to merge in `combine_grid_labels`.\n",
      "Could not find reference dataset for variables ['areacello' 'thkcello'] and grid_label gn\n",
      "No datasets to merge in `combine_grid_labels`.\n",
      "Could not find reference dataset for variables ['areacello' 'thkcello'] and grid_label gn\n",
      "No datasets to merge in `combine_grid_labels`.\n",
      "Could not find reference dataset for variables ['areacello' 'thkcello'] and grid_label gn\n",
      "No datasets to merge in `combine_grid_labels`.\n",
      "Could not find reference dataset for variables ['areacello' 'thkcello'] and grid_label gn\n",
      "No datasets to merge in `combine_grid_labels`.\n",
      "Could not find reference dataset for variables ['areacello' 'thkcello'] and grid_label gn\n",
      "No datasets to merge in `combine_grid_labels`.\n",
      "Could not find reference dataset for variables ['areacello' 'thkcello'] and grid_label gn\n",
      "No datasets to merge in `combine_grid_labels`.\n",
      "Could not find reference dataset for variables ['areacello' 'thkcello'] and grid_label gn\n",
      "No datasets to merge in `combine_grid_labels`.\n",
      "Could not find reference dataset for variables ['areacello' 'thkcello'] and grid_label gn\n",
      "No datasets to merge in `combine_grid_labels`.\n",
      "Could not find reference dataset for variables ['areacello' 'thkcello'] and grid_label gn\n",
      "No datasets to merge in `combine_grid_labels`.\n",
      "Could not find reference dataset for variables ['areacello' 'thkcello'] and grid_label gn\n",
      "No datasets to merge in `combine_grid_labels`.\n",
      "Could not find reference dataset for variables ['areacello' 'thkcello'] and grid_label gn\n",
      "No datasets to merge in `combine_grid_labels`.\n",
      "Could not find reference dataset for variables ['areacello' 'thkcello'] and grid_label gn\n",
      "No datasets to merge in `combine_grid_labels`.\n",
      "Could not find reference dataset for variables ['areacello' 'thkcello'] and grid_label gn\n",
      "No datasets to merge in `combine_grid_labels`.\n",
      "Could not find reference dataset for variables ['areacello' 'thkcello'] and grid_label gn\n",
      "No datasets to merge in `combine_grid_labels`.\n",
      "Could not find reference dataset for variables ['areacello' 'thkcello'] and grid_label gn\n",
      "No datasets to merge in `combine_grid_labels`.\n",
      "Could not find reference dataset for variables ['areacello' 'thkcello'] and grid_label gn\n",
      "No datasets to merge in `combine_grid_labels`.\n",
      "Could not find reference dataset for variables ['areacello' 'thkcello'] and grid_label gn\n",
      "No datasets to merge in `combine_grid_labels`.\n",
      "Could not find reference dataset for variables ['areacello' 'thkcello'] and grid_label gn\n",
      "No datasets to merge in `combine_grid_labels`.\n",
      "Could not find reference dataset for variables ['areacello'] and grid_label gn\n",
      "No datasets to merge in `combine_grid_labels`.\n",
      "Could not find reference dataset for variables ['areacello'] and grid_label gn\n",
      "No datasets to merge in `combine_grid_labels`.\n",
      "Could not find reference dataset for variables ['areacello'] and grid_label gn\n",
      "No datasets to merge in `combine_grid_labels`.\n",
      "Could not find reference dataset for variables ['areacello'] and grid_label gn\n",
      "No datasets to merge in `combine_grid_labels`.\n",
      "Could not find reference dataset for variables ['areacello'] and grid_label gn\n",
      "No datasets to merge in `combine_grid_labels`.\n",
      "Could not find reference dataset for variables ['areacello'] and grid_label gn\n",
      "No datasets to merge in `combine_grid_labels`.\n",
      "Could not find reference dataset for variables ['areacello'] and grid_label gn\n",
      "No datasets to merge in `combine_grid_labels`.\n",
      "Could not find reference dataset for variables ['areacello'] and grid_label gn\n",
      "No datasets to merge in `combine_grid_labels`.\n",
      "Could not find reference dataset for variables ['areacello'] and grid_label gn\n",
      "No datasets to merge in `combine_grid_labels`.\n",
      "Could not find reference dataset for variables ['areacello'] and grid_label gn\n",
      "No datasets to merge in `combine_grid_labels`.\n",
      "Could not find reference dataset for variables ['areacello'] and grid_label gn\n",
      "No datasets to merge in `combine_grid_labels`.\n",
      "Could not find reference dataset for variables ['areacello' 'thkcello'] and grid_label gn\n",
      "No datasets to merge in `combine_grid_labels`.\n",
      "Could not find reference dataset for variables ['areacello' 'thkcello'] and grid_label gn\n",
      "No datasets to merge in `combine_grid_labels`.\n",
      "Could not find reference dataset for variables ['areacello' 'thkcello'] and grid_label gn\n",
      "No datasets to merge in `combine_grid_labels`.\n",
      "Could not find reference dataset for variables ['areacello' 'thkcello'] and grid_label gn\n",
      "No datasets to merge in `combine_grid_labels`.\n",
      "Could not find reference dataset for variables ['areacello' 'thkcello'] and grid_label gn\n",
      "No datasets to merge in `combine_grid_labels`.\n",
      "Could not find reference dataset for variables ['areacello' 'thkcello'] and grid_label gn\n",
      "No datasets to merge in `combine_grid_labels`.\n",
      "Could not find reference dataset for variables ['areacello' 'thkcello'] and grid_label gn\n",
      "No datasets to merge in `combine_grid_labels`.\n",
      "Could not find reference dataset for variables ['areacello' 'thkcello'] and grid_label gn\n",
      "No datasets to merge in `combine_grid_labels`.\n",
      "Could not find reference dataset for variables ['areacello' 'thkcello'] and grid_label gn\n",
      "No datasets to merge in `combine_grid_labels`.\n",
      "Could not find reference dataset for variables ['areacello' 'thkcello'] and grid_label gn\n",
      "No datasets to merge in `combine_grid_labels`.\n",
      "Could not find reference dataset for variables ['areacello' 'thkcello'] and grid_label gn\n",
      "No datasets to merge in `combine_grid_labels`.\n",
      "Could not find reference dataset for variables ['areacello' 'thkcello'] and grid_label gn\n",
      "No datasets to merge in `combine_grid_labels`.\n",
      "Could not find reference dataset for variables ['areacello' 'thkcello'] and grid_label gn\n",
      "No datasets to merge in `combine_grid_labels`.\n",
      "Could not find reference dataset for variables ['areacello'] and grid_label gn\n",
      "No datasets to merge in `combine_grid_labels`.\n",
      "Could not find reference dataset for variables ['areacello'] and grid_label gn\n",
      "No datasets to merge in `combine_grid_labels`.\n",
      "Could not find reference dataset for variables ['areacello'] and grid_label gn\n",
      "No datasets to merge in `combine_grid_labels`.\n",
      "Could not find reference dataset for variables ['areacello'] and grid_label gn\n",
      "No datasets to merge in `combine_grid_labels`.\n",
      "Could not find reference dataset for variables ['areacello'] and grid_label gn\n",
      "No datasets to merge in `combine_grid_labels`.\n",
      "Could not find reference dataset for variables ['areacello'] and grid_label gn\n",
      "No datasets to merge in `combine_grid_labels`.\n",
      "Could not find reference dataset for variables ['areacello'] and grid_label gn\n",
      "No datasets to merge in `combine_grid_labels`.\n",
      "Could not find reference dataset for variables ['areacello'] and grid_label gn\n",
      "No datasets to merge in `combine_grid_labels`.\n",
      "Could not find reference dataset for variables ['areacello'] and grid_label gn\n",
      "No datasets to merge in `combine_grid_labels`.\n",
      "Could not find reference dataset for variables ['areacello'] and grid_label gn\n",
      "No datasets to merge in `combine_grid_labels`.\n",
      "Could not find reference dataset for variables ['areacello'] and grid_label gn\n",
      "No datasets to merge in `combine_grid_labels`.\n",
      "Could not find reference dataset for variables ['areacello'] and grid_label gn\n",
      "No datasets to merge in `combine_grid_labels`.\n",
      "Could not find reference dataset for variables ['areacello'] and grid_label gn\n",
      "No datasets to merge in `combine_grid_labels`.\n",
      "Could not find reference dataset for variables ['areacello'] and grid_label gn\n",
      "No datasets to merge in `combine_grid_labels`.\n",
      "Could not find reference dataset for variables ['areacello'] and grid_label gn\n",
      "No datasets to merge in `combine_grid_labels`.\n",
      "Could not find reference dataset for variables ['areacello'] and grid_label gn\n",
      "No datasets to merge in `combine_grid_labels`.\n",
      "Could not find reference dataset for variables ['areacello'] and grid_label gn\n",
      "No datasets to merge in `combine_grid_labels`.\n",
      "Could not find reference dataset for variables ['areacello'] and grid_label gn\n",
      "No datasets to merge in `combine_grid_labels`.\n",
      "Could not find reference dataset for variables ['areacello'] and grid_label gn\n",
      "No datasets to merge in `combine_grid_labels`.\n",
      "Could not find reference dataset for variables ['areacello'] and grid_label gn\n",
      "No datasets to merge in `combine_grid_labels`.\n",
      "Could not find reference dataset for variables ['areacello'] and grid_label gn\n",
      "No datasets to merge in `combine_grid_labels`.\n",
      "Could not find reference dataset for variables ['areacello'] and grid_label gn\n",
      "No datasets to merge in `combine_grid_labels`.\n",
      "Could not find reference dataset for variables ['areacello'] and grid_label gn\n",
      "No datasets to merge in `combine_grid_labels`.\n",
      "Could not find reference dataset for variables ['areacello'] and grid_label gn\n",
      "No datasets to merge in `combine_grid_labels`.\n",
      "Could not find reference dataset for variables ['areacello'] and grid_label gn\n",
      "No datasets to merge in `combine_grid_labels`.\n",
      "Could not find reference dataset for variables ['areacello'] and grid_label gn\n",
      "No datasets to merge in `combine_grid_labels`.\n",
      "Could not find reference dataset for variables ['areacello'] and grid_label gn\n",
      "No datasets to merge in `combine_grid_labels`.\n",
      "Could not find reference dataset for variables ['areacello'] and grid_label gn\n",
      "No datasets to merge in `combine_grid_labels`.\n",
      "Could not find reference dataset for variables ['areacello'] and grid_label gn\n",
      "No datasets to merge in `combine_grid_labels`.\n",
      "Could not find reference dataset for variables ['areacello'] and grid_label gn\n",
      "No datasets to merge in `combine_grid_labels`.\n",
      "Could not find reference dataset for variables ['areacello'] and grid_label gn\n",
      "No datasets to merge in `combine_grid_labels`.\n",
      "Could not find reference dataset for variables ['areacello'] and grid_label gn\n",
      "No datasets to merge in `combine_grid_labels`.\n",
      "Could not find reference dataset for variables ['areacello' 'thkcello'] and grid_label gn\n",
      "No datasets to merge in `combine_grid_labels`.\n",
      "Could not find reference dataset for variables ['areacello'] and grid_label gn\n",
      "No datasets to merge in `combine_grid_labels`.\n",
      "Could not find reference dataset for variables ['areacello'] and grid_label gn\n",
      "No datasets to merge in `combine_grid_labels`.\n",
      "Could not find reference dataset for variables ['areacello'] and grid_label gn\n",
      "No datasets to merge in `combine_grid_labels`.\n",
      "Could not find reference dataset for variables ['areacello'] and grid_label gn\n",
      "No datasets to merge in `combine_grid_labels`.\n",
      "Could not find reference dataset for variables ['areacello'] and grid_label gn\n",
      "No datasets to merge in `combine_grid_labels`.\n",
      "Could not find reference dataset for variables ['areacello'] and grid_label gn\n",
      "No datasets to merge in `combine_grid_labels`.\n",
      "Could not find reference dataset for variables ['areacello'] and grid_label gn\n",
      "No datasets to merge in `combine_grid_labels`.\n",
      "Could not find reference dataset for variables ['areacello'] and grid_label gn\n",
      "No datasets to merge in `combine_grid_labels`.\n",
      "Could not find reference dataset for variables ['areacello'] and grid_label gn\n",
      "No datasets to merge in `combine_grid_labels`.\n",
      "Could not find reference dataset for variables ['areacello'] and grid_label gn\n",
      "No datasets to merge in `combine_grid_labels`.\n",
      "Could not find reference dataset for variables ['areacello'] and grid_label gn\n",
      "No datasets to merge in `combine_grid_labels`.\n",
      "Could not find reference dataset for variables ['areacello'] and grid_label gn\n",
      "No datasets to merge in `combine_grid_labels`.\n",
      "Could not find reference dataset for variables ['areacello'] and grid_label gn\n",
      "No datasets to merge in `combine_grid_labels`.\n",
      "Could not find reference dataset for variables ['areacello' 'thkcello'] and grid_label gn\n",
      "No datasets to merge in `combine_grid_labels`.\n",
      "Could not find reference dataset for variables ['areacello' 'thkcello'] and grid_label gn\n",
      "No datasets to merge in `combine_grid_labels`.\n",
      "Could not find reference dataset for variables ['areacello' 'thkcello'] and grid_label gn\n",
      "No datasets to merge in `combine_grid_labels`.\n",
      "Could not find reference dataset for variables ['areacello' 'thkcello'] and grid_label gn\n",
      "No datasets to merge in `combine_grid_labels`.\n",
      "Could not find reference dataset for variables ['areacello' 'thkcello'] and grid_label gn\n",
      "No datasets to merge in `combine_grid_labels`.\n",
      "Could not find reference dataset for variables ['areacello' 'thkcello'] and grid_label gn\n",
      "No datasets to merge in `combine_grid_labels`.\n",
      "Could not find reference dataset for variables ['areacello' 'thkcello'] and grid_label gn\n",
      "No datasets to merge in `combine_grid_labels`.\n",
      "Could not find reference dataset for variables ['areacello' 'thkcello'] and grid_label gn\n",
      "No datasets to merge in `combine_grid_labels`.\n",
      "Could not find reference dataset for variables ['areacello' 'thkcello'] and grid_label gn\n",
      "No datasets to merge in `combine_grid_labels`.\n",
      "Could not find reference dataset for variables ['areacello' 'thkcello'] and grid_label gn\n",
      "No datasets to merge in `combine_grid_labels`.\n",
      "Could not find reference dataset for variables ['areacello' 'thkcello'] and grid_label gn\n",
      "No datasets to merge in `combine_grid_labels`.\n",
      "Could not find reference dataset for variables ['areacello' 'thkcello'] and grid_label gn\n",
      "No datasets to merge in `combine_grid_labels`.\n",
      "Could not find reference dataset for variables ['areacello' 'thkcello'] and grid_label gn\n",
      "No datasets to merge in `combine_grid_labels`.\n",
      "Could not find reference dataset for variables ['areacello' 'thkcello'] and grid_label gn\n",
      "No datasets to merge in `combine_grid_labels`.\n",
      "Could not find reference dataset for variables ['areacello' 'thkcello'] and grid_label gn\n",
      "No datasets to merge in `combine_grid_labels`.\n",
      "Could not find reference dataset for variables ['areacello' 'thkcello'] and grid_label gn\n",
      "No datasets to merge in `combine_grid_labels`.\n",
      "Could not find reference dataset for variables ['areacello' 'thkcello'] and grid_label gn\n",
      "No datasets to merge in `combine_grid_labels`.\n",
      "Could not find reference dataset for variables ['areacello' 'thkcello'] and grid_label gn\n",
      "No datasets to merge in `combine_grid_labels`.\n",
      "Could not find reference dataset for variables ['areacello' 'thkcello'] and grid_label gn\n",
      "No datasets to merge in `combine_grid_labels`.\n",
      "Could not find reference dataset for variables ['areacello' 'thkcello'] and grid_label gn\n",
      "No datasets to merge in `combine_grid_labels`.\n",
      "Could not find reference dataset for variables ['areacello' 'thkcello'] and grid_label gn\n",
      "No datasets to merge in `combine_grid_labels`.\n",
      "Could not find reference dataset for variables ['areacello' 'thkcello'] and grid_label gn\n",
      "No datasets to merge in `combine_grid_labels`.\n",
      "Could not find reference dataset for variables ['areacello'] and grid_label gn\n",
      "No datasets to merge in `combine_grid_labels`.\n",
      "Could not find reference dataset for variables ['areacello'] and grid_label gn\n",
      "No datasets to merge in `combine_grid_labels`.\n",
      "Could not find reference dataset for variables ['areacello'] and grid_label gn\n",
      "No datasets to merge in `combine_grid_labels`.\n",
      "Could not find reference dataset for variables ['areacello'] and grid_label gn\n",
      "No datasets to merge in `combine_grid_labels`.\n",
      "Could not find reference dataset for variables ['areacello'] and grid_label gn\n",
      "No datasets to merge in `combine_grid_labels`.\n",
      "Could not find reference dataset for variables ['areacello'] and grid_label gn\n",
      "No datasets to merge in `combine_grid_labels`.\n",
      "Could not find reference dataset for variables ['areacello'] and grid_label gn\n",
      "No datasets to merge in `combine_grid_labels`.\n",
      "Could not find reference dataset for variables ['areacello'] and grid_label gn\n",
      "No datasets to merge in `combine_grid_labels`.\n",
      "Could not find reference dataset for variables ['areacello'] and grid_label gn\n",
      "No datasets to merge in `combine_grid_labels`.\n",
      "Could not find reference dataset for variables ['areacello'] and grid_label gn\n",
      "No datasets to merge in `combine_grid_labels`.\n",
      "Could not find reference dataset for variables ['areacello'] and grid_label gn\n",
      "No datasets to merge in `combine_grid_labels`.\n",
      "Could not find reference dataset for variables ['areacello'] and grid_label gn\n",
      "No datasets to merge in `combine_grid_labels`.\n",
      "Could not find reference dataset for variables ['areacello'] and grid_label gn\n",
      "No datasets to merge in `combine_grid_labels`.\n",
      "Could not find reference dataset for variables ['areacello'] and grid_label gn\n",
      "No datasets to merge in `combine_grid_labels`.\n",
      "Could not find reference dataset for variables ['areacello'] and grid_label gn\n",
      "No datasets to merge in `combine_grid_labels`.\n",
      "Could not find reference dataset for variables ['areacello'] and grid_label gn\n",
      "No datasets to merge in `combine_grid_labels`.\n",
      "Could not find reference dataset for variables ['areacello'] and grid_label gn\n",
      "No datasets to merge in `combine_grid_labels`.\n",
      "Could not find reference dataset for variables ['areacello'] and grid_label gn\n",
      "No datasets to merge in `combine_grid_labels`.\n",
      "Could not find reference dataset for variables ['areacello'] and grid_label gn\n",
      "No datasets to merge in `combine_grid_labels`.\n",
      "Could not find reference dataset for variables ['areacello'] and grid_label gn\n",
      "No datasets to merge in `combine_grid_labels`.\n",
      "Could not find reference dataset for variables ['areacello'] and grid_label gn\n",
      "No datasets to merge in `combine_grid_labels`.\n",
      "Could not find reference dataset for variables ['areacello'] and grid_label gn\n",
      "No datasets to merge in `combine_grid_labels`.\n",
      "Could not find reference dataset for variables ['areacello'] and grid_label gn\n",
      "No datasets to merge in `combine_grid_labels`.\n",
      "Could not find reference dataset for variables ['areacello'] and grid_label gn\n",
      "No datasets to merge in `combine_grid_labels`.\n",
      "Could not find reference dataset for variables ['areacello'] and grid_label gn\n",
      "No datasets to merge in `combine_grid_labels`.\n",
      "Could not find reference dataset for variables ['areacello'] and grid_label gn\n",
      "No datasets to merge in `combine_grid_labels`.\n",
      "Could not find reference dataset for variables ['areacello'] and grid_label gn\n",
      "No datasets to merge in `combine_grid_labels`.\n",
      "Could not find reference dataset for variables ['areacello'] and grid_label gn\n",
      "No datasets to merge in `combine_grid_labels`.\n",
      "Could not find reference dataset for variables ['areacello'] and grid_label gn\n",
      "No datasets to merge in `combine_grid_labels`.\n",
      "Could not find reference dataset for variables ['areacello'] and grid_label gn\n",
      "No datasets to merge in `combine_grid_labels`.\n",
      "Could not find reference dataset for variables ['areacello'] and grid_label gn\n",
      "No datasets to merge in `combine_grid_labels`.\n",
      "Could not find reference dataset for variables ['areacello'] and grid_label gn\n",
      "No datasets to merge in `combine_grid_labels`.\n",
      "Could not find reference dataset for variables ['areacello'] and grid_label gn\n",
      "No datasets to merge in `combine_grid_labels`.\n",
      "Could not find reference dataset for variables ['areacello'] and grid_label gn\n",
      "No datasets to merge in `combine_grid_labels`.\n",
      "Could not find reference dataset for variables ['areacello'] and grid_label gn\n",
      "No datasets to merge in `combine_grid_labels`.\n",
      "Could not find reference dataset for variables ['areacello'] and grid_label gn\n",
      "No datasets to merge in `combine_grid_labels`.\n",
      "Could not find reference dataset for variables ['areacello'] and grid_label gn\n",
      "No datasets to merge in `combine_grid_labels`.\n",
      "Could not find reference dataset for variables ['areacello'] and grid_label gn\n",
      "No datasets to merge in `combine_grid_labels`.\n",
      "Could not find reference dataset for variables ['areacello'] and grid_label gn\n",
      "No datasets to merge in `combine_grid_labels`.\n",
      "\n",
      "using dimensions ('y', 'x') from data variable so as the horizontal dimensions for this dataset.\n",
      "\n",
      "using dimensions ('y', 'x') from data variable thetao as the horizontal dimensions for this dataset.\n",
      "Could not find reference dataset for variables ['areacello'] and grid_label gn\n",
      "No datasets to merge in `combine_grid_labels`.\n",
      "\n",
      "using dimensions ('y', 'x') from data variable so as the horizontal dimensions for this dataset.\n",
      "\n",
      "using dimensions ('y', 'x') from data variable thetao as the horizontal dimensions for this dataset.\n",
      "Could not find reference dataset for variables ['areacello'] and grid_label gn\n",
      "No datasets to merge in `combine_grid_labels`.\n",
      "\n",
      "using dimensions ('y', 'x') from data variable so as the horizontal dimensions for this dataset.\n",
      "\n",
      "using dimensions ('y', 'x') from data variable thetao as the horizontal dimensions for this dataset.\n",
      "Could not find reference dataset for variables ['areacello'] and grid_label gn\n",
      "No datasets to merge in `combine_grid_labels`.\n",
      "Could not find reference dataset for variables ['areacello' 'thkcello'] and grid_label gn\n",
      "No datasets to merge in `combine_grid_labels`.\n",
      "\n",
      "using dimensions ('y', 'x') from data variable agessc as the horizontal dimensions for this dataset.\n",
      "\n",
      "using dimensions ('y', 'x') from data variable o2 as the horizontal dimensions for this dataset.\n",
      "\n",
      "using dimensions ('y', 'x') from data variable so as the horizontal dimensions for this dataset.\n",
      "\n",
      "using dimensions ('y', 'x') from data variable thetao as the horizontal dimensions for this dataset.\n",
      "Could not find reference dataset for variables ['areacello'] and grid_label gn\n",
      "No datasets to merge in `combine_grid_labels`.\n",
      "\n",
      "using dimensions ('y', 'x') from data variable agessc as the horizontal dimensions for this dataset.\n",
      "\n",
      "using dimensions ('y', 'x') from data variable o2 as the horizontal dimensions for this dataset.\n",
      "\n",
      "using dimensions ('y', 'x') from data variable so as the horizontal dimensions for this dataset.\n",
      "\n",
      "using dimensions ('y', 'x') from data variable thetao as the horizontal dimensions for this dataset.\n",
      "Could not find reference dataset for variables ['areacello'] and grid_label gn\n",
      "No datasets to merge in `combine_grid_labels`.\n",
      "\n",
      "using dimensions ('y', 'x') from data variable agessc as the horizontal dimensions for this dataset.\n",
      "\n",
      "using dimensions ('y', 'x') from data variable o2 as the horizontal dimensions for this dataset.\n",
      "\n",
      "using dimensions ('y', 'x') from data variable so as the horizontal dimensions for this dataset.\n",
      "\n",
      "using dimensions ('y', 'x') from data variable thetao as the horizontal dimensions for this dataset.\n",
      "Could not find reference dataset for variables ['areacello' 'thkcello'] and grid_label gn\n",
      "No datasets to merge in `combine_grid_labels`.\n",
      "\n",
      "using dimensions ('y', 'x') from data variable agessc as the horizontal dimensions for this dataset.\n",
      "\n",
      "using dimensions ('y', 'x') from data variable o2 as the horizontal dimensions for this dataset.\n",
      "\n",
      "using dimensions ('y', 'x') from data variable so as the horizontal dimensions for this dataset.\n",
      "\n",
      "using dimensions ('y', 'x') from data variable thetao as the horizontal dimensions for this dataset.\n",
      "Could not find reference dataset for variables ['areacello' 'thkcello'] and grid_label gn\n",
      "No datasets to merge in `combine_grid_labels`.\n",
      "\n",
      "using dimensions ('y', 'x') from data variable agessc as the horizontal dimensions for this dataset.\n",
      "\n",
      "using dimensions ('y', 'x') from data variable o2 as the horizontal dimensions for this dataset.\n",
      "\n",
      "using dimensions ('y', 'x') from data variable so as the horizontal dimensions for this dataset.\n",
      "\n",
      "using dimensions ('y', 'x') from data variable thetao as the horizontal dimensions for this dataset.\n",
      "Could not find reference dataset for variables ['areacello' 'thkcello'] and grid_label gn\n",
      "No datasets to merge in `combine_grid_labels`.\n",
      "\n",
      "using dimensions ('y', 'x') from data variable agessc as the horizontal dimensions for this dataset.\n",
      "\n",
      "using dimensions ('y', 'x') from data variable o2 as the horizontal dimensions for this dataset.\n",
      "\n",
      "using dimensions ('y', 'x') from data variable so as the horizontal dimensions for this dataset.\n",
      "\n",
      "using dimensions ('y', 'x') from data variable thetao as the horizontal dimensions for this dataset.\n",
      "Could not find reference dataset for variables ['areacello'] and grid_label gn\n",
      "No datasets to merge in `combine_grid_labels`.\n",
      "\n",
      "using dimensions ('y', 'x') from data variable o2 as the horizontal dimensions for this dataset.\n",
      "Could not find reference dataset for variables ['areacello'] and grid_label gn\n",
      "No datasets to merge in `combine_grid_labels`.\n",
      "\n",
      "using dimensions ('y', 'x') from data variable mlotst as the horizontal dimensions for this dataset.\n",
      "\n",
      "using dimensions ('y', 'x') from data variable o2 as the horizontal dimensions for this dataset.\n",
      "Could not find reference dataset for variables ['areacello'] and grid_label gn\n",
      "No datasets to merge in `combine_grid_labels`.\n",
      "\n",
      "using dimensions ('y', 'x') from data variable o2 as the horizontal dimensions for this dataset.\n",
      "Could not find reference dataset for variables ['areacello'] and grid_label gn\n",
      "No datasets to merge in `combine_grid_labels`.\n",
      "\n",
      "using dimensions ('y', 'x') from data variable o2 as the horizontal dimensions for this dataset.\n",
      "Could not find reference dataset for variables ['areacello' 'thkcello'] and grid_label gn\n",
      "No datasets to merge in `combine_grid_labels`.\n",
      "Could not find reference dataset for variables ['areacello' 'thkcello'] and grid_label gn\n",
      "No datasets to merge in `combine_grid_labels`.\n",
      "Could not find reference dataset for variables ['areacello' 'thkcello'] and grid_label gn\n",
      "No datasets to merge in `combine_grid_labels`.\n",
      "Could not find reference dataset for variables ['areacello' 'thkcello'] and grid_label gn\n",
      "No datasets to merge in `combine_grid_labels`.\n",
      "Could not find reference dataset for variables ['areacello' 'thkcello'] and grid_label gn\n",
      "No datasets to merge in `combine_grid_labels`.\n",
      "Could not find reference dataset for variables ['areacello' 'thkcello'] and grid_label gn\n",
      "No datasets to merge in `combine_grid_labels`.\n",
      "Could not find reference dataset for variables ['areacello' 'thkcello'] and grid_label gn\n",
      "No datasets to merge in `combine_grid_labels`.\n",
      "Could not find reference dataset for variables ['areacello' 'thkcello'] and grid_label gn\n",
      "No datasets to merge in `combine_grid_labels`.\n",
      "Could not find reference dataset for variables ['areacello' 'thkcello'] and grid_label gn\n",
      "No datasets to merge in `combine_grid_labels`.\n",
      "Could not find reference dataset for variables ['areacello' 'thkcello'] and grid_label gn\n",
      "No datasets to merge in `combine_grid_labels`.\n",
      "Could not find reference dataset for variables ['areacello' 'thkcello'] and grid_label gn\n",
      "No datasets to merge in `combine_grid_labels`.\n",
      "Could not find reference dataset for variables ['areacello' 'thkcello'] and grid_label gn\n",
      "No datasets to merge in `combine_grid_labels`.\n",
      "Could not find reference dataset for variables ['areacello' 'thkcello'] and grid_label gn\n",
      "No datasets to merge in `combine_grid_labels`.\n",
      "Could not find reference dataset for variables ['areacello' 'thkcello'] and grid_label gn\n",
      "No datasets to merge in `combine_grid_labels`.\n",
      "Could not find reference dataset for variables ['areacello' 'thkcello'] and grid_label gn\n",
      "No datasets to merge in `combine_grid_labels`.\n",
      "Could not find reference dataset for variables ['areacello' 'thkcello'] and grid_label gn\n",
      "No datasets to merge in `combine_grid_labels`.\n",
      "Could not find reference dataset for variables ['areacello' 'thkcello'] and grid_label gn\n",
      "No datasets to merge in `combine_grid_labels`.\n",
      "Could not find reference dataset for variables ['areacello' 'thkcello'] and grid_label gn\n",
      "No datasets to merge in `combine_grid_labels`.\n",
      "Could not find reference dataset for variables ['areacello' 'thkcello'] and grid_label gn\n",
      "No datasets to merge in `combine_grid_labels`.\n",
      "Could not find reference dataset for variables ['areacello' 'thkcello'] and grid_label gn\n",
      "No datasets to merge in `combine_grid_labels`.\n",
      "Could not find reference dataset for variables ['areacello' 'thkcello'] and grid_label gn\n",
      "No datasets to merge in `combine_grid_labels`.\n",
      "Could not find reference dataset for variables ['areacello' 'thkcello'] and grid_label gn\n",
      "No datasets to merge in `combine_grid_labels`.\n",
      "Could not find reference dataset for variables ['areacello' 'thkcello'] and grid_label gn\n",
      "No datasets to merge in `combine_grid_labels`.\n",
      "Could not find reference dataset for variables ['areacello' 'thkcello'] and grid_label gn\n",
      "No datasets to merge in `combine_grid_labels`.\n",
      "Could not find reference dataset for variables ['areacello' 'thkcello'] and grid_label gn\n",
      "No datasets to merge in `combine_grid_labels`.\n",
      "Could not find reference dataset for variables ['areacello' 'thkcello'] and grid_label gn\n",
      "No datasets to merge in `combine_grid_labels`.\n",
      "Could not find reference dataset for variables ['areacello' 'thkcello'] and grid_label gn\n",
      "No datasets to merge in `combine_grid_labels`.\n",
      "Could not find reference dataset for variables ['areacello' 'thkcello'] and grid_label gn\n",
      "No datasets to merge in `combine_grid_labels`.\n",
      "Could not find reference dataset for variables ['areacello' 'thkcello'] and grid_label gn\n",
      "No datasets to merge in `combine_grid_labels`.\n",
      "Could not find reference dataset for variables ['areacello' 'thkcello'] and grid_label gn\n",
      "No datasets to merge in `combine_grid_labels`.\n",
      "Could not find reference dataset for variables ['areacello' 'thkcello'] and grid_label gn\n",
      "No datasets to merge in `combine_grid_labels`.\n",
      "Could not find reference dataset for variables ['areacello' 'thkcello'] and grid_label gn\n",
      "No datasets to merge in `combine_grid_labels`.\n",
      "Could not find reference dataset for variables ['areacello' 'thkcello'] and grid_label gn\n",
      "No datasets to merge in `combine_grid_labels`.\n",
      "Could not find reference dataset for variables ['areacello' 'thkcello'] and grid_label gn\n",
      "No datasets to merge in `combine_grid_labels`.\n",
      "Could not find reference dataset for variables ['areacello' 'thkcello'] and grid_label gn\n",
      "No datasets to merge in `combine_grid_labels`.\n",
      "Could not find reference dataset for variables ['areacello' 'thkcello'] and grid_label gn\n",
      "No datasets to merge in `combine_grid_labels`.\n",
      "Could not find reference dataset for variables ['areacello' 'thkcello'] and grid_label gn\n",
      "No datasets to merge in `combine_grid_labels`.\n",
      "Could not find reference dataset for variables ['areacello' 'thkcello'] and grid_label gn\n",
      "No datasets to merge in `combine_grid_labels`.\n",
      "Could not find reference dataset for variables ['areacello' 'thkcello'] and grid_label gn\n",
      "No datasets to merge in `combine_grid_labels`.\n",
      "Could not find reference dataset for variables ['areacello' 'thkcello'] and grid_label gn\n",
      "No datasets to merge in `combine_grid_labels`.\n",
      "Could not find reference dataset for variables ['areacello' 'thkcello'] and grid_label gn\n",
      "No datasets to merge in `combine_grid_labels`.\n",
      "Could not find reference dataset for variables ['areacello' 'thkcello'] and grid_label gn\n",
      "No datasets to merge in `combine_grid_labels`.\n",
      "Could not find reference dataset for variables ['areacello' 'thkcello'] and grid_label gn\n",
      "No datasets to merge in `combine_grid_labels`.\n",
      "Could not find reference dataset for variables ['areacello' 'thkcello'] and grid_label gn\n",
      "No datasets to merge in `combine_grid_labels`.\n",
      "Could not find reference dataset for variables ['areacello' 'thkcello'] and grid_label gn\n",
      "No datasets to merge in `combine_grid_labels`.\n",
      "Could not find reference dataset for variables ['areacello' 'thkcello'] and grid_label gn\n",
      "No datasets to merge in `combine_grid_labels`.\n",
      "Could not find reference dataset for variables ['areacello' 'thkcello'] and grid_label gn\n",
      "No datasets to merge in `combine_grid_labels`.\n",
      "Could not find reference dataset for variables ['areacello' 'thkcello'] and grid_label gn\n",
      "No datasets to merge in `combine_grid_labels`.\n",
      "Could not find reference dataset for variables ['areacello' 'thkcello'] and grid_label gn\n",
      "No datasets to merge in `combine_grid_labels`.\n",
      "Could not find reference dataset for variables ['areacello' 'thkcello'] and grid_label gn\n",
      "No datasets to merge in `combine_grid_labels`.\n",
      "Could not find reference dataset for variables ['areacello' 'thkcello'] and grid_label gn\n",
      "No datasets to merge in `combine_grid_labels`.\n",
      "Could not find reference dataset for variables ['areacello' 'thkcello'] and grid_label gn\n",
      "No datasets to merge in `combine_grid_labels`.\n",
      "Could not find reference dataset for variables ['areacello' 'thkcello'] and grid_label gn\n",
      "No datasets to merge in `combine_grid_labels`.\n",
      "Could not find reference dataset for variables ['areacello'] and grid_label gn\n",
      "No datasets to merge in `combine_grid_labels`.\n",
      "Could not find reference dataset for variables ['areacello'] and grid_label gn\n",
      "No datasets to merge in `combine_grid_labels`.\n",
      "Could not find reference dataset for variables ['areacello'] and grid_label gn\n",
      "No datasets to merge in `combine_grid_labels`.\n",
      "Could not find reference dataset for variables ['areacello'] and grid_label gn\n",
      "No datasets to merge in `combine_grid_labels`.\n",
      "Could not find reference dataset for variables ['areacello'] and grid_label gn\n",
      "No datasets to merge in `combine_grid_labels`.\n",
      "Could not find reference dataset for variables ['areacello' 'thkcello'] and grid_label gn\n",
      "No datasets to merge in `combine_grid_labels`.\n",
      "Could not find reference dataset for variables ['areacello' 'thkcello'] and grid_label gn\n",
      "No datasets to merge in `combine_grid_labels`.\n",
      "Could not find reference dataset for variables ['areacello' 'thkcello'] and grid_label gn\n",
      "No datasets to merge in `combine_grid_labels`.\n",
      "Could not find reference dataset for variables ['areacello' 'thkcello'] and grid_label gn\n",
      "No datasets to merge in `combine_grid_labels`.\n",
      "Could not find reference dataset for variables ['areacello' 'thkcello'] and grid_label gn\n",
      "No datasets to merge in `combine_grid_labels`.\n",
      "Could not find reference dataset for variables ['areacello'] and grid_label gn\n",
      "No datasets to merge in `combine_grid_labels`.\n",
      "Could not find reference dataset for variables ['areacello'] and grid_label gn\n",
      "No datasets to merge in `combine_grid_labels`.\n",
      "Could not find reference dataset for variables ['areacello'] and grid_label gn\n",
      "No datasets to merge in `combine_grid_labels`.\n",
      "Could not find reference dataset for variables ['areacello'] and grid_label gn\n",
      "No datasets to merge in `combine_grid_labels`.\n",
      "Could not find reference dataset for variables ['areacello'] and grid_label gn\n",
      "No datasets to merge in `combine_grid_labels`.\n",
      "Could not find reference dataset for variables ['areacello'] and grid_label gn\n",
      "No datasets to merge in `combine_grid_labels`.\n",
      "Could not find reference dataset for variables ['areacello'] and grid_label gn\n",
      "No datasets to merge in `combine_grid_labels`.\n",
      "Could not find reference dataset for variables ['areacello' 'thkcello'] and grid_label gn\n",
      "No datasets to merge in `combine_grid_labels`.\n",
      "Could not find reference dataset for variables ['areacello' 'thkcello'] and grid_label gn\n",
      "No datasets to merge in `combine_grid_labels`.\n",
      "Could not find reference dataset for variables ['areacello' 'thkcello'] and grid_label gn\n",
      "No datasets to merge in `combine_grid_labels`.\n",
      "Could not find reference dataset for variables ['areacello' 'thkcello'] and grid_label gn\n",
      "No datasets to merge in `combine_grid_labels`.\n",
      "Could not find reference dataset for variables ['areacello' 'thkcello'] and grid_label gn\n",
      "No datasets to merge in `combine_grid_labels`.\n",
      "Could not find reference dataset for variables ['areacello' 'thkcello'] and grid_label gn\n",
      "No datasets to merge in `combine_grid_labels`.\n",
      "Could not find reference dataset for variables ['areacello' 'thkcello'] and grid_label gn\n",
      "No datasets to merge in `combine_grid_labels`.\n",
      "Could not find reference dataset for variables ['areacello' 'thkcello'] and grid_label gn\n",
      "No datasets to merge in `combine_grid_labels`.\n",
      "Could not find reference dataset for variables ['areacello' 'thkcello'] and grid_label gn\n",
      "No datasets to merge in `combine_grid_labels`.\n",
      "Could not find reference dataset for variables ['areacello' 'thkcello'] and grid_label gn\n",
      "No datasets to merge in `combine_grid_labels`.\n",
      "Could not find reference dataset for variables ['areacello'] and grid_label gn\n",
      "No datasets to merge in `combine_grid_labels`.\n",
      "Could not find reference dataset for variables ['areacello'] and grid_label gn\n",
      "No datasets to merge in `combine_grid_labels`.\n",
      "Could not find reference dataset for variables ['areacello' 'thkcello'] and grid_label gn\n",
      "No datasets to merge in `combine_grid_labels`.\n",
      "\n",
      "using dimensions ('y', 'x') from data variable agessc as the horizontal dimensions for this dataset.\n",
      "\n",
      "using dimensions ('y', 'x') from data variable o2 as the horizontal dimensions for this dataset.\n",
      "\n",
      "using dimensions ('y', 'x') from data variable so as the horizontal dimensions for this dataset.\n",
      "\n",
      "using dimensions ('y', 'x') from data variable thetao as the horizontal dimensions for this dataset.\n",
      "Could not find reference dataset for variables ['areacello' 'thkcello'] and grid_label gn\n",
      "No datasets to merge in `combine_grid_labels`.\n",
      "\n",
      "using dimensions ('y', 'x') from data variable agessc as the horizontal dimensions for this dataset.\n",
      "\n",
      "using dimensions ('y', 'x') from data variable o2 as the horizontal dimensions for this dataset.\n",
      "\n",
      "using dimensions ('y', 'x') from data variable so as the horizontal dimensions for this dataset.\n",
      "\n",
      "using dimensions ('y', 'x') from data variable thetao as the horizontal dimensions for this dataset.\n",
      "\n",
      "using dimensions ('y', 'x') from data variable o2 as the horizontal dimensions for this dataset.\n",
      "\n",
      "using dimensions ('y', 'x') from data variable o2 as the horizontal dimensions for this dataset.\n"
     ]
    }
   ],
   "source": [
    "import warnings\n",
    "with warnings.catch_warnings():\n",
    "    warnings.simplefilter(\"ignore\")\n",
    "    ddict_nested = nested_dataset_wrapper(ddict_detrended_filtered)"
   ]
  },
  {
   "cell_type": "code",
   "execution_count": null,
   "metadata": {},
   "outputs": [],
   "source": [
    "ddict_detrended_filtered['CMIP.NOAA']"
   ]
  },
  {
   "cell_type": "markdown",
   "metadata": {},
   "source": [
    "## List the model/variables that had to be regridded"
   ]
  },
  {
   "cell_type": "code",
   "execution_count": 20,
   "metadata": {},
   "outputs": [
    {
     "name": "stdout",
     "output_type": "stream",
     "text": [
      "regridded data for CMIP.NCC.NorCPM1.piControl.r1i1p1f1.Omon:['so', 'thetao']\n",
      "regridded data for CMIP.NCC.NorCPM1.piControl.r2i1p1f1.Omon:['so', 'thetao']\n",
      "regridded data for CMIP.NCC.NorCPM1.piControl.r3i1p1f1.Omon:['so', 'thetao']\n",
      "regridded data for CMIP.NCC.NorESM2-LM.historical.r1i1p1f1.Omon:['agessc', 'o2', 'so', 'thetao']\n",
      "regridded data for CMIP.NCC.NorESM2-LM.historical.r2i1p1f1.Omon:['agessc', 'o2', 'so', 'thetao']\n",
      "regridded data for CMIP.NCC.NorESM2-LM.historical.r3i1p1f1.Omon:['agessc', 'o2', 'so', 'thetao']\n",
      "regridded data for CMIP.NCC.NorESM2-LM.piControl.r1i1p1f1.Omon:['agessc', 'o2', 'so', 'thetao']\n",
      "regridded data for CMIP.NCC.NorESM2-MM.historical.r1i1p1f1.Omon:['agessc', 'o2', 'so', 'thetao']\n",
      "regridded data for CMIP.NCC.NorESM2-MM.piControl.r1i1p1f1.Omon:['agessc', 'o2', 'so', 'thetao']\n",
      "regridded data for CMIP.NOAA-GFDL.GFDL-CM4.historical.r1i1p1f1.Omon:['o2']\n",
      "regridded data for CMIP.NOAA-GFDL.GFDL-CM4.piControl.r1i1p1f1.Omon:['mlotst', 'o2']\n",
      "regridded data for CMIP.NOAA-GFDL.GFDL-ESM4.historical.r1i1p1f1.Omon:['o2']\n",
      "regridded data for CMIP.NOAA-GFDL.GFDL-ESM4.piControl.r1i1p1f1.Omon:['o2']\n",
      "regridded data for ScenarioMIP.NCC.NorESM2-LM.ssp585.r1i1p1f1.Omon:['agessc', 'o2', 'so', 'thetao']\n",
      "regridded data for ScenarioMIP.NCC.NorESM2-MM.ssp585.r1i1p1f1.Omon:['agessc', 'o2', 'so', 'thetao']\n",
      "regridded data for ScenarioMIP.NOAA-GFDL.GFDL-CM4.ssp585.r1i1p1f1.Omon:['o2']\n",
      "regridded data for ScenarioMIP.NOAA-GFDL.GFDL-ESM4.ssp585.r1i1p1f1.Omon:['o2']\n"
     ]
    }
   ],
   "source": [
    "for k, ds in ddict_nested.items():\n",
    "    hits = []\n",
    "    if ds is not None:\n",
    "        for va in ds.data_vars:\n",
    "            if 'horizontally_regridded_from_grid_label' in ds[va].attrs.keys():\n",
    "                hits.append(va)\n",
    "        if len(hits)>0:\n",
    "            print(f\"regridded data for {k}:{hits}\")"
   ]
  },
  {
   "cell_type": "code",
   "execution_count": 21,
   "metadata": {},
   "outputs": [
    {
     "name": "stderr",
     "output_type": "stream",
     "text": [
      "/scratch/gpfs/jbusecke/conda_tigercpu/envs/aguadv_omz_busecke_2021/lib/python3.8/site-packages/cmip6_preprocessing/grids.py:358: UserWarning: Could not find the source_id/grid_label (MPI-ESM-1-2-HAM/gn) combo in `grid_dict`, returning `None`. Please submit an issue to github: https://github.com/jbusecke/cmip6_preprocessing/issues\n",
      "  warnings.warn(\n",
      "/scratch/gpfs/jbusecke/conda_tigercpu/envs/aguadv_omz_busecke_2021/lib/python3.8/site-packages/cmip6_preprocessing/grids.py:417: UserWarning: Staggered Grid creation failed. Returning `None`\n",
      "  warnings.warn(\"Staggered Grid creation failed. Returning `None`\")\n"
     ]
    },
    {
     "name": "stdout",
     "output_type": "stream",
     "text": [
      "fail for CMIP.HAMMOZ-Consortium.MPI-ESM-1-2-HAM.historical.r1i1p1f1\n",
      "fail for CMIP.HAMMOZ-Consortium.MPI-ESM-1-2-HAM.historical.r2i1p1f1\n",
      "fail for CMIP.HAMMOZ-Consortium.MPI-ESM-1-2-HAM.piControl.r1i1p1f1\n"
     ]
    }
   ],
   "source": [
    "ddict_nested_metrics = parse_metrics(ddict_nested)"
   ]
  },
  {
   "cell_type": "code",
   "execution_count": 22,
   "metadata": {},
   "outputs": [
    {
     "data": {
      "text/plain": [
       "['CMIP.CCCma.CanESM5-CanOE.historical.r1i1p2f1',\n",
       " 'CMIP.CCCma.CanESM5-CanOE.historical.r2i1p2f1',\n",
       " 'CMIP.CCCma.CanESM5-CanOE.historical.r3i1p2f1',\n",
       " 'CMIP.CCCma.CanESM5-CanOE.piControl.r1i1p2f1',\n",
       " 'CMIP.CCCma.CanESM5.historical.r10i1p1f1',\n",
       " 'CMIP.CCCma.CanESM5.historical.r10i1p2f1',\n",
       " 'CMIP.CCCma.CanESM5.historical.r11i1p1f1',\n",
       " 'CMIP.CCCma.CanESM5.historical.r11i1p2f1',\n",
       " 'CMIP.CCCma.CanESM5.historical.r12i1p1f1',\n",
       " 'CMIP.CCCma.CanESM5.historical.r12i1p2f1',\n",
       " 'CMIP.CCCma.CanESM5.historical.r13i1p1f1',\n",
       " 'CMIP.CCCma.CanESM5.historical.r13i1p2f1',\n",
       " 'CMIP.CCCma.CanESM5.historical.r14i1p1f1',\n",
       " 'CMIP.CCCma.CanESM5.historical.r14i1p2f1',\n",
       " 'CMIP.CCCma.CanESM5.historical.r15i1p1f1',\n",
       " 'CMIP.CCCma.CanESM5.historical.r15i1p2f1',\n",
       " 'CMIP.CCCma.CanESM5.historical.r16i1p1f1',\n",
       " 'CMIP.CCCma.CanESM5.historical.r16i1p2f1',\n",
       " 'CMIP.CCCma.CanESM5.historical.r17i1p1f1',\n",
       " 'CMIP.CCCma.CanESM5.historical.r17i1p2f1',\n",
       " 'CMIP.CCCma.CanESM5.historical.r18i1p1f1',\n",
       " 'CMIP.CCCma.CanESM5.historical.r18i1p2f1',\n",
       " 'CMIP.CCCma.CanESM5.historical.r19i1p1f1',\n",
       " 'CMIP.CCCma.CanESM5.historical.r19i1p2f1',\n",
       " 'CMIP.CCCma.CanESM5.historical.r1i1p1f1',\n",
       " 'CMIP.CCCma.CanESM5.historical.r1i1p2f1',\n",
       " 'CMIP.CCCma.CanESM5.historical.r20i1p1f1',\n",
       " 'CMIP.CCCma.CanESM5.historical.r20i1p2f1',\n",
       " 'CMIP.CCCma.CanESM5.historical.r21i1p1f1',\n",
       " 'CMIP.CCCma.CanESM5.historical.r21i1p2f1',\n",
       " 'CMIP.CCCma.CanESM5.historical.r22i1p1f1',\n",
       " 'CMIP.CCCma.CanESM5.historical.r22i1p2f1',\n",
       " 'CMIP.CCCma.CanESM5.historical.r23i1p1f1',\n",
       " 'CMIP.CCCma.CanESM5.historical.r23i1p2f1',\n",
       " 'CMIP.CCCma.CanESM5.historical.r24i1p1f1',\n",
       " 'CMIP.CCCma.CanESM5.historical.r24i1p2f1',\n",
       " 'CMIP.CCCma.CanESM5.historical.r25i1p1f1',\n",
       " 'CMIP.CCCma.CanESM5.historical.r25i1p2f1',\n",
       " 'CMIP.CCCma.CanESM5.historical.r26i1p2f1',\n",
       " 'CMIP.CCCma.CanESM5.historical.r27i1p2f1',\n",
       " 'CMIP.CCCma.CanESM5.historical.r28i1p2f1',\n",
       " 'CMIP.CCCma.CanESM5.historical.r29i1p2f1',\n",
       " 'CMIP.CCCma.CanESM5.historical.r2i1p1f1',\n",
       " 'CMIP.CCCma.CanESM5.historical.r2i1p2f1',\n",
       " 'CMIP.CCCma.CanESM5.historical.r30i1p2f1',\n",
       " 'CMIP.CCCma.CanESM5.historical.r31i1p2f1',\n",
       " 'CMIP.CCCma.CanESM5.historical.r32i1p2f1',\n",
       " 'CMIP.CCCma.CanESM5.historical.r33i1p2f1',\n",
       " 'CMIP.CCCma.CanESM5.historical.r34i1p2f1',\n",
       " 'CMIP.CCCma.CanESM5.historical.r35i1p2f1',\n",
       " 'CMIP.CCCma.CanESM5.historical.r36i1p2f1',\n",
       " 'CMIP.CCCma.CanESM5.historical.r37i1p2f1',\n",
       " 'CMIP.CCCma.CanESM5.historical.r38i1p2f1',\n",
       " 'CMIP.CCCma.CanESM5.historical.r39i1p2f1',\n",
       " 'CMIP.CCCma.CanESM5.historical.r3i1p1f1',\n",
       " 'CMIP.CCCma.CanESM5.historical.r3i1p2f1',\n",
       " 'CMIP.CCCma.CanESM5.historical.r40i1p2f1',\n",
       " 'CMIP.CCCma.CanESM5.historical.r4i1p1f1',\n",
       " 'CMIP.CCCma.CanESM5.historical.r4i1p2f1',\n",
       " 'CMIP.CCCma.CanESM5.historical.r5i1p1f1',\n",
       " 'CMIP.CCCma.CanESM5.historical.r5i1p2f1',\n",
       " 'CMIP.CCCma.CanESM5.historical.r6i1p1f1',\n",
       " 'CMIP.CCCma.CanESM5.historical.r6i1p2f1',\n",
       " 'CMIP.CCCma.CanESM5.historical.r7i1p1f1',\n",
       " 'CMIP.CCCma.CanESM5.historical.r7i1p2f1',\n",
       " 'CMIP.CCCma.CanESM5.historical.r8i1p1f1',\n",
       " 'CMIP.CCCma.CanESM5.historical.r8i1p2f1',\n",
       " 'CMIP.CCCma.CanESM5.historical.r9i1p1f1',\n",
       " 'CMIP.CCCma.CanESM5.historical.r9i1p2f1',\n",
       " 'CMIP.CCCma.CanESM5.piControl.r1i1p1f1',\n",
       " 'CMIP.CCCma.CanESM5.piControl.r1i1p2f1',\n",
       " 'CMIP.CNRM-CERFACS.CNRM-ESM2-1.historical.r10i1p1f2',\n",
       " 'CMIP.CNRM-CERFACS.CNRM-ESM2-1.historical.r11i1p1f2',\n",
       " 'CMIP.CNRM-CERFACS.CNRM-ESM2-1.historical.r1i1p1f2',\n",
       " 'CMIP.CNRM-CERFACS.CNRM-ESM2-1.historical.r2i1p1f2',\n",
       " 'CMIP.CNRM-CERFACS.CNRM-ESM2-1.historical.r3i1p1f2',\n",
       " 'CMIP.CNRM-CERFACS.CNRM-ESM2-1.historical.r4i1p1f2',\n",
       " 'CMIP.CNRM-CERFACS.CNRM-ESM2-1.historical.r5i1p1f2',\n",
       " 'CMIP.CNRM-CERFACS.CNRM-ESM2-1.historical.r6i1p1f2',\n",
       " 'CMIP.CNRM-CERFACS.CNRM-ESM2-1.historical.r7i1p1f2',\n",
       " 'CMIP.CNRM-CERFACS.CNRM-ESM2-1.historical.r8i1p1f2',\n",
       " 'CMIP.CNRM-CERFACS.CNRM-ESM2-1.historical.r9i1p1f2',\n",
       " 'CMIP.CNRM-CERFACS.CNRM-ESM2-1.piControl.r1i1p1f2',\n",
       " 'CMIP.CSIRO.ACCESS-ESM1-5.historical.r10i1p1f1',\n",
       " 'CMIP.CSIRO.ACCESS-ESM1-5.historical.r1i1p1f1',\n",
       " 'CMIP.CSIRO.ACCESS-ESM1-5.historical.r2i1p1f1',\n",
       " 'CMIP.CSIRO.ACCESS-ESM1-5.historical.r3i1p1f1',\n",
       " 'CMIP.CSIRO.ACCESS-ESM1-5.historical.r4i1p1f1',\n",
       " 'CMIP.CSIRO.ACCESS-ESM1-5.historical.r5i1p1f1',\n",
       " 'CMIP.CSIRO.ACCESS-ESM1-5.historical.r6i1p1f1',\n",
       " 'CMIP.CSIRO.ACCESS-ESM1-5.historical.r8i1p1f1',\n",
       " 'CMIP.CSIRO.ACCESS-ESM1-5.historical.r9i1p1f1',\n",
       " 'CMIP.CSIRO.ACCESS-ESM1-5.piControl.r1i1p1f1',\n",
       " 'CMIP.IPSL.IPSL-CM6A-LR.historical.r10i1p1f1',\n",
       " 'CMIP.IPSL.IPSL-CM6A-LR.historical.r11i1p1f1',\n",
       " 'CMIP.IPSL.IPSL-CM6A-LR.historical.r12i1p1f1',\n",
       " 'CMIP.IPSL.IPSL-CM6A-LR.historical.r13i1p1f1',\n",
       " 'CMIP.IPSL.IPSL-CM6A-LR.historical.r14i1p1f1',\n",
       " 'CMIP.IPSL.IPSL-CM6A-LR.historical.r15i1p1f1',\n",
       " 'CMIP.IPSL.IPSL-CM6A-LR.historical.r16i1p1f1',\n",
       " 'CMIP.IPSL.IPSL-CM6A-LR.historical.r17i1p1f1',\n",
       " 'CMIP.IPSL.IPSL-CM6A-LR.historical.r18i1p1f1',\n",
       " 'CMIP.IPSL.IPSL-CM6A-LR.historical.r19i1p1f1',\n",
       " 'CMIP.IPSL.IPSL-CM6A-LR.historical.r1i1p1f1',\n",
       " 'CMIP.IPSL.IPSL-CM6A-LR.historical.r20i1p1f1',\n",
       " 'CMIP.IPSL.IPSL-CM6A-LR.historical.r21i1p1f1',\n",
       " 'CMIP.IPSL.IPSL-CM6A-LR.historical.r22i1p1f1',\n",
       " 'CMIP.IPSL.IPSL-CM6A-LR.historical.r23i1p1f1',\n",
       " 'CMIP.IPSL.IPSL-CM6A-LR.historical.r24i1p1f1',\n",
       " 'CMIP.IPSL.IPSL-CM6A-LR.historical.r25i1p1f1',\n",
       " 'CMIP.IPSL.IPSL-CM6A-LR.historical.r26i1p1f1',\n",
       " 'CMIP.IPSL.IPSL-CM6A-LR.historical.r27i1p1f1',\n",
       " 'CMIP.IPSL.IPSL-CM6A-LR.historical.r28i1p1f1',\n",
       " 'CMIP.IPSL.IPSL-CM6A-LR.historical.r29i1p1f1',\n",
       " 'CMIP.IPSL.IPSL-CM6A-LR.historical.r2i1p1f1',\n",
       " 'CMIP.IPSL.IPSL-CM6A-LR.historical.r30i1p1f1',\n",
       " 'CMIP.IPSL.IPSL-CM6A-LR.historical.r31i1p1f1',\n",
       " 'CMIP.IPSL.IPSL-CM6A-LR.historical.r32i1p1f1',\n",
       " 'CMIP.IPSL.IPSL-CM6A-LR.historical.r3i1p1f1',\n",
       " 'CMIP.IPSL.IPSL-CM6A-LR.historical.r4i1p1f1',\n",
       " 'CMIP.IPSL.IPSL-CM6A-LR.historical.r5i1p1f1',\n",
       " 'CMIP.IPSL.IPSL-CM6A-LR.historical.r6i1p1f1',\n",
       " 'CMIP.IPSL.IPSL-CM6A-LR.historical.r7i1p1f1',\n",
       " 'CMIP.IPSL.IPSL-CM6A-LR.historical.r8i1p1f1',\n",
       " 'CMIP.IPSL.IPSL-CM6A-LR.historical.r9i1p1f1',\n",
       " 'CMIP.IPSL.IPSL-CM6A-LR.piControl.r1i1p1f1',\n",
       " 'CMIP.IPSL.IPSL-CM6A-LR.piControl.r1i2p1f1',\n",
       " 'CMIP.MIROC.MIROC-ES2L.piControl.r1i1p1f2',\n",
       " 'CMIP.MOHC.UKESM1-0-LL.historical.r10i1p1f2',\n",
       " 'CMIP.MOHC.UKESM1-0-LL.historical.r11i1p1f2',\n",
       " 'CMIP.MOHC.UKESM1-0-LL.historical.r12i1p1f2',\n",
       " 'CMIP.MOHC.UKESM1-0-LL.historical.r16i1p1f2',\n",
       " 'CMIP.MOHC.UKESM1-0-LL.historical.r17i1p1f2',\n",
       " 'CMIP.MOHC.UKESM1-0-LL.historical.r18i1p1f2',\n",
       " 'CMIP.MOHC.UKESM1-0-LL.historical.r19i1p1f2',\n",
       " 'CMIP.MOHC.UKESM1-0-LL.historical.r1i1p1f2',\n",
       " 'CMIP.MOHC.UKESM1-0-LL.historical.r2i1p1f2',\n",
       " 'CMIP.MOHC.UKESM1-0-LL.historical.r3i1p1f2',\n",
       " 'CMIP.MOHC.UKESM1-0-LL.historical.r4i1p1f2',\n",
       " 'CMIP.MOHC.UKESM1-0-LL.historical.r5i1p1f3',\n",
       " 'CMIP.MOHC.UKESM1-0-LL.historical.r6i1p1f3',\n",
       " 'CMIP.MOHC.UKESM1-0-LL.historical.r7i1p1f3',\n",
       " 'CMIP.MOHC.UKESM1-0-LL.historical.r8i1p1f2',\n",
       " 'CMIP.MOHC.UKESM1-0-LL.historical.r9i1p1f2',\n",
       " 'CMIP.MOHC.UKESM1-0-LL.piControl.r1i1p1f2',\n",
       " 'CMIP.MPI-M.MPI-ESM1-2-HR.historical.r10i1p1f1',\n",
       " 'CMIP.MPI-M.MPI-ESM1-2-HR.historical.r1i1p1f1',\n",
       " 'CMIP.MPI-M.MPI-ESM1-2-HR.historical.r2i1p1f1',\n",
       " 'CMIP.MPI-M.MPI-ESM1-2-HR.historical.r3i1p1f1',\n",
       " 'CMIP.MPI-M.MPI-ESM1-2-HR.historical.r4i1p1f1',\n",
       " 'CMIP.MPI-M.MPI-ESM1-2-HR.historical.r5i1p1f1',\n",
       " 'CMIP.MPI-M.MPI-ESM1-2-HR.historical.r6i1p1f1',\n",
       " 'CMIP.MPI-M.MPI-ESM1-2-HR.historical.r7i1p1f1',\n",
       " 'CMIP.MPI-M.MPI-ESM1-2-HR.historical.r8i1p1f1',\n",
       " 'CMIP.MPI-M.MPI-ESM1-2-HR.historical.r9i1p1f1',\n",
       " 'CMIP.MPI-M.MPI-ESM1-2-HR.piControl.r1i1p1f1',\n",
       " 'CMIP.MPI-M.MPI-ESM1-2-LR.historical.r10i1p1f1',\n",
       " 'CMIP.MPI-M.MPI-ESM1-2-LR.historical.r1i1p1f1',\n",
       " 'CMIP.MPI-M.MPI-ESM1-2-LR.historical.r2i1p1f1',\n",
       " 'CMIP.MPI-M.MPI-ESM1-2-LR.historical.r3i1p1f1',\n",
       " 'CMIP.MPI-M.MPI-ESM1-2-LR.historical.r4i1p1f1',\n",
       " 'CMIP.MPI-M.MPI-ESM1-2-LR.historical.r5i1p1f1',\n",
       " 'CMIP.MPI-M.MPI-ESM1-2-LR.historical.r6i1p1f1',\n",
       " 'CMIP.MPI-M.MPI-ESM1-2-LR.historical.r7i1p1f1',\n",
       " 'CMIP.MPI-M.MPI-ESM1-2-LR.historical.r8i1p1f1',\n",
       " 'CMIP.MPI-M.MPI-ESM1-2-LR.historical.r9i1p1f1',\n",
       " 'CMIP.MPI-M.MPI-ESM1-2-LR.piControl.r1i1p1f1',\n",
       " 'CMIP.MPI-M.MPI-ESM1-2-LR.piControl.r2i1p1f1',\n",
       " 'CMIP.MRI.MRI-ESM2-0.historical.r1i1p1f1',\n",
       " 'CMIP.MRI.MRI-ESM2-0.historical.r1i2p1f1',\n",
       " 'CMIP.MRI.MRI-ESM2-0.historical.r2i1p1f1',\n",
       " 'CMIP.MRI.MRI-ESM2-0.historical.r3i1p1f1',\n",
       " 'CMIP.MRI.MRI-ESM2-0.historical.r4i1p1f1',\n",
       " 'CMIP.MRI.MRI-ESM2-0.historical.r5i1p1f1',\n",
       " 'CMIP.MRI.MRI-ESM2-0.piControl.r1i1p1f1',\n",
       " 'CMIP.MRI.MRI-ESM2-0.piControl.r1i2p1f1',\n",
       " 'CMIP.NCC.NorCPM1.historical.r10i1p1f1',\n",
       " 'CMIP.NCC.NorCPM1.historical.r11i1p1f1',\n",
       " 'CMIP.NCC.NorCPM1.historical.r12i1p1f1',\n",
       " 'CMIP.NCC.NorCPM1.historical.r13i1p1f1',\n",
       " 'CMIP.NCC.NorCPM1.historical.r14i1p1f1',\n",
       " 'CMIP.NCC.NorCPM1.historical.r15i1p1f1',\n",
       " 'CMIP.NCC.NorCPM1.historical.r16i1p1f1',\n",
       " 'CMIP.NCC.NorCPM1.historical.r17i1p1f1',\n",
       " 'CMIP.NCC.NorCPM1.historical.r18i1p1f1',\n",
       " 'CMIP.NCC.NorCPM1.historical.r19i1p1f1',\n",
       " 'CMIP.NCC.NorCPM1.historical.r1i1p1f1',\n",
       " 'CMIP.NCC.NorCPM1.historical.r20i1p1f1',\n",
       " 'CMIP.NCC.NorCPM1.historical.r21i1p1f1',\n",
       " 'CMIP.NCC.NorCPM1.historical.r22i1p1f1',\n",
       " 'CMIP.NCC.NorCPM1.historical.r23i1p1f1',\n",
       " 'CMIP.NCC.NorCPM1.historical.r24i1p1f1',\n",
       " 'CMIP.NCC.NorCPM1.historical.r25i1p1f1',\n",
       " 'CMIP.NCC.NorCPM1.historical.r26i1p1f1',\n",
       " 'CMIP.NCC.NorCPM1.historical.r27i1p1f1',\n",
       " 'CMIP.NCC.NorCPM1.historical.r28i1p1f1',\n",
       " 'CMIP.NCC.NorCPM1.historical.r29i1p1f1',\n",
       " 'CMIP.NCC.NorCPM1.historical.r2i1p1f1',\n",
       " 'CMIP.NCC.NorCPM1.historical.r30i1p1f1',\n",
       " 'CMIP.NCC.NorCPM1.historical.r3i1p1f1',\n",
       " 'CMIP.NCC.NorCPM1.historical.r4i1p1f1',\n",
       " 'CMIP.NCC.NorCPM1.historical.r5i1p1f1',\n",
       " 'CMIP.NCC.NorCPM1.historical.r6i1p1f1',\n",
       " 'CMIP.NCC.NorCPM1.historical.r7i1p1f1',\n",
       " 'CMIP.NCC.NorCPM1.historical.r8i1p1f1',\n",
       " 'CMIP.NCC.NorCPM1.historical.r9i1p1f1',\n",
       " 'CMIP.NCC.NorCPM1.piControl.r1i1p1f1',\n",
       " 'CMIP.NCC.NorCPM1.piControl.r2i1p1f1',\n",
       " 'CMIP.NCC.NorCPM1.piControl.r3i1p1f1',\n",
       " 'CMIP.NCC.NorESM2-LM.historical.r1i1p1f1',\n",
       " 'CMIP.NCC.NorESM2-LM.historical.r2i1p1f1',\n",
       " 'CMIP.NCC.NorESM2-LM.historical.r3i1p1f1',\n",
       " 'CMIP.NCC.NorESM2-LM.piControl.r1i1p1f1',\n",
       " 'CMIP.NCC.NorESM2-MM.historical.r1i1p1f1',\n",
       " 'CMIP.NCC.NorESM2-MM.piControl.r1i1p1f1',\n",
       " 'CMIP.NOAA-GFDL.GFDL-CM4.piControl.r1i1p1f1',\n",
       " 'CMIP.NOAA-GFDL.GFDL-ESM4.historical.r1i1p1f1',\n",
       " 'CMIP.NOAA-GFDL.GFDL-ESM4.piControl.r1i1p1f1',\n",
       " 'ScenarioMIP.CCCma.CanESM5-CanOE.ssp585.r1i1p2f1',\n",
       " 'ScenarioMIP.CCCma.CanESM5-CanOE.ssp585.r2i1p2f1',\n",
       " 'ScenarioMIP.CCCma.CanESM5-CanOE.ssp585.r3i1p2f1',\n",
       " 'ScenarioMIP.CCCma.CanESM5.ssp585.r10i1p1f1',\n",
       " 'ScenarioMIP.CCCma.CanESM5.ssp585.r10i1p2f1',\n",
       " 'ScenarioMIP.CCCma.CanESM5.ssp585.r11i1p1f1',\n",
       " 'ScenarioMIP.CCCma.CanESM5.ssp585.r11i1p2f1',\n",
       " 'ScenarioMIP.CCCma.CanESM5.ssp585.r12i1p1f1',\n",
       " 'ScenarioMIP.CCCma.CanESM5.ssp585.r12i1p2f1',\n",
       " 'ScenarioMIP.CCCma.CanESM5.ssp585.r13i1p1f1',\n",
       " 'ScenarioMIP.CCCma.CanESM5.ssp585.r13i1p2f1',\n",
       " 'ScenarioMIP.CCCma.CanESM5.ssp585.r14i1p1f1',\n",
       " 'ScenarioMIP.CCCma.CanESM5.ssp585.r14i1p2f1',\n",
       " 'ScenarioMIP.CCCma.CanESM5.ssp585.r15i1p1f1',\n",
       " 'ScenarioMIP.CCCma.CanESM5.ssp585.r15i1p2f1',\n",
       " 'ScenarioMIP.CCCma.CanESM5.ssp585.r16i1p1f1',\n",
       " 'ScenarioMIP.CCCma.CanESM5.ssp585.r16i1p2f1',\n",
       " 'ScenarioMIP.CCCma.CanESM5.ssp585.r17i1p1f1',\n",
       " 'ScenarioMIP.CCCma.CanESM5.ssp585.r17i1p2f1',\n",
       " 'ScenarioMIP.CCCma.CanESM5.ssp585.r18i1p1f1',\n",
       " 'ScenarioMIP.CCCma.CanESM5.ssp585.r18i1p2f1',\n",
       " 'ScenarioMIP.CCCma.CanESM5.ssp585.r19i1p1f1',\n",
       " 'ScenarioMIP.CCCma.CanESM5.ssp585.r19i1p2f1',\n",
       " 'ScenarioMIP.CCCma.CanESM5.ssp585.r1i1p1f1',\n",
       " 'ScenarioMIP.CCCma.CanESM5.ssp585.r1i1p2f1',\n",
       " 'ScenarioMIP.CCCma.CanESM5.ssp585.r20i1p1f1',\n",
       " 'ScenarioMIP.CCCma.CanESM5.ssp585.r20i1p2f1',\n",
       " 'ScenarioMIP.CCCma.CanESM5.ssp585.r21i1p1f1',\n",
       " 'ScenarioMIP.CCCma.CanESM5.ssp585.r21i1p2f1',\n",
       " 'ScenarioMIP.CCCma.CanESM5.ssp585.r22i1p1f1',\n",
       " 'ScenarioMIP.CCCma.CanESM5.ssp585.r22i1p2f1',\n",
       " 'ScenarioMIP.CCCma.CanESM5.ssp585.r23i1p1f1',\n",
       " 'ScenarioMIP.CCCma.CanESM5.ssp585.r23i1p2f1',\n",
       " 'ScenarioMIP.CCCma.CanESM5.ssp585.r24i1p1f1',\n",
       " 'ScenarioMIP.CCCma.CanESM5.ssp585.r24i1p2f1',\n",
       " 'ScenarioMIP.CCCma.CanESM5.ssp585.r25i1p1f1',\n",
       " 'ScenarioMIP.CCCma.CanESM5.ssp585.r25i1p2f1',\n",
       " 'ScenarioMIP.CCCma.CanESM5.ssp585.r2i1p1f1',\n",
       " 'ScenarioMIP.CCCma.CanESM5.ssp585.r2i1p2f1',\n",
       " 'ScenarioMIP.CCCma.CanESM5.ssp585.r3i1p1f1',\n",
       " 'ScenarioMIP.CCCma.CanESM5.ssp585.r3i1p2f1',\n",
       " 'ScenarioMIP.CCCma.CanESM5.ssp585.r4i1p1f1',\n",
       " 'ScenarioMIP.CCCma.CanESM5.ssp585.r4i1p2f1',\n",
       " 'ScenarioMIP.CCCma.CanESM5.ssp585.r5i1p1f1',\n",
       " 'ScenarioMIP.CCCma.CanESM5.ssp585.r5i1p2f1',\n",
       " 'ScenarioMIP.CCCma.CanESM5.ssp585.r6i1p1f1',\n",
       " 'ScenarioMIP.CCCma.CanESM5.ssp585.r6i1p2f1',\n",
       " 'ScenarioMIP.CCCma.CanESM5.ssp585.r7i1p1f1',\n",
       " 'ScenarioMIP.CCCma.CanESM5.ssp585.r7i1p2f1',\n",
       " 'ScenarioMIP.CCCma.CanESM5.ssp585.r8i1p1f1',\n",
       " 'ScenarioMIP.CCCma.CanESM5.ssp585.r8i1p2f1',\n",
       " 'ScenarioMIP.CCCma.CanESM5.ssp585.r9i1p1f1',\n",
       " 'ScenarioMIP.CCCma.CanESM5.ssp585.r9i1p2f1',\n",
       " 'ScenarioMIP.CNRM-CERFACS.CNRM-ESM2-1.ssp585.r1i1p1f2',\n",
       " 'ScenarioMIP.CNRM-CERFACS.CNRM-ESM2-1.ssp585.r2i1p1f2',\n",
       " 'ScenarioMIP.CNRM-CERFACS.CNRM-ESM2-1.ssp585.r3i1p1f2',\n",
       " 'ScenarioMIP.CNRM-CERFACS.CNRM-ESM2-1.ssp585.r4i1p1f2',\n",
       " 'ScenarioMIP.CNRM-CERFACS.CNRM-ESM2-1.ssp585.r5i1p1f2',\n",
       " 'ScenarioMIP.CSIRO.ACCESS-ESM1-5.ssp585.r1i1p1f1',\n",
       " 'ScenarioMIP.CSIRO.ACCESS-ESM1-5.ssp585.r2i1p1f1',\n",
       " 'ScenarioMIP.CSIRO.ACCESS-ESM1-5.ssp585.r3i1p1f1',\n",
       " 'ScenarioMIP.DKRZ.MPI-ESM1-2-HR.ssp585.r1i1p1f1',\n",
       " 'ScenarioMIP.DWD.MPI-ESM1-2-HR.ssp585.r2i1p1f1',\n",
       " 'ScenarioMIP.IPSL.IPSL-CM6A-LR.ssp585.r14i1p1f1',\n",
       " 'ScenarioMIP.IPSL.IPSL-CM6A-LR.ssp585.r1i1p1f1',\n",
       " 'ScenarioMIP.IPSL.IPSL-CM6A-LR.ssp585.r2i1p1f1',\n",
       " 'ScenarioMIP.IPSL.IPSL-CM6A-LR.ssp585.r3i1p1f1',\n",
       " 'ScenarioMIP.IPSL.IPSL-CM6A-LR.ssp585.r4i1p1f1',\n",
       " 'ScenarioMIP.IPSL.IPSL-CM6A-LR.ssp585.r6i1p1f1',\n",
       " 'ScenarioMIP.MOHC.UKESM1-0-LL.ssp585.r1i1p1f2',\n",
       " 'ScenarioMIP.MOHC.UKESM1-0-LL.ssp585.r2i1p1f2',\n",
       " 'ScenarioMIP.MOHC.UKESM1-0-LL.ssp585.r3i1p1f2',\n",
       " 'ScenarioMIP.MOHC.UKESM1-0-LL.ssp585.r4i1p1f2',\n",
       " 'ScenarioMIP.MOHC.UKESM1-0-LL.ssp585.r8i1p1f2',\n",
       " 'ScenarioMIP.MPI-M.MPI-ESM1-2-LR.ssp585.r10i1p1f1',\n",
       " 'ScenarioMIP.MPI-M.MPI-ESM1-2-LR.ssp585.r1i1p1f1',\n",
       " 'ScenarioMIP.MPI-M.MPI-ESM1-2-LR.ssp585.r2i1p1f1',\n",
       " 'ScenarioMIP.MPI-M.MPI-ESM1-2-LR.ssp585.r3i1p1f1',\n",
       " 'ScenarioMIP.MPI-M.MPI-ESM1-2-LR.ssp585.r4i1p1f1',\n",
       " 'ScenarioMIP.MPI-M.MPI-ESM1-2-LR.ssp585.r5i1p1f1',\n",
       " 'ScenarioMIP.MPI-M.MPI-ESM1-2-LR.ssp585.r6i1p1f1',\n",
       " 'ScenarioMIP.MPI-M.MPI-ESM1-2-LR.ssp585.r7i1p1f1',\n",
       " 'ScenarioMIP.MPI-M.MPI-ESM1-2-LR.ssp585.r8i1p1f1',\n",
       " 'ScenarioMIP.MPI-M.MPI-ESM1-2-LR.ssp585.r9i1p1f1',\n",
       " 'ScenarioMIP.MRI.MRI-ESM2-0.ssp585.r1i1p1f1',\n",
       " 'ScenarioMIP.MRI.MRI-ESM2-0.ssp585.r1i2p1f1',\n",
       " 'ScenarioMIP.NCC.NorESM2-LM.ssp585.r1i1p1f1',\n",
       " 'ScenarioMIP.NCC.NorESM2-MM.ssp585.r1i1p1f1',\n",
       " 'ScenarioMIP.NOAA-GFDL.GFDL-ESM4.ssp585.r1i1p1f1']"
      ]
     },
     "execution_count": 22,
     "metadata": {},
     "output_type": "execute_result"
    }
   ],
   "source": [
    "list(ddict_nested_metrics.keys())"
   ]
  },
  {
   "cell_type": "markdown",
   "metadata": {},
   "source": [
    "## First test of the detrended data"
   ]
  },
  {
   "cell_type": "code",
   "execution_count": null,
   "metadata": {},
   "outputs": [],
   "source": [
    "# # quick detrending QC example\n",
    "# roi = {'x':180, 'y':130, 'lev':30}\n",
    "# plot_vars = ['thetao', 'so', 'o2']\n",
    "# test_plot_dict_raw = ddict\n",
    "# test_plot_dict_detrended = ddict_detrended\n",
    "\n",
    "\n",
    "# for k in [kk for kk in test_plot_dict_detrended.keys() if 'historical' in kk]:\n",
    "#     print(k)\n",
    "#     if not any([s in k for s in plot_vars]):\n",
    "#         print('k')\n",
    "#         pass\n",
    "#     else:\n",
    "#         hist_detrended = test_plot_dict_detrended[k]\n",
    "#         hist = test_plot_dict_raw[k]\n",
    "        \n",
    "#         var = hist.attrs['variable_id']\n",
    "#         with ProgressBar():\n",
    "#             hist[var].isel(**roi).resample(time='5AS').mean().plot(color='C0')\n",
    "#             hist_detrended[var].isel(**roi).resample(time='5AS').mean().plot(color='C1')\n",
    "            \n",
    "#         try:\n",
    "#             k_cc = k.replace('CMIP', 'ScenarioMIP').replace('historical', 'ssp585')\n",
    "#             cc_detrended = test_plot_dict_detrended[k_cc]\n",
    "#             cc = test_plot_dict_raw[k_cc]\n",
    "#             cc[var].isel(**roi).resample(time='5AS').mean().plot(color='C0')\n",
    "#             cc_detrended[var].isel(**roi).resample(time='5AS').mean().plot(color='C1')\n",
    "#         except:\n",
    "#             print(f'cc failed for {k}')\n",
    "            \n",
    "            \n",
    "#         plt.title(k)\n",
    "#         plt.show()"
   ]
  },
  {
   "cell_type": "markdown",
   "metadata": {},
   "source": [
    "## Test the nested (and regridded) output"
   ]
  },
  {
   "cell_type": "code",
   "execution_count": null,
   "metadata": {},
   "outputs": [],
   "source": [
    "# # ds_plot = ddict_nested_metrics['CMIP.MPI-M.MPI-ESM1-2-HR.historical.r1i1p1f1']\n",
    "# ds_plot = ddict_nested_metrics['CMIP.MIROC.MIROC-ES2L.historical.r3i1p1f2']\n",
    "# ds_plot"
   ]
  },
  {
   "cell_type": "code",
   "execution_count": null,
   "metadata": {},
   "outputs": [],
   "source": [
    "# # roi = {'x':180, 'y':130, 'lev':30}\n",
    "\n",
    "# roi = {'x':180, 'y':130, 'lev':20} # for medium res...\n",
    "# # roi = {'x':300, 'y':250, 'lev':20} # for higher res...\n",
    "# with ProgressBar():\n",
    "#     ds_plot.isel(**roi).thetao.plot()"
   ]
  },
  {
   "cell_type": "code",
   "execution_count": null,
   "metadata": {},
   "outputs": [],
   "source": [
    "# with ProgressBar():\n",
    "#     ds_plot.isel(**roi).agessc.plot()"
   ]
  },
  {
   "cell_type": "code",
   "execution_count": null,
   "metadata": {},
   "outputs": [],
   "source": [
    "# roi = {'x':180, 'y':130, 'lev':0}\n",
    "# with ProgressBar():\n",
    "#     ds_plot.isel(**roi).dz_t.plot()"
   ]
  },
  {
   "cell_type": "code",
   "execution_count": null,
   "metadata": {},
   "outputs": [],
   "source": [
    "# ds_plot.isel(**roi).dz_t"
   ]
  },
  {
   "cell_type": "markdown",
   "metadata": {},
   "source": [
    "## Cheap copy paste of the transformation code on the quick"
   ]
  },
  {
   "cell_type": "code",
   "execution_count": null,
   "metadata": {},
   "outputs": [],
   "source": []
  },
  {
   "cell_type": "code",
   "execution_count": null,
   "metadata": {},
   "outputs": [],
   "source": [
    "def resample_yearly(ds_in, freq=\"1AS\"):\n",
    "    # this drops some coordinates, so i need to convert them to data_vars and then reconvert\n",
    "    time_coords = [\n",
    "        co\n",
    "        for co in list(ds_in.coords)\n",
    "        if \"time\" in ds_in[co].dims and co not in [\"time\", \"time_bounds\"]\n",
    "    ]\n",
    "    ds_out = ds_in.reset_coords(time_coords).resample(time=freq).mean()\n",
    "    ds_out = ds_out.assign_coords({co: ds_out[co] for co in time_coords})\n",
    "    ds_out.attrs.update({k: v for k, v in ds_in.attrs.items() if k not in [\"table_id\"]})\n",
    "    return ds_out\n",
    "\n",
    "\n",
    "def align_missing(ds_in):\n",
    "    \"\"\"Make sure that nans in all fields of a dataset are consistent.\n",
    "    Requires\"\"\"\n",
    "    # Due to the interpolation between `gr` and `gn`, we have to make sure that all data variables are masked in the same way!\n",
    "\n",
    "    ds_mask = ds_in\n",
    "    # for generalization np.logical_or.reduce((x, y, z))https://stackoverflow.com/questions/20528328/numpy-logical-or-for-more-than-two-arguments\n",
    "    combo_nanmask = np.logical_or(\n",
    "        np.isnan(ds_mask.o2).all(\"time\").load(),\n",
    "        np.isnan(ds_mask.thetao).all(\"time\").load(),\n",
    "    )\n",
    "    try:\n",
    "        plt.figure()\n",
    "        combo_nanmask.isel(lev=5).plot()\n",
    "        plt.show()\n",
    "    except:\n",
    "        pass\n",
    "\n",
    "    ds_out = ds_in.where(~combo_nanmask)\n",
    "\n",
    "    return ds_out"
   ]
  },
  {
   "cell_type": "code",
   "execution_count": null,
   "metadata": {},
   "outputs": [],
   "source": [
    "list(ddict_nested_metrics.keys())"
   ]
  },
  {
   "cell_type": "code",
   "execution_count": null,
   "metadata": {},
   "outputs": [],
   "source": [
    "for name, ds in ddict_nested_metrics.items():\n",
    "    required_vars = [\"thetao\", \"so\", \"o2\", \"dz_t\"]#\"areacello\", \n",
    "    if not all(\n",
    "        [va in ds.variables for va in required_vars]\n",
    "    ):\n",
    "        print(f\"!!!\\nMissing Variables {name}\\n!!!\")\n",
    "        print([va for va in list(ds.variables) if va in required_vars])\n",
    "    else:\n",
    "        print(f\"@@@@@@@@@@@@@@@@@\\nProcessing {name}\\n@@@@@@@@@@@@@@@@@\")\n",
    "\n",
    "        dataset_id = f\"{cmip6_dataset_id(ds)}_{ds.attrs['variant_label']}\"\n",
    "        filename = ofolder.joinpath(f\"{dataset_id}.zarr\")\n",
    "\n",
    "        t0 = time.time()\n",
    "        if file_exist_check(filename) and not overwrite:\n",
    "            print(\"Skipping. File exists already.\")\n",
    "            ds_sigma_reloaded = xr.open_zarr(\n",
    "                filename, use_cftime=True, consolidated=True\n",
    "            )\n",
    "            try:\n",
    "                plot_omz_results(ds_sigma_reloaded)\n",
    "            except Exception as e:\n",
    "                print(f\"Plotting failed with: {e}\")\n",
    "        else:\n",
    "\n",
    "            print(f\"Writing to {filename}\")\n",
    "\n",
    "            tempfilelist = []\n",
    "\n",
    "            plt.figure()\n",
    "            ds.isel(time=200, lev=10).thetao.plot()\n",
    "            plt.show()\n",
    "\n",
    "            ## make sure the variables have been detrended (control run should not be)\n",
    "\n",
    "            for va in [vv for vv in ds.data_vars if vv != \"mlotst\"]:\n",
    "                print(va)\n",
    "                if ds.attrs[\"experiment_id\"] == \"piControl\":\n",
    "                    assert \"detrended_with_file\" not in ds[va].attrs.keys()\n",
    "                else:\n",
    "                    assert \"detrended_with_file\" in ds[va].attrs.keys()\n",
    "\n",
    "            # make sure the area has not been interpolated. I think the thickness is ok?\n",
    "            for va in [\"areacello\"]:\n",
    "                if va in ds.variables:\n",
    "                    assert (\n",
    "                        \"horizontally_regridded_from_grid_label\" not in ds[va].attrs.keys()\n",
    "                    )\n",
    "\n",
    "            if ds.attrs[\"experiment_id\"] == \"piControl\":\n",
    "                ds = ds.isel(time=slice(-300 * 12, None))\n",
    "\n",
    "            ds = preprocessing_wrapper(ds)\n",
    "            \n",
    "            print('First temp save')\n",
    "            with warnings.catch_warnings():\n",
    "                warnings.filterwarnings(\"ignore\")\n",
    "\n",
    "                ds, tempfilelist_var = temp_write_split(\n",
    "                    ds,\n",
    "                    tempfolder,\n",
    "                    method='dimension',\n",
    "                    verbose=True,\n",
    "                    split_interval=12*10 if len(ds.x) < 700 else 12*1, # 2 years worked fine with ESM4 but for CM4 I just reduced it again..\n",
    "                    file_name_pattern='raw_intermediate'\n",
    "                )\n",
    "                tempfilelist.extend(tempfilelist_var)\n",
    "\n",
    "            print(\"Rechunking incoming dataset\")\n",
    "            with ProgressBar():\n",
    "                temppath = tempfolder.joinpath(\"rechunked_intermediate.zarr\")\n",
    "                ds = save_and_reload_rechunker(ds.astype(np.float32), path=temppath)\n",
    "                tempfilelist.append(temppath)\n",
    "\n",
    "            # I need to align.mask the thickness aswell!\n",
    "            ds = ds.reset_coords([\"dz_t\"])\n",
    "            print(\"masking all fields consistently\")\n",
    "            with ProgressBar():\n",
    "                ds = align_missing(ds)\n",
    "\n",
    "            print(f\"Remove bottom values\")\n",
    "            ds = remove_bottom_values(ds)\n",
    "\n",
    "            print(f\"Remove ML\")\n",
    "            ds = mixed_layer_wrapper(ds)\n",
    "\n",
    "            ds = ds.set_coords(\"dz_t\")\n",
    "\n",
    "            ds[\"omz_thickness\"] = omz_thickness(\n",
    "                ds, o2_bins=o2_bins\n",
    "            )\n",
    "\n",
    "            ds[\"sigma_0\"] = (fastjmd95.rho(ds.so, ds.thetao, 0) - 1000)\n",
    "            \n",
    "            ds_sigma_monthly = transform_wrapper_again(ds)\n",
    "\n",
    "            perc_difference, omz_perc_difference = volume_consistency_checks(\n",
    "                ds, ds_sigma_monthly\n",
    "            )\n",
    "\n",
    "            print(\n",
    "                f\"Relative difference ocean vol: {abs(perc_difference).data}% | OMZ vol {abs(omz_perc_difference).data}%\"\n",
    "            )\n",
    "\n",
    "            if (abs(perc_difference) > 0.1).any() or (\n",
    "                abs(omz_perc_difference) > 0.25# Had to increase for ESM4 before most would pass 0.01\n",
    "            ).any():\n",
    "                print(\"Volume differences exceed threshold. NOT SAVING.\")\n",
    "                print('\\x1b[31m\"red\"\\x1b[0m')\n",
    "            else:\n",
    "                ds_sigma_yearly = strip_encoding(resample_yearly(ds_sigma_monthly))\n",
    "                with warnings.catch_warnings():\n",
    "                    warnings.filterwarnings(\"ignore\")\n",
    "\n",
    "                    ds_sigma_yearly, tempfilelist_var = temp_write_split(\n",
    "                        ds_sigma_yearly,\n",
    "                        tempfolder,\n",
    "                        verbose=True,\n",
    "                        method='dimension',\n",
    "                        split_interval=3,\n",
    "                    )\n",
    "                    tempfilelist.extend(tempfilelist_var)\n",
    "\n",
    "                # rechunk the resulting file for convenience\n",
    "                ds_sigma_yearly = strip_encoding(\n",
    "                    ds_sigma_yearly.chunk({\"x\": -1, \"y\": -1, \"time\": 2})\n",
    "                )\n",
    "\n",
    "                #################### write out results ########################\n",
    "                with ProgressBar():\n",
    "                    ds_sigma_reloaded = write(\n",
    "                        ds_sigma_yearly,\n",
    "                        filename,\n",
    "                        overwrite=overwrite,\n",
    "                        force_load=False,\n",
    "                        check_zarr_complete=True,\n",
    "                    )\n",
    "            ###### delete temps ######\n",
    "            for tf in tempfilelist:\n",
    "                if tf.exists():\n",
    "                    shutil.rmtree(tf)\n",
    "            ##################### Verification plotting ##########################\n",
    "            try:\n",
    "                plot_omz_results(ds_sigma_reloaded)\n",
    "            except Exception as e:\n",
    "                print(f\"Plotting failed with: {e}\")\n",
    "        plt.show()\n",
    "        t1 = time.time()\n",
    "        print(f\"Time passed: {(t1-t0)/60} minutes\")"
   ]
  },
  {
   "cell_type": "markdown",
   "metadata": {},
   "source": [
    "## More distributed\n",
    "\n",
    "- Can I avoid the weird stealing crash (with old dask version) by just running two constant nodes, no singing on of off of workers?"
   ]
  },
  {
   "cell_type": "markdown",
   "metadata": {},
   "source": [
    "## Experimenting with distributed to speed up CM4 (did not really succeed)\n",
    "\n",
    "### Notes\n",
    "\n",
    "- I cant get this to work with distributed. It did work, and was wonderfully fast. But it always got stuck with one stalled worker (which wouldnt even dissapear when I killed the process manually). \n",
    "- So I updated the dask versions and then the computation would not even start (I think it was still churning but took forever to even start the computation on the last step)\n",
    "- FANTASTIC. NOW THAT HAS BUSTED THE OTHER WORKFLOW TOO....I HATE THIS...\n",
    "\n",
    "- OK I can use the old env to run this with the threaded scheduler (slow) or use distributed (as long as I make sure that workers do not get disconnected, which leads to that stalled 'stealing' behvior)\n",
    "- First let me check if the brand new env solves this at all..."
   ]
  },
  {
   "cell_type": "code",
   "execution_count": null,
   "metadata": {},
   "outputs": [],
   "source": []
  },
  {
   "cell_type": "code",
   "execution_count": null,
   "metadata": {},
   "outputs": [],
   "source": []
  }
 ],
 "metadata": {
  "kernelspec": {
   "display_name": "Python [conda env:conda_tigressdata-aguadv_omz_busecke_2021]",
   "language": "python",
   "name": "conda-env-conda_tigressdata-aguadv_omz_busecke_2021-py"
  },
  "language_info": {
   "codemirror_mode": {
    "name": "ipython",
    "version": 3
   },
   "file_extension": ".py",
   "mimetype": "text/x-python",
   "name": "python",
   "nbconvert_exporter": "python",
   "pygments_lexer": "ipython3",
   "version": "3.9.2"
  }
 },
 "nbformat": 4,
 "nbformat_minor": 4
}
